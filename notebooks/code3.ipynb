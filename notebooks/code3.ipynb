{
 "cells": [
  {
   "cell_type": "markdown",
   "id": "debfd19c",
   "metadata": {},
   "source": [
    "# PA005: High Value Customer Identification (Insiders)"
   ]
  },
  {
   "cell_type": "markdown",
   "id": "cfd50e87",
   "metadata": {
    "ExecuteTime": {
     "end_time": "2022-03-22T20:07:48.369323Z",
     "start_time": "2022-03-22T20:07:47.915832Z"
    },
    "heading_collapsed": true
   },
   "source": [
    "# Ciclo 0 -  Planejamento da solução (IOT)"
   ]
  },
  {
   "cell_type": "markdown",
   "id": "77ba1695",
   "metadata": {
    "ExecuteTime": {
     "end_time": "2022-03-22T20:07:48.369323Z",
     "start_time": "2022-03-22T20:07:47.915832Z"
    },
    "heading_collapsed": true
   },
   "source": [
    "# Ciclo 1 -  Métricas de Validação de Clusters"
   ]
  },
  {
   "cell_type": "markdown",
   "id": "9a4155ec",
   "metadata": {
    "hidden": true
   },
   "source": [
    "1. Feature Engineering\n",
    "* Recency\n",
    "* Frequency\n",
    "* Monetary\n",
    "\n",
    "2. Métricas de Validação de clusters\n",
    "* WSS - (Within-Cluster Sum of Squares)\n",
    "* SS - (Silhouette Score)\n",
    "\n",
    "3. Cluster Analisys\n",
    "* Plot 3d\n",
    "* Cluster profile"
   ]
  },
  {
   "cell_type": "markdown",
   "id": "398582f4",
   "metadata": {
    "ExecuteTime": {
     "end_time": "2022-03-22T20:07:48.369323Z",
     "start_time": "2022-03-22T20:07:47.915832Z"
    },
    "heading_collapsed": true
   },
   "source": [
    "# Ciclo 2 - Análise de Silhouette"
   ]
  },
  {
   "cell_type": "markdown",
   "id": "dc7e3aea",
   "metadata": {
    "hidden": true
   },
   "source": [
    "1. Feature Engineering\n",
    "* Average Ticket\n",
    "\n",
    "\n",
    "2. Análise de Silhouette\n",
    "* Silhouette Analysis\n",
    "\n",
    "\n",
    "3. Clustering visualization\n",
    "* UMAP\n",
    "\n",
    "\n",
    "4. Cluster análise de perfil\n",
    "* Descrição dos centroides dos clusters"
   ]
  },
  {
   "cell_type": "markdown",
   "id": "4b127658",
   "metadata": {
    "ExecuteTime": {
     "end_time": "2022-03-22T20:07:48.369323Z",
     "start_time": "2022-03-22T20:07:47.915832Z"
    },
    "heading_collapsed": true
   },
   "source": [
    "# Ciclo 3 - Statistical Descriptive"
   ]
  },
  {
   "cell_type": "markdown",
   "id": "85f03b3c",
   "metadata": {
    "hidden": true
   },
   "source": [
    "1. Análise Descritiva\n",
    "* Atributos Numéricos\n",
    "* Atributos Categóricos\n",
    "\n",
    "2. Data Filtering\n",
    "* Retornos e Compras\n",
    "\n",
    "3. Feature Engineering\n",
    "* Utilização dos dados de compra\n",
    "* Average Recency\n",
    "* Number of returns\n",
    "\n"
   ]
  },
  {
   "cell_type": "markdown",
   "id": "92c2135d",
   "metadata": {
    "heading_collapsed": true,
    "hidden": true
   },
   "source": [
    "## Input - Entrada"
   ]
  },
  {
   "cell_type": "markdown",
   "id": "8524a40a",
   "metadata": {
    "ExecuteTime": {
     "end_time": "2022-03-22T20:13:17.225841Z",
     "start_time": "2022-03-22T20:13:17.221201Z"
    },
    "hidden": true
   },
   "source": [
    "1. Problema de negócio\n",
    "\n",
    "    --Selecionar os clientes mais valiosos para integrar um programa de fidelização\n",
    "    \n",
    "2. Conjunto de dados\n",
    "\n",
    "    --Vendas de um e-commerce, durante um período de um ano"
   ]
  },
  {
   "cell_type": "markdown",
   "id": "f9412214",
   "metadata": {
    "hidden": true
   },
   "source": [
    "## Output - Saída"
   ]
  },
  {
   "cell_type": "markdown",
   "id": "6971ca6e",
   "metadata": {
    "hidden": true
   },
   "source": [
    "1. A idicação de clientes que farão parte do programa de Insiders\n",
    "\n",
    "    --Lista: client_id | is_insider\n",
    "            455534     | yes\n",
    "            433524     | no\n",
    "            \n",
    "2. Relatório com as respostas das perguntas de negócios\n",
    "\n",
    "    2.0. Quem são as pessoas elegíveis para fazer parte do grupo de Insiders?\n",
    "\n",
    "    2.1. Quantos clientes farão parte do grupo?\n",
    "    \n",
    "    2.2. Quais as principais características desses clientes?\n",
    "    \n",
    "    2.3. Qual a porcentagem de contribuição do faturamento vindo dos Insiders?\n",
    "    \n",
    "    2.4. Qual a expectativa de faturamento desse grupo para os próximos meses?\n",
    "    \n",
    "    2.5. Quais as condições para umma pessoa ser elegível ao Insiders?\n",
    "    \n",
    "    2.6. Quais as condições para umma pessoa ser removida do Insiders?\n",
    "    \n",
    "    2.7. Qual a garantia que o programa Insiders é melhor que o restante da base?\n",
    "    \n",
    "    2.8. Quais ações o time de marketing pode realizar para aumentar o faturamento?\n",
    "    \n",
    "    "
   ]
  },
  {
   "cell_type": "markdown",
   "id": "52ba385b",
   "metadata": {
    "hidden": true
   },
   "source": [
    "## Tasks - Tarefas"
   ]
  },
  {
   "cell_type": "markdown",
   "id": "01b7e6be",
   "metadata": {
    "hidden": true
   },
   "source": [
    "    0. Quem são as pessoas elegíveis para fazer parte do grupo de Insiders?  \n",
    "        - O que são clientes de maior \"valor\"?\n",
    "        - Faturamento\n",
    "            - Alto ticket médio\n",
    "            - Alto LTV\n",
    "            - Baixa recência\n",
    "            - Baixa probabilidade de churn\n",
    "            - Alto basket size\n",
    "            - Alta previsão LTV\n",
    "            - Alta propensão de compra\n",
    "            \n",
    "        - Custo\n",
    "            - Baixa taxa de devolução\n",
    "            \n",
    "        - Experiência de compra\n",
    "            - Média alta das avaliações\n",
    "    \n",
    "    1. Quantos clientes farão parte do grupo?\n",
    "        - Número total de clientes\n",
    "        - % do grupo de Insiders\n",
    "    \n",
    "    2. Quais as principais características desses clientes?\n",
    "        -Características dos clientes:\n",
    "            - Idade\n",
    "            - Localização\n",
    "            \n",
    "        - Características de consumo:\n",
    "            - Atributos da clusterização\n",
    "        \n",
    "    \n",
    "    3. Qual a porcentagem de contribuição do faturamento vindo dos Insiders?\n",
    "            - Faturamento do ano\n",
    "            - Faturamento dos Insiders\n",
    "    \n",
    "    4. Qual a expectativa de faturamento desse grupo para os próximos meses?\n",
    "            - LTV do grupo Insiders\n",
    "            - Análise de Cohort\n",
    "    \n",
    "    5. Quais as condições para umma pessoa ser elegível ao Insiders?\n",
    "            - Definir periodicidade\n",
    "            - A pessoa precisa ser similar ou parecido com uma pessoa do grupo\n",
    "            \n",
    "    6. Quais as condições para umma pessoa ser removida do Insiders?\n",
    "            - Definir periodicidade\n",
    "            - A pessoa precisa ser dissimilar ou parecido com uma pessoa do grupo\n",
    "            \n",
    "    7. Qual a garantia que o programa Insiders é melhor que o restante da base?\n",
    "            - Teste A/B\n",
    "            - Teste A/B Bayesiano\n",
    "            - Teste de hipóteses\n",
    "    \n",
    "    8. Quais ações o time de marketing pode realizar para aumentar o faturamento?\n",
    "            - Desconto\n",
    "            - Preferência de compra\n",
    "            - Frente\n",
    "            - Visita a empresa"
   ]
  },
  {
   "cell_type": "markdown",
   "id": "93430148",
   "metadata": {
    "hidden": true
   },
   "source": [
    "## Benchmark de soluções"
   ]
  },
  {
   "cell_type": "markdown",
   "id": "68a75fe6",
   "metadata": {
    "hidden": true
   },
   "source": [
    "### 1. Desk research"
   ]
  },
  {
   "cell_type": "markdown",
   "id": "26b606ea",
   "metadata": {
    "hidden": true
   },
   "source": [
    "Modelo RFM\n",
    "1. Recency\n",
    "    a) Tempo desde a última compra\n",
    "    b) Responsividade\n",
    "\n",
    "2. Frequency\n",
    "    a) Tempo médio entre as transações\n",
    "    b) Engajamento\n",
    "    \n",
    "3. Monetary \n",
    "    a) Total gasto, faturamento\n",
    "    b) 'High-value purchases'"
   ]
  },
  {
   "cell_type": "markdown",
   "id": "9489f164",
   "metadata": {},
   "source": [
    "# 0.0. Imports"
   ]
  },
  {
   "cell_type": "code",
   "execution_count": 1,
   "id": "bfab7447",
   "metadata": {
    "ExecuteTime": {
     "end_time": "2022-03-25T18:47:08.564792Z",
     "start_time": "2022-03-25T18:47:06.648329Z"
    }
   },
   "outputs": [],
   "source": [
    "\n",
    "from yellowbrick.cluster import KElbowVisualizer\n",
    "from yellowbrick.cluster import SilhouetteVisualizer\n",
    "\n",
    "from matplotlib  import pyplot        as plt\n",
    "from sklearn     import cluster       as c\n",
    "from sklearn     import metrics       as m\n",
    "from sklearn     import preprocessing as pp\n",
    "from plotly      import express       as px\n",
    "\n",
    "import pandas as pd\n",
    "import seaborn as sns\n",
    "import numpy as np\n",
    "\n",
    "import re"
   ]
  },
  {
   "cell_type": "code",
   "execution_count": 2,
   "id": "e5858e03",
   "metadata": {
    "ExecuteTime": {
     "end_time": "2022-03-25T18:47:12.874651Z",
     "start_time": "2022-03-25T18:47:08.566641Z"
    }
   },
   "outputs": [
    {
     "name": "stderr",
     "output_type": "stream",
     "text": [
      "/home/heitor/repos/insiders_clustering/venv/lib/python3.8/site-packages/tqdm/auto.py:22: TqdmWarning: IProgress not found. Please update jupyter and ipywidgets. See https://ipywidgets.readthedocs.io/en/stable/user_install.html\n",
      "  from .autonotebook import tqdm as notebook_tqdm\n"
     ]
    }
   ],
   "source": [
    "import umap.umap_ as umap\n"
   ]
  },
  {
   "cell_type": "code",
   "execution_count": null,
   "id": "561d3bfa",
   "metadata": {
    "ExecuteTime": {
     "end_time": "2022-03-23T20:33:54.929243Z",
     "start_time": "2022-03-23T20:33:52.994990Z"
    }
   },
   "outputs": [],
   "source": []
  },
  {
   "cell_type": "markdown",
   "id": "944d041a",
   "metadata": {},
   "source": [
    "## 0.2. Helper Functions"
   ]
  },
  {
   "cell_type": "code",
   "execution_count": 3,
   "id": "3fd76676",
   "metadata": {
    "ExecuteTime": {
     "end_time": "2022-03-25T18:47:12.882723Z",
     "start_time": "2022-03-25T18:47:12.876390Z"
    }
   },
   "outputs": [],
   "source": [
    "pd.set_option('display.float_format', lambda x: '%.2f' % x)\n",
    "\n",
    "def num_attributes(df1):\n",
    "    \n",
    "    num_attributes = df1.select_dtypes(['int64', 'float64'])\n",
    "\n",
    "    #central tendency\n",
    "    ct1 = pd.DataFrame(num_attributes.apply(np.mean)).T\n",
    "    ct2 = pd.DataFrame(num_attributes.apply(np.median)).T\n",
    "\n",
    "    #dispersion\n",
    "    d1 = pd.DataFrame(num_attributes.apply(np.min)).T\n",
    "    d2 = pd.DataFrame(num_attributes.apply(np.max)).T\n",
    "    d3 = pd.DataFrame(num_attributes.apply(lambda x: x.max() - x.min())).T\n",
    "    d4 = pd.DataFrame(num_attributes.apply(np.std)).T\n",
    "    d5 = pd.DataFrame(num_attributes.apply(lambda x: x.skew())).T\n",
    "    d6 = pd.DataFrame(num_attributes.apply(lambda x: x.kurtosis())).T\n",
    "\n",
    "    m = pd.concat( [d1, d2, d3, ct1, ct2, d4, d5, d6] ).T.reset_index()\n",
    "    m.columns = ['attributes', 'min', 'max', 'range', 'mean', 'median', 'std','skew', 'kurtosis']\n",
    "    return m"
   ]
  },
  {
   "cell_type": "markdown",
   "id": "3a4d4f04",
   "metadata": {},
   "source": [
    "## 0.3. Load Data"
   ]
  },
  {
   "cell_type": "code",
   "execution_count": 4,
   "id": "1f060a95",
   "metadata": {
    "ExecuteTime": {
     "end_time": "2022-03-25T18:47:13.689463Z",
     "start_time": "2022-03-25T18:47:12.884527Z"
    }
   },
   "outputs": [],
   "source": [
    "df_raw = pd.read_csv(r'../data/Ecommerce.csv')\n"
   ]
  },
  {
   "cell_type": "markdown",
   "id": "8182c343",
   "metadata": {},
   "source": [
    "# 1.0. Data Description"
   ]
  },
  {
   "cell_type": "code",
   "execution_count": 5,
   "id": "b3131385",
   "metadata": {
    "ExecuteTime": {
     "end_time": "2022-03-25T18:47:13.718730Z",
     "start_time": "2022-03-25T18:47:13.691447Z"
    }
   },
   "outputs": [],
   "source": [
    "df1 = df_raw.copy()"
   ]
  },
  {
   "cell_type": "markdown",
   "id": "39437f33",
   "metadata": {},
   "source": [
    "## 1.1. Rename Columns"
   ]
  },
  {
   "cell_type": "code",
   "execution_count": 6,
   "id": "00fc26d3",
   "metadata": {
    "ExecuteTime": {
     "end_time": "2022-03-25T18:47:13.884481Z",
     "start_time": "2022-03-25T18:47:13.720143Z"
    }
   },
   "outputs": [
    {
     "data": {
      "text/plain": [
       "Index(['InvoiceNo', 'StockCode', 'Description', 'Quantity', 'InvoiceDate',\n",
       "       'UnitPrice', 'CustomerID', 'Country'],\n",
       "      dtype='object')"
      ]
     },
     "execution_count": 6,
     "metadata": {},
     "output_type": "execute_result"
    }
   ],
   "source": [
    "df1.columns"
   ]
  },
  {
   "cell_type": "code",
   "execution_count": 7,
   "id": "2a05f0ff",
   "metadata": {
    "ExecuteTime": {
     "end_time": "2022-03-25T18:47:13.988397Z",
     "start_time": "2022-03-25T18:47:13.887453Z"
    }
   },
   "outputs": [],
   "source": [
    "df1.columns = ['invoice_no', 'stock_code', 'description', 'quantity', 'invoice_date',\n",
    "       'unit_price', 'customer_id', 'country']"
   ]
  },
  {
   "cell_type": "markdown",
   "id": "775005e2",
   "metadata": {},
   "source": [
    "## 1.2. Data Shape"
   ]
  },
  {
   "cell_type": "code",
   "execution_count": 8,
   "id": "a76ce76d",
   "metadata": {
    "ExecuteTime": {
     "end_time": "2022-03-25T18:47:14.098052Z",
     "start_time": "2022-03-25T18:47:13.990368Z"
    }
   },
   "outputs": [
    {
     "name": "stdout",
     "output_type": "stream",
     "text": [
      "Number of rows: 541909\n",
      "Number of columns: 8\n"
     ]
    }
   ],
   "source": [
    "print(f'Number of rows: {df1.shape[0]}')\n",
    "print(f'Number of columns: {df1.shape[1]}')"
   ]
  },
  {
   "cell_type": "markdown",
   "id": "cee652c4",
   "metadata": {},
   "source": [
    "## 1.3. Data Types"
   ]
  },
  {
   "cell_type": "code",
   "execution_count": 9,
   "id": "a7e20e2d",
   "metadata": {
    "ExecuteTime": {
     "end_time": "2022-03-25T18:47:14.198293Z",
     "start_time": "2022-03-25T18:47:14.100051Z"
    }
   },
   "outputs": [
    {
     "data": {
      "text/plain": [
       "invoice_no       object\n",
       "stock_code       object\n",
       "description      object\n",
       "quantity          int64\n",
       "invoice_date     object\n",
       "unit_price      float64\n",
       "customer_id     float64\n",
       "country          object\n",
       "dtype: object"
      ]
     },
     "execution_count": 9,
     "metadata": {},
     "output_type": "execute_result"
    }
   ],
   "source": [
    "df1.dtypes"
   ]
  },
  {
   "cell_type": "markdown",
   "id": "04839175",
   "metadata": {},
   "source": [
    "## 1.4. Check NAs\n"
   ]
  },
  {
   "cell_type": "code",
   "execution_count": 10,
   "id": "b48f1f36",
   "metadata": {
    "ExecuteTime": {
     "end_time": "2022-03-25T18:47:14.629463Z",
     "start_time": "2022-03-25T18:47:14.200346Z"
    }
   },
   "outputs": [
    {
     "data": {
      "text/plain": [
       "invoice_no           0\n",
       "stock_code           0\n",
       "description       1454\n",
       "quantity             0\n",
       "invoice_date         0\n",
       "unit_price           0\n",
       "customer_id     135080\n",
       "country              0\n",
       "dtype: int64"
      ]
     },
     "execution_count": 10,
     "metadata": {},
     "output_type": "execute_result"
    }
   ],
   "source": [
    "df1.isna().sum()"
   ]
  },
  {
   "cell_type": "markdown",
   "id": "d7b465fd",
   "metadata": {},
   "source": [
    "## 1.5. Fill NAs"
   ]
  },
  {
   "cell_type": "code",
   "execution_count": 11,
   "id": "e554c65f",
   "metadata": {
    "ExecuteTime": {
     "end_time": "2022-03-25T18:47:14.982619Z",
     "start_time": "2022-03-25T18:47:14.631486Z"
    }
   },
   "outputs": [
    {
     "name": "stdout",
     "output_type": "stream",
     "text": [
      "Data removed: 25%\n"
     ]
    }
   ],
   "source": [
    "#remove na\n",
    "df1 = df1.dropna(axis=0)\n",
    "\n",
    "print('Data removed: {:.0f}%'.format((1-(len(df1)/len(df_raw)))*100))"
   ]
  },
  {
   "cell_type": "markdown",
   "id": "4260f86c",
   "metadata": {},
   "source": [
    "## 1.6. Change dtypes"
   ]
  },
  {
   "cell_type": "code",
   "execution_count": 12,
   "id": "464e637e",
   "metadata": {
    "ExecuteTime": {
     "end_time": "2022-03-25T18:47:14.988201Z",
     "start_time": "2022-03-25T18:47:14.984124Z"
    }
   },
   "outputs": [
    {
     "data": {
      "text/plain": [
       "invoice_no       object\n",
       "stock_code       object\n",
       "description      object\n",
       "quantity          int64\n",
       "invoice_date     object\n",
       "unit_price      float64\n",
       "customer_id     float64\n",
       "country          object\n",
       "dtype: object"
      ]
     },
     "execution_count": 12,
     "metadata": {},
     "output_type": "execute_result"
    }
   ],
   "source": [
    "df1.dtypes"
   ]
  },
  {
   "cell_type": "code",
   "execution_count": 13,
   "id": "03324ef2",
   "metadata": {
    "ExecuteTime": {
     "end_time": "2022-03-25T18:47:15.242111Z",
     "start_time": "2022-03-25T18:47:14.989843Z"
    }
   },
   "outputs": [
    {
     "data": {
      "text/plain": [
       "invoice_no              object\n",
       "stock_code              object\n",
       "description             object\n",
       "quantity                 int64\n",
       "invoice_date    datetime64[ns]\n",
       "unit_price             float64\n",
       "customer_id              int64\n",
       "country                 object\n",
       "dtype: object"
      ]
     },
     "execution_count": 13,
     "metadata": {},
     "output_type": "execute_result"
    }
   ],
   "source": [
    "#invoice_no \n",
    "# df1['invoice_no'] = df1['invoice_no'].astype(int)\n",
    "\n",
    "\n",
    "#stock_code \n",
    "# df1['stock_code'] = df1['stock_code'].astype(int)\n",
    "\n",
    "\n",
    "#invoice_date  --> Month --> b\n",
    "df1['invoice_date'] = pd.to_datetime(df1['invoice_date'], format=('%d-%b-%y'))\n",
    "\n",
    "\n",
    "#customer_id\n",
    "df1['customer_id'] = df1['customer_id'].astype(int)\n",
    "df1.dtypes"
   ]
  },
  {
   "cell_type": "markdown",
   "id": "ec38e084",
   "metadata": {},
   "source": [
    "## 1.7. Descriptive statistics"
   ]
  },
  {
   "cell_type": "code",
   "execution_count": 14,
   "id": "9ced28d5",
   "metadata": {
    "ExecuteTime": {
     "end_time": "2022-03-25T18:47:15.334885Z",
     "start_time": "2022-03-25T18:47:15.243898Z"
    }
   },
   "outputs": [],
   "source": [
    "num_attributes = df1.select_dtypes(['int64', 'float64'])\n",
    "cat_attributes = df1.select_dtypes(exclude = ['int64', 'float64', 'datetime64[ns]'])"
   ]
  },
  {
   "cell_type": "markdown",
   "id": "849a9083",
   "metadata": {},
   "source": [
    "### 1.7.1. Numerical Attributes"
   ]
  },
  {
   "cell_type": "code",
   "execution_count": 15,
   "id": "7e906985",
   "metadata": {
    "ExecuteTime": {
     "end_time": "2022-03-25T18:47:15.915411Z",
     "start_time": "2022-03-25T18:47:15.336670Z"
    }
   },
   "outputs": [
    {
     "ename": "TypeError",
     "evalue": "'DataFrame' object is not callable",
     "output_type": "error",
     "traceback": [
      "\u001b[0;31m---------------------------------------------------------------------------\u001b[0m",
      "\u001b[0;31mTypeError\u001b[0m                                 Traceback (most recent call last)",
      "Input \u001b[0;32mIn [15]\u001b[0m, in \u001b[0;36m<cell line: 1>\u001b[0;34m()\u001b[0m\n\u001b[0;32m----> 1\u001b[0m m \u001b[38;5;241m=\u001b[39m \u001b[43mnum_attributes\u001b[49m\u001b[43m(\u001b[49m\u001b[43mdf1\u001b[49m\u001b[43m)\u001b[49m\n\u001b[1;32m      2\u001b[0m m\n",
      "\u001b[0;31mTypeError\u001b[0m: 'DataFrame' object is not callable"
     ]
    }
   ],
   "source": [
    "m = num_attributes(df1)\n",
    "m"
   ]
  },
  {
   "cell_type": "markdown",
   "id": "5a07d7de",
   "metadata": {},
   "source": [
    "#### 1.7.1.1 Investigating"
   ]
  },
  {
   "cell_type": "markdown",
   "id": "85ede4cc",
   "metadata": {
    "ExecuteTime": {
     "end_time": "2022-03-24T21:15:49.659102Z",
     "start_time": "2022-03-24T21:15:49.643555Z"
    }
   },
   "source": [
    "1. Negative quantity (devolution?)\n",
    "2. Price = 0 (Promo?)"
   ]
  },
  {
   "cell_type": "markdown",
   "id": "fd46a106",
   "metadata": {},
   "source": [
    "## 1.7.2. Categorical Attributes"
   ]
  },
  {
   "cell_type": "code",
   "execution_count": null,
   "id": "e69d5e29",
   "metadata": {
    "ExecuteTime": {
     "end_time": "2022-03-25T18:47:15.917109Z",
     "start_time": "2022-03-25T18:47:15.917093Z"
    }
   },
   "outputs": [],
   "source": [
    "cat_attributes.head()"
   ]
  },
  {
   "cell_type": "markdown",
   "id": "a75d6ee9",
   "metadata": {},
   "source": [
    "#### Invoice no"
   ]
  },
  {
   "cell_type": "code",
   "execution_count": null,
   "id": "34d857cc",
   "metadata": {
    "ExecuteTime": {
     "end_time": "2022-03-25T18:47:15.918449Z",
     "start_time": "2022-03-25T18:47:15.918431Z"
    }
   },
   "outputs": [],
   "source": [
    "\n",
    "#invoice_no -- some of them has one char\n",
    "df_invoice_char = df1.loc[df1['invoice_no'].apply(lambda x: bool(re.search('[^0-9]+', x))), :]   \n",
    "\n",
    "len(df_invoice_char[df_invoice_char['quantity']<0])\n",
    "\n",
    "\n",
    "print('Total of invoices with letter: {}'.format(len(df_invoice_char)))\n",
    "print('Total of negative quantaty: {}'.format(len(df1[df1['quantity']<0])))\n",
    "print('Letter means negative quantity')"
   ]
  },
  {
   "cell_type": "markdown",
   "id": "4ac49d37",
   "metadata": {},
   "source": [
    "#### Stock Code"
   ]
  },
  {
   "cell_type": "code",
   "execution_count": null,
   "id": "5ded6205",
   "metadata": {
    "ExecuteTime": {
     "end_time": "2022-03-25T18:47:15.919490Z",
     "start_time": "2022-03-25T18:47:15.919474Z"
    }
   },
   "outputs": [],
   "source": [
    "#all stock codes with char\n",
    "df1.loc[df1['stock_code'].apply(lambda x: bool(re.search('^[a-zA-Z]+$', x))), 'stock_code'].unique()\n",
    "\n",
    "#remove stock code in ['POST', 'D', 'M', 'PADS', 'DOT', 'CRUK']\n",
    "# df1 = df1[-df1.isin(['POST', 'D', 'M', 'PADS', 'DOT', 'CRUK'])]"
   ]
  },
  {
   "cell_type": "markdown",
   "id": "448cfd70",
   "metadata": {},
   "source": [
    "#### Description"
   ]
  },
  {
   "cell_type": "code",
   "execution_count": null,
   "id": "f6e13d85",
   "metadata": {
    "ExecuteTime": {
     "end_time": "2022-03-25T18:47:15.920993Z",
     "start_time": "2022-03-25T18:47:15.920968Z"
    }
   },
   "outputs": [],
   "source": [
    "#remove description\n",
    "# df1 = df1.drop('description', axis=1)"
   ]
  },
  {
   "cell_type": "markdown",
   "id": "9ab5993c",
   "metadata": {},
   "source": [
    "#### Country\n"
   ]
  },
  {
   "cell_type": "code",
   "execution_count": null,
   "id": "7656c46f",
   "metadata": {
    "ExecuteTime": {
     "end_time": "2022-03-25T18:47:15.922070Z",
     "start_time": "2022-03-25T18:47:15.922056Z"
    }
   },
   "outputs": [],
   "source": [
    "df1['country'].value_counts(normalize='True').head()"
   ]
  },
  {
   "cell_type": "code",
   "execution_count": null,
   "id": "c143d7ff",
   "metadata": {
    "ExecuteTime": {
     "end_time": "2022-03-25T18:47:15.923349Z",
     "start_time": "2022-03-25T18:47:15.923331Z"
    }
   },
   "outputs": [],
   "source": [
    "df1[['country', 'customer_id']].drop_duplicates().groupby('country').count().reset_index().sort_values('customer_id', ascending=False).head()"
   ]
  },
  {
   "cell_type": "markdown",
   "id": "48d79e83",
   "metadata": {},
   "source": [
    "# 2.0. Data Filtering"
   ]
  },
  {
   "cell_type": "code",
   "execution_count": 16,
   "id": "fb92a1c3",
   "metadata": {
    "ExecuteTime": {
     "end_time": "2022-03-25T18:47:16.026071Z",
     "start_time": "2022-03-25T18:47:16.012420Z"
    }
   },
   "outputs": [],
   "source": [
    "df2 = df1.copy()"
   ]
  },
  {
   "cell_type": "code",
   "execution_count": 22,
   "id": "31352514",
   "metadata": {
    "ExecuteTime": {
     "end_time": "2022-03-25T18:47:37.132237Z",
     "start_time": "2022-03-25T18:47:37.099043Z"
    }
   },
   "outputs": [
    {
     "data": {
      "text/plain": [
       "array(['United Kingdom', 'France', 'Australia', 'Netherlands', 'Germany',\n",
       "       'Norway', 'EIRE', 'Switzerland', 'Spain', 'Poland', 'Portugal',\n",
       "       'Italy', 'Belgium', 'Lithuania', 'Japan', 'Iceland',\n",
       "       'Channel Islands', 'Denmark', 'Cyprus', 'Sweden', 'Austria',\n",
       "       'Israel', 'Finland', 'Greece', 'Singapore', 'Lebanon',\n",
       "       'United Arab Emirates', 'Saudi Arabia', 'Czech Republic', 'Canada',\n",
       "       nan, 'Brazil', 'USA', 'Bahrain', 'Malta', 'RSA'], dtype=object)"
      ]
     },
     "execution_count": 22,
     "metadata": {},
     "output_type": "execute_result"
    }
   ],
   "source": [
    "df2['country'].unique()"
   ]
  },
  {
   "cell_type": "code",
   "execution_count": 21,
   "id": "8aa14c82",
   "metadata": {
    "ExecuteTime": {
     "end_time": "2022-03-25T18:47:34.920042Z",
     "start_time": "2022-03-25T18:47:32.985761Z"
    }
   },
   "outputs": [],
   "source": [
    "# ====================== Numerical Attributes ====================== \n",
    "\n",
    "#unit price != 0\n",
    "# df2.sort_values('unit_price').head()\n",
    "df2 = df2[df2['unit_price']>0.004]\n",
    "\n",
    "# ====================== Categorical Attributes ====================== \n",
    "\n",
    "#stock code\n",
    "df2 = df2[~df2.isin(['POST', 'D', 'M', 'PADS', 'DOT', 'CRUK'])]\n",
    "\n",
    "#description\n",
    "df2 = df2.drop('description', axis=1)\n",
    "\n",
    "\n",
    "#map\n",
    "df2 = df2[~df2.isin(['European Community', 'Unspecified'])]\n",
    "\n",
    "# #quantity - negative numbers mean return\n",
    "df_return = df2[df2['quantity']<0]\n",
    "df_purchase = df2[df2['quantity']>0]\n",
    "\n",
    "\n"
   ]
  },
  {
   "cell_type": "markdown",
   "id": "1faf41d9",
   "metadata": {},
   "source": [
    "# 3.0. Feature Engineering"
   ]
  },
  {
   "cell_type": "code",
   "execution_count": 33,
   "id": "fc8f74d9",
   "metadata": {
    "ExecuteTime": {
     "end_time": "2022-03-25T18:56:41.174884Z",
     "start_time": "2022-03-25T18:56:41.160092Z"
    }
   },
   "outputs": [],
   "source": [
    "df3 = df2.copy()"
   ]
  },
  {
   "cell_type": "markdown",
   "id": "21fc3686",
   "metadata": {},
   "source": [
    "## 3.1. Feature Creation"
   ]
  },
  {
   "cell_type": "code",
   "execution_count": 34,
   "id": "9f52017a",
   "metadata": {
    "ExecuteTime": {
     "end_time": "2022-03-25T18:56:41.622749Z",
     "start_time": "2022-03-25T18:56:41.560600Z"
    }
   },
   "outputs": [
    {
     "name": "stderr",
     "output_type": "stream",
     "text": [
      "/tmp/ipykernel_19796/959218557.py:6: SettingWithCopyWarning: \n",
      "A value is trying to be set on a copy of a slice from a DataFrame.\n",
      "Try using .loc[row_indexer,col_indexer] = value instead\n",
      "\n",
      "See the caveats in the documentation: https://pandas.pydata.org/pandas-docs/stable/user_guide/indexing.html#returning-a-view-versus-a-copy\n",
      "  df_purchase.loc[:,'gross_revenue'] = df_purchase.loc[:, 'quantity'] * df_purchase.loc[:, 'unit_price']\n"
     ]
    },
    {
     "data": {
      "text/plain": [
       "customer_id       0\n",
       "gross_revenue    33\n",
       "dtype: int64"
      ]
     },
     "execution_count": 34,
     "metadata": {},
     "output_type": "execute_result"
    }
   ],
   "source": [
    "# df_purchase.loc[:, 'gross_revenue'] = df_purchase.loc[:, 'quantity'] * df_purchase.loc[:, 'unit_price']  \n",
    "df_purchase.loc[:,'gross_revenue'] = df_purchase.loc[:, 'quantity'] * df_purchase.loc[:, 'unit_price'] \n",
    "\n",
    "#data reference\n",
    "df_ref = df3.drop(['invoice_no', 'stock_code', 'quantity', 'invoice_date',\n",
    "       'unit_price', 'country'], axis=1).drop_duplicates(ignore_index=True)\n",
    "\n",
    "\n",
    "df_monetary = df_purchase.loc[:,['customer_id', 'gross_revenue']].groupby('customer_id').sum().reset_index()\n",
    "df_ref = pd.merge(df_ref, df_monetary, on='customer_id', how= 'left')\n",
    "df_ref.isna().sum()"
   ]
  },
  {
   "cell_type": "code",
   "execution_count": 35,
   "id": "6385c17a",
   "metadata": {
    "ExecuteTime": {
     "end_time": "2022-03-25T19:02:16.188493Z",
     "start_time": "2022-03-25T19:02:16.100382Z"
    }
   },
   "outputs": [],
   "source": [
    "#recency --> max date\n",
    "\n",
    "df_recency = df_purchase.loc[:,['customer_id', 'invoice_date']].groupby('customer_id').max().reset_index()\n",
    "df_recency['recency_days'] = (df3['invoice_date'].max() - df_recency['invoice_date']).dt.days\n",
    "df_recency  = df_recency[['customer_id', 'recency_days']].copy()\n",
    "df_ref = pd.merge(df_ref, df_recency, on='customer_id', how='left')\n",
    "\n",
    "#frequency\n",
    "df_freq = df_purchase.loc[:,['customer_id', 'invoice_no']].drop_duplicates().groupby('customer_id').count().reset_index()\n",
    "df_ref = pd.merge(df_ref, df_freq, on='customer_id', how='left')\n",
    "\n",
    "\n",
    "#avg ticket\n",
    "df_avgticket = df_purchase.loc[:,['customer_id', 'gross_revenue']].groupby('customer_id').mean().rename(columns={'gross_revenue':'avg_ticket'}).reset_index()\n",
    "df_ref = pd.merge(df_ref, df_avgticket, on='customer_id', how='left')\n",
    "\n",
    "\n",
    "\n",
    "\n",
    "\n"
   ]
  },
  {
   "cell_type": "code",
   "execution_count": 36,
   "id": "6b510726",
   "metadata": {
    "ExecuteTime": {
     "end_time": "2022-03-25T19:02:17.468867Z",
     "start_time": "2022-03-25T19:02:17.460551Z"
    }
   },
   "outputs": [
    {
     "data": {
      "text/html": [
       "<div>\n",
       "<style scoped>\n",
       "    .dataframe tbody tr th:only-of-type {\n",
       "        vertical-align: middle;\n",
       "    }\n",
       "\n",
       "    .dataframe tbody tr th {\n",
       "        vertical-align: top;\n",
       "    }\n",
       "\n",
       "    .dataframe thead th {\n",
       "        text-align: right;\n",
       "    }\n",
       "</style>\n",
       "<table border=\"1\" class=\"dataframe\">\n",
       "  <thead>\n",
       "    <tr style=\"text-align: right;\">\n",
       "      <th></th>\n",
       "      <th>customer_id</th>\n",
       "      <th>gross_revenue</th>\n",
       "      <th>recency_days</th>\n",
       "      <th>invoice_no</th>\n",
       "      <th>avg_ticket</th>\n",
       "    </tr>\n",
       "  </thead>\n",
       "  <tbody>\n",
       "    <tr>\n",
       "      <th>0</th>\n",
       "      <td>17850</td>\n",
       "      <td>5391.21</td>\n",
       "      <td>372.00</td>\n",
       "      <td>34.00</td>\n",
       "      <td>18.15</td>\n",
       "    </tr>\n",
       "    <tr>\n",
       "      <th>1</th>\n",
       "      <td>13047</td>\n",
       "      <td>3237.54</td>\n",
       "      <td>31.00</td>\n",
       "      <td>10.00</td>\n",
       "      <td>18.82</td>\n",
       "    </tr>\n",
       "    <tr>\n",
       "      <th>2</th>\n",
       "      <td>12583</td>\n",
       "      <td>7281.38</td>\n",
       "      <td>2.00</td>\n",
       "      <td>15.00</td>\n",
       "      <td>29.48</td>\n",
       "    </tr>\n",
       "    <tr>\n",
       "      <th>3</th>\n",
       "      <td>13748</td>\n",
       "      <td>948.25</td>\n",
       "      <td>95.00</td>\n",
       "      <td>5.00</td>\n",
       "      <td>33.87</td>\n",
       "    </tr>\n",
       "    <tr>\n",
       "      <th>4</th>\n",
       "      <td>15100</td>\n",
       "      <td>876.00</td>\n",
       "      <td>333.00</td>\n",
       "      <td>3.00</td>\n",
       "      <td>292.00</td>\n",
       "    </tr>\n",
       "  </tbody>\n",
       "</table>\n",
       "</div>"
      ],
      "text/plain": [
       "   customer_id  gross_revenue  recency_days  invoice_no  avg_ticket\n",
       "0        17850        5391.21        372.00       34.00       18.15\n",
       "1        13047        3237.54         31.00       10.00       18.82\n",
       "2        12583        7281.38          2.00       15.00       29.48\n",
       "3        13748         948.25         95.00        5.00       33.87\n",
       "4        15100         876.00        333.00        3.00      292.00"
      ]
     },
     "execution_count": 36,
     "metadata": {},
     "output_type": "execute_result"
    }
   ],
   "source": [
    "df_ref.head()"
   ]
  },
  {
   "cell_type": "markdown",
   "id": "28d41b3f",
   "metadata": {},
   "source": [
    "# 4.0. Exploratory Data Analisys"
   ]
  },
  {
   "cell_type": "code",
   "execution_count": 42,
   "id": "4a95bea8",
   "metadata": {
    "ExecuteTime": {
     "end_time": "2022-03-25T19:02:31.646981Z",
     "start_time": "2022-03-25T19:02:31.634292Z"
    }
   },
   "outputs": [],
   "source": [
    "df4 = df_ref.dropna().copy()"
   ]
  },
  {
   "cell_type": "markdown",
   "id": "ce6df06b",
   "metadata": {},
   "source": [
    "# 5.0. Data Preparation"
   ]
  },
  {
   "cell_type": "code",
   "execution_count": 57,
   "id": "dbd364df",
   "metadata": {
    "ExecuteTime": {
     "end_time": "2022-03-25T19:07:05.611811Z",
     "start_time": "2022-03-25T19:07:05.606035Z"
    }
   },
   "outputs": [],
   "source": [
    "df5 = df4.copy()\n",
    "\n",
    "ss = pp.StandardScaler()\n",
    "mms = pp.MinMaxScaler()"
   ]
  },
  {
   "cell_type": "code",
   "execution_count": 59,
   "id": "9db64d15",
   "metadata": {
    "ExecuteTime": {
     "end_time": "2022-03-25T19:11:10.770075Z",
     "start_time": "2022-03-25T19:11:10.738952Z"
    }
   },
   "outputs": [],
   "source": [
    "df5['gross_revenue'] = ss.fit_transform(df5[['gross_revenue']])\n",
    "df5['recency_days'] = ss.fit_transform(df5[['recency_days']])\n",
    "df5['invoice_no'] = ss.fit_transform(df5[['invoice_no']])\n",
    "df5['avg_ticket'] = ss.fit_transform(df5[['avg_ticket']])"
   ]
  },
  {
   "cell_type": "code",
   "execution_count": 64,
   "id": "0ef1c3ae",
   "metadata": {
    "ExecuteTime": {
     "end_time": "2022-03-25T19:13:21.464658Z",
     "start_time": "2022-03-25T19:13:21.455479Z"
    }
   },
   "outputs": [
    {
     "data": {
      "text/html": [
       "<div>\n",
       "<style scoped>\n",
       "    .dataframe tbody tr th:only-of-type {\n",
       "        vertical-align: middle;\n",
       "    }\n",
       "\n",
       "    .dataframe tbody tr th {\n",
       "        vertical-align: top;\n",
       "    }\n",
       "\n",
       "    .dataframe thead th {\n",
       "        text-align: right;\n",
       "    }\n",
       "</style>\n",
       "<table border=\"1\" class=\"dataframe\">\n",
       "  <thead>\n",
       "    <tr style=\"text-align: right;\">\n",
       "      <th></th>\n",
       "      <th>customer_id</th>\n",
       "      <th>gross_revenue</th>\n",
       "      <th>recency_days</th>\n",
       "      <th>invoice_no</th>\n",
       "      <th>avg_ticket</th>\n",
       "    </tr>\n",
       "  </thead>\n",
       "  <tbody>\n",
       "    <tr>\n",
       "      <th>0</th>\n",
       "      <td>17850</td>\n",
       "      <td>0.37</td>\n",
       "      <td>2.80</td>\n",
       "      <td>3.86</td>\n",
       "      <td>-0.03</td>\n",
       "    </tr>\n",
       "    <tr>\n",
       "      <th>1</th>\n",
       "      <td>13047</td>\n",
       "      <td>0.13</td>\n",
       "      <td>-0.61</td>\n",
       "      <td>0.74</td>\n",
       "      <td>-0.03</td>\n",
       "    </tr>\n",
       "    <tr>\n",
       "      <th>2</th>\n",
       "      <td>12583</td>\n",
       "      <td>0.58</td>\n",
       "      <td>-0.90</td>\n",
       "      <td>1.39</td>\n",
       "      <td>-0.03</td>\n",
       "    </tr>\n",
       "    <tr>\n",
       "      <th>3</th>\n",
       "      <td>13748</td>\n",
       "      <td>-0.12</td>\n",
       "      <td>0.03</td>\n",
       "      <td>0.09</td>\n",
       "      <td>-0.02</td>\n",
       "    </tr>\n",
       "    <tr>\n",
       "      <th>4</th>\n",
       "      <td>15100</td>\n",
       "      <td>-0.13</td>\n",
       "      <td>2.41</td>\n",
       "      <td>-0.17</td>\n",
       "      <td>0.15</td>\n",
       "    </tr>\n",
       "  </tbody>\n",
       "</table>\n",
       "</div>"
      ],
      "text/plain": [
       "   customer_id  gross_revenue  recency_days  invoice_no  avg_ticket\n",
       "0        17850           0.37          2.80        3.86       -0.03\n",
       "1        13047           0.13         -0.61        0.74       -0.03\n",
       "2        12583           0.58         -0.90        1.39       -0.03\n",
       "3        13748          -0.12          0.03        0.09       -0.02\n",
       "4        15100          -0.13          2.41       -0.17        0.15"
      ]
     },
     "execution_count": 64,
     "metadata": {},
     "output_type": "execute_result"
    }
   ],
   "source": [
    "df5.head()"
   ]
  },
  {
   "cell_type": "markdown",
   "id": "d4128a99",
   "metadata": {},
   "source": [
    "# 6.0. Feature Selection"
   ]
  },
  {
   "cell_type": "code",
   "execution_count": 60,
   "id": "8dae2b97",
   "metadata": {
    "ExecuteTime": {
     "end_time": "2022-03-25T19:11:54.224209Z",
     "start_time": "2022-03-25T19:11:54.218633Z"
    }
   },
   "outputs": [],
   "source": [
    "df6 = df5.copy()"
   ]
  },
  {
   "cell_type": "markdown",
   "id": "3a5efa79",
   "metadata": {},
   "source": [
    "# 7.0. Hyperparameter Fine-Tunning"
   ]
  },
  {
   "cell_type": "code",
   "execution_count": 61,
   "id": "c26397a2",
   "metadata": {
    "ExecuteTime": {
     "end_time": "2022-03-25T19:12:00.475110Z",
     "start_time": "2022-03-25T19:12:00.470358Z"
    }
   },
   "outputs": [],
   "source": [
    "X = df6.drop('customer_id', axis=1)\n",
    "clusters = [2,3,4,5,6]"
   ]
  },
  {
   "cell_type": "markdown",
   "id": "df71ea90",
   "metadata": {},
   "source": [
    "## 7.1. Within-Cluster Sum of Squares (WSS)"
   ]
  },
  {
   "cell_type": "code",
   "execution_count": 62,
   "id": "7ad28a40",
   "metadata": {
    "ExecuteTime": {
     "end_time": "2022-03-25T19:12:09.468502Z",
     "start_time": "2022-03-25T19:12:00.916276Z"
    },
    "cell_style": "split"
   },
   "outputs": [
    {
     "data": {
      "image/png": "[encoded data removed]",
      "text/plain": [
       "<Figure size 576x396 with 1 Axes>"
      ]
     },
     "metadata": {},
     "output_type": "display_data"
    }
   ],
   "source": [
    "#Easy way\n",
    "\n",
    "kmeans = KElbowVisualizer(c.KMeans(), k=clusters, timings=False)\n",
    "kmeans.fit(X)\n",
    "kmeans.show();\n",
    "\n"
   ]
  },
  {
   "cell_type": "markdown",
   "id": "17176836",
   "metadata": {
    "cell_style": "split"
   },
   "source": [
    "## 7.2. Silhouette Score"
   ]
  },
  {
   "cell_type": "code",
   "execution_count": 63,
   "id": "60799c2e",
   "metadata": {
    "ExecuteTime": {
     "end_time": "2022-03-25T19:12:19.256348Z",
     "start_time": "2022-03-25T19:12:09.470101Z"
    },
    "cell_style": "split"
   },
   "outputs": [
    {
     "data": {
      "image/png": "[encoded data removed]",
      "text/plain": [
       "<Figure size 576x396 with 1 Axes>"
      ]
     },
     "metadata": {},
     "output_type": "display_data"
    }
   ],
   "source": [
    "#Easy way\n",
    "kmeans = KElbowVisualizer(c.KMeans(), k=clusters, metric = 'silhouette', timings = False)\n",
    "kmeans.fit(X)\n",
    "kmeans.show();"
   ]
  },
  {
   "cell_type": "markdown",
   "id": "36822b3f",
   "metadata": {},
   "source": [
    "# 8.0. Model Training"
   ]
  },
  {
   "cell_type": "markdown",
   "id": "9ab33cc5",
   "metadata": {},
   "source": [
    "## 8.1. KMeans"
   ]
  },
  {
   "cell_type": "code",
   "execution_count": 65,
   "id": "bc448174",
   "metadata": {
    "ExecuteTime": {
     "end_time": "2022-03-25T19:15:31.855141Z",
     "start_time": "2022-03-25T19:15:31.548999Z"
    }
   },
   "outputs": [],
   "source": [
    "#model definition\n",
    "k = 3\n",
    "kmeans = c.KMeans(init='random', n_clusters=k, n_init=10, max_iter=300, random_state=3)\n",
    "\n",
    "#model training\n",
    "kmeans.fit(X)\n",
    "\n",
    "#clustering\n",
    "labels = kmeans.labels_"
   ]
  },
  {
   "cell_type": "markdown",
   "id": "499c010e",
   "metadata": {},
   "source": [
    "# 9.0. Cluster Analisys"
   ]
  },
  {
   "cell_type": "code",
   "execution_count": 66,
   "id": "d1bad2df",
   "metadata": {
    "ExecuteTime": {
     "end_time": "2022-03-25T19:15:31.874619Z",
     "start_time": "2022-03-25T19:15:31.856970Z"
    }
   },
   "outputs": [],
   "source": [
    "df9 = df6.copy()\n",
    "df9['cluster'] = labels\n"
   ]
  },
  {
   "cell_type": "markdown",
   "id": "76d9bb0a",
   "metadata": {},
   "source": [
    "## 9.1. Visualization Inspection"
   ]
  },
  {
   "cell_type": "code",
   "execution_count": 67,
   "id": "20b4bc71",
   "metadata": {
    "ExecuteTime": {
     "end_time": "2022-03-25T19:15:32.874378Z",
     "start_time": "2022-03-25T19:15:32.050252Z"
    }
   },
   "outputs": [
    {
     "name": "stderr",
     "output_type": "stream",
     "text": [
      "/home/heitor/repos/insiders_clustering/venv/lib/python3.8/site-packages/sklearn/base.py:450: UserWarning: X does not have valid feature names, but KMeans was fitted with feature names\n",
      "  warnings.warn(\n"
     ]
    },
    {
     "data": {
      "image/png": "[encoded data removed]",
      "text/plain": [
       "<Figure size 576x396 with 1 Axes>"
      ]
     },
     "metadata": {},
     "output_type": "display_data"
    }
   ],
   "source": [
    "\n",
    "\n",
    "visualizer = SilhouetteVisualizer(kmeans, colors='yellowbrick')\n",
    "visualizer.fit(X)\n",
    "visualizer.finalize()"
   ]
  },
  {
   "cell_type": "markdown",
   "id": "77b74bed",
   "metadata": {},
   "source": [
    "## 9.2. 2d Plot"
   ]
  },
  {
   "cell_type": "code",
   "execution_count": 68,
   "id": "7d04f123",
   "metadata": {
    "ExecuteTime": {
     "end_time": "2022-03-25T19:15:32.878264Z",
     "start_time": "2022-03-25T19:15:32.875958Z"
    }
   },
   "outputs": [],
   "source": [
    "# df_vis = df9.drop('customer_id', axis=1)\n",
    "# sns.pairplot(df_vis, hue='cluster')\n",
    "\n"
   ]
  },
  {
   "cell_type": "markdown",
   "id": "e19b1e0b",
   "metadata": {},
   "source": [
    "## 9.3. UMAP t-SNE"
   ]
  },
  {
   "cell_type": "code",
   "execution_count": 69,
   "id": "c049fe92",
   "metadata": {
    "ExecuteTime": {
     "end_time": "2022-03-25T19:15:41.361879Z",
     "start_time": "2022-03-25T19:15:33.036918Z"
    }
   },
   "outputs": [
    {
     "data": {
      "text/plain": [
       "<AxesSubplot:xlabel='embedding_x', ylabel='embedding_y'>"
      ]
     },
     "execution_count": 69,
     "metadata": {},
     "output_type": "execute_result"
    },
    {
     "data": {
      "image/png": "[encoded data removed]",
      "text/plain": [
       "<Figure size 576x396 with 1 Axes>"
      ]
     },
     "metadata": {},
     "output_type": "display_data"
    }
   ],
   "source": [
    "reducer = umap.UMAP(n_neighbors=30, random_state=3)\n",
    "embedding = reducer.fit_transform(X)\n",
    "\n",
    "df_vis['embedding_x'] = embedding[:,0]\n",
    "df_vis['embedding_y'] = embedding[:,1]\n",
    "sns.scatterplot(x='embedding_x', y='embedding_y', hue='cluster',\n",
    "              palette = sns.color_palette('hls', n_colors = len(df_vis['cluster'].unique())),\n",
    "               data = df_vis)"
   ]
  },
  {
   "cell_type": "markdown",
   "id": "907c7acd",
   "metadata": {},
   "source": [
    "## 9.1. Visualization Inspection"
   ]
  },
  {
   "cell_type": "code",
   "execution_count": 70,
   "id": "1d3714f7",
   "metadata": {
    "ExecuteTime": {
     "end_time": "2022-03-25T19:15:41.728941Z",
     "start_time": "2022-03-25T19:15:41.363731Z"
    }
   },
   "outputs": [
    {
     "name": "stdout",
     "output_type": "stream",
     "text": [
      "WSS: 9429.573769591378\n",
      "SS: 0.5879176205734721\n"
     ]
    }
   ],
   "source": [
    "#WSS\n",
    "print('WSS: {}'.format(kmeans.inertia_))\n",
    "\n",
    "#SS\n",
    "print('SS: {}'.format(m.silhouette_score(X,labels, metric='euclidean')))"
   ]
  },
  {
   "cell_type": "code",
   "execution_count": null,
   "id": "4be05559",
   "metadata": {
    "ExecuteTime": {
     "end_time": "2022-03-24T20:59:48.957263Z",
     "start_time": "2022-03-24T20:59:48.957246Z"
    }
   },
   "outputs": [],
   "source": [
    "px.scatter_3d(df9, x='recency_days', y='invoice_no', z='gross_revenue', color='cluster')"
   ]
  },
  {
   "cell_type": "markdown",
   "id": "7cbbc97e",
   "metadata": {},
   "source": [
    "## 9.2. Cluster Profile"
   ]
  },
  {
   "cell_type": "code",
   "execution_count": null,
   "id": "9a08de16",
   "metadata": {
    "ExecuteTime": {
     "end_time": "2022-03-24T20:59:48.958417Z",
     "start_time": "2022-03-24T20:59:48.958402Z"
    }
   },
   "outputs": [],
   "source": [
    "aux1 = df9.groupby('cluster').mean().reset_index()\n",
    "\n",
    "aux1 = aux1.drop('customer_id', axis=1)\n",
    "aux2 = df9[['customer_id', 'cluster']].groupby('cluster').count().reset_index()\n",
    "\n",
    "df_cluster = pd.merge(aux1, aux2, on='cluster', how='left')\n"
   ]
  },
  {
   "cell_type": "code",
   "execution_count": null,
   "id": "a5708e52",
   "metadata": {
    "ExecuteTime": {
     "end_time": "2022-03-24T20:59:48.959651Z",
     "start_time": "2022-03-24T20:59:48.959635Z"
    }
   },
   "outputs": [],
   "source": [
    "df_cluster['perc'] = 100*df_cluster['customer_id']/df_cluster['customer_id'].sum()\n",
    "\n",
    "df_cluster"
   ]
  },
  {
   "cell_type": "markdown",
   "id": "6adcddbc",
   "metadata": {
    "ExecuteTime": {
     "end_time": "2022-03-23T17:54:06.985193Z",
     "start_time": "2022-03-23T17:54:06.939649Z"
    }
   },
   "source": [
    "## Cluster 0 (insiders)\n",
    "\n",
    "* Número de clientes: 6\n",
    "* Percentual de clientes: 0,01%\n",
    "* Faturamento médio: $182182\n",
    "* Recência: 7 dias\n",
    "* Frequência: 89 compras\n",
    "\n",
    "## Cluster 1 (Hibernating)\n",
    "\n",
    "* Número de clientes: 4335\n",
    "* Percentual de clientes: 99%\n",
    "* Faturamento: $1372\n",
    "* Recência: 92 dias\n",
    "* Frequência: 4 compras\n",
    "\n",
    "## Cluster 2 (potenciais clientes fieis)\n",
    "\n",
    "* Número de clientes: 31\n",
    "* Percentual de clientes: 0,07%\n",
    "* Faturamento: $40543\n",
    "* Recência: 13 dias\n",
    "* Frequência: 53 compras\n",
    "\n",
    "\n"
   ]
  },
  {
   "cell_type": "markdown",
   "id": "4ddafac4",
   "metadata": {},
   "source": [
    "# 10.0. Deploy to Production"
   ]
  },
  {
   "cell_type": "code",
   "execution_count": null,
   "id": "21a3d62c",
   "metadata": {},
   "outputs": [],
   "source": []
  },
  {
   "cell_type": "code",
   "execution_count": null,
   "id": "a3eb70ea",
   "metadata": {},
   "outputs": [],
   "source": []
  },
  {
   "cell_type": "code",
   "execution_count": null,
   "id": "933b0f52",
   "metadata": {},
   "outputs": [],
   "source": []
  },
  {
   "cell_type": "code",
   "execution_count": null,
   "id": "6ac64b06",
   "metadata": {},
   "outputs": [],
   "source": []
  },
  {
   "cell_type": "code",
   "execution_count": null,
   "id": "3ccaebf6",
   "metadata": {},
   "outputs": [],
   "source": []
  },
  {
   "cell_type": "code",
   "execution_count": null,
   "id": "823a287f",
   "metadata": {},
   "outputs": [],
   "source": []
  },
  {
   "cell_type": "code",
   "execution_count": null,
   "id": "b408343c",
   "metadata": {},
   "outputs": [],
   "source": []
  },
  {
   "cell_type": "code",
   "execution_count": null,
   "id": "e763c4f7",
   "metadata": {},
   "outputs": [],
   "source": []
  },
  {
   "cell_type": "code",
   "execution_count": null,
   "id": "c465f4c0",
   "metadata": {},
   "outputs": [],
   "source": []
  },
  {
   "cell_type": "code",
   "execution_count": null,
   "id": "87c00c6f",
   "metadata": {},
   "outputs": [],
   "source": []
  },
  {
   "cell_type": "code",
   "execution_count": null,
   "id": "eb431e86",
   "metadata": {},
   "outputs": [],
   "source": []
  },
  {
   "cell_type": "code",
   "execution_count": null,
   "id": "e007b51b",
   "metadata": {},
   "outputs": [],
   "source": []
  },
  {
   "cell_type": "code",
   "execution_count": null,
   "id": "db56a0a8",
   "metadata": {},
   "outputs": [],
   "source": []
  },
  {
   "cell_type": "code",
   "execution_count": null,
   "id": "0866a452",
   "metadata": {},
   "outputs": [],
   "source": []
  },
  {
   "cell_type": "code",
   "execution_count": null,
   "id": "32054ddd",
   "metadata": {},
   "outputs": [],
   "source": []
  },
  {
   "cell_type": "code",
   "execution_count": null,
   "id": "085a6cc1",
   "metadata": {},
   "outputs": [],
   "source": []
  },
  {
   "cell_type": "code",
   "execution_count": null,
   "id": "9aee84eb",
   "metadata": {},
   "outputs": [],
   "source": []
  },
  {
   "cell_type": "code",
   "execution_count": null,
   "id": "9ec5087f",
   "metadata": {},
   "outputs": [],
   "source": []
  }
 ],
 "metadata": {
  "kernelspec": {
   "display_name": "Python 3 (ipykernel)",
   "language": "python",
   "name": "python3"
  },
  "language_info": {
   "codemirror_mode": {
    "name": "ipython",
    "version": 3
   },
   "file_extension": ".py",
   "mimetype": "text/x-python",
   "name": "python",
   "nbconvert_exporter": "python",
   "pygments_lexer": "ipython3",
   "version": "3.8.10"
  }
 },
 "nbformat": 4,
 "nbformat_minor": 5
}
