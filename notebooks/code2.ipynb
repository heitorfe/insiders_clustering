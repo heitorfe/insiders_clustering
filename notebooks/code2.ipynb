{
 "cells": [
  {
   "cell_type": "markdown",
   "id": "debfd19c",
   "metadata": {},
   "source": [
    "# PA005: High Value Customer Identification (Insiders)"
   ]
  },
  {
   "cell_type": "markdown",
   "id": "cfd50e87",
   "metadata": {
    "ExecuteTime": {
     "end_time": "2022-03-22T20:07:48.369323Z",
     "start_time": "2022-03-22T20:07:47.915832Z"
    }
   },
   "source": [
    "# 0.0. Planejamento da solução (IOT)"
   ]
  },
  {
   "cell_type": "markdown",
   "id": "92c2135d",
   "metadata": {},
   "source": [
    "## Input - Entrada"
   ]
  },
  {
   "cell_type": "markdown",
   "id": "8524a40a",
   "metadata": {
    "ExecuteTime": {
     "end_time": "2022-03-22T20:13:17.225841Z",
     "start_time": "2022-03-22T20:13:17.221201Z"
    }
   },
   "source": [
    "1. Problema de negócio\n",
    "\n",
    "    --Selecionar os clientes mais valiosos para integrar um programa de fidelização\n",
    "    \n",
    "2. Conjunto de dados\n",
    "\n",
    "    --Vendas de um e-commerce, durante um período de um ano"
   ]
  },
  {
   "cell_type": "markdown",
   "id": "f9412214",
   "metadata": {},
   "source": [
    "## Output - Saída"
   ]
  },
  {
   "cell_type": "markdown",
   "id": "6971ca6e",
   "metadata": {},
   "source": [
    "1. A idicação de clientes que farão parte do programa de Insiders\n",
    "\n",
    "    --Lista: client_id | is_insider\n",
    "            455534     | yes\n",
    "            433524     | no\n",
    "            \n",
    "2. Relatório com as respostas das perguntas de negócios\n",
    "\n",
    "    2.0. Quem são as pessoas elegíveis para fazer parte do grupo de Insiders?\n",
    "\n",
    "    2.1. Quantos clientes farão parte do grupo?\n",
    "    \n",
    "    2.2. Quais as principais características desses clientes?\n",
    "    \n",
    "    2.3. Qual a porcentagem de contribuição do faturamento vindo dos Insiders?\n",
    "    \n",
    "    2.4. Qual a expectativa de faturamento desse grupo para os próximos meses?\n",
    "    \n",
    "    2.5. Quais as condições para umma pessoa ser elegível ao Insiders?\n",
    "    \n",
    "    2.6. Quais as condições para umma pessoa ser removida do Insiders?\n",
    "    \n",
    "    2.7. Qual a garantia que o programa Insiders é melhor que o restante da base?\n",
    "    \n",
    "    2.8. Quais ações o time de marketing pode realizar para aumentar o faturamento?\n",
    "    \n",
    "    "
   ]
  },
  {
   "cell_type": "markdown",
   "id": "52ba385b",
   "metadata": {},
   "source": [
    "## Tasks - Tarefas"
   ]
  },
  {
   "cell_type": "markdown",
   "id": "01b7e6be",
   "metadata": {},
   "source": [
    "    0. Quem são as pessoas elegíveis para fazer parte do grupo de Insiders?  \n",
    "        - O que são clientes de maior \"valor\"?\n",
    "        - Faturamento\n",
    "            - Alto ticket médio\n",
    "            - Alto LTV\n",
    "            - Baixa recência\n",
    "            - Baixa probabilidade de churn\n",
    "            - Alto basket size\n",
    "            - Alta previsão LTV\n",
    "            - Alta propensão de compra\n",
    "            \n",
    "        - Custo\n",
    "            - Baixa taxa de devolução\n",
    "            \n",
    "        - Experiência de compra\n",
    "            - Média alta das avaliações\n",
    "    \n",
    "    1. Quantos clientes farão parte do grupo?\n",
    "        - Número total de clientes\n",
    "        - % do grupo de Insiders\n",
    "    \n",
    "    2. Quais as principais características desses clientes?\n",
    "        -Características dos clientes:\n",
    "            - Idade\n",
    "            - Localização\n",
    "            \n",
    "        - Características de consumo:\n",
    "            - Atributos da clusterização\n",
    "        \n",
    "    \n",
    "    3. Qual a porcentagem de contribuição do faturamento vindo dos Insiders?\n",
    "            - Faturamento do ano\n",
    "            - Faturamento dos Insiders\n",
    "    \n",
    "    4. Qual a expectativa de faturamento desse grupo para os próximos meses?\n",
    "            - LTV do grupo Insiders\n",
    "            - Análise de Cohort\n",
    "    \n",
    "    5. Quais as condições para umma pessoa ser elegível ao Insiders?\n",
    "            - Definir periodicidade\n",
    "            - A pessoa precisa ser similar ou parecido com uma pessoa do grupo\n",
    "            \n",
    "    6. Quais as condições para umma pessoa ser removida do Insiders?\n",
    "            - Definir periodicidade\n",
    "            - A pessoa precisa ser dissimilar ou parecido com uma pessoa do grupo\n",
    "            \n",
    "    7. Qual a garantia que o programa Insiders é melhor que o restante da base?\n",
    "            - Teste A/B\n",
    "            - Teste A/B Bayesiano\n",
    "            - Teste de hipóteses\n",
    "    \n",
    "    8. Quais ações o time de marketing pode realizar para aumentar o faturamento?\n",
    "            - Desconto\n",
    "            - Preferência de compra\n",
    "            - Frente\n",
    "            - Visita a empresa"
   ]
  },
  {
   "cell_type": "markdown",
   "id": "93430148",
   "metadata": {},
   "source": [
    "## Benchmark de soluções"
   ]
  },
  {
   "cell_type": "markdown",
   "id": "68a75fe6",
   "metadata": {},
   "source": [
    "### 1. Desk research"
   ]
  },
  {
   "cell_type": "markdown",
   "id": "26b606ea",
   "metadata": {},
   "source": [
    "Modelo RFM\n",
    "1. Recency\n",
    "    a) Tempo desde a última compra\n",
    "    b) Responsividade\n",
    "\n",
    "2. Frequency\n",
    "    a) Tempo médio entre as transações\n",
    "    b) Engajamento\n",
    "    \n",
    "3. Monetary \n",
    "    a) Total gasto, faturamento\n",
    "    b) 'High-value purchases'"
   ]
  },
  {
   "cell_type": "markdown",
   "id": "9489f164",
   "metadata": {},
   "source": [
    "# 0.0. Imports"
   ]
  },
  {
   "cell_type": "code",
   "execution_count": 111,
   "id": "bfab7447",
   "metadata": {
    "ExecuteTime": {
     "end_time": "2022-03-24T23:02:58.672068Z",
     "start_time": "2022-03-24T23:02:58.664306Z"
    }
   },
   "outputs": [],
   "source": [
    "from matplotlib          import pyplot as plt\n",
    "from sklearn             import cluster as c\n",
    "from sklearn             import metrics as m\n",
    "from plotly              import express as px\n",
    "from yellowbrick.cluster import KElbowVisualizer\n",
    "from yellowbrick.cluster import SilhouetteVisualizer\n",
    "\n",
    "\n",
    "import pandas as pd\n",
    "import seaborn as sns\n",
    "import numpy as np\n",
    "\n",
    "import re"
   ]
  },
  {
   "cell_type": "code",
   "execution_count": 2,
   "id": "e5858e03",
   "metadata": {
    "ExecuteTime": {
     "end_time": "2022-03-24T21:05:39.416322Z",
     "start_time": "2022-03-24T21:05:35.269352Z"
    }
   },
   "outputs": [
    {
     "name": "stderr",
     "output_type": "stream",
     "text": [
      "/home/heitor/repos/insiders_clustering/venv/lib/python3.8/site-packages/tqdm/auto.py:22: TqdmWarning: IProgress not found. Please update jupyter and ipywidgets. See https://ipywidgets.readthedocs.io/en/stable/user_install.html\n",
      "  from .autonotebook import tqdm as notebook_tqdm\n"
     ]
    }
   ],
   "source": [
    "import umap.umap_ as umap\n"
   ]
  },
  {
   "cell_type": "code",
   "execution_count": null,
   "id": "561d3bfa",
   "metadata": {
    "ExecuteTime": {
     "end_time": "2022-03-23T20:33:54.929243Z",
     "start_time": "2022-03-23T20:33:52.994990Z"
    }
   },
   "outputs": [],
   "source": []
  },
  {
   "cell_type": "markdown",
   "id": "944d041a",
   "metadata": {},
   "source": [
    "## 0.2. Helper Functions"
   ]
  },
  {
   "cell_type": "code",
   "execution_count": 63,
   "id": "3fd76676",
   "metadata": {
    "ExecuteTime": {
     "end_time": "2022-03-24T21:18:53.417527Z",
     "start_time": "2022-03-24T21:18:53.407726Z"
    }
   },
   "outputs": [],
   "source": [
    "pd.set_option('display.float_format', lambda x: '%.2f' % x)\n",
    "\n",
    "def num_attributes(df1):\n",
    "    \n",
    "    num_attributes = df1.select_dtypes(['int64', 'float64'])\n",
    "\n",
    "    #central tendency\n",
    "    ct1 = pd.DataFrame(num_attributes.apply(np.mean)).T\n",
    "    ct2 = pd.DataFrame(num_attributes.apply(np.median)).T\n",
    "\n",
    "    #dispersion\n",
    "    d1 = pd.DataFrame(num_attributes.apply(np.min)).T\n",
    "    d2 = pd.DataFrame(num_attributes.apply(np.max)).T\n",
    "    d3 = pd.DataFrame(num_attributes.apply(lambda x: x.max() - x.min())).T\n",
    "    d4 = pd.DataFrame(num_attributes.apply(np.std)).T\n",
    "    d5 = pd.DataFrame(num_attributes.apply(lambda x: x.skew())).T\n",
    "    d6 = pd.DataFrame(num_attributes.apply(lambda x: x.kurtosis())).T\n",
    "\n",
    "    m = pd.concat( [d1, d2, d3, ct1, ct2, d4, d5, d6] ).T.reset_index()\n",
    "    m.columns = ['attributes', 'min', 'max', 'range', 'mean', 'median', 'std','skew', 'kurtosis']\n",
    "    return m"
   ]
  },
  {
   "cell_type": "markdown",
   "id": "3a4d4f04",
   "metadata": {},
   "source": [
    "## 0.3. Load Data"
   ]
  },
  {
   "cell_type": "code",
   "execution_count": 51,
   "id": "1f060a95",
   "metadata": {
    "ExecuteTime": {
     "end_time": "2022-03-24T21:17:36.724231Z",
     "start_time": "2022-03-24T21:17:36.179176Z"
    }
   },
   "outputs": [],
   "source": [
    "df_raw = pd.read_csv(r'../data/Ecommerce.csv')\n"
   ]
  },
  {
   "cell_type": "markdown",
   "id": "8182c343",
   "metadata": {},
   "source": [
    "# 1.0. Data Description"
   ]
  },
  {
   "cell_type": "code",
   "execution_count": 52,
   "id": "b3131385",
   "metadata": {
    "ExecuteTime": {
     "end_time": "2022-03-24T21:17:36.740373Z",
     "start_time": "2022-03-24T21:17:36.726209Z"
    }
   },
   "outputs": [],
   "source": [
    "df1 = df_raw.copy()"
   ]
  },
  {
   "cell_type": "markdown",
   "id": "39437f33",
   "metadata": {},
   "source": [
    "## 1.1. Rename Columns"
   ]
  },
  {
   "cell_type": "code",
   "execution_count": 53,
   "id": "00fc26d3",
   "metadata": {
    "ExecuteTime": {
     "end_time": "2022-03-24T21:17:36.836209Z",
     "start_time": "2022-03-24T21:17:36.742259Z"
    }
   },
   "outputs": [
    {
     "data": {
      "text/plain": [
       "Index(['InvoiceNo', 'StockCode', 'Description', 'Quantity', 'InvoiceDate',\n",
       "       'UnitPrice', 'CustomerID', 'Country'],\n",
       "      dtype='object')"
      ]
     },
     "execution_count": 53,
     "metadata": {},
     "output_type": "execute_result"
    }
   ],
   "source": [
    "df1.columns"
   ]
  },
  {
   "cell_type": "code",
   "execution_count": 54,
   "id": "2a05f0ff",
   "metadata": {
    "ExecuteTime": {
     "end_time": "2022-03-24T21:17:36.943306Z",
     "start_time": "2022-03-24T21:17:36.839253Z"
    }
   },
   "outputs": [],
   "source": [
    "df1.columns = ['invoice_no', 'stock_code', 'description', 'quantity', 'invoice_date',\n",
    "       'unit_price', 'customer_id', 'country']"
   ]
  },
  {
   "cell_type": "markdown",
   "id": "775005e2",
   "metadata": {},
   "source": [
    "## 1.2. Data Shape"
   ]
  },
  {
   "cell_type": "code",
   "execution_count": 55,
   "id": "a76ce76d",
   "metadata": {
    "ExecuteTime": {
     "end_time": "2022-03-24T21:17:37.075384Z",
     "start_time": "2022-03-24T21:17:37.069600Z"
    }
   },
   "outputs": [
    {
     "name": "stdout",
     "output_type": "stream",
     "text": [
      "Number of rows: 541909\n",
      "Number of columns: 8\n"
     ]
    }
   ],
   "source": [
    "print(f'Number of rows: {df1.shape[0]}')\n",
    "print(f'Number of columns: {df1.shape[1]}')"
   ]
  },
  {
   "cell_type": "markdown",
   "id": "cee652c4",
   "metadata": {},
   "source": [
    "## 1.3. Data Types"
   ]
  },
  {
   "cell_type": "code",
   "execution_count": 56,
   "id": "a7e20e2d",
   "metadata": {
    "ExecuteTime": {
     "end_time": "2022-03-24T21:17:37.316349Z",
     "start_time": "2022-03-24T21:17:37.310778Z"
    }
   },
   "outputs": [
    {
     "data": {
      "text/plain": [
       "invoice_no       object\n",
       "stock_code       object\n",
       "description      object\n",
       "quantity          int64\n",
       "invoice_date     object\n",
       "unit_price      float64\n",
       "customer_id     float64\n",
       "country          object\n",
       "dtype: object"
      ]
     },
     "execution_count": 56,
     "metadata": {},
     "output_type": "execute_result"
    }
   ],
   "source": [
    "df1.dtypes"
   ]
  },
  {
   "cell_type": "markdown",
   "id": "04839175",
   "metadata": {},
   "source": [
    "## 1.4. Check NAs\n"
   ]
  },
  {
   "cell_type": "code",
   "execution_count": 57,
   "id": "b48f1f36",
   "metadata": {
    "ExecuteTime": {
     "end_time": "2022-03-24T21:17:37.905308Z",
     "start_time": "2022-03-24T21:17:37.544039Z"
    }
   },
   "outputs": [
    {
     "data": {
      "text/plain": [
       "invoice_no           0\n",
       "stock_code           0\n",
       "description       1454\n",
       "quantity             0\n",
       "invoice_date         0\n",
       "unit_price           0\n",
       "customer_id     135080\n",
       "country              0\n",
       "dtype: int64"
      ]
     },
     "execution_count": 57,
     "metadata": {},
     "output_type": "execute_result"
    }
   ],
   "source": [
    "df1.isna().sum()"
   ]
  },
  {
   "cell_type": "markdown",
   "id": "d7b465fd",
   "metadata": {},
   "source": [
    "## 1.5. Fill NAs"
   ]
  },
  {
   "cell_type": "code",
   "execution_count": 58,
   "id": "e554c65f",
   "metadata": {
    "ExecuteTime": {
     "end_time": "2022-03-24T21:17:38.271037Z",
     "start_time": "2022-03-24T21:17:37.907129Z"
    }
   },
   "outputs": [
    {
     "name": "stdout",
     "output_type": "stream",
     "text": [
      "Data removed: 25%\n"
     ]
    }
   ],
   "source": [
    "#remove na\n",
    "df1 = df1.dropna(axis=0)\n",
    "\n",
    "print('Data removed: {:.0f}%'.format((1-(len(df1)/len(df_raw)))*100))"
   ]
  },
  {
   "cell_type": "markdown",
   "id": "4260f86c",
   "metadata": {},
   "source": [
    "## 1.6. Change dtypes"
   ]
  },
  {
   "cell_type": "code",
   "execution_count": 59,
   "id": "464e637e",
   "metadata": {
    "ExecuteTime": {
     "end_time": "2022-03-24T21:17:38.278360Z",
     "start_time": "2022-03-24T21:17:38.273162Z"
    }
   },
   "outputs": [
    {
     "data": {
      "text/plain": [
       "invoice_no       object\n",
       "stock_code       object\n",
       "description      object\n",
       "quantity          int64\n",
       "invoice_date     object\n",
       "unit_price      float64\n",
       "customer_id     float64\n",
       "country          object\n",
       "dtype: object"
      ]
     },
     "execution_count": 59,
     "metadata": {},
     "output_type": "execute_result"
    }
   ],
   "source": [
    "df1.dtypes"
   ]
  },
  {
   "cell_type": "code",
   "execution_count": 60,
   "id": "03324ef2",
   "metadata": {
    "ExecuteTime": {
     "end_time": "2022-03-24T21:17:38.438779Z",
     "start_time": "2022-03-24T21:17:38.280297Z"
    }
   },
   "outputs": [
    {
     "data": {
      "text/plain": [
       "invoice_no              object\n",
       "stock_code              object\n",
       "description             object\n",
       "quantity                 int64\n",
       "invoice_date    datetime64[ns]\n",
       "unit_price             float64\n",
       "customer_id              int64\n",
       "country                 object\n",
       "dtype: object"
      ]
     },
     "execution_count": 60,
     "metadata": {},
     "output_type": "execute_result"
    }
   ],
   "source": [
    "#invoice_no \n",
    "# df1['invoice_no'] = df1['invoice_no'].astype(int)\n",
    "\n",
    "\n",
    "#stock_code \n",
    "# df1['stock_code'] = df1['stock_code'].astype(int)\n",
    "\n",
    "\n",
    "#invoice_date  --> Month --> b\n",
    "df1['invoice_date'] = pd.to_datetime(df1['invoice_date'], format=('%d-%b-%y'))\n",
    "\n",
    "\n",
    "#customer_id\n",
    "df1['customer_id'] = df1['customer_id'].astype(int)\n",
    "df1.dtypes"
   ]
  },
  {
   "cell_type": "markdown",
   "id": "ec38e084",
   "metadata": {},
   "source": [
    "## 1.7. Descriptive statistics"
   ]
  },
  {
   "cell_type": "code",
   "execution_count": 61,
   "id": "9ced28d5",
   "metadata": {
    "ExecuteTime": {
     "end_time": "2022-03-24T21:17:38.673742Z",
     "start_time": "2022-03-24T21:17:38.661625Z"
    }
   },
   "outputs": [],
   "source": [
    "num_attributes = df1.select_dtypes(['int64', 'float64'])\n",
    "cat_attributes = df1.select_dtypes(exclude = ['int64', 'float64', 'datetime64[ns]'])"
   ]
  },
  {
   "cell_type": "markdown",
   "id": "849a9083",
   "metadata": {},
   "source": [
    "### 1.7.1. Numerical Attributes"
   ]
  },
  {
   "cell_type": "code",
   "execution_count": 66,
   "id": "7e906985",
   "metadata": {
    "ExecuteTime": {
     "end_time": "2022-03-24T21:19:24.928540Z",
     "start_time": "2022-03-24T21:19:24.846782Z"
    }
   },
   "outputs": [
    {
     "data": {
      "text/html": [
       "<div>\n",
       "<style scoped>\n",
       "    .dataframe tbody tr th:only-of-type {\n",
       "        vertical-align: middle;\n",
       "    }\n",
       "\n",
       "    .dataframe tbody tr th {\n",
       "        vertical-align: top;\n",
       "    }\n",
       "\n",
       "    .dataframe thead th {\n",
       "        text-align: right;\n",
       "    }\n",
       "</style>\n",
       "<table border=\"1\" class=\"dataframe\">\n",
       "  <thead>\n",
       "    <tr style=\"text-align: right;\">\n",
       "      <th></th>\n",
       "      <th>attributes</th>\n",
       "      <th>min</th>\n",
       "      <th>max</th>\n",
       "      <th>range</th>\n",
       "      <th>mean</th>\n",
       "      <th>median</th>\n",
       "      <th>std</th>\n",
       "      <th>skew</th>\n",
       "      <th>kurtosis</th>\n",
       "    </tr>\n",
       "  </thead>\n",
       "  <tbody>\n",
       "    <tr>\n",
       "      <th>0</th>\n",
       "      <td>quantity</td>\n",
       "      <td>-80995.00</td>\n",
       "      <td>80995.00</td>\n",
       "      <td>161990.00</td>\n",
       "      <td>12.06</td>\n",
       "      <td>5.00</td>\n",
       "      <td>248.69</td>\n",
       "      <td>0.18</td>\n",
       "      <td>94317.56</td>\n",
       "    </tr>\n",
       "    <tr>\n",
       "      <th>1</th>\n",
       "      <td>unit_price</td>\n",
       "      <td>0.00</td>\n",
       "      <td>38970.00</td>\n",
       "      <td>38970.00</td>\n",
       "      <td>3.46</td>\n",
       "      <td>1.95</td>\n",
       "      <td>69.32</td>\n",
       "      <td>452.22</td>\n",
       "      <td>246924.55</td>\n",
       "    </tr>\n",
       "    <tr>\n",
       "      <th>2</th>\n",
       "      <td>customer_id</td>\n",
       "      <td>12346.00</td>\n",
       "      <td>18287.00</td>\n",
       "      <td>5941.00</td>\n",
       "      <td>15287.69</td>\n",
       "      <td>15152.00</td>\n",
       "      <td>1713.60</td>\n",
       "      <td>0.03</td>\n",
       "      <td>-1.18</td>\n",
       "    </tr>\n",
       "  </tbody>\n",
       "</table>\n",
       "</div>"
      ],
      "text/plain": [
       "    attributes       min      max     range     mean   median     std   skew  \\\n",
       "0     quantity -80995.00 80995.00 161990.00    12.06     5.00  248.69   0.18   \n",
       "1   unit_price      0.00 38970.00  38970.00     3.46     1.95   69.32 452.22   \n",
       "2  customer_id  12346.00 18287.00   5941.00 15287.69 15152.00 1713.60   0.03   \n",
       "\n",
       "   kurtosis  \n",
       "0  94317.56  \n",
       "1 246924.55  \n",
       "2     -1.18  "
      ]
     },
     "execution_count": 66,
     "metadata": {},
     "output_type": "execute_result"
    }
   ],
   "source": [
    "m = num_attributes(df1)\n",
    "m"
   ]
  },
  {
   "cell_type": "markdown",
   "id": "5a07d7de",
   "metadata": {},
   "source": [
    "#### 1.7.1.1 Investigating"
   ]
  },
  {
   "cell_type": "markdown",
   "id": "85ede4cc",
   "metadata": {
    "ExecuteTime": {
     "end_time": "2022-03-24T21:15:49.659102Z",
     "start_time": "2022-03-24T21:15:49.643555Z"
    }
   },
   "source": [
    "1. Negative quantity (devolution?)\n",
    "2. Price = 0 (Promo?)"
   ]
  },
  {
   "cell_type": "code",
   "execution_count": null,
   "id": "f4f54abd",
   "metadata": {
    "ExecuteTime": {
     "end_time": "2022-03-24T22:54:41.804196Z",
     "start_time": "2022-03-24T22:54:41.787042Z"
    }
   },
   "outputs": [],
   "source": [
    "\n"
   ]
  },
  {
   "cell_type": "code",
   "execution_count": null,
   "id": "ace5b6b0",
   "metadata": {
    "ExecuteTime": {
     "end_time": "2022-03-24T21:29:37.302453Z",
     "start_time": "2022-03-24T21:29:37.284416Z"
    }
   },
   "outputs": [],
   "source": []
  },
  {
   "cell_type": "code",
   "execution_count": null,
   "id": "00f84855",
   "metadata": {
    "ExecuteTime": {
     "end_time": "2022-03-24T21:29:25.221273Z",
     "start_time": "2022-03-24T21:29:25.211038Z"
    }
   },
   "outputs": [],
   "source": []
  },
  {
   "cell_type": "markdown",
   "id": "fd46a106",
   "metadata": {},
   "source": [
    "## 1.7.2. Categorical Attributes"
   ]
  },
  {
   "cell_type": "code",
   "execution_count": 101,
   "id": "e69d5e29",
   "metadata": {
    "ExecuteTime": {
     "end_time": "2022-03-24T22:57:15.313657Z",
     "start_time": "2022-03-24T22:57:15.295845Z"
    }
   },
   "outputs": [
    {
     "data": {
      "text/html": [
       "<div>\n",
       "<style scoped>\n",
       "    .dataframe tbody tr th:only-of-type {\n",
       "        vertical-align: middle;\n",
       "    }\n",
       "\n",
       "    .dataframe tbody tr th {\n",
       "        vertical-align: top;\n",
       "    }\n",
       "\n",
       "    .dataframe thead th {\n",
       "        text-align: right;\n",
       "    }\n",
       "</style>\n",
       "<table border=\"1\" class=\"dataframe\">\n",
       "  <thead>\n",
       "    <tr style=\"text-align: right;\">\n",
       "      <th></th>\n",
       "      <th>invoice_no</th>\n",
       "      <th>stock_code</th>\n",
       "      <th>description</th>\n",
       "      <th>country</th>\n",
       "    </tr>\n",
       "  </thead>\n",
       "  <tbody>\n",
       "    <tr>\n",
       "      <th>0</th>\n",
       "      <td>536365</td>\n",
       "      <td>85123A</td>\n",
       "      <td>WHITE HANGING HEART T-LIGHT HOLDER</td>\n",
       "      <td>United Kingdom</td>\n",
       "    </tr>\n",
       "    <tr>\n",
       "      <th>1</th>\n",
       "      <td>536365</td>\n",
       "      <td>71053</td>\n",
       "      <td>WHITE METAL LANTERN</td>\n",
       "      <td>United Kingdom</td>\n",
       "    </tr>\n",
       "    <tr>\n",
       "      <th>2</th>\n",
       "      <td>536365</td>\n",
       "      <td>84406B</td>\n",
       "      <td>CREAM CUPID HEARTS COAT HANGER</td>\n",
       "      <td>United Kingdom</td>\n",
       "    </tr>\n",
       "    <tr>\n",
       "      <th>3</th>\n",
       "      <td>536365</td>\n",
       "      <td>84029G</td>\n",
       "      <td>KNITTED UNION FLAG HOT WATER BOTTLE</td>\n",
       "      <td>United Kingdom</td>\n",
       "    </tr>\n",
       "    <tr>\n",
       "      <th>4</th>\n",
       "      <td>536365</td>\n",
       "      <td>84029E</td>\n",
       "      <td>RED WOOLLY HOTTIE WHITE HEART.</td>\n",
       "      <td>United Kingdom</td>\n",
       "    </tr>\n",
       "  </tbody>\n",
       "</table>\n",
       "</div>"
      ],
      "text/plain": [
       "  invoice_no stock_code                          description         country\n",
       "0     536365     85123A   WHITE HANGING HEART T-LIGHT HOLDER  United Kingdom\n",
       "1     536365      71053                  WHITE METAL LANTERN  United Kingdom\n",
       "2     536365     84406B       CREAM CUPID HEARTS COAT HANGER  United Kingdom\n",
       "3     536365     84029G  KNITTED UNION FLAG HOT WATER BOTTLE  United Kingdom\n",
       "4     536365     84029E       RED WOOLLY HOTTIE WHITE HEART.  United Kingdom"
      ]
     },
     "execution_count": 101,
     "metadata": {},
     "output_type": "execute_result"
    }
   ],
   "source": [
    "cat_attributes.head()"
   ]
  },
  {
   "cell_type": "code",
   "execution_count": 120,
   "id": "34d857cc",
   "metadata": {
    "ExecuteTime": {
     "end_time": "2022-03-24T23:12:24.492983Z",
     "start_time": "2022-03-24T23:12:24.149702Z"
    }
   },
   "outputs": [
    {
     "data": {
      "text/plain": [
       "3654"
      ]
     },
     "execution_count": 120,
     "metadata": {},
     "output_type": "execute_result"
    }
   ],
   "source": [
    "\n",
    "#invoice_no\n",
    "len(cat_attributes.loc[cat_attributes['invoice_no'].apply(lambda x: bool(re.search('[^0-9]+', x))), 'invoice_no'].drop_duplicates())     \n",
    "\n"
   ]
  },
  {
   "cell_type": "code",
   "execution_count": 124,
   "id": "ee0c3c16",
   "metadata": {
    "ExecuteTime": {
     "end_time": "2022-03-24T23:15:09.693643Z",
     "start_time": "2022-03-24T23:15:09.053457Z"
    }
   },
   "outputs": [
    {
     "name": "stdout",
     "output_type": "stream",
     "text": [
      "35809\n",
      "542\n"
     ]
    }
   ],
   "source": [
    "#stock code\n",
    "at_least_one_string = len(cat_attributes.loc[cat_attributes['stock_code'].apply(lambda x: bool(re.search('[^0-9]+', x))), 'stock_code'])     \n",
    "print(at_least_one_string)\n",
    "\n",
    "all_string  = len(cat_attributes.loc[cat_attributes['stock_code'].apply(lambda x: bool(re.search('^[a-zA-Z]$', x))), 'stock_code'])     \n",
    "print(all_string)\n",
    "\n",
    "\n"
   ]
  },
  {
   "cell_type": "code",
   "execution_count": 129,
   "id": "03a4b3ce",
   "metadata": {
    "ExecuteTime": {
     "end_time": "2022-03-24T23:17:27.935948Z",
     "start_time": "2022-03-24T23:17:27.600136Z"
    }
   },
   "outputs": [
    {
     "data": {
      "text/html": [
       "<div>\n",
       "<style scoped>\n",
       "    .dataframe tbody tr th:only-of-type {\n",
       "        vertical-align: middle;\n",
       "    }\n",
       "\n",
       "    .dataframe tbody tr th {\n",
       "        vertical-align: top;\n",
       "    }\n",
       "\n",
       "    .dataframe thead th {\n",
       "        text-align: right;\n",
       "    }\n",
       "</style>\n",
       "<table border=\"1\" class=\"dataframe\">\n",
       "  <thead>\n",
       "    <tr style=\"text-align: right;\">\n",
       "      <th></th>\n",
       "      <th>invoice_no</th>\n",
       "      <th>stock_code</th>\n",
       "      <th>description</th>\n",
       "      <th>country</th>\n",
       "    </tr>\n",
       "  </thead>\n",
       "  <tbody>\n",
       "    <tr>\n",
       "      <th>141</th>\n",
       "      <td>C536379</td>\n",
       "      <td>D</td>\n",
       "      <td>Discount</td>\n",
       "      <td>United Kingdom</td>\n",
       "    </tr>\n",
       "    <tr>\n",
       "      <th>2239</th>\n",
       "      <td>536569</td>\n",
       "      <td>M</td>\n",
       "      <td>Manual</td>\n",
       "      <td>United Kingdom</td>\n",
       "    </tr>\n",
       "    <tr>\n",
       "      <th>2250</th>\n",
       "      <td>536569</td>\n",
       "      <td>M</td>\n",
       "      <td>Manual</td>\n",
       "      <td>United Kingdom</td>\n",
       "    </tr>\n",
       "    <tr>\n",
       "      <th>6798</th>\n",
       "      <td>536981</td>\n",
       "      <td>M</td>\n",
       "      <td>Manual</td>\n",
       "      <td>United Kingdom</td>\n",
       "    </tr>\n",
       "    <tr>\n",
       "      <th>7976</th>\n",
       "      <td>537077</td>\n",
       "      <td>M</td>\n",
       "      <td>Manual</td>\n",
       "      <td>United Kingdom</td>\n",
       "    </tr>\n",
       "  </tbody>\n",
       "</table>\n",
       "</div>"
      ],
      "text/plain": [
       "     invoice_no stock_code description         country\n",
       "141     C536379          D    Discount  United Kingdom\n",
       "2239     536569          M      Manual  United Kingdom\n",
       "2250     536569          M      Manual  United Kingdom\n",
       "6798     536981          M      Manual  United Kingdom\n",
       "7976     537077          M      Manual  United Kingdom"
      ]
     },
     "execution_count": 129,
     "metadata": {},
     "output_type": "execute_result"
    }
   ],
   "source": [
    "cat_attributes.loc[cat_attributes['stock_code'].apply(lambda x: bool(re.search('^[a-zA-Z]$', x)))].head(5)"
   ]
  },
  {
   "cell_type": "markdown",
   "id": "48d79e83",
   "metadata": {},
   "source": [
    "# 2.0. Data Filtering"
   ]
  },
  {
   "cell_type": "code",
   "execution_count": 130,
   "id": "fb92a1c3",
   "metadata": {
    "ExecuteTime": {
     "end_time": "2022-03-24T23:23:04.183159Z",
     "start_time": "2022-03-24T23:23:04.165602Z"
    }
   },
   "outputs": [],
   "source": [
    "df2 = df1.copy()"
   ]
  },
  {
   "cell_type": "code",
   "execution_count": 153,
   "id": "8aa14c82",
   "metadata": {
    "ExecuteTime": {
     "end_time": "2022-03-24T23:38:53.616033Z",
     "start_time": "2022-03-24T23:38:53.499920Z"
    }
   },
   "outputs": [],
   "source": [
    "# ====================== Numeric Attributes ====================== \n",
    "\n",
    "#unit price > 0.00\n",
    "df2 = df2[df2['unit_price']>0.001]\n",
    "\n",
    "\n",
    "# cat_attributes.loc[cat_attributes['stock_code'].apply(lambda x: bool(re.search('[^0-9]', x))), 'stock_code'].unique()   \n",
    "\n",
    "# stock_code != ['BANK CHARGES', 'PADS', 'DOT', 'CRUK', 'POST', 'D', 'M']\n",
    "df2 = df2[-df2['stock_code'].isin(['BANK CHARGES', 'PADS', 'DOT', 'CRUK', 'POST', 'D', 'M', 'C2'])]\n",
    "\n",
    "#description \n",
    "\n",
    "#quantity - negative numbers mean return\n",
    "df_return = df2[df2['quantity']<0]\n",
    "df_purchase = df2[df2['quantity']>0]\n",
    "\n",
    "\n"
   ]
  },
  {
   "cell_type": "markdown",
   "id": "1faf41d9",
   "metadata": {},
   "source": [
    "# 3.0. Feature Engineering"
   ]
  },
  {
   "cell_type": "code",
   "execution_count": 154,
   "id": "fc8f74d9",
   "metadata": {
    "ExecuteTime": {
     "end_time": "2022-03-24T23:38:57.288525Z",
     "start_time": "2022-03-24T23:38:57.269154Z"
    }
   },
   "outputs": [],
   "source": [
    "df3 = df2.copy()"
   ]
  },
  {
   "cell_type": "markdown",
   "id": "21fc3686",
   "metadata": {},
   "source": [
    "## 2.1. Feature Creation"
   ]
  },
  {
   "cell_type": "code",
   "execution_count": 155,
   "id": "9f52017a",
   "metadata": {
    "ExecuteTime": {
     "end_time": "2022-03-24T23:38:58.392611Z",
     "start_time": "2022-03-24T23:38:58.370476Z"
    }
   },
   "outputs": [],
   "source": [
    "#data reference\n",
    "df_ref = df2.drop(['invoice_no', 'stock_code', 'description', 'quantity', 'invoice_date',\n",
    "       'unit_price', 'country'], axis=1).drop_duplicates(ignore_index=True)\n"
   ]
  },
  {
   "cell_type": "code",
   "execution_count": null,
   "id": "6385c17a",
   "metadata": {
    "ExecuteTime": {
     "end_time": "2022-03-24T20:59:48.933813Z",
     "start_time": "2022-03-24T20:59:48.933788Z"
    }
   },
   "outputs": [],
   "source": [
    "#gross revenue --> quantity * unit_price = Faturamento\n",
    "df3['gross_revenue'] = df3['quantity'] * df3['unit_price']\n",
    "\n",
    "#monetary\n",
    "df_monetary  = df3[['customer_id', 'gross_revenue']].groupby('customer_id').sum().reset_index()\n",
    "df_ref = pd.merge(df_ref, df_monetary, on='customer_id', how='left')\n",
    "\n",
    "#recency --> max date\n",
    "\n",
    "df_recency = df3[['customer_id', 'invoice_date']].groupby('customer_id').max().reset_index()\n",
    "df_recency['recency_days'] = (df3['invoice_date'].max() - df_recency['invoice_date']).dt.days\n",
    "df_recency  = df_recency[['customer_id', 'recency_days']].copy()\n",
    "df_ref = pd.merge(df_ref, df_recency, on='customer_id', how='left')\n",
    "\n",
    "#frequency \n",
    "df_freq = df3[['customer_id', 'invoice_no']].drop_duplicates().groupby('customer_id').count().reset_index()\n",
    "df_ref = pd.merge(df_ref, df_freq, on='customer_id', how='left')\n",
    "\n",
    "#avg ticket\n",
    "df_avgticket = df3[['customer_id', 'gross_revenue']].groupby('customer_id').mean().rename(columns={'gross_revenue':'avg_ticket'}).reset_index()\n",
    "df_ref = pd.merge(df_ref, df_avgticket, on='customer_id', how='left')\n",
    "\n",
    "\n"
   ]
  },
  {
   "cell_type": "code",
   "execution_count": null,
   "id": "6b510726",
   "metadata": {
    "ExecuteTime": {
     "end_time": "2022-03-24T20:59:48.935766Z",
     "start_time": "2022-03-24T20:59:48.935742Z"
    }
   },
   "outputs": [],
   "source": [
    "df_ref.head()"
   ]
  },
  {
   "cell_type": "markdown",
   "id": "28d41b3f",
   "metadata": {},
   "source": [
    "# 4.0. Exploratory Data Analisys"
   ]
  },
  {
   "cell_type": "code",
   "execution_count": null,
   "id": "4a95bea8",
   "metadata": {
    "ExecuteTime": {
     "end_time": "2022-03-24T20:59:48.938714Z",
     "start_time": "2022-03-24T20:59:48.938689Z"
    }
   },
   "outputs": [],
   "source": [
    "df4 = df3.copy()"
   ]
  },
  {
   "cell_type": "markdown",
   "id": "ce6df06b",
   "metadata": {},
   "source": [
    "# 5.0. Data Preparation"
   ]
  },
  {
   "cell_type": "code",
   "execution_count": null,
   "id": "dbd364df",
   "metadata": {
    "ExecuteTime": {
     "end_time": "2022-03-24T20:59:48.940523Z",
     "start_time": "2022-03-24T20:59:48.940498Z"
    }
   },
   "outputs": [],
   "source": [
    "df5 = df4.copy()"
   ]
  },
  {
   "cell_type": "markdown",
   "id": "d4128a99",
   "metadata": {},
   "source": [
    "# 6.0. Feature Selection"
   ]
  },
  {
   "cell_type": "code",
   "execution_count": null,
   "id": "8dae2b97",
   "metadata": {
    "ExecuteTime": {
     "end_time": "2022-03-24T20:59:48.942153Z",
     "start_time": "2022-03-24T20:59:48.942137Z"
    }
   },
   "outputs": [],
   "source": [
    "df6 = df5.copy()"
   ]
  },
  {
   "cell_type": "markdown",
   "id": "3a5efa79",
   "metadata": {},
   "source": [
    "# 7.0. Hyperparameter Fine-Tunning"
   ]
  },
  {
   "cell_type": "code",
   "execution_count": null,
   "id": "c26397a2",
   "metadata": {
    "ExecuteTime": {
     "end_time": "2022-03-24T20:59:48.943969Z",
     "start_time": "2022-03-24T20:59:48.943944Z"
    }
   },
   "outputs": [],
   "source": [
    "X = df6.drop('customer_id', axis=1)\n",
    "clusters = [2,3,4,5,6]"
   ]
  },
  {
   "cell_type": "markdown",
   "id": "df71ea90",
   "metadata": {},
   "source": [
    "## 7.1. Within-Cluster Sum of Squares (WSS)"
   ]
  },
  {
   "cell_type": "code",
   "execution_count": null,
   "id": "7ad28a40",
   "metadata": {
    "ExecuteTime": {
     "end_time": "2022-03-24T20:59:48.946075Z",
     "start_time": "2022-03-24T20:59:48.946052Z"
    },
    "cell_style": "split"
   },
   "outputs": [],
   "source": [
    "#Easy way\n",
    "\n",
    "kmeans = KElbowVisualizer(c.KMeans(), k=clusters, timings=False)\n",
    "kmeans.fit(X)\n",
    "kmeans.show();\n",
    "\n"
   ]
  },
  {
   "cell_type": "markdown",
   "id": "17176836",
   "metadata": {
    "cell_style": "split"
   },
   "source": [
    "## 7.2. Silhouette Score"
   ]
  },
  {
   "cell_type": "code",
   "execution_count": null,
   "id": "60799c2e",
   "metadata": {
    "ExecuteTime": {
     "end_time": "2022-03-24T20:59:48.947866Z",
     "start_time": "2022-03-24T20:59:48.947843Z"
    },
    "cell_style": "split"
   },
   "outputs": [],
   "source": [
    "#Easy way\n",
    "kmeans = KElbowVisualizer(c.KMeans(), k=clusters, metric = 'silhouette', timings = False)\n",
    "kmeans.fit(X)\n",
    "kmeans.show();"
   ]
  },
  {
   "cell_type": "markdown",
   "id": "36822b3f",
   "metadata": {},
   "source": [
    "# 8.0. Model Training"
   ]
  },
  {
   "cell_type": "markdown",
   "id": "9ab33cc5",
   "metadata": {},
   "source": [
    "## 8.1. KMeans"
   ]
  },
  {
   "cell_type": "code",
   "execution_count": null,
   "id": "bc448174",
   "metadata": {
    "ExecuteTime": {
     "end_time": "2022-03-24T20:59:48.949670Z",
     "start_time": "2022-03-24T20:59:48.949647Z"
    }
   },
   "outputs": [],
   "source": [
    "#model definition\n",
    "k = 4\n",
    "kmeans = c.KMeans(init='random', n_clusters=k, n_init=10, max_iter=300, random_state=3)\n",
    "\n",
    "#model training\n",
    "kmeans.fit(X)\n",
    "\n",
    "#clustering\n",
    "labels = kmeans.labels_"
   ]
  },
  {
   "cell_type": "markdown",
   "id": "499c010e",
   "metadata": {},
   "source": [
    "# 9.0. Cluster Analisys"
   ]
  },
  {
   "cell_type": "code",
   "execution_count": null,
   "id": "d1bad2df",
   "metadata": {
    "ExecuteTime": {
     "end_time": "2022-03-24T20:59:48.951214Z",
     "start_time": "2022-03-24T20:59:48.951197Z"
    }
   },
   "outputs": [],
   "source": [
    "df9 = df6.copy()\n",
    "df9['cluster'] = labels\n"
   ]
  },
  {
   "cell_type": "markdown",
   "id": "76d9bb0a",
   "metadata": {},
   "source": [
    "## 9.1. Visualization Inspection"
   ]
  },
  {
   "cell_type": "code",
   "execution_count": null,
   "id": "20b4bc71",
   "metadata": {
    "ExecuteTime": {
     "end_time": "2022-03-24T20:59:48.952629Z",
     "start_time": "2022-03-24T20:59:48.952611Z"
    }
   },
   "outputs": [],
   "source": [
    "\n",
    "\n",
    "visualizer = SilhouetteVisualizer(kmeans, colors='yellowbrick')\n",
    "visualizer.fit(X)\n",
    "visualizer.finalize()"
   ]
  },
  {
   "cell_type": "markdown",
   "id": "77b74bed",
   "metadata": {},
   "source": [
    "## 9.2. 2d Plot"
   ]
  },
  {
   "cell_type": "code",
   "execution_count": null,
   "id": "7d04f123",
   "metadata": {
    "ExecuteTime": {
     "end_time": "2022-03-24T20:59:48.953715Z",
     "start_time": "2022-03-24T20:59:48.953701Z"
    }
   },
   "outputs": [],
   "source": [
    "df_vis = df9.drop('customer_id', axis=1)\n",
    "sns.pairplot(df_vis, hue='cluster')\n",
    "\n"
   ]
  },
  {
   "cell_type": "markdown",
   "id": "e19b1e0b",
   "metadata": {},
   "source": [
    "## 9.3. UMAP t-SNE"
   ]
  },
  {
   "cell_type": "code",
   "execution_count": null,
   "id": "c049fe92",
   "metadata": {
    "ExecuteTime": {
     "end_time": "2022-03-24T20:59:48.955183Z",
     "start_time": "2022-03-24T20:59:48.955166Z"
    }
   },
   "outputs": [],
   "source": [
    "reducer = umap.UMAP(n_neighbors=20, random_state=3)\n",
    "embedding = reducer.fit_transform(X)\n",
    "\n",
    "df_vis['embedding_x'] = embedding[:,0]\n",
    "df_vis['embedding_y'] = embedding[:,1]\n",
    "sns.scatterplot(x='embedding_x', y='embedding_y', hue='cluster',\n",
    "              palette = sns.color_palette('hls', n_colors = len(df_vis['cluster'].unique())),\n",
    "               data = df_vis)"
   ]
  },
  {
   "cell_type": "markdown",
   "id": "907c7acd",
   "metadata": {},
   "source": [
    "## 9.1. Visualization Inspection"
   ]
  },
  {
   "cell_type": "code",
   "execution_count": null,
   "id": "1d3714f7",
   "metadata": {
    "ExecuteTime": {
     "end_time": "2022-03-24T20:59:48.956033Z",
     "start_time": "2022-03-24T20:59:48.956017Z"
    }
   },
   "outputs": [],
   "source": [
    "#WSS\n",
    "print('WSS: {}'.format(kmeans.inertia_))\n",
    "\n",
    "#SS\n",
    "print('SS: {}'.format(m.silhouette_score(X,labels, metric='euclidean')))"
   ]
  },
  {
   "cell_type": "code",
   "execution_count": null,
   "id": "4be05559",
   "metadata": {
    "ExecuteTime": {
     "end_time": "2022-03-24T20:59:48.957263Z",
     "start_time": "2022-03-24T20:59:48.957246Z"
    }
   },
   "outputs": [],
   "source": [
    "px.scatter_3d(df9, x='recency_days', y='invoice_no', z='gross_revenue', color='cluster')"
   ]
  },
  {
   "cell_type": "markdown",
   "id": "7cbbc97e",
   "metadata": {},
   "source": [
    "## 9.2. Cluster Profile"
   ]
  },
  {
   "cell_type": "code",
   "execution_count": null,
   "id": "9a08de16",
   "metadata": {
    "ExecuteTime": {
     "end_time": "2022-03-24T20:59:48.958417Z",
     "start_time": "2022-03-24T20:59:48.958402Z"
    }
   },
   "outputs": [],
   "source": [
    "aux1 = df9.groupby('cluster').mean().reset_index()\n",
    "\n",
    "aux1 = aux1.drop('customer_id', axis=1)\n",
    "aux2 = df9[['customer_id', 'cluster']].groupby('cluster').count().reset_index()\n",
    "\n",
    "df_cluster = pd.merge(aux1, aux2, on='cluster', how='left')\n"
   ]
  },
  {
   "cell_type": "code",
   "execution_count": null,
   "id": "a5708e52",
   "metadata": {
    "ExecuteTime": {
     "end_time": "2022-03-24T20:59:48.959651Z",
     "start_time": "2022-03-24T20:59:48.959635Z"
    }
   },
   "outputs": [],
   "source": [
    "df_cluster['perc'] = 100*df_cluster['customer_id']/df_cluster['customer_id'].sum()\n",
    "\n",
    "df_cluster"
   ]
  },
  {
   "cell_type": "markdown",
   "id": "6adcddbc",
   "metadata": {
    "ExecuteTime": {
     "end_time": "2022-03-23T17:54:06.985193Z",
     "start_time": "2022-03-23T17:54:06.939649Z"
    }
   },
   "source": [
    "## Cluster 0 (insiders)\n",
    "\n",
    "* Número de clientes: 6\n",
    "* Percentual de clientes: 0,01%\n",
    "* Faturamento médio: $182182\n",
    "* Recência: 7 dias\n",
    "* Frequência: 89 compras\n",
    "\n",
    "## Cluster 1 (Hibernating)\n",
    "\n",
    "* Número de clientes: 4335\n",
    "* Percentual de clientes: 99%\n",
    "* Faturamento: $1372\n",
    "* Recência: 92 dias\n",
    "* Frequência: 4 compras\n",
    "\n",
    "## Cluster 2 (potenciais clientes fieis)\n",
    "\n",
    "* Número de clientes: 31\n",
    "* Percentual de clientes: 0,07%\n",
    "* Faturamento: $40543\n",
    "* Recência: 13 dias\n",
    "* Frequência: 53 compras\n",
    "\n",
    "\n"
   ]
  },
  {
   "cell_type": "markdown",
   "id": "4ddafac4",
   "metadata": {},
   "source": [
    "# 10.0. Deploy to Production"
   ]
  },
  {
   "cell_type": "code",
   "execution_count": null,
   "id": "21a3d62c",
   "metadata": {},
   "outputs": [],
   "source": []
  },
  {
   "cell_type": "code",
   "execution_count": null,
   "id": "a3eb70ea",
   "metadata": {},
   "outputs": [],
   "source": []
  },
  {
   "cell_type": "code",
   "execution_count": null,
   "id": "933b0f52",
   "metadata": {},
   "outputs": [],
   "source": []
  },
  {
   "cell_type": "code",
   "execution_count": null,
   "id": "6ac64b06",
   "metadata": {},
   "outputs": [],
   "source": []
  },
  {
   "cell_type": "code",
   "execution_count": null,
   "id": "3ccaebf6",
   "metadata": {},
   "outputs": [],
   "source": []
  },
  {
   "cell_type": "code",
   "execution_count": null,
   "id": "823a287f",
   "metadata": {},
   "outputs": [],
   "source": []
  },
  {
   "cell_type": "code",
   "execution_count": null,
   "id": "b408343c",
   "metadata": {},
   "outputs": [],
   "source": []
  },
  {
   "cell_type": "code",
   "execution_count": null,
   "id": "e763c4f7",
   "metadata": {},
   "outputs": [],
   "source": []
  },
  {
   "cell_type": "code",
   "execution_count": null,
   "id": "c465f4c0",
   "metadata": {},
   "outputs": [],
   "source": []
  },
  {
   "cell_type": "code",
   "execution_count": null,
   "id": "87c00c6f",
   "metadata": {},
   "outputs": [],
   "source": []
  },
  {
   "cell_type": "code",
   "execution_count": null,
   "id": "eb431e86",
   "metadata": {},
   "outputs": [],
   "source": []
  },
  {
   "cell_type": "code",
   "execution_count": null,
   "id": "e007b51b",
   "metadata": {},
   "outputs": [],
   "source": []
  },
  {
   "cell_type": "code",
   "execution_count": null,
   "id": "db56a0a8",
   "metadata": {},
   "outputs": [],
   "source": []
  },
  {
   "cell_type": "code",
   "execution_count": null,
   "id": "0866a452",
   "metadata": {},
   "outputs": [],
   "source": []
  },
  {
   "cell_type": "code",
   "execution_count": null,
   "id": "32054ddd",
   "metadata": {},
   "outputs": [],
   "source": []
  },
  {
   "cell_type": "code",
   "execution_count": null,
   "id": "085a6cc1",
   "metadata": {},
   "outputs": [],
   "source": []
  },
  {
   "cell_type": "code",
   "execution_count": null,
   "id": "9aee84eb",
   "metadata": {},
   "outputs": [],
   "source": []
  },
  {
   "cell_type": "code",
   "execution_count": null,
   "id": "9ec5087f",
   "metadata": {},
   "outputs": [],
   "source": []
  }
 ],
 "metadata": {
  "kernelspec": {
   "display_name": "Python 3 (ipykernel)",
   "language": "python",
   "name": "python3"
  },
  "language_info": {
   "codemirror_mode": {
    "name": "ipython",
    "version": 3
   },
   "file_extension": ".py",
   "mimetype": "text/x-python",
   "name": "python",
   "nbconvert_exporter": "python",
   "pygments_lexer": "ipython3",
   "version": "3.8.10"
  }
 },
 "nbformat": 4,
 "nbformat_minor": 5
}
