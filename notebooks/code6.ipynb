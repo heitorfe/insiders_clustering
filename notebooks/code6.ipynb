{
 "cells": [
  {
   "cell_type": "markdown",
   "id": "debfd19c",
   "metadata": {
    "heading_collapsed": true
   },
   "source": [
    "# PA005: High Value Customer Identification (Insiders)"
   ]
  },
  {
   "cell_type": "markdown",
   "id": "cfd50e87",
   "metadata": {
    "ExecuteTime": {
     "end_time": "2022-03-22T20:07:48.369323Z",
     "start_time": "2022-03-22T20:07:47.915832Z"
    },
    "hidden": true
   },
   "source": [
    "## Ciclo 0 -  Planejamento da solução (IOT)"
   ]
  },
  {
   "cell_type": "markdown",
   "id": "9c541162",
   "metadata": {
    "ExecuteTime": {
     "end_time": "2022-03-22T20:07:48.369323Z",
     "start_time": "2022-03-22T20:07:47.915832Z"
    },
    "hidden": true
   },
   "source": [
    "## Ciclo 1 -  Métricas de Validação de Clusters"
   ]
  },
  {
   "cell_type": "markdown",
   "id": "168bcc5f",
   "metadata": {
    "hidden": true
   },
   "source": [
    "1. Feature Engineering\n",
    "* Recency\n",
    "* Frequency\n",
    "* Monetary\n",
    "\n",
    "2. Métricas de Validação de clusters\n",
    "* WSS - (Within-Cluster Sum of Squares)\n",
    "* SS - (Silhouette Score)\n",
    "\n",
    "3. Cluster Analisys\n",
    "* Plot 3d\n",
    "* Cluster profile"
   ]
  },
  {
   "cell_type": "markdown",
   "id": "d22eee11",
   "metadata": {
    "ExecuteTime": {
     "end_time": "2022-03-22T20:07:48.369323Z",
     "start_time": "2022-03-22T20:07:47.915832Z"
    },
    "hidden": true
   },
   "source": [
    "## Ciclo 2 - Análise de Silhouette"
   ]
  },
  {
   "cell_type": "markdown",
   "id": "1df301e0",
   "metadata": {
    "hidden": true
   },
   "source": [
    "1. Feature Engineering\n",
    "* Average Ticket\n",
    "\n",
    "\n",
    "2. Análise de Silhouette\n",
    "* Silhouette Analysis\n",
    "\n",
    "\n",
    "3. Clustering visualization\n",
    "* UMAP\n",
    "\n",
    "\n",
    "4. Cluster análise de perfil\n",
    "* Descrição dos centroides dos clusters"
   ]
  },
  {
   "cell_type": "markdown",
   "id": "9ca480ab",
   "metadata": {
    "ExecuteTime": {
     "end_time": "2022-03-22T20:07:48.369323Z",
     "start_time": "2022-03-22T20:07:47.915832Z"
    },
    "heading_collapsed": true,
    "hidden": true
   },
   "source": [
    "## Ciclo 3 - Feature Engineering I"
   ]
  },
  {
   "cell_type": "markdown",
   "id": "5af0be62",
   "metadata": {
    "ExecuteTime": {
     "end_time": "2022-03-22T20:07:48.369323Z",
     "start_time": "2022-03-22T20:07:47.915832Z"
    },
    "heading_collapsed": true,
    "hidden": true
   },
   "source": [
    "## Ciclo 4 - Feature Engineering II"
   ]
  },
  {
   "cell_type": "markdown",
   "id": "980b38df",
   "metadata": {
    "ExecuteTime": {
     "end_time": "2022-03-22T20:07:48.369323Z",
     "start_time": "2022-03-22T20:07:47.915832Z"
    },
    "hidden": true
   },
   "source": [
    "## Ciclo 5 - EDA I"
   ]
  },
  {
   "cell_type": "markdown",
   "id": "987a4e58",
   "metadata": {
    "hidden": true
   },
   "source": [
    "1. Feature Engineering\n",
    "* Criando, organizando e tratando novas features\n",
    "\n",
    "2. EDA\n",
    "* Checando e corrigindo features\n",
    "* Criando report com o profile\n",
    "\n"
   ]
  },
  {
   "cell_type": "markdown",
   "id": "92c2135d",
   "metadata": {
    "hidden": true
   },
   "source": [
    "## Input - Entrada"
   ]
  },
  {
   "cell_type": "markdown",
   "id": "8524a40a",
   "metadata": {
    "ExecuteTime": {
     "end_time": "2022-03-22T20:13:17.225841Z",
     "start_time": "2022-03-22T20:13:17.221201Z"
    },
    "hidden": true
   },
   "source": [
    "1. Problema de negócio\n",
    "\n",
    "    --Selecionar os clientes mais valiosos para integrar um programa de fidelização\n",
    "    \n",
    "2. Conjunto de dados\n",
    "\n",
    "    --Vendas de um e-commerce, durante um período de um ano"
   ]
  },
  {
   "cell_type": "markdown",
   "id": "f9412214",
   "metadata": {
    "hidden": true
   },
   "source": [
    "## Output - Saída"
   ]
  },
  {
   "cell_type": "markdown",
   "id": "6971ca6e",
   "metadata": {
    "hidden": true
   },
   "source": [
    "1. A idicação de clientes que farão parte do programa de Insiders\n",
    "\n",
    "    --Lista: client_id | is_insider\n",
    "            455534     | yes\n",
    "            433524     | no\n",
    "            \n",
    "2. Relatório com as respostas das perguntas de negócios\n",
    "\n",
    "    2.0. Quem são as pessoas elegíveis para fazer parte do grupo de Insiders?\n",
    "\n",
    "    2.1. Quantos clientes farão parte do grupo?\n",
    "    \n",
    "    2.2. Quais as principais características desses clientes?\n",
    "    \n",
    "    2.3. Qual a porcentagem de contribuição do faturamento vindo dos Insiders?\n",
    "    \n",
    "    2.4. Qual a expectativa de faturamento desse grupo para os próximos meses?\n",
    "    \n",
    "    2.5. Quais as condições para umma pessoa ser elegível ao Insiders?\n",
    "    \n",
    "    2.6. Quais as condições para umma pessoa ser removida do Insiders?\n",
    "    \n",
    "    2.7. Qual a garantia que o programa Insiders é melhor que o restante da base?\n",
    "    \n",
    "    2.8. Quais ações o time de marketing pode realizar para aumentar o faturamento?\n",
    "    \n",
    "    "
   ]
  },
  {
   "cell_type": "markdown",
   "id": "52ba385b",
   "metadata": {
    "hidden": true
   },
   "source": [
    "## Tasks - Tarefas"
   ]
  },
  {
   "cell_type": "markdown",
   "id": "01b7e6be",
   "metadata": {
    "hidden": true
   },
   "source": [
    "    0. Quem são as pessoas elegíveis para fazer parte do grupo de Insiders?  \n",
    "        - O que são clientes de maior \"valor\"?\n",
    "        - Faturamento\n",
    "            - Alto ticket médio\n",
    "            - Alto LTV\n",
    "            - Baixa recência\n",
    "            - Baixa probabilidade de churn\n",
    "            - Alto basket size\n",
    "            - Alta previsão LTV\n",
    "            - Alta propensão de compra\n",
    "            \n",
    "        - Custo\n",
    "            - Baixa taxa de devolução\n",
    "            \n",
    "        - Experiência de compra\n",
    "            - Média alta das avaliações\n",
    "    \n",
    "    1. Quantos clientes farão parte do grupo?\n",
    "        - Número total de clientes\n",
    "        - % do grupo de Insiders\n",
    "    \n",
    "    2. Quais as principais características desses clientes?\n",
    "        -Características dos clientes:\n",
    "            - Idade\n",
    "            - Localização\n",
    "            \n",
    "        - Características de consumo:\n",
    "            - Atributos da clusterização\n",
    "        \n",
    "    \n",
    "    3. Qual a porcentagem de contribuição do faturamento vindo dos Insiders?\n",
    "            - Faturamento do ano\n",
    "            - Faturamento dos Insiders\n",
    "    \n",
    "    4. Qual a expectativa de faturamento desse grupo para os próximos meses?\n",
    "            - LTV do grupo Insiders\n",
    "            - Análise de Cohort\n",
    "    \n",
    "    5. Quais as condições para umma pessoa ser elegível ao Insiders?\n",
    "            - Definir periodicidade\n",
    "            - A pessoa precisa ser similar ou parecido com uma pessoa do grupo\n",
    "            \n",
    "    6. Quais as condições para umma pessoa ser removida do Insiders?\n",
    "            - Definir periodicidade\n",
    "            - A pessoa precisa ser dissimilar ou parecido com uma pessoa do grupo\n",
    "            \n",
    "    7. Qual a garantia que o programa Insiders é melhor que o restante da base?\n",
    "            - Teste A/B\n",
    "            - Teste A/B Bayesiano\n",
    "            - Teste de hipóteses\n",
    "    \n",
    "    8. Quais ações o time de marketing pode realizar para aumentar o faturamento?\n",
    "            - Desconto\n",
    "            - Preferência de compra\n",
    "            - Frente\n",
    "            - Visita a empresa"
   ]
  },
  {
   "cell_type": "markdown",
   "id": "93430148",
   "metadata": {
    "hidden": true
   },
   "source": [
    "## Benchmark de soluções"
   ]
  },
  {
   "cell_type": "markdown",
   "id": "68a75fe6",
   "metadata": {
    "hidden": true
   },
   "source": [
    "### 1. Desk research"
   ]
  },
  {
   "cell_type": "markdown",
   "id": "26b606ea",
   "metadata": {
    "hidden": true
   },
   "source": [
    "Modelo RFM\n",
    "1. Recency\n",
    "    a) Tempo desde a última compra\n",
    "    b) Responsividade\n",
    "\n",
    "2. Frequency\n",
    "    a) Tempo médio entre as transações\n",
    "    b) Engajamento\n",
    "    \n",
    "3. Monetary \n",
    "    a) Total gasto, faturamento\n",
    "    b) 'High-value purchases'"
   ]
  },
  {
   "cell_type": "markdown",
   "id": "9489f164",
   "metadata": {},
   "source": [
    "# 0.0. Imports"
   ]
  },
  {
   "cell_type": "code",
   "execution_count": 72,
   "id": "bfab7447",
   "metadata": {
    "ExecuteTime": {
     "end_time": "2022-03-26T21:27:11.176018Z",
     "start_time": "2022-03-26T21:27:11.171258Z"
    }
   },
   "outputs": [],
   "source": [
    "\n",
    "from yellowbrick.cluster import KElbowVisualizer\n",
    "from yellowbrick.cluster import SilhouetteVisualizer\n",
    "from sklearn.manifold import TSNE\n",
    "\n",
    "from matplotlib          import pyplot        as plt\n",
    "from sklearn             import cluster       as c\n",
    "from sklearn             import metrics       as m\n",
    "from sklearn             import preprocessing as pp\n",
    "from sklearn             import decomposition as dd\n",
    "from sklearn             import ensemble      as en\n",
    "from plotly              import express       as px\n",
    "from pandas_profiling    import ProfileReport\n",
    "\n",
    "import pandas as pd\n",
    "import seaborn as sns\n",
    "import numpy as np\n",
    "\n",
    "import re"
   ]
  },
  {
   "cell_type": "code",
   "execution_count": 2,
   "id": "e5858e03",
   "metadata": {
    "ExecuteTime": {
     "end_time": "2022-03-26T21:06:02.357767Z",
     "start_time": "2022-03-26T21:05:57.474894Z"
    }
   },
   "outputs": [],
   "source": [
    "import umap.umap_ as umap\n"
   ]
  },
  {
   "cell_type": "code",
   "execution_count": null,
   "id": "561d3bfa",
   "metadata": {
    "ExecuteTime": {
     "end_time": "2022-03-23T20:33:54.929243Z",
     "start_time": "2022-03-23T20:33:52.994990Z"
    }
   },
   "outputs": [],
   "source": []
  },
  {
   "cell_type": "markdown",
   "id": "944d041a",
   "metadata": {},
   "source": [
    "## 0.2. Helper Functions"
   ]
  },
  {
   "cell_type": "code",
   "execution_count": 57,
   "id": "3fd76676",
   "metadata": {
    "ExecuteTime": {
     "end_time": "2022-03-26T21:13:03.900150Z",
     "start_time": "2022-03-26T21:13:03.888423Z"
    }
   },
   "outputs": [],
   "source": [
    "pd.set_option('display.float_format', lambda x: '%.4f' % x)\n",
    "%matplotlib inline\n",
    "def num_attributes(df1):\n",
    "    \n",
    "    num_attributes = df1.select_dtypes(['int64', 'float64'])\n",
    "\n",
    "    #central tendency\n",
    "    ct1 = pd.DataFrame(num_attributes.apply(np.mean)).T\n",
    "    ct2 = pd.DataFrame(num_attributes.apply(np.median)).T\n",
    "\n",
    "    #dispersion\n",
    "    d1 = pd.DataFrame(num_attributes.apply(np.min)).T\n",
    "    d2 = pd.DataFrame(num_attributes.apply(np.max)).T\n",
    "    d3 = pd.DataFrame(num_attributes.apply(lambda x: x.max() - x.min())).T\n",
    "    d4 = pd.DataFrame(num_attributes.apply(np.std)).T\n",
    "    d5 = pd.DataFrame(num_attributes.apply(lambda x: x.skew())).T\n",
    "    d6 = pd.DataFrame(num_attributes.apply(lambda x: x.kurtosis())).T\n",
    "\n",
    "    m = pd.concat( [d1, d2, d3, ct1, ct2, d4, d5, d6] ).T.reset_index()\n",
    "    m.columns = ['attributes', 'min', 'max', 'range', 'mean', 'median', 'std','skew', 'kurtosis']\n",
    "    return m"
   ]
  },
  {
   "cell_type": "markdown",
   "id": "3a4d4f04",
   "metadata": {},
   "source": [
    "## 0.3. Load Data"
   ]
  },
  {
   "cell_type": "code",
   "execution_count": 4,
   "id": "1f060a95",
   "metadata": {
    "ExecuteTime": {
     "end_time": "2022-03-26T21:06:03.699611Z",
     "start_time": "2022-03-26T21:06:02.374352Z"
    }
   },
   "outputs": [],
   "source": [
    "df_raw = pd.read_csv(r'../data/Ecommerce.csv')\n"
   ]
  },
  {
   "cell_type": "markdown",
   "id": "8182c343",
   "metadata": {},
   "source": [
    "# 1.0. Data Description"
   ]
  },
  {
   "cell_type": "code",
   "execution_count": 5,
   "id": "b3131385",
   "metadata": {
    "ExecuteTime": {
     "end_time": "2022-03-26T21:06:03.733290Z",
     "start_time": "2022-03-26T21:06:03.701103Z"
    }
   },
   "outputs": [],
   "source": [
    "df1 = df_raw.copy()"
   ]
  },
  {
   "cell_type": "markdown",
   "id": "39437f33",
   "metadata": {},
   "source": [
    "## 1.1. Rename Columns"
   ]
  },
  {
   "cell_type": "code",
   "execution_count": 6,
   "id": "00fc26d3",
   "metadata": {
    "ExecuteTime": {
     "end_time": "2022-03-26T21:06:04.212553Z",
     "start_time": "2022-03-26T21:06:03.734951Z"
    }
   },
   "outputs": [
    {
     "data": {
      "text/plain": [
       "Index(['InvoiceNo', 'StockCode', 'Description', 'Quantity', 'InvoiceDate',\n",
       "       'UnitPrice', 'CustomerID', 'Country'],\n",
       "      dtype='object')"
      ]
     },
     "execution_count": 6,
     "metadata": {},
     "output_type": "execute_result"
    }
   ],
   "source": [
    "df1.columns"
   ]
  },
  {
   "cell_type": "code",
   "execution_count": 7,
   "id": "2a05f0ff",
   "metadata": {
    "ExecuteTime": {
     "end_time": "2022-03-26T21:06:04.315103Z",
     "start_time": "2022-03-26T21:06:04.215080Z"
    }
   },
   "outputs": [],
   "source": [
    "df1.columns = ['invoice_no', 'stock_code', 'description', 'quantity', 'invoice_date',\n",
    "       'unit_price', 'customer_id', 'country']"
   ]
  },
  {
   "cell_type": "markdown",
   "id": "775005e2",
   "metadata": {},
   "source": [
    "## 1.2. Data Shape"
   ]
  },
  {
   "cell_type": "code",
   "execution_count": 8,
   "id": "a76ce76d",
   "metadata": {
    "ExecuteTime": {
     "end_time": "2022-03-26T21:06:04.414464Z",
     "start_time": "2022-03-26T21:06:04.316701Z"
    }
   },
   "outputs": [
    {
     "name": "stdout",
     "output_type": "stream",
     "text": [
      "Number of rows: 541909\n",
      "Number of columns: 8\n"
     ]
    }
   ],
   "source": [
    "print(f'Number of rows: {df1.shape[0]}')\n",
    "print(f'Number of columns: {df1.shape[1]}')"
   ]
  },
  {
   "cell_type": "markdown",
   "id": "cee652c4",
   "metadata": {},
   "source": [
    "## 1.3. Data Types"
   ]
  },
  {
   "cell_type": "code",
   "execution_count": 9,
   "id": "a7e20e2d",
   "metadata": {
    "ExecuteTime": {
     "end_time": "2022-03-26T21:06:04.530953Z",
     "start_time": "2022-03-26T21:06:04.416776Z"
    }
   },
   "outputs": [
    {
     "data": {
      "text/plain": [
       "invoice_no       object\n",
       "stock_code       object\n",
       "description      object\n",
       "quantity          int64\n",
       "invoice_date     object\n",
       "unit_price      float64\n",
       "customer_id     float64\n",
       "country          object\n",
       "dtype: object"
      ]
     },
     "execution_count": 9,
     "metadata": {},
     "output_type": "execute_result"
    }
   ],
   "source": [
    "df1.dtypes"
   ]
  },
  {
   "cell_type": "markdown",
   "id": "04839175",
   "metadata": {},
   "source": [
    "## 1.4. Check NAs\n"
   ]
  },
  {
   "cell_type": "code",
   "execution_count": 10,
   "id": "b48f1f36",
   "metadata": {
    "ExecuteTime": {
     "end_time": "2022-03-26T21:06:04.993391Z",
     "start_time": "2022-03-26T21:06:04.536227Z"
    }
   },
   "outputs": [
    {
     "data": {
      "text/plain": [
       "invoice_no           0\n",
       "stock_code           0\n",
       "description       1454\n",
       "quantity             0\n",
       "invoice_date         0\n",
       "unit_price           0\n",
       "customer_id     135080\n",
       "country              0\n",
       "dtype: int64"
      ]
     },
     "execution_count": 10,
     "metadata": {},
     "output_type": "execute_result"
    }
   ],
   "source": [
    "df1.isna().sum()"
   ]
  },
  {
   "cell_type": "markdown",
   "id": "d7b465fd",
   "metadata": {},
   "source": [
    "## 1.5. Fill NAs"
   ]
  },
  {
   "cell_type": "code",
   "execution_count": 11,
   "id": "e554c65f",
   "metadata": {
    "ExecuteTime": {
     "end_time": "2022-03-26T21:06:05.131457Z",
     "start_time": "2022-03-26T21:06:04.994949Z"
    }
   },
   "outputs": [],
   "source": [
    "#remove na\n",
    "df_missing = df1[df1['customer_id'].isna()]\n",
    "df_not_missing = df1[-df1['customer_id'].isna()]\n",
    "\n"
   ]
  },
  {
   "cell_type": "code",
   "execution_count": 12,
   "id": "1a48598d",
   "metadata": {
    "ExecuteTime": {
     "end_time": "2022-03-26T21:06:05.145889Z",
     "start_time": "2022-03-26T21:06:05.133178Z"
    }
   },
   "outputs": [
    {
     "data": {
      "text/plain": [
       "135080"
      ]
     },
     "execution_count": 12,
     "metadata": {},
     "output_type": "execute_result"
    }
   ],
   "source": [
    "len(df_missing)"
   ]
  },
  {
   "cell_type": "code",
   "execution_count": 13,
   "id": "2a139401",
   "metadata": {
    "ExecuteTime": {
     "end_time": "2022-03-26T21:06:05.249136Z",
     "start_time": "2022-03-26T21:06:05.148100Z"
    }
   },
   "outputs": [
    {
     "data": {
      "text/plain": [
       "406829"
      ]
     },
     "execution_count": 13,
     "metadata": {},
     "output_type": "execute_result"
    }
   ],
   "source": [
    "len(df_not_missing)"
   ]
  },
  {
   "cell_type": "code",
   "execution_count": 14,
   "id": "b336b03c",
   "metadata": {
    "ExecuteTime": {
     "end_time": "2022-03-26T21:06:05.719138Z",
     "start_time": "2022-03-26T21:06:05.256222Z"
    }
   },
   "outputs": [],
   "source": [
    "#create reference\n",
    "df_backup = pd.DataFrame(df_missing['invoice_no'].drop_duplicates())\n",
    "df_backup['customer_id'] = np.arange(19000, 19000+len(df_backup),1)\n",
    "df_backup.head()\n",
    "\n",
    "#merge\n",
    "df1 = pd.merge(df1, df_backup, on='invoice_no', how='left')\n",
    "\n",
    "#coalesce\n",
    "df1['customer_id'] = df1['customer_id_x'].combine_first(df1['customer_id_y'])\n",
    "\n",
    "#drop extra columns\n",
    "df1 = df1.drop(['customer_id_x', 'customer_id_y'], axis=1)\n",
    "\n",
    "\n"
   ]
  },
  {
   "cell_type": "code",
   "execution_count": 15,
   "id": "3e7a909a",
   "metadata": {
    "ExecuteTime": {
     "end_time": "2022-03-26T21:06:06.041796Z",
     "start_time": "2022-03-26T21:06:05.721033Z"
    }
   },
   "outputs": [
    {
     "data": {
      "text/plain": [
       "invoice_no         0\n",
       "stock_code         0\n",
       "description     1454\n",
       "quantity           0\n",
       "invoice_date       0\n",
       "unit_price         0\n",
       "country            0\n",
       "customer_id        0\n",
       "dtype: int64"
      ]
     },
     "execution_count": 15,
     "metadata": {},
     "output_type": "execute_result"
    }
   ],
   "source": [
    "df1.isna().sum()"
   ]
  },
  {
   "cell_type": "markdown",
   "id": "4260f86c",
   "metadata": {},
   "source": [
    "## 1.6. Change dtypes"
   ]
  },
  {
   "cell_type": "code",
   "execution_count": 16,
   "id": "464e637e",
   "metadata": {
    "ExecuteTime": {
     "end_time": "2022-03-26T21:06:06.238713Z",
     "start_time": "2022-03-26T21:06:06.043512Z"
    }
   },
   "outputs": [
    {
     "data": {
      "text/plain": [
       "invoice_no       object\n",
       "stock_code       object\n",
       "description      object\n",
       "quantity          int64\n",
       "invoice_date     object\n",
       "unit_price      float64\n",
       "country          object\n",
       "customer_id     float64\n",
       "dtype: object"
      ]
     },
     "execution_count": 16,
     "metadata": {},
     "output_type": "execute_result"
    }
   ],
   "source": [
    "df1.dtypes"
   ]
  },
  {
   "cell_type": "code",
   "execution_count": 17,
   "id": "03324ef2",
   "metadata": {
    "ExecuteTime": {
     "end_time": "2022-03-26T21:06:06.746422Z",
     "start_time": "2022-03-26T21:06:06.241070Z"
    }
   },
   "outputs": [
    {
     "data": {
      "text/plain": [
       "invoice_no              object\n",
       "stock_code              object\n",
       "description             object\n",
       "quantity                 int64\n",
       "invoice_date    datetime64[ns]\n",
       "unit_price             float64\n",
       "country                 object\n",
       "customer_id              int64\n",
       "dtype: object"
      ]
     },
     "execution_count": 17,
     "metadata": {},
     "output_type": "execute_result"
    }
   ],
   "source": [
    "#invoice_no \n",
    "# df1['invoice_no'] = df1['invoice_no'].astype(int)\n",
    "\n",
    "\n",
    "#stock_code \n",
    "# df1['stock_code'] = df1['stock_code'].astype(int)\n",
    "\n",
    "\n",
    "#invoice_date  --> Month --> b\n",
    "df1['invoice_date'] = pd.to_datetime(df1['invoice_date'], format=('%d-%b-%y'))\n",
    "\n",
    "\n",
    "#customer_id\n",
    "df1['customer_id'] = df1['customer_id'].astype(int)\n",
    "df1.dtypes"
   ]
  },
  {
   "cell_type": "markdown",
   "id": "ec38e084",
   "metadata": {},
   "source": [
    "## 1.7. Descriptive statistics"
   ]
  },
  {
   "cell_type": "code",
   "execution_count": 18,
   "id": "9ced28d5",
   "metadata": {
    "ExecuteTime": {
     "end_time": "2022-03-26T21:06:07.520177Z",
     "start_time": "2022-03-26T21:06:06.748299Z"
    }
   },
   "outputs": [],
   "source": [
    "num_attributes = df1.select_dtypes(['int64', 'float64'])\n",
    "cat_attributes = df1.select_dtypes(exclude = ['int64', 'float64', 'datetime64[ns]'])"
   ]
  },
  {
   "cell_type": "markdown",
   "id": "849a9083",
   "metadata": {},
   "source": [
    "### 1.7.1. Numerical Attributes"
   ]
  },
  {
   "cell_type": "code",
   "execution_count": 19,
   "id": "7e906985",
   "metadata": {
    "ExecuteTime": {
     "end_time": "2022-03-26T21:06:07.919049Z",
     "start_time": "2022-03-26T21:06:07.525618Z"
    }
   },
   "outputs": [
    {
     "data": {
      "text/html": [
       "<div>\n",
       "<style scoped>\n",
       "    .dataframe tbody tr th:only-of-type {\n",
       "        vertical-align: middle;\n",
       "    }\n",
       "\n",
       "    .dataframe tbody tr th {\n",
       "        vertical-align: top;\n",
       "    }\n",
       "\n",
       "    .dataframe thead th {\n",
       "        text-align: right;\n",
       "    }\n",
       "</style>\n",
       "<table border=\"1\" class=\"dataframe\">\n",
       "  <thead>\n",
       "    <tr style=\"text-align: right;\">\n",
       "      <th></th>\n",
       "      <th>attributes</th>\n",
       "      <th>min</th>\n",
       "      <th>max</th>\n",
       "      <th>range</th>\n",
       "      <th>mean</th>\n",
       "      <th>median</th>\n",
       "      <th>std</th>\n",
       "      <th>skew</th>\n",
       "      <th>kurtosis</th>\n",
       "    </tr>\n",
       "  </thead>\n",
       "  <tbody>\n",
       "    <tr>\n",
       "      <th>0</th>\n",
       "      <td>quantity</td>\n",
       "      <td>-80995.0000</td>\n",
       "      <td>80995.0000</td>\n",
       "      <td>161990.0000</td>\n",
       "      <td>9.5522</td>\n",
       "      <td>3.0000</td>\n",
       "      <td>218.0810</td>\n",
       "      <td>-0.2641</td>\n",
       "      <td>119769.1600</td>\n",
       "    </tr>\n",
       "    <tr>\n",
       "      <th>1</th>\n",
       "      <td>unit_price</td>\n",
       "      <td>-11062.0600</td>\n",
       "      <td>38970.0000</td>\n",
       "      <td>50032.0600</td>\n",
       "      <td>4.6111</td>\n",
       "      <td>2.0800</td>\n",
       "      <td>96.7598</td>\n",
       "      <td>186.5070</td>\n",
       "      <td>59005.7198</td>\n",
       "    </tr>\n",
       "    <tr>\n",
       "      <th>2</th>\n",
       "      <td>customer_id</td>\n",
       "      <td>12346.0000</td>\n",
       "      <td>22709.0000</td>\n",
       "      <td>10363.0000</td>\n",
       "      <td>16688.8405</td>\n",
       "      <td>16249.0000</td>\n",
       "      <td>2911.4087</td>\n",
       "      <td>0.4874</td>\n",
       "      <td>-0.8043</td>\n",
       "    </tr>\n",
       "  </tbody>\n",
       "</table>\n",
       "</div>"
      ],
      "text/plain": [
       "    attributes         min        max       range       mean     median  \\\n",
       "0     quantity -80995.0000 80995.0000 161990.0000     9.5522     3.0000   \n",
       "1   unit_price -11062.0600 38970.0000  50032.0600     4.6111     2.0800   \n",
       "2  customer_id  12346.0000 22709.0000  10363.0000 16688.8405 16249.0000   \n",
       "\n",
       "        std     skew    kurtosis  \n",
       "0  218.0810  -0.2641 119769.1600  \n",
       "1   96.7598 186.5070  59005.7198  \n",
       "2 2911.4087   0.4874     -0.8043  "
      ]
     },
     "execution_count": 19,
     "metadata": {},
     "output_type": "execute_result"
    }
   ],
   "source": [
    "num_attributes = df1.select_dtypes(['int64', 'float64'])\n",
    "\n",
    "#central tendency\n",
    "ct1 = pd.DataFrame(num_attributes.apply(np.mean)).T\n",
    "ct2 = pd.DataFrame(num_attributes.apply(np.median)).T\n",
    "\n",
    "#dispersion\n",
    "d1 = pd.DataFrame(num_attributes.apply(np.min)).T\n",
    "d2 = pd.DataFrame(num_attributes.apply(np.max)).T\n",
    "d3 = pd.DataFrame(num_attributes.apply(lambda x: x.max() - x.min())).T\n",
    "d4 = pd.DataFrame(num_attributes.apply(np.std)).T\n",
    "d5 = pd.DataFrame(num_attributes.apply(lambda x: x.skew())).T\n",
    "d6 = pd.DataFrame(num_attributes.apply(lambda x: x.kurtosis())).T\n",
    "\n",
    "m = pd.concat( [d1, d2, d3, ct1, ct2, d4, d5, d6] ).T.reset_index()\n",
    "m.columns = ['attributes', 'min', 'max', 'range', 'mean', 'median', 'std','skew', 'kurtosis']\n",
    "m"
   ]
  },
  {
   "cell_type": "markdown",
   "id": "5a07d7de",
   "metadata": {},
   "source": [
    "#### 1.7.1.1 Investigating"
   ]
  },
  {
   "cell_type": "markdown",
   "id": "85ede4cc",
   "metadata": {
    "ExecuteTime": {
     "end_time": "2022-03-24T21:15:49.659102Z",
     "start_time": "2022-03-24T21:15:49.643555Z"
    }
   },
   "source": [
    "1. Negative quantity (devolution?)\n",
    "2. Price = 0 (Promo?)"
   ]
  },
  {
   "cell_type": "markdown",
   "id": "fd46a106",
   "metadata": {},
   "source": [
    "## 1.7.2. Categorical Attributes"
   ]
  },
  {
   "cell_type": "code",
   "execution_count": 20,
   "id": "e69d5e29",
   "metadata": {
    "ExecuteTime": {
     "end_time": "2022-03-26T21:06:07.929556Z",
     "start_time": "2022-03-26T21:06:07.920889Z"
    }
   },
   "outputs": [
    {
     "data": {
      "text/html": [
       "<div>\n",
       "<style scoped>\n",
       "    .dataframe tbody tr th:only-of-type {\n",
       "        vertical-align: middle;\n",
       "    }\n",
       "\n",
       "    .dataframe tbody tr th {\n",
       "        vertical-align: top;\n",
       "    }\n",
       "\n",
       "    .dataframe thead th {\n",
       "        text-align: right;\n",
       "    }\n",
       "</style>\n",
       "<table border=\"1\" class=\"dataframe\">\n",
       "  <thead>\n",
       "    <tr style=\"text-align: right;\">\n",
       "      <th></th>\n",
       "      <th>invoice_no</th>\n",
       "      <th>stock_code</th>\n",
       "      <th>description</th>\n",
       "      <th>country</th>\n",
       "    </tr>\n",
       "  </thead>\n",
       "  <tbody>\n",
       "    <tr>\n",
       "      <th>0</th>\n",
       "      <td>536365</td>\n",
       "      <td>85123A</td>\n",
       "      <td>WHITE HANGING HEART T-LIGHT HOLDER</td>\n",
       "      <td>United Kingdom</td>\n",
       "    </tr>\n",
       "    <tr>\n",
       "      <th>1</th>\n",
       "      <td>536365</td>\n",
       "      <td>71053</td>\n",
       "      <td>WHITE METAL LANTERN</td>\n",
       "      <td>United Kingdom</td>\n",
       "    </tr>\n",
       "    <tr>\n",
       "      <th>2</th>\n",
       "      <td>536365</td>\n",
       "      <td>84406B</td>\n",
       "      <td>CREAM CUPID HEARTS COAT HANGER</td>\n",
       "      <td>United Kingdom</td>\n",
       "    </tr>\n",
       "    <tr>\n",
       "      <th>3</th>\n",
       "      <td>536365</td>\n",
       "      <td>84029G</td>\n",
       "      <td>KNITTED UNION FLAG HOT WATER BOTTLE</td>\n",
       "      <td>United Kingdom</td>\n",
       "    </tr>\n",
       "    <tr>\n",
       "      <th>4</th>\n",
       "      <td>536365</td>\n",
       "      <td>84029E</td>\n",
       "      <td>RED WOOLLY HOTTIE WHITE HEART.</td>\n",
       "      <td>United Kingdom</td>\n",
       "    </tr>\n",
       "  </tbody>\n",
       "</table>\n",
       "</div>"
      ],
      "text/plain": [
       "  invoice_no stock_code                          description         country\n",
       "0     536365     85123A   WHITE HANGING HEART T-LIGHT HOLDER  United Kingdom\n",
       "1     536365      71053                  WHITE METAL LANTERN  United Kingdom\n",
       "2     536365     84406B       CREAM CUPID HEARTS COAT HANGER  United Kingdom\n",
       "3     536365     84029G  KNITTED UNION FLAG HOT WATER BOTTLE  United Kingdom\n",
       "4     536365     84029E       RED WOOLLY HOTTIE WHITE HEART.  United Kingdom"
      ]
     },
     "execution_count": 20,
     "metadata": {},
     "output_type": "execute_result"
    }
   ],
   "source": [
    "cat_attributes.head()"
   ]
  },
  {
   "cell_type": "markdown",
   "id": "6b4dd4ce",
   "metadata": {},
   "source": [
    "#### Invoice no"
   ]
  },
  {
   "cell_type": "code",
   "execution_count": 21,
   "id": "34d857cc",
   "metadata": {
    "ExecuteTime": {
     "end_time": "2022-03-26T21:06:08.530431Z",
     "start_time": "2022-03-26T21:06:07.931384Z"
    }
   },
   "outputs": [
    {
     "name": "stdout",
     "output_type": "stream",
     "text": [
      "Total of invoices with letter: 9291\n",
      "Total of negative quantaty: 10624\n",
      "Letter means negative quantity\n"
     ]
    }
   ],
   "source": [
    "\n",
    "#invoice_no -- some of them has one char\n",
    "df_invoice_char = df1.loc[df1['invoice_no'].apply(lambda x: bool(re.search('[^0-9]+', x))), :]   \n",
    "\n",
    "len(df_invoice_char[df_invoice_char['quantity']<0])\n",
    "\n",
    "\n",
    "print('Total of invoices with letter: {}'.format(len(df_invoice_char)))\n",
    "print('Total of negative quantaty: {}'.format(len(df1[df1['quantity']<0])))\n",
    "print('Letter means negative quantity')"
   ]
  },
  {
   "cell_type": "markdown",
   "id": "efc5c2dc",
   "metadata": {},
   "source": [
    "#### Stock Code"
   ]
  },
  {
   "cell_type": "code",
   "execution_count": 22,
   "id": "7cee7ff1",
   "metadata": {
    "ExecuteTime": {
     "end_time": "2022-03-26T21:06:08.997455Z",
     "start_time": "2022-03-26T21:06:08.532012Z"
    }
   },
   "outputs": [
    {
     "data": {
      "text/plain": [
       "array(['POST', 'D', 'DOT', 'M', 'S', 'AMAZONFEE', 'm', 'DCGSSBOY',\n",
       "       'DCGSSGIRL', 'PADS', 'B', 'CRUK'], dtype=object)"
      ]
     },
     "execution_count": 22,
     "metadata": {},
     "output_type": "execute_result"
    }
   ],
   "source": [
    "#all stock codes with char\n",
    "df1.loc[df1['stock_code'].apply(lambda x: bool(re.search('^[a-zA-Z]+$', x))), 'stock_code'].unique()\n",
    "\n",
    "#remove stock code in ['POST', 'D', 'M', 'PADS', 'DOT', 'CRUK']\n",
    "# df1 = df1[-df1.isin(['POST', 'D', 'M', 'PADS', 'DOT', 'CRUK'])]"
   ]
  },
  {
   "cell_type": "markdown",
   "id": "50d7c023",
   "metadata": {},
   "source": [
    "#### Description"
   ]
  },
  {
   "cell_type": "code",
   "execution_count": 23,
   "id": "9e259e88",
   "metadata": {
    "ExecuteTime": {
     "end_time": "2022-03-26T21:06:09.001951Z",
     "start_time": "2022-03-26T21:06:08.999382Z"
    }
   },
   "outputs": [],
   "source": [
    "#remove description\n",
    "# df1 = df1.drop('description', axis=1)"
   ]
  },
  {
   "cell_type": "markdown",
   "id": "33982a03",
   "metadata": {},
   "source": [
    "#### Country\n"
   ]
  },
  {
   "cell_type": "code",
   "execution_count": 24,
   "id": "74604d0f",
   "metadata": {
    "ExecuteTime": {
     "end_time": "2022-03-26T21:06:09.352887Z",
     "start_time": "2022-03-26T21:06:09.003907Z"
    }
   },
   "outputs": [
    {
     "data": {
      "text/plain": [
       "United Kingdom   0.9143\n",
       "Germany          0.0175\n",
       "France           0.0158\n",
       "EIRE             0.0151\n",
       "Spain            0.0047\n",
       "Name: country, dtype: float64"
      ]
     },
     "execution_count": 24,
     "metadata": {},
     "output_type": "execute_result"
    }
   ],
   "source": [
    "df1['country'].value_counts(normalize='True').head()"
   ]
  },
  {
   "cell_type": "code",
   "execution_count": 25,
   "id": "14daa5b6",
   "metadata": {
    "ExecuteTime": {
     "end_time": "2022-03-26T21:06:09.551846Z",
     "start_time": "2022-03-26T21:06:09.354887Z"
    }
   },
   "outputs": [
    {
     "data": {
      "text/html": [
       "<div>\n",
       "<style scoped>\n",
       "    .dataframe tbody tr th:only-of-type {\n",
       "        vertical-align: middle;\n",
       "    }\n",
       "\n",
       "    .dataframe tbody tr th {\n",
       "        vertical-align: top;\n",
       "    }\n",
       "\n",
       "    .dataframe thead th {\n",
       "        text-align: right;\n",
       "    }\n",
       "</style>\n",
       "<table border=\"1\" class=\"dataframe\">\n",
       "  <thead>\n",
       "    <tr style=\"text-align: right;\">\n",
       "      <th></th>\n",
       "      <th>country</th>\n",
       "      <th>customer_id</th>\n",
       "    </tr>\n",
       "  </thead>\n",
       "  <tbody>\n",
       "    <tr>\n",
       "      <th>36</th>\n",
       "      <td>United Kingdom</td>\n",
       "      <td>7587</td>\n",
       "    </tr>\n",
       "    <tr>\n",
       "      <th>14</th>\n",
       "      <td>Germany</td>\n",
       "      <td>95</td>\n",
       "    </tr>\n",
       "    <tr>\n",
       "      <th>13</th>\n",
       "      <td>France</td>\n",
       "      <td>90</td>\n",
       "    </tr>\n",
       "    <tr>\n",
       "      <th>10</th>\n",
       "      <td>EIRE</td>\n",
       "      <td>44</td>\n",
       "    </tr>\n",
       "    <tr>\n",
       "      <th>31</th>\n",
       "      <td>Spain</td>\n",
       "      <td>31</td>\n",
       "    </tr>\n",
       "  </tbody>\n",
       "</table>\n",
       "</div>"
      ],
      "text/plain": [
       "           country  customer_id\n",
       "36  United Kingdom         7587\n",
       "14         Germany           95\n",
       "13          France           90\n",
       "10            EIRE           44\n",
       "31           Spain           31"
      ]
     },
     "execution_count": 25,
     "metadata": {},
     "output_type": "execute_result"
    }
   ],
   "source": [
    "df1[['country', 'customer_id']].drop_duplicates().groupby('country').count().reset_index().sort_values('customer_id', ascending=False).head()"
   ]
  },
  {
   "cell_type": "markdown",
   "id": "48d79e83",
   "metadata": {},
   "source": [
    "# 2.0. Data Filtering"
   ]
  },
  {
   "cell_type": "code",
   "execution_count": 26,
   "id": "fb92a1c3",
   "metadata": {
    "ExecuteTime": {
     "end_time": "2022-03-26T21:06:09.630431Z",
     "start_time": "2022-03-26T21:06:09.553506Z"
    }
   },
   "outputs": [],
   "source": [
    "df2 = df1.copy()"
   ]
  },
  {
   "cell_type": "code",
   "execution_count": 27,
   "id": "01d40408",
   "metadata": {
    "ExecuteTime": {
     "end_time": "2022-03-26T21:06:09.755456Z",
     "start_time": "2022-03-26T21:06:09.632261Z"
    }
   },
   "outputs": [
    {
     "data": {
      "text/plain": [
       "array(['United Kingdom', 'France', 'Australia', 'Netherlands', 'Germany',\n",
       "       'Norway', 'EIRE', 'Switzerland', 'Spain', 'Poland', 'Portugal',\n",
       "       'Italy', 'Belgium', 'Lithuania', 'Japan', 'Iceland',\n",
       "       'Channel Islands', 'Denmark', 'Cyprus', 'Sweden', 'Austria',\n",
       "       'Israel', 'Finland', 'Bahrain', 'Greece', 'Hong Kong', 'Singapore',\n",
       "       'Lebanon', 'United Arab Emirates', 'Saudi Arabia',\n",
       "       'Czech Republic', 'Canada', 'Unspecified', 'Brazil', 'USA',\n",
       "       'European Community', 'Malta', 'RSA'], dtype=object)"
      ]
     },
     "execution_count": 27,
     "metadata": {},
     "output_type": "execute_result"
    }
   ],
   "source": [
    "df2['country'].unique()"
   ]
  },
  {
   "cell_type": "code",
   "execution_count": 28,
   "id": "8aa14c82",
   "metadata": {
    "ExecuteTime": {
     "end_time": "2022-03-26T21:06:12.568841Z",
     "start_time": "2022-03-26T21:06:09.760873Z"
    }
   },
   "outputs": [],
   "source": [
    "# ====================== Numerical Attributes ====================== \n",
    "\n",
    "#unit price != 0\n",
    "# df2.sort_values('unit_price').head()\n",
    "df2 = df2[df2['unit_price']>0.004]\n",
    "\n",
    "# ====================== Categorical Attributes ====================== \n",
    "\n",
    "#stock code\n",
    "df2 = df2[~df2.isin(['POST', 'D', 'DOT', 'M', 'S', 'AMAZONFEE', 'm', 'DCGSSBOY',\n",
    "       'DCGSSGIRL', 'PADS', 'B', 'CRUK'])]\n",
    "\n",
    "#description\n",
    "df2 = df2.drop('description', axis=1)\n",
    "\n",
    " \n",
    "#map -- riscos de dropas, analisar melhor num próximo ciclo\n",
    "df2 = df2[~df2.isin(['European Community', 'Unspecified'])]\n",
    "\n",
    "# #quantity - negative numbers mean return\n",
    "df_return = df2[df2['quantity']<0]\n",
    "df_purchase = df2[df2['quantity']>0]\n",
    "\n",
    "\n"
   ]
  },
  {
   "cell_type": "markdown",
   "id": "1faf41d9",
   "metadata": {},
   "source": [
    "# 3.0. Feature Engineering"
   ]
  },
  {
   "cell_type": "code",
   "execution_count": 29,
   "id": "fc8f74d9",
   "metadata": {
    "ExecuteTime": {
     "end_time": "2022-03-26T21:06:12.581661Z",
     "start_time": "2022-03-26T21:06:12.570424Z"
    }
   },
   "outputs": [],
   "source": [
    "df3 = df2.copy()"
   ]
  },
  {
   "cell_type": "markdown",
   "id": "21fc3686",
   "metadata": {},
   "source": [
    "## 3.1. Feature Creation"
   ]
  },
  {
   "cell_type": "code",
   "execution_count": 30,
   "id": "a905b83e",
   "metadata": {
    "ExecuteTime": {
     "end_time": "2022-03-26T21:06:12.923257Z",
     "start_time": "2022-03-26T21:06:12.583307Z"
    }
   },
   "outputs": [],
   "source": [
    "#data reference\n",
    "df_ref = df3.drop(['invoice_no', 'stock_code', 'quantity', 'invoice_date',\n",
    "       'unit_price', 'country'], axis=1).drop_duplicates(ignore_index=True)"
   ]
  },
  {
   "cell_type": "markdown",
   "id": "76215d9c",
   "metadata": {},
   "source": [
    "### 3.1.1. Gross Revenue"
   ]
  },
  {
   "cell_type": "code",
   "execution_count": 31,
   "id": "bf20ab38",
   "metadata": {
    "ExecuteTime": {
     "end_time": "2022-03-26T21:06:13.655017Z",
     "start_time": "2022-03-26T21:06:12.925241Z"
    }
   },
   "outputs": [
    {
     "name": "stderr",
     "output_type": "stream",
     "text": [
      "/tmp/ipykernel_3753/2452806394.py:2: SettingWithCopyWarning: \n",
      "A value is trying to be set on a copy of a slice from a DataFrame.\n",
      "Try using .loc[row_indexer,col_indexer] = value instead\n",
      "\n",
      "See the caveats in the documentation: https://pandas.pydata.org/pandas-docs/stable/user_guide/indexing.html#returning-a-view-versus-a-copy\n",
      "  df_purchase.loc[:,'gross_revenue'] = df_purchase.loc[:, 'quantity'] * df_purchase.loc[:, 'unit_price']\n"
     ]
    },
    {
     "data": {
      "text/plain": [
       "customer_id        0\n",
       "gross_revenue    215\n",
       "dtype: int64"
      ]
     },
     "execution_count": 31,
     "metadata": {},
     "output_type": "execute_result"
    }
   ],
   "source": [
    "# df_purchase.loc[:, 'gross_revenue'] = df_purchase.loc[:, 'quantity'] * df_purchase.loc[:, 'unit_price']  \n",
    "df_purchase.loc[:,'gross_revenue'] = df_purchase.loc[:, 'quantity'] * df_purchase.loc[:, 'unit_price'] \n",
    "df_monetary = df_purchase.loc[:,['customer_id', 'gross_revenue']].groupby('customer_id').sum().reset_index()\n",
    "df_ref = pd.merge(df_ref, df_monetary, on='customer_id', how= 'left')\n",
    "df_ref.isna().sum()"
   ]
  },
  {
   "cell_type": "markdown",
   "id": "86afe088",
   "metadata": {},
   "source": [
    "### 3.1.2. Recency - Days from last purchase\n"
   ]
  },
  {
   "cell_type": "code",
   "execution_count": 32,
   "id": "2ccf2d70",
   "metadata": {
    "ExecuteTime": {
     "end_time": "2022-03-26T21:06:13.686944Z",
     "start_time": "2022-03-26T21:06:13.657526Z"
    }
   },
   "outputs": [],
   "source": [
    "#recency \n",
    "\n",
    "df_recency = df_purchase.loc[:,['customer_id', 'invoice_date']].groupby('customer_id').max().reset_index()\n",
    "df_recency['recency_days'] = (df3['invoice_date'].max() - df_recency['invoice_date']).dt.days\n",
    "df_recency  = df_recency[['customer_id', 'recency_days']].copy()\n",
    "df_ref = pd.merge(df_ref, df_recency, on='customer_id', how='left')"
   ]
  },
  {
   "cell_type": "markdown",
   "id": "45a7139e",
   "metadata": {},
   "source": [
    "### 3.1.3. Quantity of items purchase"
   ]
  },
  {
   "cell_type": "code",
   "execution_count": 33,
   "id": "213e0590",
   "metadata": {
    "ExecuteTime": {
     "end_time": "2022-03-26T21:06:13.869587Z",
     "start_time": "2022-03-26T21:06:13.688656Z"
    }
   },
   "outputs": [],
   "source": [
    "# Número de compras\n",
    "df_products = df_purchase.loc[:,['customer_id', 'quantity']].groupby('customer_id').sum().rename(columns={'quantity':'qt_items'}).reset_index()\n",
    "df_ref = pd.merge(df_ref, df_products, on='customer_id', how='left')"
   ]
  },
  {
   "cell_type": "markdown",
   "id": "0c62730e",
   "metadata": {},
   "source": [
    "### 3.1.4. Quantity of purchase"
   ]
  },
  {
   "cell_type": "code",
   "execution_count": 34,
   "id": "99d7680a",
   "metadata": {
    "ExecuteTime": {
     "end_time": "2022-03-26T21:06:14.051566Z",
     "start_time": "2022-03-26T21:06:13.871352Z"
    }
   },
   "outputs": [],
   "source": [
    "# Número de compras\n",
    "df_invoice = df_purchase.loc[:,['customer_id', 'invoice_no']].drop_duplicates().groupby('customer_id').count().rename(columns={'invoice_no':'qt_invoice'}).reset_index()\n",
    "df_ref = pd.merge(df_ref, df_invoice, on='customer_id', how='left')"
   ]
  },
  {
   "cell_type": "markdown",
   "id": "5fd8db27",
   "metadata": {},
   "source": [
    "### 3.1.4. Quantity of products purchase"
   ]
  },
  {
   "cell_type": "code",
   "execution_count": 35,
   "id": "d8a267a6",
   "metadata": {
    "ExecuteTime": {
     "end_time": "2022-03-26T21:06:14.251532Z",
     "start_time": "2022-03-26T21:06:14.053185Z"
    }
   },
   "outputs": [],
   "source": [
    "# Número de compras\n",
    "df_stock_code = df_purchase.loc[:,['customer_id', 'stock_code']].drop_duplicates().groupby('customer_id').count().rename(columns={'stock_code':'qt_products'}).reset_index()\n",
    "df_ref = pd.merge(df_ref, df_stock_code, on='customer_id', how='left')"
   ]
  },
  {
   "cell_type": "markdown",
   "id": "37bb2115",
   "metadata": {},
   "source": [
    "### 3.1.5. Average Ticket Value"
   ]
  },
  {
   "cell_type": "code",
   "execution_count": 36,
   "id": "fde6fe4f",
   "metadata": {
    "ExecuteTime": {
     "end_time": "2022-03-26T21:06:14.290031Z",
     "start_time": "2022-03-26T21:06:14.252916Z"
    }
   },
   "outputs": [],
   "source": [
    "\n",
    "#avg ticket\n",
    "df_avgticket = df_purchase.loc[:,['customer_id', 'gross_revenue']].groupby('customer_id').mean().rename(columns={'gross_revenue':'avg_ticket'}).reset_index()\n",
    "df_ref = pd.merge(df_ref, df_avgticket, on='customer_id', how='left')\n"
   ]
  },
  {
   "cell_type": "markdown",
   "id": "c5e7c39f",
   "metadata": {},
   "source": [
    "### 3.1.6. Average Recency Days"
   ]
  },
  {
   "cell_type": "code",
   "execution_count": 37,
   "id": "2a604727",
   "metadata": {
    "ExecuteTime": {
     "end_time": "2022-03-26T21:06:14.873218Z",
     "start_time": "2022-03-26T21:06:14.291726Z"
    }
   },
   "outputs": [
    {
     "data": {
      "text/plain": [
       "customer_id            0\n",
       "gross_revenue        215\n",
       "recency_days         215\n",
       "qt_items             215\n",
       "qt_invoice           215\n",
       "qt_products          215\n",
       "avg_ticket           215\n",
       "avg_recency_days    3191\n",
       "dtype: int64"
      ]
     },
     "execution_count": 37,
     "metadata": {},
     "output_type": "execute_result"
    }
   ],
   "source": [
    "df_aux = df_purchase[['customer_id','invoice_date']].drop_duplicates().sort_values(['customer_id', 'invoice_date'], ascending=[True, True])\n",
    "df_aux['next_customer_id'] = df_aux['customer_id'].shift()\n",
    "df_aux['previous_invoice_date'] = df2['invoice_date'].shift()\n",
    "\n",
    "df_aux['avg_recency_days'] = df_aux.apply(lambda x: (x['invoice_date'] - x['previous_invoice_date']).days +1 if x['customer_id'] == x['next_customer_id'] else np.nan, axis=1)\n",
    "df_aux = df_aux[['customer_id', 'avg_recency_days']].dropna()\n",
    "\n",
    "#calculate avg recency days\n",
    "df_aux =  df_aux.groupby('customer_id').mean().reset_index()\n",
    "\n",
    "#merge\n",
    "df_ref = pd.merge(df_ref, df_aux, on='customer_id', how='left')\n",
    "df_ref.isna().sum()"
   ]
  },
  {
   "cell_type": "markdown",
   "id": "956ad2a7",
   "metadata": {},
   "source": [
    "### 3.1.6. Frequency"
   ]
  },
  {
   "cell_type": "code",
   "execution_count": 38,
   "id": "79423e5d",
   "metadata": {
    "ExecuteTime": {
     "end_time": "2022-03-26T21:06:16.112566Z",
     "start_time": "2022-03-26T21:06:14.874568Z"
    }
   },
   "outputs": [],
   "source": [
    "df_aux = (df_purchase[['customer_id', 'invoice_no', 'invoice_date']].drop_duplicates().groupby('customer_id').agg(\n",
    "                                                            max_ = ('invoice_date', 'max'),\n",
    "                                                            min_ = ('invoice_date', 'min'),\n",
    "                                                            days = ('invoice_date', lambda x: (x.max() - x.min()).days ),\n",
    "                                                            buys = ('invoice_no', 'count'))).reset_index()\n",
    "\n",
    "# #calculate frequency\n",
    "df_aux['frequency'] = df_aux[['buys', 'days']].apply(lambda x: x['buys']/x['days'] if x['days']!= 0 else 0, axis=1)\n",
    "df_aux.head()\n",
    "\n",
    "#merge\n",
    "df_ref = pd.merge(df_ref, df_aux[['customer_id', 'frequency']], on='customer_id', how='left')\n"
   ]
  },
  {
   "cell_type": "markdown",
   "id": "65890139",
   "metadata": {},
   "source": [
    "### 3.1.7. Returns\n"
   ]
  },
  {
   "cell_type": "code",
   "execution_count": 39,
   "id": "6b510726",
   "metadata": {
    "ExecuteTime": {
     "end_time": "2022-03-26T21:06:16.129165Z",
     "start_time": "2022-03-26T21:06:16.114091Z"
    }
   },
   "outputs": [
    {
     "data": {
      "text/plain": [
       "customer_id            0\n",
       "gross_revenue        215\n",
       "recency_days         215\n",
       "qt_items             215\n",
       "qt_invoice           215\n",
       "qt_products          215\n",
       "avg_ticket           215\n",
       "avg_recency_days    3191\n",
       "frequency            215\n",
       "qt_returns          4210\n",
       "dtype: int64"
      ]
     },
     "execution_count": 39,
     "metadata": {},
     "output_type": "execute_result"
    }
   ],
   "source": [
    "df_aux = df_return[['customer_id', 'quantity']].groupby('customer_id').sum().reset_index().rename(columns={'quantity':'qt_returns'})\n",
    "df_aux['qt_returns'] = -1*df_aux['qt_returns']\n",
    "\n",
    "#merge\n",
    "df_ref = pd.merge(df_ref, df_aux, on='customer_id', how='left')\n",
    "df_ref.isna().sum()"
   ]
  },
  {
   "cell_type": "code",
   "execution_count": 40,
   "id": "c64cb80c",
   "metadata": {
    "ExecuteTime": {
     "end_time": "2022-03-26T21:06:16.228384Z",
     "start_time": "2022-03-26T21:06:16.130846Z"
    }
   },
   "outputs": [
    {
     "data": {
      "text/plain": [
       "customer_id            0\n",
       "gross_revenue        215\n",
       "recency_days         215\n",
       "qt_items             215\n",
       "qt_invoice           215\n",
       "qt_products          215\n",
       "avg_ticket           215\n",
       "avg_recency_days    3191\n",
       "frequency            215\n",
       "qt_returns             0\n",
       "dtype: int64"
      ]
     },
     "execution_count": 40,
     "metadata": {},
     "output_type": "execute_result"
    }
   ],
   "source": [
    "df_ref.loc[df_ref['qt_returns'].isna(), 'qt_returns'] = 0\n",
    "df_ref.isna().sum()"
   ]
  },
  {
   "cell_type": "markdown",
   "id": "fc864c78",
   "metadata": {},
   "source": [
    "### 3.1.7. Unique Basket Size-  Unidades de produtos distintos por cesto\n"
   ]
  },
  {
   "cell_type": "code",
   "execution_count": 41,
   "id": "5531269c",
   "metadata": {
    "ExecuteTime": {
     "end_time": "2022-03-26T21:06:16.492409Z",
     "start_time": "2022-03-26T21:06:16.230474Z"
    }
   },
   "outputs": [
    {
     "data": {
      "text/plain": [
       "customer_id                  0\n",
       "gross_revenue              215\n",
       "recency_days               215\n",
       "qt_items                   215\n",
       "qt_invoice                 215\n",
       "qt_products                215\n",
       "avg_ticket                 215\n",
       "avg_recency_days          3191\n",
       "frequency                  215\n",
       "qt_returns                   0\n",
       "avg_unique_basket_size     215\n",
       "dtype: int64"
      ]
     },
     "execution_count": 41,
     "metadata": {},
     "output_type": "execute_result"
    }
   ],
   "source": [
    "df_aux = df_purchase.loc[:, ['customer_id', 'invoice_no', 'stock_code']].groupby('customer_id').agg(\n",
    "                                                                n_purchase = ('invoice_no', 'nunique'),\n",
    "                                                                n_products = ('stock_code', 'count')).reset_index()\n",
    "\n",
    "#calculate avg unique basket size\n",
    "df_aux['avg_unique_basket_size'] = df_aux['n_products']/df_aux['n_purchase']\n",
    "df_aux.head()\n",
    "\n",
    "#merge\n",
    "df_ref = pd.merge(df_ref, df_aux[['customer_id','avg_unique_basket_size']], on='customer_id', how='left')\n",
    "df_ref.isna().sum()"
   ]
  },
  {
   "cell_type": "markdown",
   "id": "b8eb4615",
   "metadata": {},
   "source": [
    "### 3.1.8.  Basket Case -  Unidades de produtos por cesto\n"
   ]
  },
  {
   "cell_type": "code",
   "execution_count": 42,
   "id": "95a13b3b",
   "metadata": {
    "ExecuteTime": {
     "end_time": "2022-03-26T21:06:16.589500Z",
     "start_time": "2022-03-26T21:06:16.494496Z"
    }
   },
   "outputs": [
    {
     "data": {
      "text/plain": [
       "customer_id                  0\n",
       "gross_revenue              215\n",
       "recency_days               215\n",
       "qt_items                   215\n",
       "qt_invoice                 215\n",
       "qt_products                215\n",
       "avg_ticket                 215\n",
       "avg_recency_days          3191\n",
       "frequency                  215\n",
       "qt_returns                   0\n",
       "avg_unique_basket_size     215\n",
       "avg_basket_size            215\n",
       "dtype: int64"
      ]
     },
     "execution_count": 42,
     "metadata": {},
     "output_type": "execute_result"
    }
   ],
   "source": [
    "df_aux = df_purchase.loc[:, ['customer_id', 'invoice_no', 'quantity']].groupby('customer_id').agg(\n",
    "                                                                n_purchase = ('invoice_no', 'nunique'),\n",
    "                                                                n_products = ('quantity', 'sum')).reset_index()\n",
    "\n",
    "#calculate avg basket size\n",
    "df_aux['avg_basket_size'] = df_aux['n_products']/df_aux['n_purchase']\n",
    "df_aux.head()\n",
    "\n",
    "#merge\n",
    "df_ref = pd.merge(df_ref, df_aux[['customer_id','avg_basket_size']], on='customer_id', how='left')\n",
    "df_ref.isna().sum()"
   ]
  },
  {
   "cell_type": "code",
   "execution_count": 43,
   "id": "23430e42",
   "metadata": {
    "ExecuteTime": {
     "end_time": "2022-03-26T21:06:16.639565Z",
     "start_time": "2022-03-26T21:06:16.591139Z"
    }
   },
   "outputs": [
    {
     "data": {
      "text/html": [
       "<div>\n",
       "<style scoped>\n",
       "    .dataframe tbody tr th:only-of-type {\n",
       "        vertical-align: middle;\n",
       "    }\n",
       "\n",
       "    .dataframe tbody tr th {\n",
       "        vertical-align: top;\n",
       "    }\n",
       "\n",
       "    .dataframe thead th {\n",
       "        text-align: right;\n",
       "    }\n",
       "</style>\n",
       "<table border=\"1\" class=\"dataframe\">\n",
       "  <thead>\n",
       "    <tr style=\"text-align: right;\">\n",
       "      <th></th>\n",
       "      <th>customer_id</th>\n",
       "      <th>gross_revenue</th>\n",
       "      <th>recency_days</th>\n",
       "      <th>qt_items</th>\n",
       "      <th>qt_invoice</th>\n",
       "      <th>qt_products</th>\n",
       "      <th>avg_ticket</th>\n",
       "      <th>avg_recency_days</th>\n",
       "      <th>frequency</th>\n",
       "      <th>qt_returns</th>\n",
       "      <th>avg_unique_basket_size</th>\n",
       "      <th>avg_basket_size</th>\n",
       "    </tr>\n",
       "  </thead>\n",
       "  <tbody>\n",
       "    <tr>\n",
       "      <th>0</th>\n",
       "      <td>17850</td>\n",
       "      <td>5391.2100</td>\n",
       "      <td>372.0000</td>\n",
       "      <td>1733.0000</td>\n",
       "      <td>34.0000</td>\n",
       "      <td>21.0000</td>\n",
       "      <td>18.1522</td>\n",
       "      <td>1.0000</td>\n",
       "      <td>34.0000</td>\n",
       "      <td>40.0000</td>\n",
       "      <td>8.7353</td>\n",
       "      <td>50.9706</td>\n",
       "    </tr>\n",
       "    <tr>\n",
       "      <th>1</th>\n",
       "      <td>13047</td>\n",
       "      <td>3237.5400</td>\n",
       "      <td>31.0000</td>\n",
       "      <td>1391.0000</td>\n",
       "      <td>10.0000</td>\n",
       "      <td>105.0000</td>\n",
       "      <td>18.8229</td>\n",
       "      <td>1.0000</td>\n",
       "      <td>0.0292</td>\n",
       "      <td>36.0000</td>\n",
       "      <td>17.1000</td>\n",
       "      <td>139.1000</td>\n",
       "    </tr>\n",
       "    <tr>\n",
       "      <th>2</th>\n",
       "      <td>12583</td>\n",
       "      <td>7281.3800</td>\n",
       "      <td>2.0000</td>\n",
       "      <td>5060.0000</td>\n",
       "      <td>15.0000</td>\n",
       "      <td>114.0000</td>\n",
       "      <td>29.4793</td>\n",
       "      <td>1.0000</td>\n",
       "      <td>0.0404</td>\n",
       "      <td>51.0000</td>\n",
       "      <td>15.4667</td>\n",
       "      <td>337.3333</td>\n",
       "    </tr>\n",
       "    <tr>\n",
       "      <th>3</th>\n",
       "      <td>13748</td>\n",
       "      <td>948.2500</td>\n",
       "      <td>95.0000</td>\n",
       "      <td>439.0000</td>\n",
       "      <td>5.0000</td>\n",
       "      <td>24.0000</td>\n",
       "      <td>33.8661</td>\n",
       "      <td>1.0000</td>\n",
       "      <td>0.0180</td>\n",
       "      <td>0.0000</td>\n",
       "      <td>5.6000</td>\n",
       "      <td>87.8000</td>\n",
       "    </tr>\n",
       "    <tr>\n",
       "      <th>4</th>\n",
       "      <td>15100</td>\n",
       "      <td>876.0000</td>\n",
       "      <td>333.0000</td>\n",
       "      <td>80.0000</td>\n",
       "      <td>3.0000</td>\n",
       "      <td>1.0000</td>\n",
       "      <td>292.0000</td>\n",
       "      <td>1.0000</td>\n",
       "      <td>0.0750</td>\n",
       "      <td>22.0000</td>\n",
       "      <td>1.0000</td>\n",
       "      <td>26.6667</td>\n",
       "    </tr>\n",
       "  </tbody>\n",
       "</table>\n",
       "</div>"
      ],
      "text/plain": [
       "   customer_id  gross_revenue  recency_days  qt_items  qt_invoice  \\\n",
       "0        17850      5391.2100      372.0000 1733.0000     34.0000   \n",
       "1        13047      3237.5400       31.0000 1391.0000     10.0000   \n",
       "2        12583      7281.3800        2.0000 5060.0000     15.0000   \n",
       "3        13748       948.2500       95.0000  439.0000      5.0000   \n",
       "4        15100       876.0000      333.0000   80.0000      3.0000   \n",
       "\n",
       "   qt_products  avg_ticket  avg_recency_days  frequency  qt_returns  \\\n",
       "0      21.0000     18.1522            1.0000    34.0000     40.0000   \n",
       "1     105.0000     18.8229            1.0000     0.0292     36.0000   \n",
       "2     114.0000     29.4793            1.0000     0.0404     51.0000   \n",
       "3      24.0000     33.8661            1.0000     0.0180      0.0000   \n",
       "4       1.0000    292.0000            1.0000     0.0750     22.0000   \n",
       "\n",
       "   avg_unique_basket_size  avg_basket_size  \n",
       "0                  8.7353          50.9706  \n",
       "1                 17.1000         139.1000  \n",
       "2                 15.4667         337.3333  \n",
       "3                  5.6000          87.8000  \n",
       "4                  1.0000          26.6667  "
      ]
     },
     "execution_count": 43,
     "metadata": {},
     "output_type": "execute_result"
    }
   ],
   "source": [
    "df_ref.head()"
   ]
  },
  {
   "cell_type": "markdown",
   "id": "28d41b3f",
   "metadata": {},
   "source": [
    "# 4.0. Exploratory Data Analisys"
   ]
  },
  {
   "cell_type": "code",
   "execution_count": 44,
   "id": "4a95bea8",
   "metadata": {
    "ExecuteTime": {
     "end_time": "2022-03-26T21:06:16.742434Z",
     "start_time": "2022-03-26T21:06:16.641573Z"
    }
   },
   "outputs": [],
   "source": [
    "df4 = df_ref.dropna().copy()\n",
    "# analisar melhor os nA's no próximo ciclo\n"
   ]
  },
  {
   "cell_type": "markdown",
   "id": "ef4f24ac",
   "metadata": {
    "ExecuteTime": {
     "end_time": "2022-03-26T13:10:51.357445Z",
     "start_time": "2022-03-26T13:10:51.350560Z"
    }
   },
   "source": [
    "## 4.1. Univariate Analysis"
   ]
  },
  {
   "cell_type": "markdown",
   "id": "1d8dc84b",
   "metadata": {},
   "source": [
    "### Notes\n",
    " 1. Clusteres coeses - separados\n",
    " 2. Métricas\n",
    "     * Max, min, range (dispersão)\n",
    "     * média e mediana\n",
    "     * Desvio padrão e variância\n",
    "     * Coeficiente de variação (dp/mean)\n",
    "     * Distribuição\n",
    "     \n",
    "     \n",
    "**EDA** \n",
    "\n",
    "* gross_revenue => high variance\n",
    "* recency days => low variance\n",
    "* qtd items => mean very high (investigate) high variance\n",
    "* qtd invoice => mean similar to median, low variance\n",
    "* qtd products => low variance\n",
    "* avg ticket => high variance\n",
    "* avg recency days => low variance\n",
    "* frequency => high variance\n",
    "\n",
    "\n",
    "\n"
   ]
  },
  {
   "cell_type": "code",
   "execution_count": 45,
   "id": "464c823c",
   "metadata": {
    "ExecuteTime": {
     "end_time": "2022-03-26T21:06:16.839997Z",
     "start_time": "2022-03-26T21:06:16.744102Z"
    }
   },
   "outputs": [],
   "source": [
    "# profile = ProfileReport(df4)\n",
    "# profile.to_file('output.html')"
   ]
  },
  {
   "cell_type": "markdown",
   "id": "875e17af",
   "metadata": {},
   "source": [
    "### 4.1.1. Gross Revenue"
   ]
  },
  {
   "cell_type": "code",
   "execution_count": 46,
   "id": "ab5327a8",
   "metadata": {
    "ExecuteTime": {
     "end_time": "2022-03-26T21:06:16.947475Z",
     "start_time": "2022-03-26T21:06:16.842286Z"
    }
   },
   "outputs": [
    {
     "data": {
      "text/html": [
       "<div>\n",
       "<style scoped>\n",
       "    .dataframe tbody tr th:only-of-type {\n",
       "        vertical-align: middle;\n",
       "    }\n",
       "\n",
       "    .dataframe tbody tr th {\n",
       "        vertical-align: top;\n",
       "    }\n",
       "\n",
       "    .dataframe thead th {\n",
       "        text-align: right;\n",
       "    }\n",
       "</style>\n",
       "<table border=\"1\" class=\"dataframe\">\n",
       "  <thead>\n",
       "    <tr style=\"text-align: right;\">\n",
       "      <th></th>\n",
       "      <th>customer_id</th>\n",
       "      <th>gross_revenue</th>\n",
       "      <th>recency_days</th>\n",
       "      <th>qt_items</th>\n",
       "      <th>qt_invoice</th>\n",
       "      <th>qt_products</th>\n",
       "      <th>avg_ticket</th>\n",
       "      <th>avg_recency_days</th>\n",
       "      <th>frequency</th>\n",
       "      <th>qt_returns</th>\n",
       "      <th>avg_unique_basket_size</th>\n",
       "      <th>avg_basket_size</th>\n",
       "    </tr>\n",
       "  </thead>\n",
       "  <tbody>\n",
       "    <tr>\n",
       "      <th>0</th>\n",
       "      <td>17850</td>\n",
       "      <td>5391.2100</td>\n",
       "      <td>372.0000</td>\n",
       "      <td>1733.0000</td>\n",
       "      <td>34.0000</td>\n",
       "      <td>21.0000</td>\n",
       "      <td>18.1522</td>\n",
       "      <td>1.0000</td>\n",
       "      <td>34.0000</td>\n",
       "      <td>40.0000</td>\n",
       "      <td>8.7353</td>\n",
       "      <td>50.9706</td>\n",
       "    </tr>\n",
       "    <tr>\n",
       "      <th>1</th>\n",
       "      <td>13047</td>\n",
       "      <td>3237.5400</td>\n",
       "      <td>31.0000</td>\n",
       "      <td>1391.0000</td>\n",
       "      <td>10.0000</td>\n",
       "      <td>105.0000</td>\n",
       "      <td>18.8229</td>\n",
       "      <td>1.0000</td>\n",
       "      <td>0.0292</td>\n",
       "      <td>36.0000</td>\n",
       "      <td>17.1000</td>\n",
       "      <td>139.1000</td>\n",
       "    </tr>\n",
       "    <tr>\n",
       "      <th>2</th>\n",
       "      <td>12583</td>\n",
       "      <td>7281.3800</td>\n",
       "      <td>2.0000</td>\n",
       "      <td>5060.0000</td>\n",
       "      <td>15.0000</td>\n",
       "      <td>114.0000</td>\n",
       "      <td>29.4793</td>\n",
       "      <td>1.0000</td>\n",
       "      <td>0.0404</td>\n",
       "      <td>51.0000</td>\n",
       "      <td>15.4667</td>\n",
       "      <td>337.3333</td>\n",
       "    </tr>\n",
       "    <tr>\n",
       "      <th>3</th>\n",
       "      <td>13748</td>\n",
       "      <td>948.2500</td>\n",
       "      <td>95.0000</td>\n",
       "      <td>439.0000</td>\n",
       "      <td>5.0000</td>\n",
       "      <td>24.0000</td>\n",
       "      <td>33.8661</td>\n",
       "      <td>1.0000</td>\n",
       "      <td>0.0180</td>\n",
       "      <td>0.0000</td>\n",
       "      <td>5.6000</td>\n",
       "      <td>87.8000</td>\n",
       "    </tr>\n",
       "    <tr>\n",
       "      <th>4</th>\n",
       "      <td>15100</td>\n",
       "      <td>876.0000</td>\n",
       "      <td>333.0000</td>\n",
       "      <td>80.0000</td>\n",
       "      <td>3.0000</td>\n",
       "      <td>1.0000</td>\n",
       "      <td>292.0000</td>\n",
       "      <td>1.0000</td>\n",
       "      <td>0.0750</td>\n",
       "      <td>22.0000</td>\n",
       "      <td>1.0000</td>\n",
       "      <td>26.6667</td>\n",
       "    </tr>\n",
       "  </tbody>\n",
       "</table>\n",
       "</div>"
      ],
      "text/plain": [
       "   customer_id  gross_revenue  recency_days  qt_items  qt_invoice  \\\n",
       "0        17850      5391.2100      372.0000 1733.0000     34.0000   \n",
       "1        13047      3237.5400       31.0000 1391.0000     10.0000   \n",
       "2        12583      7281.3800        2.0000 5060.0000     15.0000   \n",
       "3        13748       948.2500       95.0000  439.0000      5.0000   \n",
       "4        15100       876.0000      333.0000   80.0000      3.0000   \n",
       "\n",
       "   qt_products  avg_ticket  avg_recency_days  frequency  qt_returns  \\\n",
       "0      21.0000     18.1522            1.0000    34.0000     40.0000   \n",
       "1     105.0000     18.8229            1.0000     0.0292     36.0000   \n",
       "2     114.0000     29.4793            1.0000     0.0404     51.0000   \n",
       "3      24.0000     33.8661            1.0000     0.0180      0.0000   \n",
       "4       1.0000    292.0000            1.0000     0.0750     22.0000   \n",
       "\n",
       "   avg_unique_basket_size  avg_basket_size  \n",
       "0                  8.7353          50.9706  \n",
       "1                 17.1000         139.1000  \n",
       "2                 15.4667         337.3333  \n",
       "3                  5.6000          87.8000  \n",
       "4                  1.0000          26.6667  "
      ]
     },
     "execution_count": 46,
     "metadata": {},
     "output_type": "execute_result"
    }
   ],
   "source": [
    "df4.head().sort_values('gross_revenue', ascending=False)\n",
    "# df4[df4['customer_id']==12583]\n",
    "df4.head()\n"
   ]
  },
  {
   "cell_type": "markdown",
   "id": "7398e0a9",
   "metadata": {},
   "source": [
    "### 4.1.2. Recency Days"
   ]
  },
  {
   "cell_type": "code",
   "execution_count": 47,
   "id": "f6d3f652",
   "metadata": {
    "ExecuteTime": {
     "end_time": "2022-03-26T21:06:17.056951Z",
     "start_time": "2022-03-26T21:06:16.949142Z"
    }
   },
   "outputs": [
    {
     "data": {
      "text/html": [
       "<div>\n",
       "<style scoped>\n",
       "    .dataframe tbody tr th:only-of-type {\n",
       "        vertical-align: middle;\n",
       "    }\n",
       "\n",
       "    .dataframe tbody tr th {\n",
       "        vertical-align: top;\n",
       "    }\n",
       "\n",
       "    .dataframe thead th {\n",
       "        text-align: right;\n",
       "    }\n",
       "</style>\n",
       "<table border=\"1\" class=\"dataframe\">\n",
       "  <thead>\n",
       "    <tr style=\"text-align: right;\">\n",
       "      <th></th>\n",
       "      <th>customer_id</th>\n",
       "      <th>gross_revenue</th>\n",
       "      <th>recency_days</th>\n",
       "      <th>qt_items</th>\n",
       "      <th>qt_invoice</th>\n",
       "      <th>qt_products</th>\n",
       "      <th>avg_ticket</th>\n",
       "      <th>avg_recency_days</th>\n",
       "      <th>frequency</th>\n",
       "      <th>qt_returns</th>\n",
       "      <th>avg_unique_basket_size</th>\n",
       "      <th>avg_basket_size</th>\n",
       "    </tr>\n",
       "  </thead>\n",
       "  <tbody>\n",
       "    <tr>\n",
       "      <th>0</th>\n",
       "      <td>17850</td>\n",
       "      <td>5391.2100</td>\n",
       "      <td>372.0000</td>\n",
       "      <td>1733.0000</td>\n",
       "      <td>34.0000</td>\n",
       "      <td>21.0000</td>\n",
       "      <td>18.1522</td>\n",
       "      <td>1.0000</td>\n",
       "      <td>34.0000</td>\n",
       "      <td>40.0000</td>\n",
       "      <td>8.7353</td>\n",
       "      <td>50.9706</td>\n",
       "    </tr>\n",
       "    <tr>\n",
       "      <th>298</th>\n",
       "      <td>15332</td>\n",
       "      <td>1661.0600</td>\n",
       "      <td>366.0000</td>\n",
       "      <td>652.0000</td>\n",
       "      <td>4.0000</td>\n",
       "      <td>29.0000</td>\n",
       "      <td>47.4589</td>\n",
       "      <td>1.0000</td>\n",
       "      <td>1.3333</td>\n",
       "      <td>0.0000</td>\n",
       "      <td>8.7500</td>\n",
       "      <td>163.0000</td>\n",
       "    </tr>\n",
       "    <tr>\n",
       "      <th>656</th>\n",
       "      <td>16499</td>\n",
       "      <td>365.4500</td>\n",
       "      <td>360.0000</td>\n",
       "      <td>127.0000</td>\n",
       "      <td>2.0000</td>\n",
       "      <td>18.0000</td>\n",
       "      <td>19.2342</td>\n",
       "      <td>1.0000</td>\n",
       "      <td>0.5000</td>\n",
       "      <td>5.0000</td>\n",
       "      <td>9.5000</td>\n",
       "      <td>63.5000</td>\n",
       "    </tr>\n",
       "    <tr>\n",
       "      <th>369</th>\n",
       "      <td>17691</td>\n",
       "      <td>290.4000</td>\n",
       "      <td>358.0000</td>\n",
       "      <td>134.0000</td>\n",
       "      <td>2.0000</td>\n",
       "      <td>18.0000</td>\n",
       "      <td>15.2842</td>\n",
       "      <td>1.0000</td>\n",
       "      <td>0.2000</td>\n",
       "      <td>0.0000</td>\n",
       "      <td>9.5000</td>\n",
       "      <td>67.0000</td>\n",
       "    </tr>\n",
       "    <tr>\n",
       "      <th>220</th>\n",
       "      <td>12967</td>\n",
       "      <td>1660.9000</td>\n",
       "      <td>358.0000</td>\n",
       "      <td>438.0000</td>\n",
       "      <td>2.0000</td>\n",
       "      <td>19.0000</td>\n",
       "      <td>87.4158</td>\n",
       "      <td>1.0000</td>\n",
       "      <td>0.1538</td>\n",
       "      <td>195.0000</td>\n",
       "      <td>9.5000</td>\n",
       "      <td>219.0000</td>\n",
       "    </tr>\n",
       "  </tbody>\n",
       "</table>\n",
       "</div>"
      ],
      "text/plain": [
       "     customer_id  gross_revenue  recency_days  qt_items  qt_invoice  \\\n",
       "0          17850      5391.2100      372.0000 1733.0000     34.0000   \n",
       "298        15332      1661.0600      366.0000  652.0000      4.0000   \n",
       "656        16499       365.4500      360.0000  127.0000      2.0000   \n",
       "369        17691       290.4000      358.0000  134.0000      2.0000   \n",
       "220        12967      1660.9000      358.0000  438.0000      2.0000   \n",
       "\n",
       "     qt_products  avg_ticket  avg_recency_days  frequency  qt_returns  \\\n",
       "0        21.0000     18.1522            1.0000    34.0000     40.0000   \n",
       "298      29.0000     47.4589            1.0000     1.3333      0.0000   \n",
       "656      18.0000     19.2342            1.0000     0.5000      5.0000   \n",
       "369      18.0000     15.2842            1.0000     0.2000      0.0000   \n",
       "220      19.0000     87.4158            1.0000     0.1538    195.0000   \n",
       "\n",
       "     avg_unique_basket_size  avg_basket_size  \n",
       "0                    8.7353          50.9706  \n",
       "298                  8.7500         163.0000  \n",
       "656                  9.5000          63.5000  \n",
       "369                  9.5000          67.0000  \n",
       "220                  9.5000         219.0000  "
      ]
     },
     "execution_count": 47,
     "metadata": {},
     "output_type": "execute_result"
    }
   ],
   "source": [
    "df4.sort_values('recency_days', ascending=False).head() \n",
    "\n"
   ]
  },
  {
   "cell_type": "markdown",
   "id": "48ed553d",
   "metadata": {},
   "source": [
    "### 4.1.3. Qtd Items"
   ]
  },
  {
   "cell_type": "code",
   "execution_count": 48,
   "id": "42c00ad1",
   "metadata": {
    "ExecuteTime": {
     "end_time": "2022-03-26T21:06:17.151694Z",
     "start_time": "2022-03-26T21:06:17.058762Z"
    }
   },
   "outputs": [
    {
     "data": {
      "text/html": [
       "<div>\n",
       "<style scoped>\n",
       "    .dataframe tbody tr th:only-of-type {\n",
       "        vertical-align: middle;\n",
       "    }\n",
       "\n",
       "    .dataframe tbody tr th {\n",
       "        vertical-align: top;\n",
       "    }\n",
       "\n",
       "    .dataframe thead th {\n",
       "        text-align: right;\n",
       "    }\n",
       "</style>\n",
       "<table border=\"1\" class=\"dataframe\">\n",
       "  <thead>\n",
       "    <tr style=\"text-align: right;\">\n",
       "      <th></th>\n",
       "      <th>customer_id</th>\n",
       "      <th>qt_items</th>\n",
       "      <th>qt_returns</th>\n",
       "    </tr>\n",
       "  </thead>\n",
       "  <tbody>\n",
       "    <tr>\n",
       "      <th>1031</th>\n",
       "      <td>14646</td>\n",
       "      <td>196915.0000</td>\n",
       "      <td>772.0000</td>\n",
       "    </tr>\n",
       "    <tr>\n",
       "      <th>3414</th>\n",
       "      <td>16446</td>\n",
       "      <td>80997.0000</td>\n",
       "      <td>80995.0000</td>\n",
       "    </tr>\n",
       "    <tr>\n",
       "      <th>67</th>\n",
       "      <td>14911</td>\n",
       "      <td>80265.0000</td>\n",
       "      <td>3335.0000</td>\n",
       "    </tr>\n",
       "    <tr>\n",
       "      <th>1168</th>\n",
       "      <td>12415</td>\n",
       "      <td>77374.0000</td>\n",
       "      <td>428.0000</td>\n",
       "    </tr>\n",
       "    <tr>\n",
       "      <th>434</th>\n",
       "      <td>17450</td>\n",
       "      <td>69993.0000</td>\n",
       "      <td>964.0000</td>\n",
       "    </tr>\n",
       "  </tbody>\n",
       "</table>\n",
       "</div>"
      ],
      "text/plain": [
       "      customer_id    qt_items  qt_returns\n",
       "1031        14646 196915.0000    772.0000\n",
       "3414        16446  80997.0000  80995.0000\n",
       "67          14911  80265.0000   3335.0000\n",
       "1168        12415  77374.0000    428.0000\n",
       "434         17450  69993.0000    964.0000"
      ]
     },
     "execution_count": 48,
     "metadata": {},
     "output_type": "execute_result"
    }
   ],
   "source": [
    "aux = df4.sort_values('qt_items', ascending=False).head() \n",
    "\n",
    "#investigating top 5  of qt_items\n",
    "aux[['customer_id','qt_items', 'qt_returns']]\n",
    "\n",
    "#top 2 customer is an strange outlier of qtd items"
   ]
  },
  {
   "cell_type": "markdown",
   "id": "2f38b152",
   "metadata": {},
   "source": [
    "### 4.1.4. Qtd Invoice\n"
   ]
  },
  {
   "cell_type": "code",
   "execution_count": 49,
   "id": "2d0a650a",
   "metadata": {
    "ExecuteTime": {
     "end_time": "2022-03-26T21:06:17.250140Z",
     "start_time": "2022-03-26T21:06:17.153495Z"
    }
   },
   "outputs": [
    {
     "data": {
      "text/html": [
       "<div>\n",
       "<style scoped>\n",
       "    .dataframe tbody tr th:only-of-type {\n",
       "        vertical-align: middle;\n",
       "    }\n",
       "\n",
       "    .dataframe tbody tr th {\n",
       "        vertical-align: top;\n",
       "    }\n",
       "\n",
       "    .dataframe thead th {\n",
       "        text-align: right;\n",
       "    }\n",
       "</style>\n",
       "<table border=\"1\" class=\"dataframe\">\n",
       "  <thead>\n",
       "    <tr style=\"text-align: right;\">\n",
       "      <th></th>\n",
       "      <th>qt_invoice</th>\n",
       "      <th>gross_revenue</th>\n",
       "      <th>avg_ticket</th>\n",
       "      <th>avg_basket_size</th>\n",
       "    </tr>\n",
       "  </thead>\n",
       "  <tbody>\n",
       "    <tr>\n",
       "      <th>48</th>\n",
       "      <td>209.0000</td>\n",
       "      <td>33719.7300</td>\n",
       "      <td>7.3384</td>\n",
       "      <td>123.1914</td>\n",
       "    </tr>\n",
       "    <tr>\n",
       "      <th>67</th>\n",
       "      <td>201.0000</td>\n",
       "      <td>143825.0600</td>\n",
       "      <td>25.3436</td>\n",
       "      <td>399.3284</td>\n",
       "    </tr>\n",
       "    <tr>\n",
       "      <th>69</th>\n",
       "      <td>124.0000</td>\n",
       "      <td>40991.5700</td>\n",
       "      <td>5.2239</td>\n",
       "      <td>186.0565</td>\n",
       "    </tr>\n",
       "    <tr>\n",
       "      <th>280</th>\n",
       "      <td>97.0000</td>\n",
       "      <td>58825.8300</td>\n",
       "      <td>32.3574</td>\n",
       "      <td>320.3093</td>\n",
       "    </tr>\n",
       "    <tr>\n",
       "      <th>97</th>\n",
       "      <td>93.0000</td>\n",
       "      <td>12156.6500</td>\n",
       "      <td>4.5025</td>\n",
       "      <td>66.9247</td>\n",
       "    </tr>\n",
       "  </tbody>\n",
       "</table>\n",
       "</div>"
      ],
      "text/plain": [
       "     qt_invoice  gross_revenue  avg_ticket  avg_basket_size\n",
       "48     209.0000     33719.7300      7.3384         123.1914\n",
       "67     201.0000    143825.0600     25.3436         399.3284\n",
       "69     124.0000     40991.5700      5.2239         186.0565\n",
       "280     97.0000     58825.8300     32.3574         320.3093\n",
       "97      93.0000     12156.6500      4.5025          66.9247"
      ]
     },
     "execution_count": 49,
     "metadata": {},
     "output_type": "execute_result"
    }
   ],
   "source": [
    "aux = df4.sort_values('qt_invoice', ascending=False).head() \n",
    "\n",
    "#understanding top 5 qtd invoice\n",
    "aux[['qt_invoice', 'gross_revenue','avg_ticket','avg_basket_size']]\n"
   ]
  },
  {
   "cell_type": "markdown",
   "id": "898ce8ad",
   "metadata": {},
   "source": [
    "### 4.1.5. Qtd Products"
   ]
  },
  {
   "cell_type": "code",
   "execution_count": 50,
   "id": "72176bba",
   "metadata": {
    "ExecuteTime": {
     "end_time": "2022-03-26T21:06:17.351264Z",
     "start_time": "2022-03-26T21:06:17.251924Z"
    }
   },
   "outputs": [
    {
     "data": {
      "text/html": [
       "<div>\n",
       "<style scoped>\n",
       "    .dataframe tbody tr th:only-of-type {\n",
       "        vertical-align: middle;\n",
       "    }\n",
       "\n",
       "    .dataframe tbody tr th {\n",
       "        vertical-align: top;\n",
       "    }\n",
       "\n",
       "    .dataframe thead th {\n",
       "        text-align: right;\n",
       "    }\n",
       "</style>\n",
       "<table border=\"1\" class=\"dataframe\">\n",
       "  <thead>\n",
       "    <tr style=\"text-align: right;\">\n",
       "      <th></th>\n",
       "      <th>qt_products</th>\n",
       "      <th>qt_invoice</th>\n",
       "      <th>gross_revenue</th>\n",
       "      <th>avg_ticket</th>\n",
       "      <th>avg_basket_size</th>\n",
       "    </tr>\n",
       "  </thead>\n",
       "  <tbody>\n",
       "    <tr>\n",
       "      <th>67</th>\n",
       "      <td>1786.0000</td>\n",
       "      <td>201.0000</td>\n",
       "      <td>143825.0600</td>\n",
       "      <td>25.3436</td>\n",
       "      <td>399.3284</td>\n",
       "    </tr>\n",
       "    <tr>\n",
       "      <th>48</th>\n",
       "      <td>1766.0000</td>\n",
       "      <td>209.0000</td>\n",
       "      <td>33719.7300</td>\n",
       "      <td>7.3384</td>\n",
       "      <td>123.1914</td>\n",
       "    </tr>\n",
       "    <tr>\n",
       "      <th>69</th>\n",
       "      <td>1322.0000</td>\n",
       "      <td>124.0000</td>\n",
       "      <td>40991.5700</td>\n",
       "      <td>5.2239</td>\n",
       "      <td>186.0565</td>\n",
       "    </tr>\n",
       "    <tr>\n",
       "      <th>4543</th>\n",
       "      <td>1118.0000</td>\n",
       "      <td>17.0000</td>\n",
       "      <td>65164.7900</td>\n",
       "      <td>12.7499</td>\n",
       "      <td>961.8824</td>\n",
       "    </tr>\n",
       "    <tr>\n",
       "      <th>840</th>\n",
       "      <td>884.0000</td>\n",
       "      <td>44.0000</td>\n",
       "      <td>51527.3000</td>\n",
       "      <td>31.4767</td>\n",
       "      <td>1325.9773</td>\n",
       "    </tr>\n",
       "  </tbody>\n",
       "</table>\n",
       "</div>"
      ],
      "text/plain": [
       "      qt_products  qt_invoice  gross_revenue  avg_ticket  avg_basket_size\n",
       "67      1786.0000    201.0000    143825.0600     25.3436         399.3284\n",
       "48      1766.0000    209.0000     33719.7300      7.3384         123.1914\n",
       "69      1322.0000    124.0000     40991.5700      5.2239         186.0565\n",
       "4543    1118.0000     17.0000     65164.7900     12.7499         961.8824\n",
       "840      884.0000     44.0000     51527.3000     31.4767        1325.9773"
      ]
     },
     "execution_count": 50,
     "metadata": {},
     "output_type": "execute_result"
    }
   ],
   "source": [
    "aux = df4.sort_values('qt_products', ascending=False).head() \n",
    "aux[['qt_products','qt_invoice', 'gross_revenue','avg_ticket','avg_basket_size']]"
   ]
  },
  {
   "cell_type": "markdown",
   "id": "ba25c146",
   "metadata": {},
   "source": [
    "### 4.1.6. Avg Ticket"
   ]
  },
  {
   "cell_type": "code",
   "execution_count": 51,
   "id": "7809c326",
   "metadata": {
    "ExecuteTime": {
     "end_time": "2022-03-26T21:06:17.464612Z",
     "start_time": "2022-03-26T21:06:17.353321Z"
    }
   },
   "outputs": [
    {
     "data": {
      "text/html": [
       "<div>\n",
       "<style scoped>\n",
       "    .dataframe tbody tr th:only-of-type {\n",
       "        vertical-align: middle;\n",
       "    }\n",
       "\n",
       "    .dataframe tbody tr th {\n",
       "        vertical-align: top;\n",
       "    }\n",
       "\n",
       "    .dataframe thead th {\n",
       "        text-align: right;\n",
       "    }\n",
       "</style>\n",
       "<table border=\"1\" class=\"dataframe\">\n",
       "  <thead>\n",
       "    <tr style=\"text-align: right;\">\n",
       "      <th></th>\n",
       "      <th>customer_id</th>\n",
       "      <th>qt_items</th>\n",
       "      <th>avg_ticket</th>\n",
       "      <th>qt_returns</th>\n",
       "    </tr>\n",
       "  </thead>\n",
       "  <tbody>\n",
       "    <tr>\n",
       "      <th>3414</th>\n",
       "      <td>16446</td>\n",
       "      <td>80997.0000</td>\n",
       "      <td>56157.5000</td>\n",
       "      <td>80995.0000</td>\n",
       "    </tr>\n",
       "    <tr>\n",
       "      <th>1281</th>\n",
       "      <td>15749</td>\n",
       "      <td>18028.0000</td>\n",
       "      <td>4453.4300</td>\n",
       "      <td>9014.0000</td>\n",
       "    </tr>\n",
       "    <tr>\n",
       "      <th>1843</th>\n",
       "      <td>18087</td>\n",
       "      <td>3907.0000</td>\n",
       "      <td>2027.8600</td>\n",
       "      <td>336.0000</td>\n",
       "    </tr>\n",
       "    <tr>\n",
       "      <th>1153</th>\n",
       "      <td>16532</td>\n",
       "      <td>2016.0000</td>\n",
       "      <td>1687.2000</td>\n",
       "      <td>0.0000</td>\n",
       "    </tr>\n",
       "    <tr>\n",
       "      <th>612</th>\n",
       "      <td>12755</td>\n",
       "      <td>1491.0000</td>\n",
       "      <td>952.9875</td>\n",
       "      <td>625.0000</td>\n",
       "    </tr>\n",
       "    <tr>\n",
       "      <th>3866</th>\n",
       "      <td>12798</td>\n",
       "      <td>5256.0000</td>\n",
       "      <td>872.1300</td>\n",
       "      <td>0.0000</td>\n",
       "    </tr>\n",
       "    <tr>\n",
       "      <th>251</th>\n",
       "      <td>17949</td>\n",
       "      <td>30546.0000</td>\n",
       "      <td>835.8640</td>\n",
       "      <td>2975.0000</td>\n",
       "    </tr>\n",
       "    <tr>\n",
       "      <th>188</th>\n",
       "      <td>15299</td>\n",
       "      <td>2948.0000</td>\n",
       "      <td>643.8586</td>\n",
       "      <td>8.0000</td>\n",
       "    </tr>\n",
       "    <tr>\n",
       "      <th>2594</th>\n",
       "      <td>16308</td>\n",
       "      <td>8000.0000</td>\n",
       "      <td>640.0000</td>\n",
       "      <td>0.0000</td>\n",
       "    </tr>\n",
       "    <tr>\n",
       "      <th>5588</th>\n",
       "      <td>16986</td>\n",
       "      <td>1040.0000</td>\n",
       "      <td>624.4000</td>\n",
       "      <td>0.0000</td>\n",
       "    </tr>\n",
       "  </tbody>\n",
       "</table>\n",
       "</div>"
      ],
      "text/plain": [
       "      customer_id   qt_items  avg_ticket  qt_returns\n",
       "3414        16446 80997.0000  56157.5000  80995.0000\n",
       "1281        15749 18028.0000   4453.4300   9014.0000\n",
       "1843        18087  3907.0000   2027.8600    336.0000\n",
       "1153        16532  2016.0000   1687.2000      0.0000\n",
       "612         12755  1491.0000    952.9875    625.0000\n",
       "3866        12798  5256.0000    872.1300      0.0000\n",
       "251         17949 30546.0000    835.8640   2975.0000\n",
       "188         15299  2948.0000    643.8586      8.0000\n",
       "2594        16308  8000.0000    640.0000      0.0000\n",
       "5588        16986  1040.0000    624.4000      0.0000"
      ]
     },
     "execution_count": 51,
     "metadata": {},
     "output_type": "execute_result"
    }
   ],
   "source": [
    "aux = df4.sort_values('avg_ticket', ascending=False).head(10) \n",
    "\n",
    "#investigating outliers\n",
    "aux[['customer_id','qt_items','avg_ticket', 'qt_returns']]\n"
   ]
  },
  {
   "cell_type": "markdown",
   "id": "865e0b1b",
   "metadata": {},
   "source": [
    "### 4.1.7. Avg Recency days"
   ]
  },
  {
   "cell_type": "code",
   "execution_count": 52,
   "id": "50501565",
   "metadata": {
    "ExecuteTime": {
     "end_time": "2022-03-26T21:06:17.551640Z",
     "start_time": "2022-03-26T21:06:17.468807Z"
    }
   },
   "outputs": [],
   "source": [
    "aux = df4.sort_values('avg_recency_days', ascending=True).head() \n",
    "\n",
    "# aux"
   ]
  },
  {
   "cell_type": "markdown",
   "id": "17699b2c",
   "metadata": {
    "ExecuteTime": {
     "end_time": "2022-03-26T13:10:51.357445Z",
     "start_time": "2022-03-26T13:10:51.350560Z"
    }
   },
   "source": [
    "## 4.2 Bivariate Analysis"
   ]
  },
  {
   "cell_type": "code",
   "execution_count": 53,
   "id": "ffca2507",
   "metadata": {
    "ExecuteTime": {
     "end_time": "2022-03-26T21:06:17.650906Z",
     "start_time": "2022-03-26T21:06:17.553682Z"
    }
   },
   "outputs": [
    {
     "data": {
      "text/plain": [
       "Index(['customer_id', 'gross_revenue', 'recency_days', 'qt_items',\n",
       "       'qt_invoice', 'qt_products', 'avg_ticket', 'avg_recency_days',\n",
       "       'frequency', 'qt_returns', 'avg_unique_basket_size', 'avg_basket_size'],\n",
       "      dtype='object')"
      ]
     },
     "execution_count": 53,
     "metadata": {},
     "output_type": "execute_result"
    }
   ],
   "source": [
    "df4.columns"
   ]
  },
  {
   "cell_type": "markdown",
   "id": "27ab544a",
   "metadata": {
    "ExecuteTime": {
     "end_time": "2022-03-26T13:10:51.357445Z",
     "start_time": "2022-03-26T13:10:51.350560Z"
    }
   },
   "source": [
    "## 4.3. Estudo do Espaço"
   ]
  },
  {
   "cell_type": "code",
   "execution_count": 54,
   "id": "dd70b1bb",
   "metadata": {
    "ExecuteTime": {
     "end_time": "2022-03-26T21:06:17.810483Z",
     "start_time": "2022-03-26T21:06:17.653025Z"
    }
   },
   "outputs": [],
   "source": [
    "mms = pp.MinMaxScaler()\n",
    "\n",
    "df43 = df4.copy()\n",
    "df43['gross_revenue'] = mms.fit_transform(df4[['gross_revenue']])\n",
    "df43['recency_days'] = mms.fit_transform(df4[['recency_days']])\n",
    "df43['qt_items'] = mms.fit_transform(df4[['qt_items']])\n",
    "df43['qt_invoice'] = mms.fit_transform(df4[['qt_invoice']])\n",
    "df43['qt_products'] = mms.fit_transform(df4[['qt_products']])\n",
    "df43['avg_ticket'] = mms.fit_transform(df4[['avg_ticket']])\n",
    "df43['avg_recency_days'] = mms.fit_transform(df4[['avg_recency_days']])\n",
    "df43['frequency'] = mms.fit_transform(df4[['frequency']])\n",
    "df43['qt_returns'] = mms.fit_transform(df4[['qt_returns']])\n",
    "df43['avg_unique_basket_size'] = mms.fit_transform(df4[['avg_unique_basket_size']])\n",
    "df43['avg_basket_size'] = mms.fit_transform(df4[['avg_basket_size']])\n",
    "\n"
   ]
  },
  {
   "cell_type": "markdown",
   "id": "8bf50b35",
   "metadata": {},
   "source": [
    "### 4.3.1. PCA"
   ]
  },
  {
   "cell_type": "code",
   "execution_count": 63,
   "id": "26bf13e0",
   "metadata": {
    "ExecuteTime": {
     "end_time": "2022-03-26T21:20:24.774823Z",
     "start_time": "2022-03-26T21:20:24.543140Z"
    }
   },
   "outputs": [
    {
     "data": {
      "image/png": "[encoded data removed]",
      "text/plain": [
       "<Figure size 432x288 with 1 Axes>"
      ]
     },
     "metadata": {
      "needs_background": "light"
     },
     "output_type": "display_data"
    }
   ],
   "source": [
    "\n",
    "X = df43.copy().drop('customer_id', axis=1)\n",
    "\n",
    "pca = dd.PCA(n_components=X.shape[1])\n",
    "principal_components = pca.fit_transform(X)\n",
    "\n",
    "#plot explained variable\n",
    "features = range(pca.n_components)\n",
    "plt.bar(features, pca.explained_variance_ratio_, color='black');\n",
    "\n",
    "#pca component\n",
    "df_pca = pd.DataFrame(principal_components)\n",
    "\n"
   ]
  },
  {
   "cell_type": "code",
   "execution_count": 65,
   "id": "d61adb5d",
   "metadata": {
    "ExecuteTime": {
     "end_time": "2022-03-26T21:21:45.423534Z",
     "start_time": "2022-03-26T21:21:45.223415Z"
    }
   },
   "outputs": [
    {
     "data": {
      "text/plain": [
       "<AxesSubplot:xlabel='0', ylabel='1'>"
      ]
     },
     "execution_count": 65,
     "metadata": {},
     "output_type": "execute_result"
    },
    {
     "data": {
      "image/png": "[encoded data removed]",
      "text/plain": [
       "<Figure size 1440x864 with 1 Axes>"
      ]
     },
     "metadata": {
      "needs_background": "light"
     },
     "output_type": "display_data"
    }
   ],
   "source": [
    "plt.figure(figsize=(20,12))\n",
    "sns.scatterplot(x=0, y=1, data=df_pca)"
   ]
  },
  {
   "cell_type": "code",
   "execution_count": 68,
   "id": "d59f255c",
   "metadata": {
    "ExecuteTime": {
     "end_time": "2022-03-26T21:23:47.137452Z",
     "start_time": "2022-03-26T21:23:47.124324Z"
    }
   },
   "outputs": [
    {
     "data": {
      "text/html": [
       "<div>\n",
       "<style scoped>\n",
       "    .dataframe tbody tr th:only-of-type {\n",
       "        vertical-align: middle;\n",
       "    }\n",
       "\n",
       "    .dataframe tbody tr th {\n",
       "        vertical-align: top;\n",
       "    }\n",
       "\n",
       "    .dataframe thead th {\n",
       "        text-align: right;\n",
       "    }\n",
       "</style>\n",
       "<table border=\"1\" class=\"dataframe\">\n",
       "  <thead>\n",
       "    <tr style=\"text-align: right;\">\n",
       "      <th></th>\n",
       "      <th>0</th>\n",
       "      <th>1</th>\n",
       "      <th>2</th>\n",
       "      <th>3</th>\n",
       "      <th>4</th>\n",
       "      <th>5</th>\n",
       "      <th>6</th>\n",
       "      <th>7</th>\n",
       "      <th>8</th>\n",
       "      <th>9</th>\n",
       "      <th>10</th>\n",
       "      <th>embedding_x</th>\n",
       "      <th>embedding_y</th>\n",
       "    </tr>\n",
       "  </thead>\n",
       "  <tbody>\n",
       "    <tr>\n",
       "      <th>0</th>\n",
       "      <td>0.8480</td>\n",
       "      <td>0.1029</td>\n",
       "      <td>0.1201</td>\n",
       "      <td>-0.0766</td>\n",
       "      <td>-0.0892</td>\n",
       "      <td>0.0309</td>\n",
       "      <td>0.9702</td>\n",
       "      <td>-0.1898</td>\n",
       "      <td>0.0027</td>\n",
       "      <td>0.0004</td>\n",
       "      <td>0.0002</td>\n",
       "      <td>-4.2336</td>\n",
       "      <td>6.0361</td>\n",
       "    </tr>\n",
       "    <tr>\n",
       "      <th>1</th>\n",
       "      <td>-0.0703</td>\n",
       "      <td>-0.0042</td>\n",
       "      <td>0.0129</td>\n",
       "      <td>-0.0164</td>\n",
       "      <td>-0.0161</td>\n",
       "      <td>0.0065</td>\n",
       "      <td>-0.0011</td>\n",
       "      <td>0.0002</td>\n",
       "      <td>0.0026</td>\n",
       "      <td>0.0005</td>\n",
       "      <td>-0.0001</td>\n",
       "      <td>11.1608</td>\n",
       "      <td>3.4659</td>\n",
       "    </tr>\n",
       "    <tr>\n",
       "      <th>2</th>\n",
       "      <td>-0.1502</td>\n",
       "      <td>0.0005</td>\n",
       "      <td>0.0382</td>\n",
       "      <td>-0.0264</td>\n",
       "      <td>-0.0133</td>\n",
       "      <td>0.0016</td>\n",
       "      <td>0.0019</td>\n",
       "      <td>0.0078</td>\n",
       "      <td>-0.0045</td>\n",
       "      <td>-0.0022</td>\n",
       "      <td>-0.0000</td>\n",
       "      <td>10.1106</td>\n",
       "      <td>1.3837</td>\n",
       "    </tr>\n",
       "    <tr>\n",
       "      <th>3</th>\n",
       "      <td>0.1081</td>\n",
       "      <td>-0.0470</td>\n",
       "      <td>0.0167</td>\n",
       "      <td>-0.0247</td>\n",
       "      <td>-0.0093</td>\n",
       "      <td>0.0020</td>\n",
       "      <td>-0.0032</td>\n",
       "      <td>-0.0006</td>\n",
       "      <td>0.0011</td>\n",
       "      <td>0.0009</td>\n",
       "      <td>-0.0005</td>\n",
       "      <td>5.1517</td>\n",
       "      <td>12.3409</td>\n",
       "    </tr>\n",
       "    <tr>\n",
       "      <th>4</th>\n",
       "      <td>0.7454</td>\n",
       "      <td>0.0077</td>\n",
       "      <td>0.0343</td>\n",
       "      <td>-0.0388</td>\n",
       "      <td>-0.0154</td>\n",
       "      <td>0.0066</td>\n",
       "      <td>-0.0099</td>\n",
       "      <td>-0.0015</td>\n",
       "      <td>0.0030</td>\n",
       "      <td>0.0022</td>\n",
       "      <td>-0.0040</td>\n",
       "      <td>-4.1404</td>\n",
       "      <td>6.1242</td>\n",
       "    </tr>\n",
       "  </tbody>\n",
       "</table>\n",
       "</div>"
      ],
      "text/plain": [
       "        0       1      2       3       4      5       6       7       8  \\\n",
       "0  0.8480  0.1029 0.1201 -0.0766 -0.0892 0.0309  0.9702 -0.1898  0.0027   \n",
       "1 -0.0703 -0.0042 0.0129 -0.0164 -0.0161 0.0065 -0.0011  0.0002  0.0026   \n",
       "2 -0.1502  0.0005 0.0382 -0.0264 -0.0133 0.0016  0.0019  0.0078 -0.0045   \n",
       "3  0.1081 -0.0470 0.0167 -0.0247 -0.0093 0.0020 -0.0032 -0.0006  0.0011   \n",
       "4  0.7454  0.0077 0.0343 -0.0388 -0.0154 0.0066 -0.0099 -0.0015  0.0030   \n",
       "\n",
       "        9      10  embedding_x  embedding_y  \n",
       "0  0.0004  0.0002      -4.2336       6.0361  \n",
       "1  0.0005 -0.0001      11.1608       3.4659  \n",
       "2 -0.0022 -0.0000      10.1106       1.3837  \n",
       "3  0.0009 -0.0005       5.1517      12.3409  \n",
       "4  0.0022 -0.0040      -4.1404       6.1242  "
      ]
     },
     "execution_count": 68,
     "metadata": {},
     "output_type": "execute_result"
    }
   ],
   "source": [
    "df_pca.head()"
   ]
  },
  {
   "cell_type": "markdown",
   "id": "a10ac731",
   "metadata": {},
   "source": [
    "### 4.3.2. UMAP"
   ]
  },
  {
   "cell_type": "code",
   "execution_count": 74,
   "id": "924549d8",
   "metadata": {
    "ExecuteTime": {
     "end_time": "2022-03-26T21:27:56.870802Z",
     "start_time": "2022-03-26T21:27:49.337809Z"
    }
   },
   "outputs": [
    {
     "data": {
      "image/png": "[encoded data removed]",
      "text/plain": [
       "<Figure size 1440x864 with 1 Axes>"
      ]
     },
     "metadata": {
      "needs_background": "light"
     },
     "output_type": "display_data"
    }
   ],
   "source": [
    "\n",
    "\n",
    "reducer = umap.UMAP( random_state=3)\n",
    "embedding = reducer.fit_transform(X)\n",
    "\n",
    "df_pca['embedding_x'] = embedding[:,0]\n",
    "df_pca['embedding_y'] = embedding[:,1]\n",
    "\n",
    "plt.figure(figsize=(20,12));\n",
    "sns.scatterplot(x='embedding_x', y='embedding_y',data=df_pca);"
   ]
  },
  {
   "cell_type": "markdown",
   "id": "671a8093",
   "metadata": {},
   "source": [
    "### 4.3.3. t-SNE"
   ]
  },
  {
   "cell_type": "code",
   "execution_count": 75,
   "id": "30a6bff8",
   "metadata": {
    "ExecuteTime": {
     "end_time": "2022-03-26T21:28:04.816120Z",
     "start_time": "2022-03-26T21:27:56.872691Z"
    }
   },
   "outputs": [
    {
     "name": "stderr",
     "output_type": "stream",
     "text": [
      "/home/heitor/repos/insiders_clustering/venv/lib/python3.8/site-packages/sklearn/manifold/_t_sne.py:780: FutureWarning: The default initialization in TSNE will change from 'random' to 'pca' in 1.2.\n",
      "  warnings.warn(\n",
      "/home/heitor/repos/insiders_clustering/venv/lib/python3.8/site-packages/sklearn/manifold/_t_sne.py:790: FutureWarning: The default learning rate in TSNE will change from 200.0 to 'auto' in 1.2.\n",
      "  warnings.warn(\n"
     ]
    },
    {
     "data": {
      "image/png": "[encoded data removed]",
      "text/plain": [
       "<Figure size 1440x864 with 1 Axes>"
      ]
     },
     "metadata": {
      "needs_background": "light"
     },
     "output_type": "display_data"
    }
   ],
   "source": [
    "reducer = TSNE( n_components=2,n_jobs=-1, random_state=3)\n",
    "embedding = reducer.fit_transform(X)\n",
    "\n",
    "df_pca['embedding_x'] = embedding[:,0]\n",
    "df_pca['embedding_y'] = embedding[:,1]\n",
    "plt.figure(figsize=(20,12));\n",
    "sns.scatterplot(x='embedding_x', y='embedding_y',data=df_pca);"
   ]
  },
  {
   "cell_type": "markdown",
   "id": "08bbaabc",
   "metadata": {},
   "source": [
    "### 4.3.4. Tree-Based Embedding"
   ]
  },
  {
   "cell_type": "code",
   "execution_count": 90,
   "id": "abecc008",
   "metadata": {
    "ExecuteTime": {
     "end_time": "2022-03-26T21:35:21.146697Z",
     "start_time": "2022-03-26T21:35:19.607273Z"
    }
   },
   "outputs": [],
   "source": [
    "#training dataset\n",
    "X = df4.drop(['gross_revenue','customer_id'], axis=1)\n",
    "y = df4['gross_revenue']\n",
    "\n",
    "#model definition\n",
    "rf_model = en.RandomForestRegressor(random_state=42, n_estimators=100)\n",
    "\n",
    "#model training\n",
    "rf_model.fit(X,y)\n",
    "\n",
    "#leaf\n",
    "\n",
    "\n",
    "#dataframe leaf\n",
    "df_leaf = pd.DataFrame(rf_model.apply(X))"
   ]
  },
  {
   "cell_type": "code",
   "execution_count": 86,
   "id": "dd041891",
   "metadata": {
    "ExecuteTime": {
     "end_time": "2022-03-26T21:33:59.140929Z",
     "start_time": "2022-03-26T21:33:59.127182Z"
    }
   },
   "outputs": [
    {
     "data": {
      "text/html": [
       "<div>\n",
       "<style scoped>\n",
       "    .dataframe tbody tr th:only-of-type {\n",
       "        vertical-align: middle;\n",
       "    }\n",
       "\n",
       "    .dataframe tbody tr th {\n",
       "        vertical-align: top;\n",
       "    }\n",
       "\n",
       "    .dataframe thead th {\n",
       "        text-align: right;\n",
       "    }\n",
       "</style>\n",
       "<table border=\"1\" class=\"dataframe\">\n",
       "  <thead>\n",
       "    <tr style=\"text-align: right;\">\n",
       "      <th></th>\n",
       "      <th>0</th>\n",
       "      <th>1</th>\n",
       "      <th>2</th>\n",
       "      <th>3</th>\n",
       "      <th>4</th>\n",
       "      <th>5</th>\n",
       "      <th>6</th>\n",
       "      <th>7</th>\n",
       "      <th>8</th>\n",
       "      <th>9</th>\n",
       "      <th>...</th>\n",
       "      <th>90</th>\n",
       "      <th>91</th>\n",
       "      <th>92</th>\n",
       "      <th>93</th>\n",
       "      <th>94</th>\n",
       "      <th>95</th>\n",
       "      <th>96</th>\n",
       "      <th>97</th>\n",
       "      <th>98</th>\n",
       "      <th>99</th>\n",
       "    </tr>\n",
       "  </thead>\n",
       "  <tbody>\n",
       "    <tr>\n",
       "      <th>0</th>\n",
       "      <td>2959</td>\n",
       "      <td>3022</td>\n",
       "      <td>3121</td>\n",
       "      <td>3044</td>\n",
       "      <td>2905</td>\n",
       "      <td>2906</td>\n",
       "      <td>2858</td>\n",
       "      <td>3060</td>\n",
       "      <td>2771</td>\n",
       "      <td>3034</td>\n",
       "      <td>...</td>\n",
       "      <td>2855</td>\n",
       "      <td>2281</td>\n",
       "      <td>2895</td>\n",
       "      <td>3088</td>\n",
       "      <td>2867</td>\n",
       "      <td>2565</td>\n",
       "      <td>2926</td>\n",
       "      <td>2735</td>\n",
       "      <td>2957</td>\n",
       "      <td>3061</td>\n",
       "    </tr>\n",
       "    <tr>\n",
       "      <th>1</th>\n",
       "      <td>2899</td>\n",
       "      <td>2661</td>\n",
       "      <td>2268</td>\n",
       "      <td>2788</td>\n",
       "      <td>2843</td>\n",
       "      <td>2935</td>\n",
       "      <td>2854</td>\n",
       "      <td>2616</td>\n",
       "      <td>2652</td>\n",
       "      <td>2683</td>\n",
       "      <td>...</td>\n",
       "      <td>2826</td>\n",
       "      <td>2631</td>\n",
       "      <td>2613</td>\n",
       "      <td>2687</td>\n",
       "      <td>2651</td>\n",
       "      <td>2506</td>\n",
       "      <td>2885</td>\n",
       "      <td>2678</td>\n",
       "      <td>2594</td>\n",
       "      <td>2772</td>\n",
       "    </tr>\n",
       "    <tr>\n",
       "      <th>2</th>\n",
       "      <td>3359</td>\n",
       "      <td>3373</td>\n",
       "      <td>3309</td>\n",
       "      <td>3351</td>\n",
       "      <td>3352</td>\n",
       "      <td>3373</td>\n",
       "      <td>3342</td>\n",
       "      <td>3363</td>\n",
       "      <td>3470</td>\n",
       "      <td>3393</td>\n",
       "      <td>...</td>\n",
       "      <td>3320</td>\n",
       "      <td>3341</td>\n",
       "      <td>3206</td>\n",
       "      <td>3340</td>\n",
       "      <td>3358</td>\n",
       "      <td>3378</td>\n",
       "      <td>3410</td>\n",
       "      <td>3198</td>\n",
       "      <td>3372</td>\n",
       "      <td>3333</td>\n",
       "    </tr>\n",
       "    <tr>\n",
       "      <th>3</th>\n",
       "      <td>1285</td>\n",
       "      <td>1238</td>\n",
       "      <td>1200</td>\n",
       "      <td>1195</td>\n",
       "      <td>1934</td>\n",
       "      <td>1714</td>\n",
       "      <td>1509</td>\n",
       "      <td>2060</td>\n",
       "      <td>1192</td>\n",
       "      <td>1089</td>\n",
       "      <td>...</td>\n",
       "      <td>1605</td>\n",
       "      <td>1503</td>\n",
       "      <td>1319</td>\n",
       "      <td>1280</td>\n",
       "      <td>1307</td>\n",
       "      <td>1717</td>\n",
       "      <td>1326</td>\n",
       "      <td>1347</td>\n",
       "      <td>1106</td>\n",
       "      <td>1272</td>\n",
       "    </tr>\n",
       "    <tr>\n",
       "      <th>4</th>\n",
       "      <td>335</td>\n",
       "      <td>708</td>\n",
       "      <td>123</td>\n",
       "      <td>143</td>\n",
       "      <td>604</td>\n",
       "      <td>430</td>\n",
       "      <td>466</td>\n",
       "      <td>396</td>\n",
       "      <td>641</td>\n",
       "      <td>528</td>\n",
       "      <td>...</td>\n",
       "      <td>679</td>\n",
       "      <td>459</td>\n",
       "      <td>625</td>\n",
       "      <td>454</td>\n",
       "      <td>643</td>\n",
       "      <td>554</td>\n",
       "      <td>668</td>\n",
       "      <td>701</td>\n",
       "      <td>146</td>\n",
       "      <td>679</td>\n",
       "    </tr>\n",
       "  </tbody>\n",
       "</table>\n",
       "<p>5 rows × 100 columns</p>\n",
       "</div>"
      ],
      "text/plain": [
       "     0     1     2     3     4     5     6     7     8     9   ...    90  \\\n",
       "0  2959  3022  3121  3044  2905  2906  2858  3060  2771  3034  ...  2855   \n",
       "1  2899  2661  2268  2788  2843  2935  2854  2616  2652  2683  ...  2826   \n",
       "2  3359  3373  3309  3351  3352  3373  3342  3363  3470  3393  ...  3320   \n",
       "3  1285  1238  1200  1195  1934  1714  1509  2060  1192  1089  ...  1605   \n",
       "4   335   708   123   143   604   430   466   396   641   528  ...   679   \n",
       "\n",
       "     91    92    93    94    95    96    97    98    99  \n",
       "0  2281  2895  3088  2867  2565  2926  2735  2957  3061  \n",
       "1  2631  2613  2687  2651  2506  2885  2678  2594  2772  \n",
       "2  3341  3206  3340  3358  3378  3410  3198  3372  3333  \n",
       "3  1503  1319  1280  1307  1717  1326  1347  1106  1272  \n",
       "4   459   625   454   643   554   668   701   146   679  \n",
       "\n",
       "[5 rows x 100 columns]"
      ]
     },
     "execution_count": 86,
     "metadata": {},
     "output_type": "execute_result"
    }
   ],
   "source": [
    "df_leaf.head()"
   ]
  },
  {
   "cell_type": "code",
   "execution_count": 92,
   "id": "81f9083b",
   "metadata": {
    "ExecuteTime": {
     "end_time": "2022-03-26T21:36:53.484252Z",
     "start_time": "2022-03-26T21:36:45.891206Z"
    }
   },
   "outputs": [
    {
     "data": {
      "image/png": "[encoded data removed]",
      "text/plain": [
       "<Figure size 1440x864 with 1 Axes>"
      ]
     },
     "metadata": {
      "needs_background": "light"
     },
     "output_type": "display_data"
    }
   ],
   "source": [
    "reducer = umap.UMAP( random_state=42)\n",
    "embedding = reducer.fit_transform(df_leaf)\n",
    "\n",
    "df_pca['embedding_x'] = embedding[:,0]\n",
    "df_pca['embedding_y'] = embedding[:,1]\n",
    "\n",
    "plt.figure(figsize=(20,12));\n",
    "sns.scatterplot(x='embedding_x', y='embedding_y',data=df_pca);"
   ]
  },
  {
   "cell_type": "code",
   "execution_count": 88,
   "id": "862a54d5",
   "metadata": {
    "ExecuteTime": {
     "end_time": "2022-03-26T21:34:40.380396Z",
     "start_time": "2022-03-26T21:34:40.374260Z"
    }
   },
   "outputs": [
    {
     "data": {
      "text/plain": [
       "(2790, 10)"
      ]
     },
     "execution_count": 88,
     "metadata": {},
     "output_type": "execute_result"
    }
   ],
   "source": [
    "X.shape"
   ]
  },
  {
   "cell_type": "code",
   "execution_count": 89,
   "id": "1b505746",
   "metadata": {
    "ExecuteTime": {
     "end_time": "2022-03-26T21:34:45.248393Z",
     "start_time": "2022-03-26T21:34:45.244274Z"
    }
   },
   "outputs": [
    {
     "data": {
      "text/plain": [
       "(2790, 102)"
      ]
     },
     "execution_count": 89,
     "metadata": {},
     "output_type": "execute_result"
    }
   ],
   "source": [
    "df_leaf.shape"
   ]
  },
  {
   "cell_type": "markdown",
   "id": "ce6df06b",
   "metadata": {},
   "source": [
    "# 5.0. Data Preparation"
   ]
  },
  {
   "cell_type": "code",
   "execution_count": 58,
   "id": "dbd364df",
   "metadata": {
    "ExecuteTime": {
     "end_time": "2022-03-26T20:52:28.276305Z",
     "start_time": "2022-03-26T20:52:28.273065Z"
    }
   },
   "outputs": [],
   "source": [
    "df5 = df4.copy()\n",
    "\n",
    "ss = pp.StandardScaler()\n",
    "mms = pp.MinMaxScaler()"
   ]
  },
  {
   "cell_type": "code",
   "execution_count": 59,
   "id": "5b2d7c96",
   "metadata": {
    "ExecuteTime": {
     "end_time": "2022-03-26T20:52:30.881390Z",
     "start_time": "2022-03-26T20:52:28.278074Z"
    }
   },
   "outputs": [
    {
     "ename": "KeyError",
     "evalue": "\"None of [Index(['invoice_no'], dtype='object')] are in the [columns]\"",
     "output_type": "error",
     "traceback": [
      "\u001b[0;31m---------------------------------------------------------------------------\u001b[0m",
      "\u001b[0;31mKeyError\u001b[0m                                  Traceback (most recent call last)",
      "Input \u001b[0;32mIn [59]\u001b[0m, in \u001b[0;36m<cell line: 3>\u001b[0;34m()\u001b[0m\n\u001b[1;32m      1\u001b[0m df5[\u001b[38;5;124m'\u001b[39m\u001b[38;5;124mgross_revenue\u001b[39m\u001b[38;5;124m'\u001b[39m] \u001b[38;5;241m=\u001b[39m ss\u001b[38;5;241m.\u001b[39mfit_transform(df5[[\u001b[38;5;124m'\u001b[39m\u001b[38;5;124mgross_revenue\u001b[39m\u001b[38;5;124m'\u001b[39m]])\n\u001b[1;32m      2\u001b[0m df5[\u001b[38;5;124m'\u001b[39m\u001b[38;5;124mrecency_days\u001b[39m\u001b[38;5;124m'\u001b[39m] \u001b[38;5;241m=\u001b[39m ss\u001b[38;5;241m.\u001b[39mfit_transform(df5[[\u001b[38;5;124m'\u001b[39m\u001b[38;5;124mrecency_days\u001b[39m\u001b[38;5;124m'\u001b[39m]])\n\u001b[0;32m----> 3\u001b[0m df5[\u001b[38;5;124m'\u001b[39m\u001b[38;5;124minvoice_no\u001b[39m\u001b[38;5;124m'\u001b[39m] \u001b[38;5;241m=\u001b[39m ss\u001b[38;5;241m.\u001b[39mfit_transform(\u001b[43mdf5\u001b[49m\u001b[43m[\u001b[49m\u001b[43m[\u001b[49m\u001b[38;5;124;43m'\u001b[39;49m\u001b[38;5;124;43minvoice_no\u001b[39;49m\u001b[38;5;124;43m'\u001b[39;49m\u001b[43m]\u001b[49m\u001b[43m]\u001b[49m)\n\u001b[1;32m      4\u001b[0m df5[\u001b[38;5;124m'\u001b[39m\u001b[38;5;124mavg_ticket\u001b[39m\u001b[38;5;124m'\u001b[39m] \u001b[38;5;241m=\u001b[39m ss\u001b[38;5;241m.\u001b[39mfit_transform(df5[[\u001b[38;5;124m'\u001b[39m\u001b[38;5;124mavg_ticket\u001b[39m\u001b[38;5;124m'\u001b[39m]])\n",
      "File \u001b[0;32m~/repos/insiders_clustering/venv/lib/python3.8/site-packages/pandas/core/frame.py:3511\u001b[0m, in \u001b[0;36mDataFrame.__getitem__\u001b[0;34m(self, key)\u001b[0m\n\u001b[1;32m   3509\u001b[0m     \u001b[38;5;28;01mif\u001b[39;00m is_iterator(key):\n\u001b[1;32m   3510\u001b[0m         key \u001b[38;5;241m=\u001b[39m \u001b[38;5;28mlist\u001b[39m(key)\n\u001b[0;32m-> 3511\u001b[0m     indexer \u001b[38;5;241m=\u001b[39m \u001b[38;5;28;43mself\u001b[39;49m\u001b[38;5;241;43m.\u001b[39;49m\u001b[43mcolumns\u001b[49m\u001b[38;5;241;43m.\u001b[39;49m\u001b[43m_get_indexer_strict\u001b[49m\u001b[43m(\u001b[49m\u001b[43mkey\u001b[49m\u001b[43m,\u001b[49m\u001b[43m \u001b[49m\u001b[38;5;124;43m\"\u001b[39;49m\u001b[38;5;124;43mcolumns\u001b[39;49m\u001b[38;5;124;43m\"\u001b[39;49m\u001b[43m)\u001b[49m[\u001b[38;5;241m1\u001b[39m]\n\u001b[1;32m   3513\u001b[0m \u001b[38;5;66;03m# take() does not accept boolean indexers\u001b[39;00m\n\u001b[1;32m   3514\u001b[0m \u001b[38;5;28;01mif\u001b[39;00m \u001b[38;5;28mgetattr\u001b[39m(indexer, \u001b[38;5;124m\"\u001b[39m\u001b[38;5;124mdtype\u001b[39m\u001b[38;5;124m\"\u001b[39m, \u001b[38;5;28;01mNone\u001b[39;00m) \u001b[38;5;241m==\u001b[39m \u001b[38;5;28mbool\u001b[39m:\n",
      "File \u001b[0;32m~/repos/insiders_clustering/venv/lib/python3.8/site-packages/pandas/core/indexes/base.py:5782\u001b[0m, in \u001b[0;36mIndex._get_indexer_strict\u001b[0;34m(self, key, axis_name)\u001b[0m\n\u001b[1;32m   5779\u001b[0m \u001b[38;5;28;01melse\u001b[39;00m:\n\u001b[1;32m   5780\u001b[0m     keyarr, indexer, new_indexer \u001b[38;5;241m=\u001b[39m \u001b[38;5;28mself\u001b[39m\u001b[38;5;241m.\u001b[39m_reindex_non_unique(keyarr)\n\u001b[0;32m-> 5782\u001b[0m \u001b[38;5;28;43mself\u001b[39;49m\u001b[38;5;241;43m.\u001b[39;49m\u001b[43m_raise_if_missing\u001b[49m\u001b[43m(\u001b[49m\u001b[43mkeyarr\u001b[49m\u001b[43m,\u001b[49m\u001b[43m \u001b[49m\u001b[43mindexer\u001b[49m\u001b[43m,\u001b[49m\u001b[43m \u001b[49m\u001b[43maxis_name\u001b[49m\u001b[43m)\u001b[49m\n\u001b[1;32m   5784\u001b[0m keyarr \u001b[38;5;241m=\u001b[39m \u001b[38;5;28mself\u001b[39m\u001b[38;5;241m.\u001b[39mtake(indexer)\n\u001b[1;32m   5785\u001b[0m \u001b[38;5;28;01mif\u001b[39;00m \u001b[38;5;28misinstance\u001b[39m(key, Index):\n\u001b[1;32m   5786\u001b[0m     \u001b[38;5;66;03m# GH 42790 - Preserve name from an Index\u001b[39;00m\n",
      "File \u001b[0;32m~/repos/insiders_clustering/venv/lib/python3.8/site-packages/pandas/core/indexes/base.py:5842\u001b[0m, in \u001b[0;36mIndex._raise_if_missing\u001b[0;34m(self, key, indexer, axis_name)\u001b[0m\n\u001b[1;32m   5840\u001b[0m     \u001b[38;5;28;01mif\u001b[39;00m use_interval_msg:\n\u001b[1;32m   5841\u001b[0m         key \u001b[38;5;241m=\u001b[39m \u001b[38;5;28mlist\u001b[39m(key)\n\u001b[0;32m-> 5842\u001b[0m     \u001b[38;5;28;01mraise\u001b[39;00m \u001b[38;5;167;01mKeyError\u001b[39;00m(\u001b[38;5;124mf\u001b[39m\u001b[38;5;124m\"\u001b[39m\u001b[38;5;124mNone of [\u001b[39m\u001b[38;5;132;01m{\u001b[39;00mkey\u001b[38;5;132;01m}\u001b[39;00m\u001b[38;5;124m] are in the [\u001b[39m\u001b[38;5;132;01m{\u001b[39;00maxis_name\u001b[38;5;132;01m}\u001b[39;00m\u001b[38;5;124m]\u001b[39m\u001b[38;5;124m\"\u001b[39m)\n\u001b[1;32m   5844\u001b[0m not_found \u001b[38;5;241m=\u001b[39m \u001b[38;5;28mlist\u001b[39m(ensure_index(key)[missing_mask\u001b[38;5;241m.\u001b[39mnonzero()[\u001b[38;5;241m0\u001b[39m]]\u001b[38;5;241m.\u001b[39munique())\n\u001b[1;32m   5845\u001b[0m \u001b[38;5;28;01mraise\u001b[39;00m \u001b[38;5;167;01mKeyError\u001b[39;00m(\u001b[38;5;124mf\u001b[39m\u001b[38;5;124m\"\u001b[39m\u001b[38;5;132;01m{\u001b[39;00mnot_found\u001b[38;5;132;01m}\u001b[39;00m\u001b[38;5;124m not in index\u001b[39m\u001b[38;5;124m\"\u001b[39m)\n",
      "\u001b[0;31mKeyError\u001b[0m: \"None of [Index(['invoice_no'], dtype='object')] are in the [columns]\""
     ]
    }
   ],
   "source": [
    "df5['gross_revenue'] = ss.fit_transform(df5[['gross_revenue']])\n",
    "df5['recency_days'] = ss.fit_transform(df5[['recency_days']])\n",
    "df5['invoice_no'] = ss.fit_transform(df5[['invoice_no']])\n",
    "df5['avg_ticket'] = ss.fit_transform(df5[['avg_ticket']])"
   ]
  },
  {
   "cell_type": "code",
   "execution_count": null,
   "id": "ad167f94",
   "metadata": {
    "ExecuteTime": {
     "end_time": "2022-03-26T20:52:30.883761Z",
     "start_time": "2022-03-26T20:52:30.883738Z"
    }
   },
   "outputs": [],
   "source": [
    "df5.head()"
   ]
  },
  {
   "cell_type": "markdown",
   "id": "d4128a99",
   "metadata": {},
   "source": [
    "# 6.0. Feature Selection"
   ]
  },
  {
   "cell_type": "code",
   "execution_count": null,
   "id": "8dae2b97",
   "metadata": {
    "ExecuteTime": {
     "end_time": "2022-03-26T20:52:30.885300Z",
     "start_time": "2022-03-26T20:52:30.885278Z"
    }
   },
   "outputs": [],
   "source": [
    "df6 = df5.copy()"
   ]
  },
  {
   "cell_type": "markdown",
   "id": "3a5efa79",
   "metadata": {},
   "source": [
    "# 7.0. Hyperparameter Fine-Tunning"
   ]
  },
  {
   "cell_type": "code",
   "execution_count": null,
   "id": "c26397a2",
   "metadata": {
    "ExecuteTime": {
     "end_time": "2022-03-26T20:52:30.886602Z",
     "start_time": "2022-03-26T20:52:30.886580Z"
    }
   },
   "outputs": [],
   "source": [
    "X = df6.drop('customer_id', axis=1)\n",
    "clusters = [2,3,4,5,6, 7]"
   ]
  },
  {
   "cell_type": "markdown",
   "id": "df71ea90",
   "metadata": {},
   "source": [
    "## 7.1. Within-Cluster Sum of Squares (WSS)"
   ]
  },
  {
   "cell_type": "code",
   "execution_count": null,
   "id": "7ad28a40",
   "metadata": {
    "ExecuteTime": {
     "end_time": "2022-03-26T20:52:30.888425Z",
     "start_time": "2022-03-26T20:52:30.888404Z"
    },
    "cell_style": "split"
   },
   "outputs": [],
   "source": [
    "#Easy way\n",
    "\n",
    "kmeans = KElbowVisualizer(c.KMeans(), k=clusters, timings=False)\n",
    "kmeans.fit(X)\n",
    "kmeans.show();\n",
    "\n"
   ]
  },
  {
   "cell_type": "markdown",
   "id": "17176836",
   "metadata": {
    "cell_style": "split"
   },
   "source": [
    "## 7.2. Silhouette Score"
   ]
  },
  {
   "cell_type": "code",
   "execution_count": null,
   "id": "60799c2e",
   "metadata": {
    "ExecuteTime": {
     "end_time": "2022-03-26T20:50:06.730550Z",
     "start_time": "2022-03-26T20:50:06.730536Z"
    },
    "cell_style": "split"
   },
   "outputs": [],
   "source": [
    "#Easy way\n",
    "kmeans = KElbowVisualizer(c.KMeans(), k=clusters, metric = 'silhouette', timings = False)\n",
    "kmeans.fit(X)\n",
    "kmeans.show();"
   ]
  },
  {
   "cell_type": "markdown",
   "id": "ef8faf9f",
   "metadata": {},
   "source": [
    "## 7.3. Silhouette Analysis"
   ]
  },
  {
   "cell_type": "code",
   "execution_count": null,
   "id": "df2a805c",
   "metadata": {
    "ExecuteTime": {
     "end_time": "2022-03-26T20:50:06.731739Z",
     "start_time": "2022-03-26T20:50:06.731724Z"
    }
   },
   "outputs": [],
   "source": [
    "fig, ax = plt.subplots(3, 2, figsize=(25,18))\n",
    "\n",
    "for k in clusters:\n",
    "    km = c.KMeans(n_clusters=k, init='random', n_init=10, max_iter=100, random_state=3)\n",
    "    q, mod = divmod(k, 2)\n",
    "    \n",
    "    visualizer = SilhouetteVisualizer(estimator = km ,colors='yellowbrick', ax=ax[q-1][mod])\n",
    "    visualizer.fit(X)\n",
    "    visualizer.finalize()"
   ]
  },
  {
   "cell_type": "markdown",
   "id": "36822b3f",
   "metadata": {},
   "source": [
    "# 8.0. Model Training"
   ]
  },
  {
   "cell_type": "markdown",
   "id": "9ab33cc5",
   "metadata": {},
   "source": [
    "## 8.1. KMeans"
   ]
  },
  {
   "cell_type": "code",
   "execution_count": null,
   "id": "bc448174",
   "metadata": {
    "ExecuteTime": {
     "end_time": "2022-03-26T20:50:06.732885Z",
     "start_time": "2022-03-26T20:50:06.732868Z"
    }
   },
   "outputs": [],
   "source": [
    "#model definition\n",
    "k = 3\n",
    "kmeans = c.KMeans(init='random', n_clusters=k, n_init=10, max_iter=300, random_state=3)\n",
    "\n",
    "#model training\n",
    "kmeans.fit(X)\n",
    "\n",
    "#clustering\n",
    "labels = kmeans.labels_"
   ]
  },
  {
   "cell_type": "markdown",
   "id": "499c010e",
   "metadata": {},
   "source": [
    "# 9.0. Cluster Analisys"
   ]
  },
  {
   "cell_type": "code",
   "execution_count": null,
   "id": "d1bad2df",
   "metadata": {
    "ExecuteTime": {
     "end_time": "2022-03-26T20:50:06.734145Z",
     "start_time": "2022-03-26T20:50:06.734130Z"
    }
   },
   "outputs": [],
   "source": [
    "df9 = df6.copy()\n",
    "df9['cluster'] = labels\n"
   ]
  },
  {
   "cell_type": "markdown",
   "id": "76d9bb0a",
   "metadata": {},
   "source": [
    "## 9.1. Visualization Inspection"
   ]
  },
  {
   "cell_type": "code",
   "execution_count": null,
   "id": "20b4bc71",
   "metadata": {
    "ExecuteTime": {
     "end_time": "2022-03-26T20:50:06.735459Z",
     "start_time": "2022-03-26T20:50:06.735441Z"
    }
   },
   "outputs": [],
   "source": [
    "\n",
    "\n",
    "visualizer = SilhouetteVisualizer(kmeans, colors='yellowbrick')\n",
    "visualizer.fit(X)\n",
    "visualizer.finalize()"
   ]
  },
  {
   "cell_type": "markdown",
   "id": "77b74bed",
   "metadata": {},
   "source": [
    "## 9.2. 2d Plot"
   ]
  },
  {
   "cell_type": "code",
   "execution_count": null,
   "id": "7d04f123",
   "metadata": {
    "ExecuteTime": {
     "end_time": "2022-03-26T20:50:06.736661Z",
     "start_time": "2022-03-26T20:50:06.736646Z"
    }
   },
   "outputs": [],
   "source": [
    "# df_vis = df9.drop('customer_id', axis=1)\n",
    "# sns.pairplot(df_vis, hue='cluster')\n",
    "\n"
   ]
  },
  {
   "cell_type": "markdown",
   "id": "e19b1e0b",
   "metadata": {},
   "source": [
    "## 9.3. UMAP t-SNE"
   ]
  },
  {
   "cell_type": "code",
   "execution_count": null,
   "id": "c049fe92",
   "metadata": {
    "ExecuteTime": {
     "end_time": "2022-03-26T20:50:06.737608Z",
     "start_time": "2022-03-26T20:50:06.737594Z"
    }
   },
   "outputs": [],
   "source": [
    "reducer = umap.UMAP(n_neighbors=30, random_state=3)\n",
    "embedding = reducer.fit_transform(X)\n",
    "\n",
    "df_vis['embedding_x'] = embedding[:,0]\n",
    "df_vis['embedding_y'] = embedding[:,1]\n",
    "sns.scatterplot(x='embedding_x', y='embedding_y', hue='cluster',\n",
    "              palette = sns.color_palette('hls', n_colors = len(df_vis['cluster'].unique())),\n",
    "               data = df_vis)"
   ]
  },
  {
   "cell_type": "markdown",
   "id": "907c7acd",
   "metadata": {},
   "source": [
    "## 9.1. Visualization Inspection"
   ]
  },
  {
   "cell_type": "code",
   "execution_count": null,
   "id": "1d3714f7",
   "metadata": {
    "ExecuteTime": {
     "end_time": "2022-03-26T20:50:06.738640Z",
     "start_time": "2022-03-26T20:50:06.738626Z"
    }
   },
   "outputs": [],
   "source": [
    "#WSS\n",
    "print('WSS: {}'.format(kmeans.inertia_))\n",
    "\n",
    "#SS\n",
    "print('SS: {}'.format(m.silhouette_score(X,labels, metric='euclidean')))"
   ]
  },
  {
   "cell_type": "code",
   "execution_count": null,
   "id": "4be05559",
   "metadata": {
    "ExecuteTime": {
     "end_time": "2022-03-26T20:50:06.740095Z",
     "start_time": "2022-03-26T20:50:06.740080Z"
    }
   },
   "outputs": [],
   "source": [
    "px.scatter_3d(df9, x='recency_days', y='invoice_no', z='gross_revenue', color='cluster')"
   ]
  },
  {
   "cell_type": "markdown",
   "id": "7cbbc97e",
   "metadata": {},
   "source": [
    "## 9.2. Cluster Profile"
   ]
  },
  {
   "cell_type": "code",
   "execution_count": null,
   "id": "9a08de16",
   "metadata": {
    "ExecuteTime": {
     "end_time": "2022-03-26T20:50:06.741297Z",
     "start_time": "2022-03-26T20:50:06.741283Z"
    }
   },
   "outputs": [],
   "source": [
    "aux1 = df9.groupby('cluster').mean().reset_index()\n",
    "\n",
    "aux1 = aux1.drop('customer_id', axis=1)\n",
    "aux2 = df9[['customer_id', 'cluster']].groupby('cluster').count().reset_index()\n",
    "\n",
    "df_cluster = pd.merge(aux1, aux2, on='cluster', how='left')\n"
   ]
  },
  {
   "cell_type": "code",
   "execution_count": null,
   "id": "a5708e52",
   "metadata": {
    "ExecuteTime": {
     "end_time": "2022-03-26T20:50:06.742923Z",
     "start_time": "2022-03-26T20:50:06.742902Z"
    }
   },
   "outputs": [],
   "source": [
    "df_cluster['perc'] = 100*df_cluster['customer_id']/df_cluster['customer_id'].sum()\n",
    "\n",
    "df_cluster"
   ]
  },
  {
   "cell_type": "markdown",
   "id": "6adcddbc",
   "metadata": {
    "ExecuteTime": {
     "end_time": "2022-03-23T17:54:06.985193Z",
     "start_time": "2022-03-23T17:54:06.939649Z"
    }
   },
   "source": [
    "## Cluster 0 (insiders)\n",
    "\n",
    "* Número de clientes: 6\n",
    "* Percentual de clientes: 0,01%\n",
    "* Faturamento médio: $182182\n",
    "* Recência: 7 dias\n",
    "* Frequência: 89 compras\n",
    "\n",
    "## Cluster 1 (Hibernating)\n",
    "\n",
    "* Número de clientes: 4335\n",
    "* Percentual de clientes: 99%\n",
    "* Faturamento: $1372\n",
    "* Recência: 92 dias\n",
    "* Frequência: 4 compras\n",
    "\n",
    "## Cluster 2 (potenciais clientes fieis)\n",
    "\n",
    "* Número de clientes: 31\n",
    "* Percentual de clientes: 0,07%\n",
    "* Faturamento: $40543\n",
    "* Recência: 13 dias\n",
    "* Frequência: 53 compras\n",
    "\n",
    "\n"
   ]
  },
  {
   "cell_type": "markdown",
   "id": "4ddafac4",
   "metadata": {},
   "source": [
    "# 10.0. Deploy to Production"
   ]
  },
  {
   "cell_type": "code",
   "execution_count": null,
   "id": "21a3d62c",
   "metadata": {},
   "outputs": [],
   "source": []
  }
 ],
 "metadata": {
  "kernelspec": {
   "display_name": "Python 3 (ipykernel)",
   "language": "python",
   "name": "python3"
  },
  "language_info": {
   "codemirror_mode": {
    "name": "ipython",
    "version": 3
   },
   "file_extension": ".py",
   "mimetype": "text/x-python",
   "name": "python",
   "nbconvert_exporter": "python",
   "pygments_lexer": "ipython3",
   "version": "3.8.10"
  }
 },
 "nbformat": 4,
 "nbformat_minor": 5
}
