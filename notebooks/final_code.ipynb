{
 "cells": [
  {
   "cell_type": "markdown",
   "id": "debfd19c",
   "metadata": {},
   "source": [
    "# PA005: High Value Customer Identification (Insiders)"
   ]
  },
  {
   "cell_type": "markdown",
   "id": "9489f164",
   "metadata": {},
   "source": [
    "# 0.0. Imports"
   ]
  },
  {
   "cell_type": "code",
   "execution_count": 1,
   "id": "bfab7447",
   "metadata": {
    "ExecuteTime": {
     "end_time": "2022-03-30T22:46:42.848444Z",
     "start_time": "2022-03-30T22:46:32.612163Z"
    }
   },
   "outputs": [
    {
     "name": "stderr",
     "output_type": "stream",
     "text": [
      "/home/heitor/repos/insiders_clustering/venv/lib/python3.8/site-packages/tqdm/auto.py:22: TqdmWarning: IProgress not found. Please update jupyter and ipywidgets. See https://ipywidgets.readthedocs.io/en/stable/user_install.html\n",
      "  from .autonotebook import tqdm as notebook_tqdm\n"
     ]
    }
   ],
   "source": [
    "\n",
    "from sklearn.manifold import TSNE\n",
    "\n",
    "from matplotlib          import pyplot        as plt\n",
    "from sklearn             import cluster       as c\n",
    "from sklearn             import metrics       as m\n",
    "from sklearn             import preprocessing as pp\n",
    "from sklearn             import decomposition as dd\n",
    "from sklearn             import mixture       as mx\n",
    "from sklearn             import ensemble      as en\n",
    "\n",
    "from scipy.cluster      import hierarchy     as hc\n",
    "from plotly              import express       as px\n",
    "from pandas_profiling    import ProfileReport\n",
    "\n",
    "import pandas as pd\n",
    "import seaborn as sns\n",
    "import numpy as np\n",
    "import matplotlib \n",
    "\n",
    "import re\n",
    "import pickle\n",
    "import umap.umap_ as umap\n"
   ]
  },
  {
   "cell_type": "markdown",
   "id": "944d041a",
   "metadata": {},
   "source": [
    "## 0.2. Helper Functions"
   ]
  },
  {
   "cell_type": "code",
   "execution_count": 126,
   "id": "3fd76676",
   "metadata": {
    "ExecuteTime": {
     "end_time": "2022-03-30T23:00:55.962713Z",
     "start_time": "2022-03-30T23:00:55.942653Z"
    }
   },
   "outputs": [],
   "source": [
    "%matplotlib inline\n",
    "def num_attributes(df1):\n",
    "    \n",
    "    num_attributes = df1.select_dtypes(['int64', 'float64'])\n",
    "\n",
    "    #central tendency\n",
    "    ct1 = pd.DataFrame(num_attributes.apply(np.mean)).T\n",
    "    ct2 = pd.DataFrame(num_attributes.apply(np.median)).T\n",
    "\n",
    "    #dispersion\n",
    "    d1 = pd.DataFrame(num_attributes.apply(np.min)).T\n",
    "    d2 = pd.DataFrame(num_attributes.apply(np.max)).T\n",
    "    d3 = pd.DataFrame(num_attributes.apply(lambda x: x.max() - x.min())).T\n",
    "    d4 = pd.DataFrame(num_attributes.apply(np.std)).T\n",
    "    d5 = pd.DataFrame(num_attributes.apply(lambda x: x.skew())).T\n",
    "    d6 = pd.DataFrame(num_attributes.apply(lambda x: x.kurtosis())).T\n",
    "\n",
    "    m = pd.concat( [d1, d2, d3, ct1, ct2, d4, d5, d6] ).T.reset_index()\n",
    "    m.columns = ['attributes', 'min', 'max', 'range', 'mean', 'median', 'std','skew', 'kurtosis']\n",
    "    return m"
   ]
  },
  {
   "cell_type": "markdown",
   "id": "3a4d4f04",
   "metadata": {},
   "source": [
    "## 0.3. Load Data"
   ]
  },
  {
   "cell_type": "code",
   "execution_count": 46,
   "id": "1f060a95",
   "metadata": {
    "ExecuteTime": {
     "end_time": "2022-03-30T22:49:51.185028Z",
     "start_time": "2022-03-30T22:49:50.236384Z"
    }
   },
   "outputs": [],
   "source": [
    "df_raw = pd.read_csv(r'../data/Ecommerce.csv')\n"
   ]
  },
  {
   "cell_type": "markdown",
   "id": "8182c343",
   "metadata": {},
   "source": [
    "# 1.0. Data Description"
   ]
  },
  {
   "cell_type": "code",
   "execution_count": 47,
   "id": "b3131385",
   "metadata": {
    "ExecuteTime": {
     "end_time": "2022-03-30T22:49:51.208417Z",
     "start_time": "2022-03-30T22:49:51.188400Z"
    }
   },
   "outputs": [],
   "source": [
    "df1 = df_raw.copy()"
   ]
  },
  {
   "cell_type": "markdown",
   "id": "39437f33",
   "metadata": {},
   "source": [
    "## 1.1. Rename Columns"
   ]
  },
  {
   "cell_type": "code",
   "execution_count": 48,
   "id": "00fc26d3",
   "metadata": {
    "ExecuteTime": {
     "end_time": "2022-03-30T22:49:51.317345Z",
     "start_time": "2022-03-30T22:49:51.211343Z"
    }
   },
   "outputs": [
    {
     "data": {
      "text/plain": [
       "Index(['InvoiceNo', 'StockCode', 'Description', 'Quantity', 'InvoiceDate',\n",
       "       'UnitPrice', 'CustomerID', 'Country'],\n",
       "      dtype='object')"
      ]
     },
     "execution_count": 48,
     "metadata": {},
     "output_type": "execute_result"
    }
   ],
   "source": [
    "df1.columns"
   ]
  },
  {
   "cell_type": "code",
   "execution_count": 49,
   "id": "2a05f0ff",
   "metadata": {
    "ExecuteTime": {
     "end_time": "2022-03-30T22:49:51.425443Z",
     "start_time": "2022-03-30T22:49:51.320974Z"
    }
   },
   "outputs": [],
   "source": [
    "df1.columns = ['invoice_no', 'stock_code', 'description', 'quantity', 'invoice_date',\n",
    "       'unit_price', 'customer_id', 'country']"
   ]
  },
  {
   "cell_type": "markdown",
   "id": "775005e2",
   "metadata": {},
   "source": [
    "## 1.2. Data Shape"
   ]
  },
  {
   "cell_type": "code",
   "execution_count": 50,
   "id": "a76ce76d",
   "metadata": {
    "ExecuteTime": {
     "end_time": "2022-03-30T22:49:51.684646Z",
     "start_time": "2022-03-30T22:49:51.429045Z"
    }
   },
   "outputs": [
    {
     "name": "stdout",
     "output_type": "stream",
     "text": [
      "Number of rows: 541909\n",
      "Number of columns: 8\n"
     ]
    }
   ],
   "source": [
    "print(f'Number of rows: {df1.shape[0]}')\n",
    "print(f'Number of columns: {df1.shape[1]}')"
   ]
  },
  {
   "cell_type": "markdown",
   "id": "cee652c4",
   "metadata": {},
   "source": [
    "## 1.3. Data Types"
   ]
  },
  {
   "cell_type": "code",
   "execution_count": 51,
   "id": "a7e20e2d",
   "metadata": {
    "ExecuteTime": {
     "end_time": "2022-03-30T22:49:52.032505Z",
     "start_time": "2022-03-30T22:49:52.021156Z"
    }
   },
   "outputs": [
    {
     "data": {
      "text/plain": [
       "invoice_no       object\n",
       "stock_code       object\n",
       "description      object\n",
       "quantity          int64\n",
       "invoice_date     object\n",
       "unit_price      float64\n",
       "customer_id     float64\n",
       "country          object\n",
       "dtype: object"
      ]
     },
     "execution_count": 51,
     "metadata": {},
     "output_type": "execute_result"
    }
   ],
   "source": [
    "df1.dtypes"
   ]
  },
  {
   "cell_type": "markdown",
   "id": "04839175",
   "metadata": {},
   "source": [
    "## 1.4. Check NAs\n"
   ]
  },
  {
   "cell_type": "code",
   "execution_count": 52,
   "id": "b48f1f36",
   "metadata": {
    "ExecuteTime": {
     "end_time": "2022-03-30T22:49:53.367207Z",
     "start_time": "2022-03-30T22:49:52.779084Z"
    }
   },
   "outputs": [
    {
     "data": {
      "text/plain": [
       "invoice_no           0\n",
       "stock_code           0\n",
       "description       1454\n",
       "quantity             0\n",
       "invoice_date         0\n",
       "unit_price           0\n",
       "customer_id     135080\n",
       "country              0\n",
       "dtype: int64"
      ]
     },
     "execution_count": 52,
     "metadata": {},
     "output_type": "execute_result"
    }
   ],
   "source": [
    "df1.isna().sum()"
   ]
  },
  {
   "cell_type": "markdown",
   "id": "d7b465fd",
   "metadata": {},
   "source": [
    "## 1.5. Fill NAs"
   ]
  },
  {
   "cell_type": "code",
   "execution_count": 53,
   "id": "e554c65f",
   "metadata": {
    "ExecuteTime": {
     "end_time": "2022-03-30T22:49:53.437709Z",
     "start_time": "2022-03-30T22:49:53.370079Z"
    }
   },
   "outputs": [],
   "source": [
    "#remove na\n",
    "df_missing = df1[df1['customer_id'].isna()]\n",
    "df_not_missing = df1[-df1['customer_id'].isna()]\n",
    "\n"
   ]
  },
  {
   "cell_type": "code",
   "execution_count": 54,
   "id": "1a48598d",
   "metadata": {
    "ExecuteTime": {
     "end_time": "2022-03-30T22:49:53.869382Z",
     "start_time": "2022-03-30T22:49:53.863960Z"
    }
   },
   "outputs": [
    {
     "data": {
      "text/plain": [
       "135080"
      ]
     },
     "execution_count": 54,
     "metadata": {},
     "output_type": "execute_result"
    }
   ],
   "source": [
    "len(df_missing)"
   ]
  },
  {
   "cell_type": "code",
   "execution_count": 55,
   "id": "2a139401",
   "metadata": {
    "ExecuteTime": {
     "end_time": "2022-03-30T22:49:54.865006Z",
     "start_time": "2022-03-30T22:49:54.859664Z"
    }
   },
   "outputs": [
    {
     "data": {
      "text/plain": [
       "406829"
      ]
     },
     "execution_count": 55,
     "metadata": {},
     "output_type": "execute_result"
    }
   ],
   "source": [
    "len(df_not_missing)"
   ]
  },
  {
   "cell_type": "code",
   "execution_count": 56,
   "id": "b336b03c",
   "metadata": {
    "ExecuteTime": {
     "end_time": "2022-03-30T22:49:56.197226Z",
     "start_time": "2022-03-30T22:49:55.954928Z"
    }
   },
   "outputs": [],
   "source": [
    "#create reference\n",
    "df_backup = pd.DataFrame(df_missing['invoice_no'].drop_duplicates())\n",
    "df_backup['customer_id'] = np.arange(19000, 19000+len(df_backup),1)\n",
    "\n",
    "#merge\n",
    "df1 = pd.merge(df1, df_backup, on='invoice_no', how='left')\n",
    "\n",
    "#coalesce\n",
    "df1['customer_id'] = df1['customer_id_x'].combine_first(df1['customer_id_y'])\n",
    "\n",
    "#drop extra columns\n",
    "df1 = df1.drop(['customer_id_x', 'customer_id_y'], axis=1)\n",
    "\n",
    "\n"
   ]
  },
  {
   "cell_type": "code",
   "execution_count": 57,
   "id": "3e7a909a",
   "metadata": {
    "ExecuteTime": {
     "end_time": "2022-03-30T22:49:57.340417Z",
     "start_time": "2022-03-30T22:49:56.759858Z"
    }
   },
   "outputs": [
    {
     "data": {
      "text/plain": [
       "invoice_no         0\n",
       "stock_code         0\n",
       "description     1454\n",
       "quantity           0\n",
       "invoice_date       0\n",
       "unit_price         0\n",
       "country            0\n",
       "customer_id        0\n",
       "dtype: int64"
      ]
     },
     "execution_count": 57,
     "metadata": {},
     "output_type": "execute_result"
    }
   ],
   "source": [
    "df1.isna().sum()"
   ]
  },
  {
   "cell_type": "markdown",
   "id": "4260f86c",
   "metadata": {},
   "source": [
    "## 1.6. Change dtypes"
   ]
  },
  {
   "cell_type": "code",
   "execution_count": 58,
   "id": "464e637e",
   "metadata": {
    "ExecuteTime": {
     "end_time": "2022-03-30T22:49:58.191945Z",
     "start_time": "2022-03-30T22:49:58.181986Z"
    }
   },
   "outputs": [
    {
     "data": {
      "text/plain": [
       "invoice_no       object\n",
       "stock_code       object\n",
       "description      object\n",
       "quantity          int64\n",
       "invoice_date     object\n",
       "unit_price      float64\n",
       "country          object\n",
       "customer_id     float64\n",
       "dtype: object"
      ]
     },
     "execution_count": 58,
     "metadata": {},
     "output_type": "execute_result"
    }
   ],
   "source": [
    "df1.dtypes"
   ]
  },
  {
   "cell_type": "code",
   "execution_count": 59,
   "id": "03324ef2",
   "metadata": {
    "ExecuteTime": {
     "end_time": "2022-03-30T22:50:01.456752Z",
     "start_time": "2022-03-30T22:50:01.338765Z"
    }
   },
   "outputs": [
    {
     "data": {
      "text/plain": [
       "invoice_no              object\n",
       "stock_code              object\n",
       "description             object\n",
       "quantity                 int64\n",
       "invoice_date    datetime64[ns]\n",
       "unit_price             float64\n",
       "country                 object\n",
       "customer_id              int64\n",
       "dtype: object"
      ]
     },
     "execution_count": 59,
     "metadata": {},
     "output_type": "execute_result"
    }
   ],
   "source": [
    "#invoice_no \n",
    "# df1['invoice_no'] = df1['invoice_no'].astype(int)\n",
    "\n",
    "\n",
    "#stock_code \n",
    "# df1['stock_code'] = df1['stock_code'].astype(int)\n",
    "\n",
    "\n",
    "#invoice_date  --> Month --> b\n",
    "df1['invoice_date'] = pd.to_datetime(df1['invoice_date'], format=('%d-%b-%y'))\n",
    "\n",
    "\n",
    "#customer_id\n",
    "df1['customer_id'] = df1['customer_id'].astype(int)\n",
    "df1.dtypes"
   ]
  },
  {
   "cell_type": "markdown",
   "id": "ec38e084",
   "metadata": {},
   "source": [
    "## 1.7. Descriptive statistics"
   ]
  },
  {
   "cell_type": "code",
   "execution_count": 60,
   "id": "9ced28d5",
   "metadata": {
    "ExecuteTime": {
     "end_time": "2022-03-30T22:50:03.517854Z",
     "start_time": "2022-03-30T22:50:03.511256Z"
    }
   },
   "outputs": [],
   "source": [
    "\n",
    "cat_attributes = df1.select_dtypes(exclude = ['int64', 'float64', 'datetime64[ns]'])"
   ]
  },
  {
   "cell_type": "markdown",
   "id": "849a9083",
   "metadata": {},
   "source": [
    "### 1.7.1. Numerical Attributes"
   ]
  },
  {
   "cell_type": "code",
   "execution_count": 61,
   "id": "7e906985",
   "metadata": {
    "ExecuteTime": {
     "end_time": "2022-03-30T22:50:03.882342Z",
     "start_time": "2022-03-30T22:50:03.747114Z"
    }
   },
   "outputs": [
    {
     "data": {
      "text/html": [
       "<div>\n",
       "<style scoped>\n",
       "    .dataframe tbody tr th:only-of-type {\n",
       "        vertical-align: middle;\n",
       "    }\n",
       "\n",
       "    .dataframe tbody tr th {\n",
       "        vertical-align: top;\n",
       "    }\n",
       "\n",
       "    .dataframe thead th {\n",
       "        text-align: right;\n",
       "    }\n",
       "</style>\n",
       "<table border=\"1\" class=\"dataframe\">\n",
       "  <thead>\n",
       "    <tr style=\"text-align: right;\">\n",
       "      <th></th>\n",
       "      <th>attributes</th>\n",
       "      <th>min</th>\n",
       "      <th>max</th>\n",
       "      <th>range</th>\n",
       "      <th>mean</th>\n",
       "      <th>median</th>\n",
       "      <th>std</th>\n",
       "      <th>skew</th>\n",
       "      <th>kurtosis</th>\n",
       "    </tr>\n",
       "  </thead>\n",
       "  <tbody>\n",
       "    <tr>\n",
       "      <th>0</th>\n",
       "      <td>quantity</td>\n",
       "      <td>-80995.00</td>\n",
       "      <td>80995.0</td>\n",
       "      <td>161990.00</td>\n",
       "      <td>9.552250</td>\n",
       "      <td>3.00</td>\n",
       "      <td>218.080957</td>\n",
       "      <td>-0.264076</td>\n",
       "      <td>119769.160031</td>\n",
       "    </tr>\n",
       "    <tr>\n",
       "      <th>1</th>\n",
       "      <td>unit_price</td>\n",
       "      <td>-11062.06</td>\n",
       "      <td>38970.0</td>\n",
       "      <td>50032.06</td>\n",
       "      <td>4.611121</td>\n",
       "      <td>2.08</td>\n",
       "      <td>96.759763</td>\n",
       "      <td>186.506973</td>\n",
       "      <td>59005.719804</td>\n",
       "    </tr>\n",
       "    <tr>\n",
       "      <th>2</th>\n",
       "      <td>customer_id</td>\n",
       "      <td>12346.00</td>\n",
       "      <td>22709.0</td>\n",
       "      <td>10363.00</td>\n",
       "      <td>16688.840453</td>\n",
       "      <td>16249.00</td>\n",
       "      <td>2911.408666</td>\n",
       "      <td>0.487449</td>\n",
       "      <td>-0.804287</td>\n",
       "    </tr>\n",
       "  </tbody>\n",
       "</table>\n",
       "</div>"
      ],
      "text/plain": [
       "    attributes       min      max      range          mean    median  \\\n",
       "0     quantity -80995.00  80995.0  161990.00      9.552250      3.00   \n",
       "1   unit_price -11062.06  38970.0   50032.06      4.611121      2.08   \n",
       "2  customer_id  12346.00  22709.0   10363.00  16688.840453  16249.00   \n",
       "\n",
       "           std        skew       kurtosis  \n",
       "0   218.080957   -0.264076  119769.160031  \n",
       "1    96.759763  186.506973   59005.719804  \n",
       "2  2911.408666    0.487449      -0.804287  "
      ]
     },
     "execution_count": 61,
     "metadata": {},
     "output_type": "execute_result"
    }
   ],
   "source": [
    "m1 = num_attributes(df1)\n",
    "m1"
   ]
  },
  {
   "cell_type": "markdown",
   "id": "5a07d7de",
   "metadata": {},
   "source": [
    "#### 1.7.1.1 Investigating"
   ]
  },
  {
   "cell_type": "markdown",
   "id": "85ede4cc",
   "metadata": {
    "ExecuteTime": {
     "end_time": "2022-03-24T21:15:49.659102Z",
     "start_time": "2022-03-24T21:15:49.643555Z"
    }
   },
   "source": [
    "1. Negative quantity (devolution?)\n",
    "2. Price = 0 (Promo?)"
   ]
  },
  {
   "cell_type": "markdown",
   "id": "fd46a106",
   "metadata": {},
   "source": [
    "## 1.7.2. Categorical Attributes"
   ]
  },
  {
   "cell_type": "code",
   "execution_count": 62,
   "id": "e69d5e29",
   "metadata": {
    "ExecuteTime": {
     "end_time": "2022-03-30T22:50:04.290558Z",
     "start_time": "2022-03-30T22:50:04.277948Z"
    }
   },
   "outputs": [
    {
     "data": {
      "text/html": [
       "<div>\n",
       "<style scoped>\n",
       "    .dataframe tbody tr th:only-of-type {\n",
       "        vertical-align: middle;\n",
       "    }\n",
       "\n",
       "    .dataframe tbody tr th {\n",
       "        vertical-align: top;\n",
       "    }\n",
       "\n",
       "    .dataframe thead th {\n",
       "        text-align: right;\n",
       "    }\n",
       "</style>\n",
       "<table border=\"1\" class=\"dataframe\">\n",
       "  <thead>\n",
       "    <tr style=\"text-align: right;\">\n",
       "      <th></th>\n",
       "      <th>invoice_no</th>\n",
       "      <th>stock_code</th>\n",
       "      <th>description</th>\n",
       "      <th>country</th>\n",
       "    </tr>\n",
       "  </thead>\n",
       "  <tbody>\n",
       "    <tr>\n",
       "      <th>0</th>\n",
       "      <td>536365</td>\n",
       "      <td>85123A</td>\n",
       "      <td>WHITE HANGING HEART T-LIGHT HOLDER</td>\n",
       "      <td>United Kingdom</td>\n",
       "    </tr>\n",
       "    <tr>\n",
       "      <th>1</th>\n",
       "      <td>536365</td>\n",
       "      <td>71053</td>\n",
       "      <td>WHITE METAL LANTERN</td>\n",
       "      <td>United Kingdom</td>\n",
       "    </tr>\n",
       "    <tr>\n",
       "      <th>2</th>\n",
       "      <td>536365</td>\n",
       "      <td>84406B</td>\n",
       "      <td>CREAM CUPID HEARTS COAT HANGER</td>\n",
       "      <td>United Kingdom</td>\n",
       "    </tr>\n",
       "    <tr>\n",
       "      <th>3</th>\n",
       "      <td>536365</td>\n",
       "      <td>84029G</td>\n",
       "      <td>KNITTED UNION FLAG HOT WATER BOTTLE</td>\n",
       "      <td>United Kingdom</td>\n",
       "    </tr>\n",
       "    <tr>\n",
       "      <th>4</th>\n",
       "      <td>536365</td>\n",
       "      <td>84029E</td>\n",
       "      <td>RED WOOLLY HOTTIE WHITE HEART.</td>\n",
       "      <td>United Kingdom</td>\n",
       "    </tr>\n",
       "  </tbody>\n",
       "</table>\n",
       "</div>"
      ],
      "text/plain": [
       "  invoice_no stock_code                          description         country\n",
       "0     536365     85123A   WHITE HANGING HEART T-LIGHT HOLDER  United Kingdom\n",
       "1     536365      71053                  WHITE METAL LANTERN  United Kingdom\n",
       "2     536365     84406B       CREAM CUPID HEARTS COAT HANGER  United Kingdom\n",
       "3     536365     84029G  KNITTED UNION FLAG HOT WATER BOTTLE  United Kingdom\n",
       "4     536365     84029E       RED WOOLLY HOTTIE WHITE HEART.  United Kingdom"
      ]
     },
     "execution_count": 62,
     "metadata": {},
     "output_type": "execute_result"
    }
   ],
   "source": [
    "cat_attributes.head()"
   ]
  },
  {
   "cell_type": "markdown",
   "id": "6b4dd4ce",
   "metadata": {},
   "source": [
    "#### Invoice no"
   ]
  },
  {
   "cell_type": "code",
   "execution_count": 63,
   "id": "34d857cc",
   "metadata": {
    "ExecuteTime": {
     "end_time": "2022-03-30T22:50:05.460710Z",
     "start_time": "2022-03-30T22:50:04.568072Z"
    }
   },
   "outputs": [
    {
     "name": "stdout",
     "output_type": "stream",
     "text": [
      "Total of invoices with letter: 9291\n",
      "Total of negative quantaty: 10624\n",
      "Letter means negative quantity\n"
     ]
    }
   ],
   "source": [
    "\n",
    "#invoice_no -- some of them has one char\n",
    "df_invoice_char = df1.loc[df1['invoice_no'].apply(lambda x: bool(re.search('[^0-9]+', x))), :]   \n",
    "\n",
    "len(df_invoice_char[df_invoice_char['quantity']<0])\n",
    "\n",
    "\n",
    "print('Total of invoices with letter: {}'.format(len(df_invoice_char)))\n",
    "print('Total of negative quantaty: {}'.format(len(df1[df1['quantity']<0])))\n",
    "print('Letter means negative quantity')"
   ]
  },
  {
   "cell_type": "markdown",
   "id": "efc5c2dc",
   "metadata": {},
   "source": [
    "#### Stock Code"
   ]
  },
  {
   "cell_type": "code",
   "execution_count": 64,
   "id": "7cee7ff1",
   "metadata": {
    "ExecuteTime": {
     "end_time": "2022-03-30T22:50:06.306975Z",
     "start_time": "2022-03-30T22:50:05.464035Z"
    }
   },
   "outputs": [
    {
     "data": {
      "text/plain": [
       "array(['POST', 'D', 'DOT', 'M', 'S', 'AMAZONFEE', 'm', 'DCGSSBOY',\n",
       "       'DCGSSGIRL', 'PADS', 'B', 'CRUK'], dtype=object)"
      ]
     },
     "execution_count": 64,
     "metadata": {},
     "output_type": "execute_result"
    }
   ],
   "source": [
    "#all stock codes with char\n",
    "df1.loc[df1['stock_code'].apply(lambda x: bool(re.search('^[a-zA-Z]+$', x))), 'stock_code'].unique()\n",
    "\n",
    "#remove stock code in ['POST', 'D', 'M', 'PADS', 'DOT', 'CRUK']\n",
    "# df1 = df1[-df1.isin(['POST', 'D', 'M', 'PADS', 'DOT', 'CRUK'])]"
   ]
  },
  {
   "cell_type": "markdown",
   "id": "50d7c023",
   "metadata": {},
   "source": [
    "#### Description"
   ]
  },
  {
   "cell_type": "code",
   "execution_count": 65,
   "id": "9e259e88",
   "metadata": {
    "ExecuteTime": {
     "end_time": "2022-03-30T22:50:06.325411Z",
     "start_time": "2022-03-30T22:50:06.309485Z"
    }
   },
   "outputs": [
    {
     "data": {
      "text/html": [
       "<div>\n",
       "<style scoped>\n",
       "    .dataframe tbody tr th:only-of-type {\n",
       "        vertical-align: middle;\n",
       "    }\n",
       "\n",
       "    .dataframe tbody tr th {\n",
       "        vertical-align: top;\n",
       "    }\n",
       "\n",
       "    .dataframe thead th {\n",
       "        text-align: right;\n",
       "    }\n",
       "</style>\n",
       "<table border=\"1\" class=\"dataframe\">\n",
       "  <thead>\n",
       "    <tr style=\"text-align: right;\">\n",
       "      <th></th>\n",
       "      <th>invoice_no</th>\n",
       "      <th>stock_code</th>\n",
       "      <th>description</th>\n",
       "      <th>quantity</th>\n",
       "      <th>invoice_date</th>\n",
       "      <th>unit_price</th>\n",
       "      <th>country</th>\n",
       "      <th>customer_id</th>\n",
       "    </tr>\n",
       "  </thead>\n",
       "  <tbody>\n",
       "    <tr>\n",
       "      <th>0</th>\n",
       "      <td>536365</td>\n",
       "      <td>85123A</td>\n",
       "      <td>WHITE HANGING HEART T-LIGHT HOLDER</td>\n",
       "      <td>6</td>\n",
       "      <td>2016-11-29</td>\n",
       "      <td>2.55</td>\n",
       "      <td>United Kingdom</td>\n",
       "      <td>17850</td>\n",
       "    </tr>\n",
       "    <tr>\n",
       "      <th>1</th>\n",
       "      <td>536365</td>\n",
       "      <td>71053</td>\n",
       "      <td>WHITE METAL LANTERN</td>\n",
       "      <td>6</td>\n",
       "      <td>2016-11-29</td>\n",
       "      <td>3.39</td>\n",
       "      <td>United Kingdom</td>\n",
       "      <td>17850</td>\n",
       "    </tr>\n",
       "  </tbody>\n",
       "</table>\n",
       "</div>"
      ],
      "text/plain": [
       "  invoice_no stock_code                         description  quantity  \\\n",
       "0     536365     85123A  WHITE HANGING HEART T-LIGHT HOLDER         6   \n",
       "1     536365      71053                 WHITE METAL LANTERN         6   \n",
       "\n",
       "  invoice_date  unit_price         country  customer_id  \n",
       "0   2016-11-29        2.55  United Kingdom        17850  \n",
       "1   2016-11-29        3.39  United Kingdom        17850  "
      ]
     },
     "execution_count": 65,
     "metadata": {},
     "output_type": "execute_result"
    }
   ],
   "source": [
    "df1.head(2) #remove description\n"
   ]
  },
  {
   "cell_type": "markdown",
   "id": "33982a03",
   "metadata": {},
   "source": [
    "#### Country\n"
   ]
  },
  {
   "cell_type": "code",
   "execution_count": 66,
   "id": "74604d0f",
   "metadata": {
    "ExecuteTime": {
     "end_time": "2022-03-30T22:50:06.483837Z",
     "start_time": "2022-03-30T22:50:06.330297Z"
    }
   },
   "outputs": [
    {
     "data": {
      "text/plain": [
       "United Kingdom    0.914320\n",
       "Germany           0.017521\n",
       "France            0.015790\n",
       "EIRE              0.015124\n",
       "Spain             0.004674\n",
       "Name: country, dtype: float64"
      ]
     },
     "execution_count": 66,
     "metadata": {},
     "output_type": "execute_result"
    }
   ],
   "source": [
    "df1['country'].value_counts(normalize='True').head()"
   ]
  },
  {
   "cell_type": "code",
   "execution_count": 67,
   "id": "14daa5b6",
   "metadata": {
    "ExecuteTime": {
     "end_time": "2022-03-30T22:50:06.685450Z",
     "start_time": "2022-03-30T22:50:06.486539Z"
    }
   },
   "outputs": [
    {
     "data": {
      "text/html": [
       "<div>\n",
       "<style scoped>\n",
       "    .dataframe tbody tr th:only-of-type {\n",
       "        vertical-align: middle;\n",
       "    }\n",
       "\n",
       "    .dataframe tbody tr th {\n",
       "        vertical-align: top;\n",
       "    }\n",
       "\n",
       "    .dataframe thead th {\n",
       "        text-align: right;\n",
       "    }\n",
       "</style>\n",
       "<table border=\"1\" class=\"dataframe\">\n",
       "  <thead>\n",
       "    <tr style=\"text-align: right;\">\n",
       "      <th></th>\n",
       "      <th>country</th>\n",
       "      <th>customer_id</th>\n",
       "    </tr>\n",
       "  </thead>\n",
       "  <tbody>\n",
       "    <tr>\n",
       "      <th>36</th>\n",
       "      <td>United Kingdom</td>\n",
       "      <td>7587</td>\n",
       "    </tr>\n",
       "    <tr>\n",
       "      <th>14</th>\n",
       "      <td>Germany</td>\n",
       "      <td>95</td>\n",
       "    </tr>\n",
       "    <tr>\n",
       "      <th>13</th>\n",
       "      <td>France</td>\n",
       "      <td>90</td>\n",
       "    </tr>\n",
       "    <tr>\n",
       "      <th>10</th>\n",
       "      <td>EIRE</td>\n",
       "      <td>44</td>\n",
       "    </tr>\n",
       "    <tr>\n",
       "      <th>31</th>\n",
       "      <td>Spain</td>\n",
       "      <td>31</td>\n",
       "    </tr>\n",
       "  </tbody>\n",
       "</table>\n",
       "</div>"
      ],
      "text/plain": [
       "           country  customer_id\n",
       "36  United Kingdom         7587\n",
       "14         Germany           95\n",
       "13          France           90\n",
       "10            EIRE           44\n",
       "31           Spain           31"
      ]
     },
     "execution_count": 67,
     "metadata": {},
     "output_type": "execute_result"
    }
   ],
   "source": [
    "df1[['country', 'customer_id']].drop_duplicates().groupby('country').count().reset_index().sort_values('customer_id', ascending=False).head()"
   ]
  },
  {
   "cell_type": "markdown",
   "id": "48d79e83",
   "metadata": {},
   "source": [
    "# 2.0. Data Filtering"
   ]
  },
  {
   "cell_type": "code",
   "execution_count": 68,
   "id": "fb92a1c3",
   "metadata": {
    "ExecuteTime": {
     "end_time": "2022-03-30T22:50:06.728272Z",
     "start_time": "2022-03-30T22:50:06.688935Z"
    }
   },
   "outputs": [],
   "source": [
    "df2 = df1.copy()"
   ]
  },
  {
   "cell_type": "code",
   "execution_count": 69,
   "id": "776b9792",
   "metadata": {
    "ExecuteTime": {
     "end_time": "2022-03-30T22:50:07.227447Z",
     "start_time": "2022-03-30T22:50:06.731462Z"
    }
   },
   "outputs": [],
   "source": [
    " # === Numerical attributes ====\n",
    "df2 = df2.loc[df2['unit_price'] >= 0.04, :]\n",
    "\n",
    "# === Categorical attributes ====\n",
    "df2 = df2[~df2['stock_code'].isin( ['POST', 'D', 'DOT', 'M', 'S', 'AMAZONFEE', 'm', 'DCGSSBOY', 'DCGSSGIRL', 'PADS', 'B', 'CRUK'] ) ]\n",
    "\n",
    "# description\n",
    "df2 = df2.drop( columns='description', axis=1 )\n",
    "\n",
    "# map -  \n",
    "df2 = df2[~df2['country'].isin( ['European Community', 'Unspecified' ] ) ]\n",
    "\n",
    "# bad users\n",
    "df2 = df2[~df2['customer_id'].isin( [16446] )]\n",
    "\n",
    "# quantity\n",
    "df_returns = df2.loc[df1['quantity'] < 0, :]\n",
    "df_purchase = df2.loc[df1['quantity'] >= 0, :]"
   ]
  },
  {
   "cell_type": "markdown",
   "id": "1faf41d9",
   "metadata": {},
   "source": [
    "# 3.0. Feature Engineering"
   ]
  },
  {
   "cell_type": "code",
   "execution_count": 99,
   "id": "fc8f74d9",
   "metadata": {
    "ExecuteTime": {
     "end_time": "2022-03-30T22:55:29.962877Z",
     "start_time": "2022-03-30T22:55:29.938114Z"
    }
   },
   "outputs": [],
   "source": [
    "df3 = df2.copy()"
   ]
  },
  {
   "cell_type": "markdown",
   "id": "21fc3686",
   "metadata": {},
   "source": [
    "## 3.1. Feature Creation"
   ]
  },
  {
   "cell_type": "code",
   "execution_count": 100,
   "id": "a905b83e",
   "metadata": {
    "ExecuteTime": {
     "end_time": "2022-03-30T22:55:30.191455Z",
     "start_time": "2022-03-30T22:55:30.166430Z"
    }
   },
   "outputs": [],
   "source": [
    "# data reference\n",
    "df_ref = df3.drop( ['invoice_no', 'stock_code', 'quantity', 'invoice_date', 'unit_price', 'country'], axis=1 ).drop_duplicates( ignore_index=True )\n",
    "\n"
   ]
  },
  {
   "cell_type": "markdown",
   "id": "76215d9c",
   "metadata": {},
   "source": [
    "### 3.1.1. Gross Revenue"
   ]
  },
  {
   "cell_type": "code",
   "execution_count": 101,
   "id": "bf20ab38",
   "metadata": {
    "ExecuteTime": {
     "end_time": "2022-03-30T22:55:30.488313Z",
     "start_time": "2022-03-30T22:55:30.426139Z"
    }
   },
   "outputs": [
    {
     "name": "stderr",
     "output_type": "stream",
     "text": [
      "/tmp/ipykernel_114369/2480933991.py:2: SettingWithCopyWarning: \n",
      "A value is trying to be set on a copy of a slice from a DataFrame.\n",
      "Try using .loc[row_indexer,col_indexer] = value instead\n",
      "\n",
      "See the caveats in the documentation: https://pandas.pydata.org/pandas-docs/stable/user_guide/indexing.html#returning-a-view-versus-a-copy\n",
      "  df_purchase.loc[:,'gross_revenue'] = df_purchase.loc[:, 'quantity'] * df_purchase.loc[:, 'unit_price']\n"
     ]
    },
    {
     "data": {
      "text/plain": [
       "5786"
      ]
     },
     "execution_count": 101,
     "metadata": {},
     "output_type": "execute_result"
    }
   ],
   "source": [
    "#calculate gross revenue\n",
    "df_purchase.loc[:,'gross_revenue'] = df_purchase.loc[:, 'quantity'] * df_purchase.loc[:, 'unit_price'] \n",
    "\n",
    "#gross revenue by customer\n",
    "df_monetary = df_purchase.loc[:,['customer_id', 'gross_revenue']].groupby('customer_id').sum().reset_index()\n",
    "df_ref = pd.merge(df_ref, df_monetary, on='customer_id', how= 'left')\n",
    "df_ref.isna().sum()\n",
    "\n",
    "len(df_ref)"
   ]
  },
  {
   "cell_type": "markdown",
   "id": "86afe088",
   "metadata": {},
   "source": [
    "### 3.1.2. Recency - Days from last purchase\n"
   ]
  },
  {
   "cell_type": "code",
   "execution_count": 102,
   "id": "2ccf2d70",
   "metadata": {
    "ExecuteTime": {
     "end_time": "2022-03-30T22:55:30.721473Z",
     "start_time": "2022-03-30T22:55:30.681762Z"
    }
   },
   "outputs": [
    {
     "data": {
      "text/plain": [
       "5786"
      ]
     },
     "execution_count": 102,
     "metadata": {},
     "output_type": "execute_result"
    }
   ],
   "source": [
    "#recency \n",
    "\n",
    "df_recency = df_purchase.loc[:,['customer_id', 'invoice_date']].groupby('customer_id').max().reset_index()\n",
    "df_recency['recency_days'] = (df3['invoice_date'].max() - df_recency['invoice_date']).dt.days\n",
    "df_recency  = df_recency[['customer_id', 'recency_days']].copy()\n",
    "df_ref = pd.merge(df_ref, df_recency, on='customer_id', how='left')\n",
    "len(df_ref)"
   ]
  },
  {
   "cell_type": "markdown",
   "id": "0c62730e",
   "metadata": {},
   "source": [
    "### 3.1.4. Quantity of purchase"
   ]
  },
  {
   "cell_type": "code",
   "execution_count": 103,
   "id": "99d7680a",
   "metadata": {
    "ExecuteTime": {
     "end_time": "2022-03-30T22:55:31.054389Z",
     "start_time": "2022-03-30T22:55:30.949624Z"
    }
   },
   "outputs": [
    {
     "data": {
      "text/plain": [
       "5786"
      ]
     },
     "execution_count": 103,
     "metadata": {},
     "output_type": "execute_result"
    }
   ],
   "source": [
    "\n",
    "# Número de compras\n",
    "df_invoice = df_purchase.loc[:,['customer_id', 'invoice_no']].drop_duplicates().groupby('customer_id').count().reset_index().rename(columns={'invoice_no':'qt_invoice'})\n",
    "df_ref = pd.merge(df_ref, df_invoice, on='customer_id', how='left')\n",
    "len(df_ref)"
   ]
  },
  {
   "cell_type": "markdown",
   "id": "5fd8db27",
   "metadata": {},
   "source": [
    "### 3.1.4. Quantity of products purchase"
   ]
  },
  {
   "cell_type": "code",
   "execution_count": 104,
   "id": "d8a267a6",
   "metadata": {
    "ExecuteTime": {
     "end_time": "2022-03-30T22:55:31.367754Z",
     "start_time": "2022-03-30T22:55:31.214092Z"
    }
   },
   "outputs": [
    {
     "data": {
      "text/plain": [
       "5786"
      ]
     },
     "execution_count": 104,
     "metadata": {},
     "output_type": "execute_result"
    }
   ],
   "source": [
    "# Número de compras\n",
    "df_stock_code = df_purchase.loc[:,['customer_id', 'stock_code']].groupby('customer_id').count().reset_index().rename(columns={'stock_code':'qt_products'})\n",
    "df_ref = pd.merge(df_ref, df_stock_code, on='customer_id', how='left')\n",
    "len(df_ref)\n"
   ]
  },
  {
   "cell_type": "markdown",
   "id": "956ad2a7",
   "metadata": {},
   "source": [
    "### 3.1.6. Frequency"
   ]
  },
  {
   "cell_type": "code",
   "execution_count": 105,
   "id": "79423e5d",
   "metadata": {
    "ExecuteTime": {
     "end_time": "2022-03-30T22:55:33.968949Z",
     "start_time": "2022-03-30T22:55:31.645514Z"
    }
   },
   "outputs": [
    {
     "data": {
      "text/plain": [
       "customer_id       0\n",
       "gross_revenue    91\n",
       "recency_days     91\n",
       "qt_invoice       91\n",
       "qt_products      91\n",
       "frequency        91\n",
       "dtype: int64"
      ]
     },
     "execution_count": 105,
     "metadata": {},
     "output_type": "execute_result"
    }
   ],
   "source": [
    "df_aux = (df_purchase[['customer_id', 'invoice_no', 'invoice_date']].drop_duplicates().groupby('customer_id').agg(\n",
    "                                                            max_ = ('invoice_date', 'max'),\n",
    "                                                            min_ = ('invoice_date', 'min'),\n",
    "                                                            days = ('invoice_date', lambda x: (x.max() - x.min()).days ),\n",
    "                                                            buys = ('invoice_no', 'count'))).reset_index()\n",
    "\n",
    "# #calculate frequency\n",
    "df_aux['frequency'] = df_aux[['buys', 'days']].apply(lambda x: x['buys']/x['days'] if x['days']!= 0 else 0, axis=1)\n",
    "\n",
    "\n",
    "#merge\n",
    "df_ref = pd.merge(df_ref, df_aux[['customer_id', 'frequency']], on='customer_id', how='left')\n",
    "df_ref.isna().sum()\n"
   ]
  },
  {
   "cell_type": "markdown",
   "id": "65890139",
   "metadata": {},
   "source": [
    "### 3.1.7. Returns\n"
   ]
  },
  {
   "cell_type": "code",
   "execution_count": 106,
   "id": "6b510726",
   "metadata": {
    "ExecuteTime": {
     "end_time": "2022-03-30T22:55:33.990246Z",
     "start_time": "2022-03-30T22:55:33.972740Z"
    }
   },
   "outputs": [],
   "source": [
    "df_aux = df_returns[['customer_id', 'quantity']].groupby('customer_id').sum().reset_index().rename(columns={'quantity':'qt_returns'})\n",
    "df_aux['qt_returns'] = -1*df_aux['qt_returns']\n",
    "df_aux['qt_returns'] = df_aux['qt_returns'].fillna(0)\n",
    "#merge\n",
    "df_ref = pd.merge(df_ref, df_aux, on='customer_id', how='left')\n",
    "\n"
   ]
  },
  {
   "cell_type": "code",
   "execution_count": 107,
   "id": "c64cb80c",
   "metadata": {
    "ExecuteTime": {
     "end_time": "2022-03-30T22:55:34.097588Z",
     "start_time": "2022-03-30T22:55:33.992849Z"
    }
   },
   "outputs": [
    {
     "data": {
      "text/plain": [
       "customer_id       0\n",
       "gross_revenue    91\n",
       "recency_days     91\n",
       "qt_invoice       91\n",
       "qt_products      91\n",
       "frequency        91\n",
       "qt_returns        0\n",
       "dtype: int64"
      ]
     },
     "execution_count": 107,
     "metadata": {},
     "output_type": "execute_result"
    }
   ],
   "source": [
    "df_ref.loc[df_ref['qt_returns'].isna(), 'qt_returns'] = 0\n",
    "df_ref.isna().sum()"
   ]
  },
  {
   "cell_type": "markdown",
   "id": "28d41b3f",
   "metadata": {},
   "source": [
    "# 4.0. Exploratory Data Analisys"
   ]
  },
  {
   "cell_type": "code",
   "execution_count": 259,
   "id": "4a95bea8",
   "metadata": {
    "ExecuteTime": {
     "end_time": "2022-03-30T23:49:11.278174Z",
     "start_time": "2022-03-30T23:49:11.268964Z"
    }
   },
   "outputs": [],
   "source": [
    "df4 = df_ref.dropna()\n"
   ]
  },
  {
   "cell_type": "markdown",
   "id": "27ab544a",
   "metadata": {
    "ExecuteTime": {
     "end_time": "2022-03-26T13:10:51.357445Z",
     "start_time": "2022-03-26T13:10:51.350560Z"
    }
   },
   "source": [
    "## 4.3. Estudo do Espaço"
   ]
  },
  {
   "cell_type": "code",
   "execution_count": 260,
   "id": "6c272ebe",
   "metadata": {
    "ExecuteTime": {
     "end_time": "2022-03-30T23:49:13.101531Z",
     "start_time": "2022-03-30T23:49:13.094253Z"
    }
   },
   "outputs": [],
   "source": [
    "# selected dataset\n",
    "cols_selected = ['customer_id', 'gross_revenue', 'recency_days', 'qt_products', 'frequency', 'qt_returns']\n",
    "df43 = df4[ cols_selected ].drop( columns='customer_id', axis=1 ).copy() "
   ]
  },
  {
   "cell_type": "code",
   "execution_count": 261,
   "id": "8ddfb04f",
   "metadata": {
    "ExecuteTime": {
     "end_time": "2022-03-30T23:49:14.378341Z",
     "start_time": "2022-03-30T23:49:14.336452Z"
    }
   },
   "outputs": [],
   "source": [
    "mm = pp.MinMaxScaler()\n",
    "\n",
    "df43['gross_revenue'] = mm.fit_transform( df43[['gross_revenue']] )\n",
    "df43['recency_days']  = mm.fit_transform( df43[['recency_days']] )\n",
    "df43['qt_products'] = mm.fit_transform( df43[['qt_products']])\n",
    "df43['frequency']     = mm.fit_transform( df43[['frequency']])\n",
    "df43['qt_returns']  = mm.fit_transform( df43[['qt_returns']])"
   ]
  },
  {
   "cell_type": "markdown",
   "id": "08bbaabc",
   "metadata": {},
   "source": [
    "### 4.3.4. Tree-Based Embedding"
   ]
  },
  {
   "cell_type": "code",
   "execution_count": 168,
   "id": "e6792cb5",
   "metadata": {
    "ExecuteTime": {
     "end_time": "2022-03-30T23:15:53.419657Z",
     "start_time": "2022-03-30T23:15:53.408295Z"
    }
   },
   "outputs": [],
   "source": [
    "en.RandomForestRegressor?"
   ]
  },
  {
   "cell_type": "code",
   "execution_count": 199,
   "id": "abecc008",
   "metadata": {
    "ExecuteTime": {
     "end_time": "2022-03-30T23:23:37.441303Z",
     "start_time": "2022-03-30T23:23:34.603472Z"
    }
   },
   "outputs": [],
   "source": [
    "\n",
    "\n",
    "\n",
    "#training dataset\n",
    "X = df4.drop(['gross_revenue','customer_id'], axis=1)\n",
    "y = df4['gross_revenue']\n",
    "\n",
    "#model definition\n",
    "rf_model = en.RandomForestRegressor(random_state=42, n_estimators=100)\n",
    "\n",
    "#model training\n",
    "rf_model.fit(X,y)\n",
    "\n",
    "\n",
    "\n",
    "# dataframe leaf\n",
    "df_leaf = pd.DataFrame(rf_model.apply(X))\n",
    "# df_leaf = pickle.load(open('../data/df_leaf.pkl', 'rb'))"
   ]
  },
  {
   "cell_type": "code",
   "execution_count": 200,
   "id": "81f9083b",
   "metadata": {
    "ExecuteTime": {
     "end_time": "2022-03-30T23:23:55.185306Z",
     "start_time": "2022-03-30T23:23:37.444260Z"
    }
   },
   "outputs": [
    {
     "name": "stderr",
     "output_type": "stream",
     "text": [
      "/home/heitor/repos/insiders_clustering/venv/lib/python3.8/site-packages/sklearn/manifold/_spectral_embedding.py:260: UserWarning: Graph is not fully connected, spectral embedding may not work as expected.\n",
      "  warnings.warn(\n"
     ]
    }
   ],
   "source": [
    "reducer = umap.UMAP( random_state=42)\n",
    "embedding = reducer.fit_transform(df_leaf)\n",
    "\n",
    "df_tree = pd.DataFrame()\n",
    "df_tree['embedding_x'] = embedding[:,0]\n",
    "df_tree['embedding_y'] = embedding[:,1]\n",
    "\n"
   ]
  },
  {
   "cell_type": "code",
   "execution_count": 201,
   "id": "1c8cf04c",
   "metadata": {
    "ExecuteTime": {
     "end_time": "2022-03-30T23:23:55.192717Z",
     "start_time": "2022-03-30T23:23:55.187621Z"
    }
   },
   "outputs": [],
   "source": [
    "X = df_tree.copy()"
   ]
  },
  {
   "cell_type": "code",
   "execution_count": 202,
   "id": "66ca81bf",
   "metadata": {
    "ExecuteTime": {
     "end_time": "2022-03-30T23:23:55.731341Z",
     "start_time": "2022-03-30T23:23:55.196144Z"
    }
   },
   "outputs": [
    {
     "data": {
      "text/plain": [
       "<AxesSubplot:xlabel='embedding_x', ylabel='embedding_y'>"
      ]
     },
     "execution_count": 202,
     "metadata": {},
     "output_type": "execute_result"
    },
    {
     "data": {
      "image/png": "[encoded data removed]",
      "text/plain": [
       "<Figure size 1296x576 with 1 Axes>"
      ]
     },
     "metadata": {
      "needs_background": "light"
     },
     "output_type": "display_data"
    }
   ],
   "source": [
    "\n",
    "plt.figure(figsize=(18,8));\n",
    "sns.scatterplot(x='embedding_x', y='embedding_y',data=df_tree)"
   ]
  },
  {
   "cell_type": "code",
   "execution_count": 185,
   "id": "9c6ea7d1",
   "metadata": {
    "ExecuteTime": {
     "end_time": "2022-03-30T23:19:03.696920Z",
     "start_time": "2022-03-30T23:19:03.391460Z"
    }
   },
   "outputs": [
    {
     "data": {
      "image/png": "[encoded data removed]",
      "text/plain": [
       "<Figure size 1296x576 with 1 Axes>"
      ]
     },
     "metadata": {
      "needs_background": "light"
     },
     "output_type": "display_data"
    }
   ],
   "source": [
    "\n",
    "plt.figure(figsize=(18,8));\n",
    "sns.scatterplot(x='embedding_x', y='embedding_y',data=df_tree);"
   ]
  },
  {
   "cell_type": "code",
   "execution_count": 148,
   "id": "598863b8",
   "metadata": {
    "ExecuteTime": {
     "end_time": "2022-03-30T23:09:07.695495Z",
     "start_time": "2022-03-30T23:09:07.689555Z"
    }
   },
   "outputs": [
    {
     "data": {
      "text/plain": [
       "(5695, 2)"
      ]
     },
     "execution_count": 148,
     "metadata": {},
     "output_type": "execute_result"
    }
   ],
   "source": [
    "df_tree.shape"
   ]
  },
  {
   "cell_type": "markdown",
   "id": "3a5efa79",
   "metadata": {},
   "source": [
    "# 7.0. Hyperparameter Fine-Tunning"
   ]
  },
  {
   "cell_type": "code",
   "execution_count": 250,
   "id": "c26397a2",
   "metadata": {
    "ExecuteTime": {
     "end_time": "2022-03-30T23:45:26.701260Z",
     "start_time": "2022-03-30T23:45:26.686515Z"
    }
   },
   "outputs": [
    {
     "data": {
      "text/html": [
       "<div>\n",
       "<style scoped>\n",
       "    .dataframe tbody tr th:only-of-type {\n",
       "        vertical-align: middle;\n",
       "    }\n",
       "\n",
       "    .dataframe tbody tr th {\n",
       "        vertical-align: top;\n",
       "    }\n",
       "\n",
       "    .dataframe thead th {\n",
       "        text-align: right;\n",
       "    }\n",
       "</style>\n",
       "<table border=\"1\" class=\"dataframe\">\n",
       "  <thead>\n",
       "    <tr style=\"text-align: right;\">\n",
       "      <th></th>\n",
       "      <th>gross_revenue</th>\n",
       "      <th>recency_days</th>\n",
       "      <th>qt_products</th>\n",
       "      <th>frequency</th>\n",
       "      <th>qt_returns</th>\n",
       "    </tr>\n",
       "  </thead>\n",
       "  <tbody>\n",
       "    <tr>\n",
       "      <th>0</th>\n",
       "      <td>0.019312</td>\n",
       "      <td>0.997319</td>\n",
       "      <td>0.037770</td>\n",
       "      <td>1.000000</td>\n",
       "      <td>0.000539</td>\n",
       "    </tr>\n",
       "    <tr>\n",
       "      <th>1</th>\n",
       "      <td>0.011579</td>\n",
       "      <td>0.150134</td>\n",
       "      <td>0.021692</td>\n",
       "      <td>0.000835</td>\n",
       "      <td>0.000472</td>\n",
       "    </tr>\n",
       "    <tr>\n",
       "      <th>2</th>\n",
       "      <td>0.024020</td>\n",
       "      <td>0.005362</td>\n",
       "      <td>0.029476</td>\n",
       "      <td>0.001189</td>\n",
       "      <td>0.000674</td>\n",
       "    </tr>\n",
       "    <tr>\n",
       "      <th>3</th>\n",
       "      <td>0.003396</td>\n",
       "      <td>0.254692</td>\n",
       "      <td>0.003445</td>\n",
       "      <td>0.000529</td>\n",
       "      <td>0.000000</td>\n",
       "    </tr>\n",
       "    <tr>\n",
       "      <th>4</th>\n",
       "      <td>0.003137</td>\n",
       "      <td>0.892761</td>\n",
       "      <td>0.000255</td>\n",
       "      <td>0.002206</td>\n",
       "      <td>0.000296</td>\n",
       "    </tr>\n",
       "  </tbody>\n",
       "</table>\n",
       "</div>"
      ],
      "text/plain": [
       "   gross_revenue  recency_days  qt_products  frequency  qt_returns\n",
       "0       0.019312      0.997319     0.037770   1.000000    0.000539\n",
       "1       0.011579      0.150134     0.021692   0.000835    0.000472\n",
       "2       0.024020      0.005362     0.029476   0.001189    0.000674\n",
       "3       0.003396      0.254692     0.003445   0.000529    0.000000\n",
       "4       0.003137      0.892761     0.000255   0.002206    0.000296"
      ]
     },
     "execution_count": 250,
     "metadata": {},
     "output_type": "execute_result"
    }
   ],
   "source": [
    "X = df43.copy()\n",
    "X.head()"
   ]
  },
  {
   "cell_type": "code",
   "execution_count": 238,
   "id": "54c0ce09",
   "metadata": {
    "ExecuteTime": {
     "end_time": "2022-03-30T23:38:19.650048Z",
     "start_time": "2022-03-30T23:37:56.210857Z"
    }
   },
   "outputs": [],
   "source": [
    "clusters = np.arange(2,11, 1)\n",
    "\n",
    "kmeans_list = []\n",
    "for k in clusters:\n",
    "\n",
    "    #model definition\n",
    "    kmeans_model = c.KMeans(n_clusters=k, random_state=42)\n",
    "\n",
    "    #model training\n",
    "    kmeans_model.fit(X)\n",
    "\n",
    "    #model predict\n",
    "    labels = kmeans_model.predict(X)\n",
    "\n",
    "    #model performance\n",
    "    sil = m.silhouette_score(X, labels, metric='euclidean')\n",
    "    kmeans_list.append(sil)"
   ]
  },
  {
   "cell_type": "code",
   "execution_count": 239,
   "id": "027531c7",
   "metadata": {
    "ExecuteTime": {
     "end_time": "2022-03-30T23:38:19.903498Z",
     "start_time": "2022-03-30T23:38:19.652982Z"
    }
   },
   "outputs": [
    {
     "data": {
      "image/png": "[encoded data removed]",
      "text/plain": [
       "<Figure size 864x216 with 1 Axes>"
      ]
     },
     "metadata": {
      "needs_background": "light"
     },
     "output_type": "display_data"
    }
   ],
   "source": [
    "plt.figure(figsize=(12,3));\n",
    "plt.plot(clusters, kmeans_list, linestyle='--', marker='o', color='b');\n",
    "plt.xlabel('Cluster');\n",
    "plt.ylabel('Silhouette Score');\n",
    "plt.title('Silhouette Score x Cluster');\n"
   ]
  },
  {
   "cell_type": "code",
   "execution_count": 251,
   "id": "289abccb",
   "metadata": {
    "ExecuteTime": {
     "end_time": "2022-03-30T23:45:42.660265Z",
     "start_time": "2022-03-30T23:45:30.954177Z"
    }
   },
   "outputs": [],
   "source": [
    "gmm_list=[]\n",
    "\n",
    "for k in clusters:\n",
    "    #model definition\n",
    "    gmm_model = mx.GaussianMixture(n_components=k)\n",
    "\n",
    "    #model training\n",
    "    gmm_model.fit(X)\n",
    "\n",
    "    #model predict\n",
    "    labels = gmm_model.predict(X)\n",
    "\n",
    "    #model performance\n",
    "    sil = m.silhouette_score(X, labels, metric='euclidean')\n",
    "    gmm_list.append(sil)"
   ]
  },
  {
   "cell_type": "code",
   "execution_count": 252,
   "id": "692ef4f6",
   "metadata": {
    "ExecuteTime": {
     "end_time": "2022-03-30T23:45:44.073325Z",
     "start_time": "2022-03-30T23:45:43.855000Z"
    }
   },
   "outputs": [
    {
     "data": {
      "image/png": "[encoded data removed]",
      "text/plain": [
       "<Figure size 864x216 with 1 Axes>"
      ]
     },
     "metadata": {
      "needs_background": "light"
     },
     "output_type": "display_data"
    }
   ],
   "source": [
    "plt.figure(figsize=(12,3));\n",
    "plt.plot(clusters, gmm_list, linestyle='--', marker='o', color='b');\n",
    "plt.xlabel('Cluster');\n",
    "plt.ylabel('Silhouette Score');\n",
    "plt.title('Silhouette Score x Cluster');"
   ]
  },
  {
   "cell_type": "code",
   "execution_count": 242,
   "id": "1379a802",
   "metadata": {
    "ExecuteTime": {
     "end_time": "2022-03-30T23:38:53.338494Z",
     "start_time": "2022-03-30T23:38:32.516728Z"
    }
   },
   "outputs": [],
   "source": [
    "hc_list = []\n",
    "\n",
    "for k in clusters:\n",
    "    #model definition & training\n",
    "    hc_model = hc.linkage(X, 'ward')\n",
    "\n",
    "\n",
    "    #model predict\n",
    "    labels = hc.fcluster(hc_model,k, criterion='maxclust')\n",
    "\n",
    "    #model performance\n",
    "    sil = m.silhouette_score(X, labels, metric='euclidean')\n",
    "    hc_list.append(sil)"
   ]
  },
  {
   "cell_type": "code",
   "execution_count": 243,
   "id": "dfa8635c",
   "metadata": {
    "ExecuteTime": {
     "end_time": "2022-03-30T23:38:53.344408Z",
     "start_time": "2022-03-30T23:38:53.340999Z"
    }
   },
   "outputs": [],
   "source": [
    "# hc.dendrogram(hc_model, leaf_rotation=90, leaf_font_size=8);\n",
    "# plt.figure(figsize=(20,12));\n",
    "# plt.show();"
   ]
  },
  {
   "cell_type": "code",
   "execution_count": 244,
   "id": "dea8b0f1",
   "metadata": {
    "ExecuteTime": {
     "end_time": "2022-03-30T23:38:53.517605Z",
     "start_time": "2022-03-30T23:38:53.347536Z"
    }
   },
   "outputs": [
    {
     "data": {
      "text/html": [
       "<style type=\"text/css\">\n",
       "#T_30f26_row0_col0, #T_30f26_row1_col7, #T_30f26_row2_col0 {\n",
       "  background-color: lightgreen;\n",
       "}\n",
       "</style>\n",
       "<table id=\"T_30f26\">\n",
       "  <thead>\n",
       "    <tr>\n",
       "      <th class=\"blank level0\" >&nbsp;</th>\n",
       "      <th id=\"T_30f26_level0_col0\" class=\"col_heading level0 col0\" >2</th>\n",
       "      <th id=\"T_30f26_level0_col1\" class=\"col_heading level0 col1\" >3</th>\n",
       "      <th id=\"T_30f26_level0_col2\" class=\"col_heading level0 col2\" >4</th>\n",
       "      <th id=\"T_30f26_level0_col3\" class=\"col_heading level0 col3\" >5</th>\n",
       "      <th id=\"T_30f26_level0_col4\" class=\"col_heading level0 col4\" >6</th>\n",
       "      <th id=\"T_30f26_level0_col5\" class=\"col_heading level0 col5\" >7</th>\n",
       "      <th id=\"T_30f26_level0_col6\" class=\"col_heading level0 col6\" >8</th>\n",
       "      <th id=\"T_30f26_level0_col7\" class=\"col_heading level0 col7\" >9</th>\n",
       "      <th id=\"T_30f26_level0_col8\" class=\"col_heading level0 col8\" >10</th>\n",
       "    </tr>\n",
       "  </thead>\n",
       "  <tbody>\n",
       "    <tr>\n",
       "      <th id=\"T_30f26_level0_row0\" class=\"row_heading level0 row0\" >KMeans</th>\n",
       "      <td id=\"T_30f26_row0_col0\" class=\"data row0 col0\" >0.696954</td>\n",
       "      <td id=\"T_30f26_row0_col1\" class=\"data row0 col1\" >0.649030</td>\n",
       "      <td id=\"T_30f26_row0_col2\" class=\"data row0 col2\" >0.568581</td>\n",
       "      <td id=\"T_30f26_row0_col3\" class=\"data row0 col3\" >0.564766</td>\n",
       "      <td id=\"T_30f26_row0_col4\" class=\"data row0 col4\" >0.545307</td>\n",
       "      <td id=\"T_30f26_row0_col5\" class=\"data row0 col5\" >0.554623</td>\n",
       "      <td id=\"T_30f26_row0_col6\" class=\"data row0 col6\" >0.537734</td>\n",
       "      <td id=\"T_30f26_row0_col7\" class=\"data row0 col7\" >0.499457</td>\n",
       "      <td id=\"T_30f26_row0_col8\" class=\"data row0 col8\" >0.487581</td>\n",
       "    </tr>\n",
       "    <tr>\n",
       "      <th id=\"T_30f26_level0_row1\" class=\"row_heading level0 row1\" >GMM</th>\n",
       "      <td id=\"T_30f26_row1_col0\" class=\"data row1 col0\" >-0.000701</td>\n",
       "      <td id=\"T_30f26_row1_col1\" class=\"data row1 col1\" >-0.213357</td>\n",
       "      <td id=\"T_30f26_row1_col2\" class=\"data row1 col2\" >-0.168050</td>\n",
       "      <td id=\"T_30f26_row1_col3\" class=\"data row1 col3\" >-0.114919</td>\n",
       "      <td id=\"T_30f26_row1_col4\" class=\"data row1 col4\" >-0.112972</td>\n",
       "      <td id=\"T_30f26_row1_col5\" class=\"data row1 col5\" >-0.127942</td>\n",
       "      <td id=\"T_30f26_row1_col6\" class=\"data row1 col6\" >-0.056956</td>\n",
       "      <td id=\"T_30f26_row1_col7\" class=\"data row1 col7\" >0.066164</td>\n",
       "      <td id=\"T_30f26_row1_col8\" class=\"data row1 col8\" >-0.136097</td>\n",
       "    </tr>\n",
       "    <tr>\n",
       "      <th id=\"T_30f26_level0_row2\" class=\"row_heading level0 row2\" >HC</th>\n",
       "      <td id=\"T_30f26_row2_col0\" class=\"data row2 col0\" >0.664325</td>\n",
       "      <td id=\"T_30f26_row2_col1\" class=\"data row2 col1\" >0.642406</td>\n",
       "      <td id=\"T_30f26_row2_col2\" class=\"data row2 col2\" >0.540601</td>\n",
       "      <td id=\"T_30f26_row2_col3\" class=\"data row2 col3\" >0.494769</td>\n",
       "      <td id=\"T_30f26_row2_col4\" class=\"data row2 col4\" >0.481611</td>\n",
       "      <td id=\"T_30f26_row2_col5\" class=\"data row2 col5\" >0.493750</td>\n",
       "      <td id=\"T_30f26_row2_col6\" class=\"data row2 col6\" >0.498828</td>\n",
       "      <td id=\"T_30f26_row2_col7\" class=\"data row2 col7\" >0.514570</td>\n",
       "      <td id=\"T_30f26_row2_col8\" class=\"data row2 col8\" >0.479386</td>\n",
       "    </tr>\n",
       "  </tbody>\n",
       "</table>\n"
      ],
      "text/plain": [
       "<pandas.io.formats.style.Styler at 0x7f32d87818e0>"
      ]
     },
     "execution_count": 244,
     "metadata": {},
     "output_type": "execute_result"
    }
   ],
   "source": [
    "df_results = pd.DataFrame({'KMeans': kmeans_list, 'GMM': gmm_list, 'HC': hc_list}).T\n",
    "df_results.columns = clusters\n",
    "df_results = df_results.style.highlight_max(color='lightgreen', axis=1)\n",
    "df_results"
   ]
  },
  {
   "cell_type": "code",
   "execution_count": null,
   "id": "bc63e2a5",
   "metadata": {},
   "outputs": [],
   "source": []
  },
  {
   "cell_type": "code",
   "execution_count": null,
   "id": "70757e38",
   "metadata": {},
   "outputs": [],
   "source": []
  },
  {
   "cell_type": "code",
   "execution_count": null,
   "id": "a0064967",
   "metadata": {},
   "outputs": [],
   "source": []
  },
  {
   "cell_type": "code",
   "execution_count": 228,
   "id": "b69b4624",
   "metadata": {
    "ExecuteTime": {
     "end_time": "2022-03-30T23:36:10.458419Z",
     "start_time": "2022-03-30T23:36:10.174422Z"
    }
   },
   "outputs": [
    {
     "data": {
      "text/html": [
       "<div>\n",
       "<style scoped>\n",
       "    .dataframe tbody tr th:only-of-type {\n",
       "        vertical-align: middle;\n",
       "    }\n",
       "\n",
       "    .dataframe tbody tr th {\n",
       "        vertical-align: top;\n",
       "    }\n",
       "\n",
       "    .dataframe thead th {\n",
       "        text-align: right;\n",
       "    }\n",
       "</style>\n",
       "<table border=\"1\" class=\"dataframe\">\n",
       "  <thead>\n",
       "    <tr style=\"text-align: right;\">\n",
       "      <th></th>\n",
       "      <th>embedding_x</th>\n",
       "      <th>embedding_y</th>\n",
       "    </tr>\n",
       "  </thead>\n",
       "  <tbody>\n",
       "    <tr>\n",
       "      <th>0</th>\n",
       "      <td>-0.646343</td>\n",
       "      <td>15.983326</td>\n",
       "    </tr>\n",
       "    <tr>\n",
       "      <th>1</th>\n",
       "      <td>-1.402045</td>\n",
       "      <td>5.210173</td>\n",
       "    </tr>\n",
       "    <tr>\n",
       "      <th>2</th>\n",
       "      <td>-0.028806</td>\n",
       "      <td>13.853423</td>\n",
       "    </tr>\n",
       "    <tr>\n",
       "      <th>3</th>\n",
       "      <td>4.755266</td>\n",
       "      <td>15.093255</td>\n",
       "    </tr>\n",
       "    <tr>\n",
       "      <th>4</th>\n",
       "      <td>6.588394</td>\n",
       "      <td>-8.239231</td>\n",
       "    </tr>\n",
       "  </tbody>\n",
       "</table>\n",
       "</div>"
      ],
      "text/plain": [
       "   embedding_x  embedding_y\n",
       "0    -0.646343    15.983326\n",
       "1    -1.402045     5.210173\n",
       "2    -0.028806    13.853423\n",
       "3     4.755266    15.093255\n",
       "4     6.588394    -8.239231"
      ]
     },
     "execution_count": 228,
     "metadata": {},
     "output_type": "execute_result"
    }
   ],
   "source": [
    "X = df_tree.copy()\n",
    "X.head()"
   ]
  },
  {
   "cell_type": "code",
   "execution_count": 229,
   "id": "765c78e4",
   "metadata": {
    "ExecuteTime": {
     "end_time": "2022-03-30T23:36:19.599877Z",
     "start_time": "2022-03-30T23:36:10.461172Z"
    }
   },
   "outputs": [],
   "source": [
    "clusters = np.arange(2,11, 1)\n",
    "\n",
    "kmeans_list = []\n",
    "for k in clusters:\n",
    "\n",
    "    #model definition\n",
    "    kmeans_model = c.KMeans(n_clusters=k, random_state=42)\n",
    "\n",
    "    #model training\n",
    "    kmeans_model.fit(X)\n",
    "\n",
    "    #model predict\n",
    "    labels = kmeans_model.predict(X)\n",
    "\n",
    "    #model performance\n",
    "    sil = m.silhouette_score(X, labels, metric='euclidean')\n",
    "    kmeans_list.append(sil)"
   ]
  },
  {
   "cell_type": "code",
   "execution_count": 230,
   "id": "b3690913",
   "metadata": {
    "ExecuteTime": {
     "end_time": "2022-03-30T23:36:19.829217Z",
     "start_time": "2022-03-30T23:36:19.604016Z"
    }
   },
   "outputs": [
    {
     "data": {
      "image/png": "[encoded data removed]",
      "text/plain": [
       "<Figure size 864x216 with 1 Axes>"
      ]
     },
     "metadata": {
      "needs_background": "light"
     },
     "output_type": "display_data"
    }
   ],
   "source": [
    "plt.figure(figsize=(12,3));\n",
    "plt.plot(clusters, kmeans_list, linestyle='--', marker='o', color='b');\n",
    "plt.xlabel('Cluster');\n",
    "plt.ylabel('Silhouette Score');\n",
    "plt.title('Silhouette Score x Cluster');\n"
   ]
  },
  {
   "cell_type": "code",
   "execution_count": 231,
   "id": "25a4b5b0",
   "metadata": {
    "ExecuteTime": {
     "end_time": "2022-03-30T23:36:28.406498Z",
     "start_time": "2022-03-30T23:36:19.833294Z"
    }
   },
   "outputs": [],
   "source": [
    "gmm_list=[]\n",
    "\n",
    "for k in clusters:\n",
    "    #model definition\n",
    "    gmm_model = mx.GaussianMixture(n_components=k)\n",
    "\n",
    "    #model training\n",
    "    gmm_model.fit(X)\n",
    "\n",
    "    #model predict\n",
    "    labels = gmm_model.predict(X)\n",
    "\n",
    "    #model performance\n",
    "    sil = m.silhouette_score(X, labels, metric='euclidean')\n",
    "    gmm_list.append(sil)"
   ]
  },
  {
   "cell_type": "code",
   "execution_count": 232,
   "id": "780d7b88",
   "metadata": {
    "ExecuteTime": {
     "end_time": "2022-03-30T23:36:28.620997Z",
     "start_time": "2022-03-30T23:36:28.408977Z"
    }
   },
   "outputs": [
    {
     "data": {
      "image/png": "[encoded data removed]",
      "text/plain": [
       "<Figure size 864x216 with 1 Axes>"
      ]
     },
     "metadata": {
      "needs_background": "light"
     },
     "output_type": "display_data"
    }
   ],
   "source": [
    "plt.figure(figsize=(12,3));\n",
    "plt.plot(clusters, gmm_list, linestyle='--', marker='o', color='b');\n",
    "plt.xlabel('Cluster');\n",
    "plt.ylabel('Silhouette Score');\n",
    "plt.title('Silhouette Score x Cluster');"
   ]
  },
  {
   "cell_type": "code",
   "execution_count": 233,
   "id": "dc978f88",
   "metadata": {
    "ExecuteTime": {
     "end_time": "2022-03-30T23:36:47.903580Z",
     "start_time": "2022-03-30T23:36:28.623986Z"
    }
   },
   "outputs": [],
   "source": [
    "hc_list = []\n",
    "\n",
    "for k in clusters:\n",
    "    #model definition & training\n",
    "    hc_model = hc.linkage(X, 'ward')\n",
    "\n",
    "\n",
    "    #model predict\n",
    "    labels = hc.fcluster(hc_model,k, criterion='maxclust')\n",
    "\n",
    "    #model performance\n",
    "    sil = m.silhouette_score(X, labels, metric='euclidean')\n",
    "    hc_list.append(sil)"
   ]
  },
  {
   "cell_type": "code",
   "execution_count": 234,
   "id": "1f2556bf",
   "metadata": {
    "ExecuteTime": {
     "end_time": "2022-03-30T23:36:47.909518Z",
     "start_time": "2022-03-30T23:36:47.905904Z"
    }
   },
   "outputs": [],
   "source": [
    "# hc.dendrogram(hc_model, leaf_rotation=90, leaf_font_size=8);\n",
    "# plt.figure(figsize=(20,12));\n",
    "# plt.show();"
   ]
  },
  {
   "cell_type": "code",
   "execution_count": 235,
   "id": "611808a9",
   "metadata": {
    "ExecuteTime": {
     "end_time": "2022-03-30T23:36:48.071930Z",
     "start_time": "2022-03-30T23:36:47.912265Z"
    }
   },
   "outputs": [
    {
     "data": {
      "text/html": [
       "<style type=\"text/css\">\n",
       "#T_a2054_row0_col8, #T_a2054_row1_col8, #T_a2054_row2_col8 {\n",
       "  background-color: lightgreen;\n",
       "}\n",
       "</style>\n",
       "<table id=\"T_a2054\">\n",
       "  <thead>\n",
       "    <tr>\n",
       "      <th class=\"blank level0\" >&nbsp;</th>\n",
       "      <th id=\"T_a2054_level0_col0\" class=\"col_heading level0 col0\" >2</th>\n",
       "      <th id=\"T_a2054_level0_col1\" class=\"col_heading level0 col1\" >3</th>\n",
       "      <th id=\"T_a2054_level0_col2\" class=\"col_heading level0 col2\" >4</th>\n",
       "      <th id=\"T_a2054_level0_col3\" class=\"col_heading level0 col3\" >5</th>\n",
       "      <th id=\"T_a2054_level0_col4\" class=\"col_heading level0 col4\" >6</th>\n",
       "      <th id=\"T_a2054_level0_col5\" class=\"col_heading level0 col5\" >7</th>\n",
       "      <th id=\"T_a2054_level0_col6\" class=\"col_heading level0 col6\" >8</th>\n",
       "      <th id=\"T_a2054_level0_col7\" class=\"col_heading level0 col7\" >9</th>\n",
       "      <th id=\"T_a2054_level0_col8\" class=\"col_heading level0 col8\" >10</th>\n",
       "    </tr>\n",
       "  </thead>\n",
       "  <tbody>\n",
       "    <tr>\n",
       "      <th id=\"T_a2054_level0_row0\" class=\"row_heading level0 row0\" >KMeans</th>\n",
       "      <td id=\"T_a2054_row0_col0\" class=\"data row0 col0\" >0.359386</td>\n",
       "      <td id=\"T_a2054_row0_col1\" class=\"data row0 col1\" >0.400959</td>\n",
       "      <td id=\"T_a2054_row0_col2\" class=\"data row0 col2\" >0.407516</td>\n",
       "      <td id=\"T_a2054_row0_col3\" class=\"data row0 col3\" >0.409021</td>\n",
       "      <td id=\"T_a2054_row0_col4\" class=\"data row0 col4\" >0.441009</td>\n",
       "      <td id=\"T_a2054_row0_col5\" class=\"data row0 col5\" >0.455770</td>\n",
       "      <td id=\"T_a2054_row0_col6\" class=\"data row0 col6\" >0.460765</td>\n",
       "      <td id=\"T_a2054_row0_col7\" class=\"data row0 col7\" >0.464167</td>\n",
       "      <td id=\"T_a2054_row0_col8\" class=\"data row0 col8\" >0.477022</td>\n",
       "    </tr>\n",
       "    <tr>\n",
       "      <th id=\"T_a2054_level0_row1\" class=\"row_heading level0 row1\" >GMM</th>\n",
       "      <td id=\"T_a2054_row1_col0\" class=\"data row1 col0\" >0.343271</td>\n",
       "      <td id=\"T_a2054_row1_col1\" class=\"data row1 col1\" >0.398690</td>\n",
       "      <td id=\"T_a2054_row1_col2\" class=\"data row1 col2\" >0.371425</td>\n",
       "      <td id=\"T_a2054_row1_col3\" class=\"data row1 col3\" >0.358135</td>\n",
       "      <td id=\"T_a2054_row1_col4\" class=\"data row1 col4\" >0.394084</td>\n",
       "      <td id=\"T_a2054_row1_col5\" class=\"data row1 col5\" >0.342607</td>\n",
       "      <td id=\"T_a2054_row1_col6\" class=\"data row1 col6\" >0.386802</td>\n",
       "      <td id=\"T_a2054_row1_col7\" class=\"data row1 col7\" >0.395304</td>\n",
       "      <td id=\"T_a2054_row1_col8\" class=\"data row1 col8\" >0.427105</td>\n",
       "    </tr>\n",
       "    <tr>\n",
       "      <th id=\"T_a2054_level0_row2\" class=\"row_heading level0 row2\" >HC</th>\n",
       "      <td id=\"T_a2054_row2_col0\" class=\"data row2 col0\" >0.337276</td>\n",
       "      <td id=\"T_a2054_row2_col1\" class=\"data row2 col1\" >0.359488</td>\n",
       "      <td id=\"T_a2054_row2_col2\" class=\"data row2 col2\" >0.384541</td>\n",
       "      <td id=\"T_a2054_row2_col3\" class=\"data row2 col3\" >0.396333</td>\n",
       "      <td id=\"T_a2054_row2_col4\" class=\"data row2 col4\" >0.418948</td>\n",
       "      <td id=\"T_a2054_row2_col5\" class=\"data row2 col5\" >0.424139</td>\n",
       "      <td id=\"T_a2054_row2_col6\" class=\"data row2 col6\" >0.441488</td>\n",
       "      <td id=\"T_a2054_row2_col7\" class=\"data row2 col7\" >0.448843</td>\n",
       "      <td id=\"T_a2054_row2_col8\" class=\"data row2 col8\" >0.450834</td>\n",
       "    </tr>\n",
       "  </tbody>\n",
       "</table>\n"
      ],
      "text/plain": [
       "<pandas.io.formats.style.Styler at 0x7f32d88c3c40>"
      ]
     },
     "execution_count": 235,
     "metadata": {},
     "output_type": "execute_result"
    }
   ],
   "source": [
    "df_results2 = pd.DataFrame({'KMeans': kmeans_list, 'GMM': gmm_list, 'HC': hc_list}).T\n",
    "df_results2.columns = clusters\n",
    "df_results2 = df_results2.style.highlight_max(color='lightgreen', axis=1)\n",
    "df_results2"
   ]
  },
  {
   "cell_type": "code",
   "execution_count": null,
   "id": "aa2024db",
   "metadata": {},
   "outputs": [],
   "source": []
  },
  {
   "cell_type": "markdown",
   "id": "966bf6f2",
   "metadata": {},
   "source": [
    "## 8.2. GMM"
   ]
  },
  {
   "cell_type": "code",
   "execution_count": 255,
   "id": "f1dbad5f",
   "metadata": {
    "ExecuteTime": {
     "end_time": "2022-03-30T23:48:06.595617Z",
     "start_time": "2022-03-30T23:48:04.014629Z"
    }
   },
   "outputs": [],
   "source": [
    "# model definition\n",
    "k = 8\n",
    "X=df43.copy()\n",
    "# ## model definition\n",
    "# gmm_model = mx.GaussianMixture( n_components=k )\n",
    "\n",
    "\n",
    "# # gmm_model = pickle.load(open('../models/gmm_model.pickle', 'rb'))\n",
    "# # model training\n",
    "# gmm_model.fit( X )\n",
    "\n",
    "# # model predict\n",
    "# labels = gmm_model.predict( X )\n",
    "\n",
    "#model definition\n",
    "kmeans_model = c.KMeans(n_clusters=k, random_state=42)\n",
    "\n",
    "#model training\n",
    "kmeans_model.fit(X)\n",
    "\n",
    "#model predict\n",
    "labels = kmeans_model.predict(X)\n",
    "\n",
    "#model performance\n",
    "sil = m.silhouette_score(X, labels, metric='euclidean')\n",
    "kmeans_list.append(sil)\n",
    "\n"
   ]
  },
  {
   "cell_type": "code",
   "execution_count": 256,
   "id": "c15a2c4a",
   "metadata": {
    "ExecuteTime": {
     "end_time": "2022-03-30T23:48:07.426360Z",
     "start_time": "2022-03-30T23:48:06.598345Z"
    }
   },
   "outputs": [
    {
     "data": {
      "text/plain": [
       "0.5377337303161348"
      ]
     },
     "execution_count": 256,
     "metadata": {},
     "output_type": "execute_result"
    }
   ],
   "source": [
    "m.silhouette_score(X, labels, metric='euclidean')"
   ]
  },
  {
   "cell_type": "markdown",
   "id": "499c010e",
   "metadata": {},
   "source": [
    "# 9.0. Cluster Analisys"
   ]
  },
  {
   "cell_type": "code",
   "execution_count": 262,
   "id": "d1bad2df",
   "metadata": {
    "ExecuteTime": {
     "end_time": "2022-03-30T23:49:22.359495Z",
     "start_time": "2022-03-30T23:49:22.351588Z"
    }
   },
   "outputs": [],
   "source": [
    "cols_selected = ['customer_id', 'gross_revenue', 'recency_days', 'qt_products', 'frequency', 'qt_returns']\n",
    "df9 = X.copy()\n",
    "df9['cluster'] = labels\n"
   ]
  },
  {
   "cell_type": "markdown",
   "id": "7cbbc97e",
   "metadata": {},
   "source": [
    "## 9.2. Cluster Profile"
   ]
  },
  {
   "cell_type": "code",
   "execution_count": 263,
   "id": "9a08de16",
   "metadata": {
    "ExecuteTime": {
     "end_time": "2022-03-30T23:49:23.860620Z",
     "start_time": "2022-03-30T23:49:23.782043Z"
    }
   },
   "outputs": [
    {
     "data": {
      "text/html": [
       "<div>\n",
       "<style scoped>\n",
       "    .dataframe tbody tr th:only-of-type {\n",
       "        vertical-align: middle;\n",
       "    }\n",
       "\n",
       "    .dataframe tbody tr th {\n",
       "        vertical-align: top;\n",
       "    }\n",
       "\n",
       "    .dataframe thead th {\n",
       "        text-align: right;\n",
       "    }\n",
       "</style>\n",
       "<table border=\"1\" class=\"dataframe\">\n",
       "  <thead>\n",
       "    <tr style=\"text-align: right;\">\n",
       "      <th></th>\n",
       "      <th>cluster</th>\n",
       "      <th>customer_id</th>\n",
       "      <th>perc_customer</th>\n",
       "      <th>gross_revenue</th>\n",
       "      <th>recency_days</th>\n",
       "      <th>qt_products</th>\n",
       "      <th>frequency</th>\n",
       "      <th>qt_returns</th>\n",
       "    </tr>\n",
       "  </thead>\n",
       "  <tbody>\n",
       "    <tr>\n",
       "      <th>7</th>\n",
       "      <td>7</td>\n",
       "      <td>12</td>\n",
       "      <td>0.210711</td>\n",
       "      <td>121078.380833</td>\n",
       "      <td>4.333333</td>\n",
       "      <td>2773.916667</td>\n",
       "      <td>0.241589</td>\n",
       "      <td>824.000000</td>\n",
       "    </tr>\n",
       "    <tr>\n",
       "      <th>2</th>\n",
       "      <td>2</td>\n",
       "      <td>2043</td>\n",
       "      <td>35.873573</td>\n",
       "      <td>2674.933000</td>\n",
       "      <td>16.053353</td>\n",
       "      <td>138.710720</td>\n",
       "      <td>0.037982</td>\n",
       "      <td>32.131669</td>\n",
       "    </tr>\n",
       "    <tr>\n",
       "      <th>0</th>\n",
       "      <td>0</td>\n",
       "      <td>1115</td>\n",
       "      <td>19.578578</td>\n",
       "      <td>1091.372691</td>\n",
       "      <td>61.211659</td>\n",
       "      <td>65.326457</td>\n",
       "      <td>0.018796</td>\n",
       "      <td>8.379372</td>\n",
       "    </tr>\n",
       "    <tr>\n",
       "      <th>5</th>\n",
       "      <td>5</td>\n",
       "      <td>401</td>\n",
       "      <td>7.041264</td>\n",
       "      <td>1086.688304</td>\n",
       "      <td>352.501247</td>\n",
       "      <td>74.957606</td>\n",
       "      <td>0.093306</td>\n",
       "      <td>187.448878</td>\n",
       "    </tr>\n",
       "    <tr>\n",
       "      <th>4</th>\n",
       "      <td>4</td>\n",
       "      <td>539</td>\n",
       "      <td>9.464442</td>\n",
       "      <td>937.796030</td>\n",
       "      <td>115.391466</td>\n",
       "      <td>60.517625</td>\n",
       "      <td>0.015304</td>\n",
       "      <td>4.294991</td>\n",
       "    </tr>\n",
       "    <tr>\n",
       "      <th>6</th>\n",
       "      <td>6</td>\n",
       "      <td>492</td>\n",
       "      <td>8.639157</td>\n",
       "      <td>711.013984</td>\n",
       "      <td>229.662602</td>\n",
       "      <td>43.579268</td>\n",
       "      <td>0.014024</td>\n",
       "      <td>22.392276</td>\n",
       "    </tr>\n",
       "    <tr>\n",
       "      <th>3</th>\n",
       "      <td>3</td>\n",
       "      <td>577</td>\n",
       "      <td>10.131694</td>\n",
       "      <td>695.872149</td>\n",
       "      <td>172.798960</td>\n",
       "      <td>53.883882</td>\n",
       "      <td>0.022967</td>\n",
       "      <td>3.665511</td>\n",
       "    </tr>\n",
       "    <tr>\n",
       "      <th>1</th>\n",
       "      <td>1</td>\n",
       "      <td>516</td>\n",
       "      <td>9.060579</td>\n",
       "      <td>537.556066</td>\n",
       "      <td>287.897287</td>\n",
       "      <td>43.974806</td>\n",
       "      <td>0.008170</td>\n",
       "      <td>5.005814</td>\n",
       "    </tr>\n",
       "  </tbody>\n",
       "</table>\n",
       "</div>"
      ],
      "text/plain": [
       "   cluster  customer_id  perc_customer  gross_revenue  recency_days  \\\n",
       "7        7           12       0.210711  121078.380833      4.333333   \n",
       "2        2         2043      35.873573    2674.933000     16.053353   \n",
       "0        0         1115      19.578578    1091.372691     61.211659   \n",
       "5        5          401       7.041264    1086.688304    352.501247   \n",
       "4        4          539       9.464442     937.796030    115.391466   \n",
       "6        6          492       8.639157     711.013984    229.662602   \n",
       "3        3          577      10.131694     695.872149    172.798960   \n",
       "1        1          516       9.060579     537.556066    287.897287   \n",
       "\n",
       "   qt_products  frequency  qt_returns  \n",
       "7  2773.916667   0.241589  824.000000  \n",
       "2   138.710720   0.037982   32.131669  \n",
       "0    65.326457   0.018796    8.379372  \n",
       "5    74.957606   0.093306  187.448878  \n",
       "4    60.517625   0.015304    4.294991  \n",
       "6    43.579268   0.014024   22.392276  \n",
       "3    53.883882   0.022967    3.665511  \n",
       "1    43.974806   0.008170    5.005814  "
      ]
     },
     "execution_count": 263,
     "metadata": {},
     "output_type": "execute_result"
    }
   ],
   "source": [
    "\n",
    "df92 = df4[cols_selected].copy()\n",
    "\n",
    "\n",
    "df92['cluster']= labels\n",
    "\n",
    " # Number of customer\n",
    "df_cluster = df92[['customer_id', 'cluster']].groupby( 'cluster' ).count().reset_index()\n",
    "df_cluster['perc_customer'] = 100*( df_cluster['customer_id'] / df_cluster['customer_id'].sum() )\n",
    "\n",
    "# Avg Gross revenue\n",
    "df_avg_gross_revenue = df92[['gross_revenue', 'cluster']].groupby( 'cluster' ).mean().reset_index()\n",
    "df_cluster = pd.merge( df_cluster, df_avg_gross_revenue, how='inner', on='cluster' )\n",
    "\n",
    "# Avg recency days\n",
    "df_avg_recency_days = df92[['recency_days', 'cluster']].groupby( 'cluster' ).mean().reset_index()\n",
    "df_cluster = pd.merge( df_cluster, df_avg_recency_days, how='inner', on='cluster' )\n",
    "\n",
    "# Avg invoice_no\n",
    "df_qtde_products = df92[['qt_products', 'cluster']].groupby( 'cluster' ).mean().reset_index()\n",
    "df_cluster = pd.merge( df_cluster, df_qtde_products, how='inner', on='cluster' )\n",
    "\n",
    "# Frequency\n",
    "df_frequency = df92[['frequency', 'cluster']].groupby( 'cluster' ).mean().reset_index()\n",
    "df_cluster = pd.merge( df_cluster, df_frequency, how='inner', on='cluster' )\n",
    "\n",
    "# Returns\n",
    "df_qtde_returns = df92[['qt_returns', 'cluster']].groupby( 'cluster' ).mean().reset_index()\n",
    "df_cluster = pd.merge( df_cluster, df_qtde_returns, how='inner', on='cluster' )\n",
    "\n",
    "df_cluster.sort_values( 'gross_revenue', ascending=False )\n",
    "\n",
    "# df92.columns\n",
    "\n",
    "# aux0 = df92[['customer_id', 'cluster']].groupby('cluster').count().reset_index()\n",
    "\n",
    "\n",
    "# # aux1 = aux1.drop('customer_id', axis=1)\n",
    "# df92 = df92[['gross_revenue', 'recency_days', 'qt_products', 'frequency', 'qt_returns', 'cluster']].groupby('cluster').mean().reset_index()\n",
    "# df92 = pd.merge(df92, aux0, on='cluster', how='left')\n",
    "\n"
   ]
  },
  {
   "cell_type": "markdown",
   "id": "2a497396",
   "metadata": {},
   "source": [
    "# 10.0. Deploy to Production"
   ]
  },
  {
   "cell_type": "code",
   "execution_count": 265,
   "id": "7f7d21bf",
   "metadata": {
    "ExecuteTime": {
     "end_time": "2022-03-30T23:52:16.465969Z",
     "start_time": "2022-03-30T23:52:16.459451Z"
    }
   },
   "outputs": [],
   "source": [
    "df10 = df4[cols_selected].copy()\n",
    "df10['cluster'] = labels"
   ]
  },
  {
   "cell_type": "code",
   "execution_count": 266,
   "id": "9a1f42ac",
   "metadata": {
    "ExecuteTime": {
     "end_time": "2022-03-30T23:52:29.207961Z",
     "start_time": "2022-03-30T23:52:29.194764Z"
    },
    "hide_input": true
   },
   "outputs": [
    {
     "name": "stdout",
     "output_type": "stream",
     "text": [
      "% Sales Insiders: 95.93%\n"
     ]
    }
   ],
   "source": [
    "df_aux = df10[['qt_products', 'cluster']].groupby('cluster').sum().reset_index()\n",
    "\n",
    "#total products\n",
    "total = df10['qt_products'].sum()\n",
    "\n",
    "#insiders products\n",
    "df_aux_insider = df_aux.loc[df_aux['cluster']==6, 'qt_products']\n",
    "\n",
    "print('% Sales Insiders: {:.2f}%'.format((total - df_aux_insider.sum())/total*100))"
   ]
  },
  {
   "cell_type": "code",
   "execution_count": 267,
   "id": "93fe313b",
   "metadata": {
    "ExecuteTime": {
     "end_time": "2022-03-30T23:52:46.329738Z",
     "start_time": "2022-03-30T23:52:46.309881Z"
    },
    "hide_input": true
   },
   "outputs": [
    {
     "name": "stdout",
     "output_type": "stream",
     "text": [
      "% GMV Insiders: 96.54%\n"
     ]
    }
   ],
   "source": [
    "df_aux = df10[['gross_revenue', 'cluster']].groupby('cluster').sum().reset_index()\n",
    "\n",
    "#total products\n",
    "total = df10['gross_revenue'].sum()\n",
    "\n",
    "#insiders products\n",
    "df_aux_insider = df_aux.loc[df_aux['cluster']==6, 'gross_revenue']\n",
    "\n",
    "print('% GMV Insiders: {:.2f}%'.format((total - df_aux_insider.sum())/total*100))"
   ]
  },
  {
   "cell_type": "code",
   "execution_count": 270,
   "id": "4951b8e8",
   "metadata": {
    "ExecuteTime": {
     "end_time": "2022-03-30T23:53:04.232196Z",
     "start_time": "2022-03-30T23:53:04.219426Z"
    },
    "hide_input": true
   },
   "outputs": [
    {
     "name": "stdout",
     "output_type": "stream",
     "text": [
      "% de retornos de insiders em relação ao total 84%\n"
     ]
    }
   ],
   "source": [
    "insider = df_cluster.loc[df_cluster['cluster']==6, 'qt_returns'].mean()\n",
    "\n",
    "total = df_cluster['qt_returns'].mean()\n",
    "\n",
    "\n",
    "\n",
    "print('% de retornos de insiders em relação ao total {:.0f}%'.format((total-insider)/total*100))"
   ]
  },
  {
   "cell_type": "code",
   "execution_count": 271,
   "id": "b28e7890",
   "metadata": {
    "ExecuteTime": {
     "end_time": "2022-03-30T23:53:19.016778Z",
     "start_time": "2022-03-30T23:53:18.990362Z"
    },
    "hide_input": true
   },
   "outputs": [
    {
     "name": "stdout",
     "output_type": "stream",
     "text": [
      "Mediana GMV total: 613.20\n",
      "Mediana GMV Insiders: 351.06\n",
      "Diferença: -43% maior nos Insiders\n"
     ]
    }
   ],
   "source": [
    "df_aux = df10[['gross_revenue', 'cluster']].groupby('cluster').median().reset_index()\n",
    "\n",
    "#total products\n",
    "total = df10['gross_revenue'].median()\n",
    "\n",
    "#insiders products\n",
    "df_aux_insider = df_aux.loc[df_aux['cluster']==6, 'gross_revenue']\n",
    "median = df_aux_insider.median()\n",
    "\n",
    "print('Mediana GMV total: {:.2f}'.format(total))\n",
    "\n",
    "print('Mediana GMV Insiders: {:.2f}'.format(df_aux_insider.median()))\n",
    "\n",
    "print('Diferença: {:.0f}% maior nos Insiders'.format((median-total)/total*100))"
   ]
  },
  {
   "cell_type": "code",
   "execution_count": 291,
   "id": "5e41a07e",
   "metadata": {
    "ExecuteTime": {
     "end_time": "2022-03-31T00:00:48.305599Z",
     "start_time": "2022-03-31T00:00:48.282945Z"
    }
   },
   "outputs": [
    {
     "data": {
      "text/html": [
       "<div>\n",
       "<style scoped>\n",
       "    .dataframe tbody tr th:only-of-type {\n",
       "        vertical-align: middle;\n",
       "    }\n",
       "\n",
       "    .dataframe tbody tr th {\n",
       "        vertical-align: top;\n",
       "    }\n",
       "\n",
       "    .dataframe thead th {\n",
       "        text-align: right;\n",
       "    }\n",
       "</style>\n",
       "<table border=\"1\" class=\"dataframe\">\n",
       "  <thead>\n",
       "    <tr style=\"text-align: right;\">\n",
       "      <th></th>\n",
       "      <th>customer_id</th>\n",
       "      <th>gross_revenue</th>\n",
       "      <th>recency_days</th>\n",
       "      <th>qt_products</th>\n",
       "      <th>frequency</th>\n",
       "      <th>qt_returns</th>\n",
       "      <th>cluster</th>\n",
       "    </tr>\n",
       "  </thead>\n",
       "  <tbody>\n",
       "    <tr>\n",
       "      <th>1017</th>\n",
       "      <td>14646</td>\n",
       "      <td>279138.02</td>\n",
       "      <td>1.0</td>\n",
       "      <td>2060.0</td>\n",
       "      <td>0.203966</td>\n",
       "      <td>288.0</td>\n",
       "      <td>7</td>\n",
       "    </tr>\n",
       "    <tr>\n",
       "      <th>492</th>\n",
       "      <td>18102</td>\n",
       "      <td>259657.30</td>\n",
       "      <td>0.0</td>\n",
       "      <td>431.0</td>\n",
       "      <td>0.163488</td>\n",
       "      <td>0.0</td>\n",
       "      <td>7</td>\n",
       "    </tr>\n",
       "    <tr>\n",
       "      <th>433</th>\n",
       "      <td>17450</td>\n",
       "      <td>194550.79</td>\n",
       "      <td>8.0</td>\n",
       "      <td>337.0</td>\n",
       "      <td>0.128134</td>\n",
       "      <td>952.0</td>\n",
       "      <td>7</td>\n",
       "    </tr>\n",
       "    <tr>\n",
       "      <th>66</th>\n",
       "      <td>14911</td>\n",
       "      <td>140450.72</td>\n",
       "      <td>1.0</td>\n",
       "      <td>5673.0</td>\n",
       "      <td>0.534946</td>\n",
       "      <td>3332.0</td>\n",
       "      <td>7</td>\n",
       "    </tr>\n",
       "    <tr>\n",
       "      <th>1150</th>\n",
       "      <td>12415</td>\n",
       "      <td>124564.53</td>\n",
       "      <td>24.0</td>\n",
       "      <td>713.0</td>\n",
       "      <td>0.063898</td>\n",
       "      <td>427.0</td>\n",
       "      <td>7</td>\n",
       "    </tr>\n",
       "    <tr>\n",
       "      <th>190</th>\n",
       "      <td>14156</td>\n",
       "      <td>117379.63</td>\n",
       "      <td>9.0</td>\n",
       "      <td>1400.0</td>\n",
       "      <td>0.151934</td>\n",
       "      <td>859.0</td>\n",
       "      <td>7</td>\n",
       "    </tr>\n",
       "    <tr>\n",
       "      <th>15</th>\n",
       "      <td>17511</td>\n",
       "      <td>91062.38</td>\n",
       "      <td>2.0</td>\n",
       "      <td>963.0</td>\n",
       "      <td>0.083558</td>\n",
       "      <td>1535.0</td>\n",
       "      <td>7</td>\n",
       "    </tr>\n",
       "    <tr>\n",
       "      <th>8</th>\n",
       "      <td>15311</td>\n",
       "      <td>60767.90</td>\n",
       "      <td>0.0</td>\n",
       "      <td>2379.0</td>\n",
       "      <td>0.243968</td>\n",
       "      <td>474.0</td>\n",
       "      <td>7</td>\n",
       "    </tr>\n",
       "    <tr>\n",
       "      <th>278</th>\n",
       "      <td>13089</td>\n",
       "      <td>58825.83</td>\n",
       "      <td>2.0</td>\n",
       "      <td>1818.0</td>\n",
       "      <td>0.264305</td>\n",
       "      <td>283.0</td>\n",
       "      <td>7</td>\n",
       "    </tr>\n",
       "    <tr>\n",
       "      <th>4405</th>\n",
       "      <td>14096</td>\n",
       "      <td>53258.43</td>\n",
       "      <td>4.0</td>\n",
       "      <td>5095.0</td>\n",
       "      <td>0.175258</td>\n",
       "      <td>0.0</td>\n",
       "      <td>7</td>\n",
       "    </tr>\n",
       "    <tr>\n",
       "      <th>68</th>\n",
       "      <td>17841</td>\n",
       "      <td>40967.72</td>\n",
       "      <td>1.0</td>\n",
       "      <td>7838.0</td>\n",
       "      <td>0.333333</td>\n",
       "      <td>203.0</td>\n",
       "      <td>7</td>\n",
       "    </tr>\n",
       "    <tr>\n",
       "      <th>47</th>\n",
       "      <td>12748</td>\n",
       "      <td>32317.32</td>\n",
       "      <td>0.0</td>\n",
       "      <td>4580.0</td>\n",
       "      <td>0.552279</td>\n",
       "      <td>1535.0</td>\n",
       "      <td>7</td>\n",
       "    </tr>\n",
       "  </tbody>\n",
       "</table>\n",
       "</div>"
      ],
      "text/plain": [
       "      customer_id  gross_revenue  recency_days  qt_products  frequency  \\\n",
       "1017        14646      279138.02           1.0       2060.0   0.203966   \n",
       "492         18102      259657.30           0.0        431.0   0.163488   \n",
       "433         17450      194550.79           8.0        337.0   0.128134   \n",
       "66          14911      140450.72           1.0       5673.0   0.534946   \n",
       "1150        12415      124564.53          24.0        713.0   0.063898   \n",
       "190         14156      117379.63           9.0       1400.0   0.151934   \n",
       "15          17511       91062.38           2.0        963.0   0.083558   \n",
       "8           15311       60767.90           0.0       2379.0   0.243968   \n",
       "278         13089       58825.83           2.0       1818.0   0.264305   \n",
       "4405        14096       53258.43           4.0       5095.0   0.175258   \n",
       "68          17841       40967.72           1.0       7838.0   0.333333   \n",
       "47          12748       32317.32           0.0       4580.0   0.552279   \n",
       "\n",
       "      qt_returns  cluster  \n",
       "1017       288.0        7  \n",
       "492          0.0        7  \n",
       "433        952.0        7  \n",
       "66        3332.0        7  \n",
       "1150       427.0        7  \n",
       "190        859.0        7  \n",
       "15        1535.0        7  \n",
       "8          474.0        7  \n",
       "278        283.0        7  \n",
       "4405         0.0        7  \n",
       "68         203.0        7  \n",
       "47        1535.0        7  "
      ]
     },
     "execution_count": 291,
     "metadata": {},
     "output_type": "execute_result"
    }
   ],
   "source": [
    "df10[df10['cluster'] == 7].sort_values('gross_revenue', ascending=False)"
   ]
  },
  {
   "cell_type": "code",
   "execution_count": 290,
   "id": "dd29d54c",
   "metadata": {
    "ExecuteTime": {
     "end_time": "2022-03-30T23:59:27.685975Z",
     "start_time": "2022-03-30T23:59:26.780397Z"
    }
   },
   "outputs": [
    {
     "name": "stderr",
     "output_type": "stream",
     "text": [
      "/home/heitor/repos/insiders_clustering/venv/lib/python3.8/site-packages/seaborn/distributions.py:2619: FutureWarning: `distplot` is a deprecated function and will be removed in a future version. Please adapt your code to use either `displot` (a figure-level function with similar flexibility) or `histplot` (an axes-level function for histograms).\n",
      "  warnings.warn(msg, FutureWarning)\n"
     ]
    },
    {
     "data": {
      "text/plain": [
       "<AxesSubplot:xlabel='quantity', ylabel='Density'>"
      ]
     },
     "execution_count": 290,
     "metadata": {},
     "output_type": "execute_result"
    },
    {
     "data": {
      "image/png": "[encoded data removed]",
      "text/plain": [
       "<Figure size 1440x720 with 1 Axes>"
      ]
     },
     "metadata": {
      "needs_background": "light"
     },
     "output_type": "display_data"
    }
   ],
   "source": [
    "df_merge = pd.merge(df2, df10[['cluster','customer_id']], on='customer_id', how='left')\n",
    "df_merge = df_merge.dropna()\n",
    "\n",
    "df_aux = df_merge.loc[(df_merge['quantity']<0) & (df_merge['cluster']==7),:]\n",
    "\n",
    "plt.figure(figsize=(20,10))\n",
    "sns.distplot(df_aux['quantity'])"
   ]
  },
  {
   "cell_type": "code",
   "execution_count": null,
   "id": "d22fafb1",
   "metadata": {
    "ExecuteTime": {
     "end_time": "2022-03-30T22:49:17.588185Z",
     "start_time": "2022-03-30T22:49:17.588161Z"
    }
   },
   "outputs": [],
   "source": [
    "df10.dtypes"
   ]
  },
  {
   "cell_type": "code",
   "execution_count": 276,
   "id": "465988e5",
   "metadata": {
    "ExecuteTime": {
     "end_time": "2022-03-30T23:55:43.197566Z",
     "start_time": "2022-03-30T23:55:42.685771Z"
    }
   },
   "outputs": [
    {
     "name": "stdout",
     "output_type": "stream",
     "text": [
      "Faturamento retornado em devolução: 1.0%\n"
     ]
    }
   ],
   "source": []
  },
  {
   "cell_type": "code",
   "execution_count": null,
   "id": "6ffba6cf",
   "metadata": {},
   "outputs": [],
   "source": []
  }
 ],
 "metadata": {
  "kernelspec": {
   "display_name": "Python 3 (ipykernel)",
   "language": "python",
   "name": "python3"
  },
  "language_info": {
   "codemirror_mode": {
    "name": "ipython",
    "version": 3
   },
   "file_extension": ".py",
   "mimetype": "text/x-python",
   "name": "python",
   "nbconvert_exporter": "python",
   "pygments_lexer": "ipython3",
   "version": "3.8.10"
  }
 },
 "nbformat": 4,
 "nbformat_minor": 5
}
