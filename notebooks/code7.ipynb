{
 "cells": [
  {
   "cell_type": "markdown",
   "id": "debfd19c",
   "metadata": {
    "heading_collapsed": true
   },
   "source": [
    "# PA005: High Value Customer Identification (Insiders)"
   ]
  },
  {
   "cell_type": "markdown",
   "id": "cfd50e87",
   "metadata": {
    "ExecuteTime": {
     "end_time": "2022-03-22T20:07:48.369323Z",
     "start_time": "2022-03-22T20:07:47.915832Z"
    },
    "hidden": true
   },
   "source": [
    "## Ciclo 0 -  Planejamento da solução (IOT)"
   ]
  },
  {
   "cell_type": "markdown",
   "id": "9c541162",
   "metadata": {
    "ExecuteTime": {
     "end_time": "2022-03-22T20:07:48.369323Z",
     "start_time": "2022-03-22T20:07:47.915832Z"
    },
    "hidden": true
   },
   "source": [
    "## Ciclo 1 -  Métricas de Validação de Clusters"
   ]
  },
  {
   "cell_type": "markdown",
   "id": "168bcc5f",
   "metadata": {
    "hidden": true
   },
   "source": [
    "1. Feature Engineering\n",
    "* Recency\n",
    "* Frequency\n",
    "* Monetary\n",
    "\n",
    "2. Métricas de Validação de clusters\n",
    "* WSS - (Within-Cluster Sum of Squares)\n",
    "* SS - (Silhouette Score)\n",
    "\n",
    "3. Cluster Analisys\n",
    "* Plot 3d\n",
    "* Cluster profile"
   ]
  },
  {
   "cell_type": "markdown",
   "id": "d22eee11",
   "metadata": {
    "ExecuteTime": {
     "end_time": "2022-03-22T20:07:48.369323Z",
     "start_time": "2022-03-22T20:07:47.915832Z"
    },
    "hidden": true
   },
   "source": [
    "## Ciclo 2 - Análise de Silhouette"
   ]
  },
  {
   "cell_type": "markdown",
   "id": "1df301e0",
   "metadata": {
    "hidden": true
   },
   "source": [
    "1. Feature Engineering\n",
    "* Average Ticket\n",
    "\n",
    "\n",
    "2. Análise de Silhouette\n",
    "* Silhouette Analysis\n",
    "\n",
    "\n",
    "3. Clustering visualization\n",
    "* UMAP\n",
    "\n",
    "\n",
    "4. Cluster análise de perfil\n",
    "* Descrição dos centroides dos clusters"
   ]
  },
  {
   "cell_type": "markdown",
   "id": "9ca480ab",
   "metadata": {
    "ExecuteTime": {
     "end_time": "2022-03-22T20:07:48.369323Z",
     "start_time": "2022-03-22T20:07:47.915832Z"
    },
    "heading_collapsed": true,
    "hidden": true
   },
   "source": [
    "## Ciclo 3 - Feature Engineering I"
   ]
  },
  {
   "cell_type": "markdown",
   "id": "5af0be62",
   "metadata": {
    "ExecuteTime": {
     "end_time": "2022-03-22T20:07:48.369323Z",
     "start_time": "2022-03-22T20:07:47.915832Z"
    },
    "heading_collapsed": true,
    "hidden": true
   },
   "source": [
    "## Ciclo 4 - Feature Engineering II"
   ]
  },
  {
   "cell_type": "markdown",
   "id": "980b38df",
   "metadata": {
    "ExecuteTime": {
     "end_time": "2022-03-22T20:07:48.369323Z",
     "start_time": "2022-03-22T20:07:47.915832Z"
    },
    "hidden": true
   },
   "source": [
    "## Ciclo 5 - EDA I"
   ]
  },
  {
   "cell_type": "markdown",
   "id": "987a4e58",
   "metadata": {
    "hidden": true
   },
   "source": [
    "1. Feature Engineering\n",
    "* Criando, organizando e tratando novas features\n",
    "\n",
    "2. EDA\n",
    "* Checando e corrigindo features\n",
    "* Criando report com o profile\n",
    "\n"
   ]
  },
  {
   "cell_type": "markdown",
   "id": "92c2135d",
   "metadata": {
    "hidden": true
   },
   "source": [
    "## Input - Entrada"
   ]
  },
  {
   "cell_type": "markdown",
   "id": "8524a40a",
   "metadata": {
    "ExecuteTime": {
     "end_time": "2022-03-22T20:13:17.225841Z",
     "start_time": "2022-03-22T20:13:17.221201Z"
    },
    "hidden": true
   },
   "source": [
    "1. Problema de negócio\n",
    "\n",
    "    --Selecionar os clientes mais valiosos para integrar um programa de fidelização\n",
    "    \n",
    "2. Conjunto de dados\n",
    "\n",
    "    --Vendas de um e-commerce, durante um período de um ano"
   ]
  },
  {
   "cell_type": "markdown",
   "id": "f9412214",
   "metadata": {
    "hidden": true
   },
   "source": [
    "## Output - Saída"
   ]
  },
  {
   "cell_type": "markdown",
   "id": "6971ca6e",
   "metadata": {
    "hidden": true
   },
   "source": [
    "1. A idicação de clientes que farão parte do programa de Insiders\n",
    "\n",
    "    --Lista: client_id | is_insider\n",
    "            455534     | yes\n",
    "            433524     | no\n",
    "            \n",
    "2. Relatório com as respostas das perguntas de negócios\n",
    "\n",
    "    2.0. Quem são as pessoas elegíveis para fazer parte do grupo de Insiders?\n",
    "\n",
    "    2.1. Quantos clientes farão parte do grupo?\n",
    "    \n",
    "    2.2. Quais as principais características desses clientes?\n",
    "    \n",
    "    2.3. Qual a porcentagem de contribuição do faturamento vindo dos Insiders?\n",
    "    \n",
    "    2.4. Qual a expectativa de faturamento desse grupo para os próximos meses?\n",
    "    \n",
    "    2.5. Quais as condições para umma pessoa ser elegível ao Insiders?\n",
    "    \n",
    "    2.6. Quais as condições para umma pessoa ser removida do Insiders?\n",
    "    \n",
    "    2.7. Qual a garantia que o programa Insiders é melhor que o restante da base?\n",
    "    \n",
    "    2.8. Quais ações o time de marketing pode realizar para aumentar o faturamento?\n",
    "    \n",
    "    "
   ]
  },
  {
   "cell_type": "markdown",
   "id": "52ba385b",
   "metadata": {
    "hidden": true
   },
   "source": [
    "## Tasks - Tarefas"
   ]
  },
  {
   "cell_type": "markdown",
   "id": "01b7e6be",
   "metadata": {
    "hidden": true
   },
   "source": [
    "    0. Quem são as pessoas elegíveis para fazer parte do grupo de Insiders?  \n",
    "        - O que são clientes de maior \"valor\"?\n",
    "        - Faturamento\n",
    "            - Alto ticket médio\n",
    "            - Alto LTV\n",
    "            - Baixa recência\n",
    "            - Baixa probabilidade de churn\n",
    "            - Alto basket size\n",
    "            - Alta previsão LTV\n",
    "            - Alta propensão de compra\n",
    "            \n",
    "        - Custo\n",
    "            - Baixa taxa de devolução\n",
    "            \n",
    "        - Experiência de compra\n",
    "            - Média alta das avaliações\n",
    "    \n",
    "    1. Quantos clientes farão parte do grupo?\n",
    "        - Número total de clientes\n",
    "        - % do grupo de Insiders\n",
    "    \n",
    "    2. Quais as principais características desses clientes?\n",
    "        -Características dos clientes:\n",
    "            - Idade\n",
    "            - Localização\n",
    "            \n",
    "        - Características de consumo:\n",
    "            - Atributos da clusterização\n",
    "        \n",
    "    \n",
    "    3. Qual a porcentagem de contribuição do faturamento vindo dos Insiders?\n",
    "            - Faturamento do ano\n",
    "            - Faturamento dos Insiders\n",
    "    \n",
    "    4. Qual a expectativa de faturamento desse grupo para os próximos meses?\n",
    "            - LTV do grupo Insiders\n",
    "            - Análise de Cohort\n",
    "    \n",
    "    5. Quais as condições para umma pessoa ser elegível ao Insiders?\n",
    "            - Definir periodicidade\n",
    "            - A pessoa precisa ser similar ou parecido com uma pessoa do grupo\n",
    "            \n",
    "    6. Quais as condições para umma pessoa ser removida do Insiders?\n",
    "            - Definir periodicidade\n",
    "            - A pessoa precisa ser dissimilar ou parecido com uma pessoa do grupo\n",
    "            \n",
    "    7. Qual a garantia que o programa Insiders é melhor que o restante da base?\n",
    "            - Teste A/B\n",
    "            - Teste A/B Bayesiano\n",
    "            - Teste de hipóteses\n",
    "    \n",
    "    8. Quais ações o time de marketing pode realizar para aumentar o faturamento?\n",
    "            - Desconto\n",
    "            - Preferência de compra\n",
    "            - Frente\n",
    "            - Visita a empresa"
   ]
  },
  {
   "cell_type": "markdown",
   "id": "93430148",
   "metadata": {
    "hidden": true
   },
   "source": [
    "## Benchmark de soluções"
   ]
  },
  {
   "cell_type": "markdown",
   "id": "68a75fe6",
   "metadata": {
    "hidden": true
   },
   "source": [
    "### 1. Desk research"
   ]
  },
  {
   "cell_type": "markdown",
   "id": "26b606ea",
   "metadata": {
    "hidden": true
   },
   "source": [
    "Modelo RFM\n",
    "1. Recency\n",
    "    a) Tempo desde a última compra\n",
    "    b) Responsividade\n",
    "\n",
    "2. Frequency\n",
    "    a) Tempo médio entre as transações\n",
    "    b) Engajamento\n",
    "    \n",
    "3. Monetary \n",
    "    a) Total gasto, faturamento\n",
    "    b) 'High-value purchases'"
   ]
  },
  {
   "cell_type": "markdown",
   "id": "9489f164",
   "metadata": {},
   "source": [
    "# 0.0. Imports"
   ]
  },
  {
   "cell_type": "code",
   "execution_count": 154,
   "id": "bfab7447",
   "metadata": {
    "ExecuteTime": {
     "end_time": "2022-03-28T21:49:43.824945Z",
     "start_time": "2022-03-28T21:49:43.817094Z"
    }
   },
   "outputs": [],
   "source": [
    "\n",
    "from yellowbrick.cluster import KElbowVisualizer\n",
    "from yellowbrick.cluster import SilhouetteVisualizer\n",
    "from sklearn.manifold import TSNE\n",
    "\n",
    "from matplotlib          import pyplot        as plt\n",
    "from sklearn             import cluster       as c\n",
    "from sklearn             import metrics       as m\n",
    "from sklearn             import preprocessing as pp\n",
    "from sklearn             import decomposition as dd\n",
    "from sklearn             import mixture       as mx\n",
    "from sklearn             import ensemble      as en\n",
    "\n",
    "from scipy.cluster      import hierarchy     as hc\n",
    "from plotly              import express       as px\n",
    "from pandas_profiling    import ProfileReport\n",
    "\n",
    "import pandas as pd\n",
    "import seaborn as sns\n",
    "import numpy as np\n",
    "import matplotlib \n",
    "\n",
    "import re"
   ]
  },
  {
   "cell_type": "code",
   "execution_count": 3,
   "id": "e5858e03",
   "metadata": {
    "ExecuteTime": {
     "end_time": "2022-03-28T20:47:40.140347Z",
     "start_time": "2022-03-28T20:47:35.074481Z"
    }
   },
   "outputs": [],
   "source": [
    "import umap.umap_ as umap\n"
   ]
  },
  {
   "cell_type": "markdown",
   "id": "944d041a",
   "metadata": {},
   "source": [
    "## 0.2. Helper Functions"
   ]
  },
  {
   "cell_type": "code",
   "execution_count": 4,
   "id": "3fd76676",
   "metadata": {
    "ExecuteTime": {
     "end_time": "2022-03-28T20:47:40.155074Z",
     "start_time": "2022-03-28T20:47:40.142183Z"
    }
   },
   "outputs": [],
   "source": [
    "%matplotlib inline\n",
    "def num_attributes(df1):\n",
    "    \n",
    "    num_attributes = df1.select_dtypes(['int64', 'float64'])\n",
    "\n",
    "    #central tendency\n",
    "    ct1 = pd.DataFrame(num_attributes.apply(np.mean)).T\n",
    "    ct2 = pd.DataFrame(num_attributes.apply(np.median)).T\n",
    "\n",
    "    #dispersion\n",
    "    d1 = pd.DataFrame(num_attributes.apply(np.min)).T\n",
    "    d2 = pd.DataFrame(num_attributes.apply(np.max)).T\n",
    "    d3 = pd.DataFrame(num_attributes.apply(lambda x: x.max() - x.min())).T\n",
    "    d4 = pd.DataFrame(num_attributes.apply(np.std)).T\n",
    "    d5 = pd.DataFrame(num_attributes.apply(lambda x: x.skew())).T\n",
    "    d6 = pd.DataFrame(num_attributes.apply(lambda x: x.kurtosis())).T\n",
    "\n",
    "    m = pd.concat( [d1, d2, d3, ct1, ct2, d4, d5, d6] ).T.reset_index()\n",
    "    m.columns = ['attributes', 'min', 'max', 'range', 'mean', 'median', 'std','skew', 'kurtosis']\n",
    "    return m"
   ]
  },
  {
   "cell_type": "markdown",
   "id": "3a4d4f04",
   "metadata": {},
   "source": [
    "## 0.3. Load Data"
   ]
  },
  {
   "cell_type": "code",
   "execution_count": 5,
   "id": "1f060a95",
   "metadata": {
    "ExecuteTime": {
     "end_time": "2022-03-28T20:47:41.693184Z",
     "start_time": "2022-03-28T20:47:40.158044Z"
    }
   },
   "outputs": [],
   "source": [
    "df_raw = pd.read_csv(r'../data/Ecommerce.csv')\n"
   ]
  },
  {
   "cell_type": "markdown",
   "id": "8182c343",
   "metadata": {},
   "source": [
    "# 1.0. Data Description"
   ]
  },
  {
   "cell_type": "code",
   "execution_count": 6,
   "id": "b3131385",
   "metadata": {
    "ExecuteTime": {
     "end_time": "2022-03-28T20:47:41.724930Z",
     "start_time": "2022-03-28T20:47:41.694987Z"
    }
   },
   "outputs": [],
   "source": [
    "df1 = df_raw.copy()"
   ]
  },
  {
   "cell_type": "markdown",
   "id": "39437f33",
   "metadata": {},
   "source": [
    "## 1.1. Rename Columns"
   ]
  },
  {
   "cell_type": "code",
   "execution_count": 7,
   "id": "00fc26d3",
   "metadata": {
    "ExecuteTime": {
     "end_time": "2022-03-28T20:47:41.824605Z",
     "start_time": "2022-03-28T20:47:41.726739Z"
    }
   },
   "outputs": [
    {
     "data": {
      "text/plain": [
       "Index(['InvoiceNo', 'StockCode', 'Description', 'Quantity', 'InvoiceDate',\n",
       "       'UnitPrice', 'CustomerID', 'Country'],\n",
       "      dtype='object')"
      ]
     },
     "execution_count": 7,
     "metadata": {},
     "output_type": "execute_result"
    }
   ],
   "source": [
    "df1.columns"
   ]
  },
  {
   "cell_type": "code",
   "execution_count": 8,
   "id": "2a05f0ff",
   "metadata": {
    "ExecuteTime": {
     "end_time": "2022-03-28T20:47:41.929369Z",
     "start_time": "2022-03-28T20:47:41.826386Z"
    }
   },
   "outputs": [],
   "source": [
    "df1.columns = ['invoice_no', 'stock_code', 'description', 'quantity', 'invoice_date',\n",
    "       'unit_price', 'customer_id', 'country']"
   ]
  },
  {
   "cell_type": "markdown",
   "id": "775005e2",
   "metadata": {},
   "source": [
    "## 1.2. Data Shape"
   ]
  },
  {
   "cell_type": "code",
   "execution_count": 9,
   "id": "a76ce76d",
   "metadata": {
    "ExecuteTime": {
     "end_time": "2022-03-28T20:47:42.029364Z",
     "start_time": "2022-03-28T20:47:41.931270Z"
    }
   },
   "outputs": [
    {
     "name": "stdout",
     "output_type": "stream",
     "text": [
      "Number of rows: 541909\n",
      "Number of columns: 8\n"
     ]
    }
   ],
   "source": [
    "print(f'Number of rows: {df1.shape[0]}')\n",
    "print(f'Number of columns: {df1.shape[1]}')"
   ]
  },
  {
   "cell_type": "markdown",
   "id": "cee652c4",
   "metadata": {},
   "source": [
    "## 1.3. Data Types"
   ]
  },
  {
   "cell_type": "code",
   "execution_count": 10,
   "id": "a7e20e2d",
   "metadata": {
    "ExecuteTime": {
     "end_time": "2022-03-28T20:47:42.162076Z",
     "start_time": "2022-03-28T20:47:42.031426Z"
    }
   },
   "outputs": [
    {
     "data": {
      "text/plain": [
       "invoice_no       object\n",
       "stock_code       object\n",
       "description      object\n",
       "quantity          int64\n",
       "invoice_date     object\n",
       "unit_price      float64\n",
       "customer_id     float64\n",
       "country          object\n",
       "dtype: object"
      ]
     },
     "execution_count": 10,
     "metadata": {},
     "output_type": "execute_result"
    }
   ],
   "source": [
    "df1.dtypes"
   ]
  },
  {
   "cell_type": "markdown",
   "id": "04839175",
   "metadata": {},
   "source": [
    "## 1.4. Check NAs\n"
   ]
  },
  {
   "cell_type": "code",
   "execution_count": 11,
   "id": "b48f1f36",
   "metadata": {
    "ExecuteTime": {
     "end_time": "2022-03-28T20:47:42.735828Z",
     "start_time": "2022-03-28T20:47:42.165297Z"
    }
   },
   "outputs": [
    {
     "data": {
      "text/plain": [
       "invoice_no           0\n",
       "stock_code           0\n",
       "description       1454\n",
       "quantity             0\n",
       "invoice_date         0\n",
       "unit_price           0\n",
       "customer_id     135080\n",
       "country              0\n",
       "dtype: int64"
      ]
     },
     "execution_count": 11,
     "metadata": {},
     "output_type": "execute_result"
    }
   ],
   "source": [
    "df1.isna().sum()"
   ]
  },
  {
   "cell_type": "markdown",
   "id": "d7b465fd",
   "metadata": {},
   "source": [
    "## 1.5. Fill NAs"
   ]
  },
  {
   "cell_type": "code",
   "execution_count": 12,
   "id": "e554c65f",
   "metadata": {
    "ExecuteTime": {
     "end_time": "2022-03-28T20:47:42.849362Z",
     "start_time": "2022-03-28T20:47:42.737416Z"
    }
   },
   "outputs": [],
   "source": [
    "#remove na\n",
    "df_missing = df1[df1['customer_id'].isna()]\n",
    "df_not_missing = df1[-df1['customer_id'].isna()]\n",
    "\n"
   ]
  },
  {
   "cell_type": "code",
   "execution_count": 13,
   "id": "1a48598d",
   "metadata": {
    "ExecuteTime": {
     "end_time": "2022-03-28T20:47:42.954634Z",
     "start_time": "2022-03-28T20:47:42.851288Z"
    }
   },
   "outputs": [
    {
     "data": {
      "text/plain": [
       "135080"
      ]
     },
     "execution_count": 13,
     "metadata": {},
     "output_type": "execute_result"
    }
   ],
   "source": [
    "len(df_missing)"
   ]
  },
  {
   "cell_type": "code",
   "execution_count": 14,
   "id": "2a139401",
   "metadata": {
    "ExecuteTime": {
     "end_time": "2022-03-28T20:47:43.061326Z",
     "start_time": "2022-03-28T20:47:42.958213Z"
    }
   },
   "outputs": [
    {
     "data": {
      "text/plain": [
       "406829"
      ]
     },
     "execution_count": 14,
     "metadata": {},
     "output_type": "execute_result"
    }
   ],
   "source": [
    "len(df_not_missing)"
   ]
  },
  {
   "cell_type": "code",
   "execution_count": 15,
   "id": "b336b03c",
   "metadata": {
    "ExecuteTime": {
     "end_time": "2022-03-28T20:47:43.572199Z",
     "start_time": "2022-03-28T20:47:43.063678Z"
    }
   },
   "outputs": [],
   "source": [
    "#create reference\n",
    "df_backup = pd.DataFrame(df_missing['invoice_no'].drop_duplicates())\n",
    "df_backup['customer_id'] = np.arange(19000, 19000+len(df_backup),1)\n",
    "\n",
    "#merge\n",
    "df1 = pd.merge(df1, df_backup, on='invoice_no', how='left')\n",
    "\n",
    "#coalesce\n",
    "df1['customer_id'] = df1['customer_id_x'].combine_first(df1['customer_id_y'])\n",
    "\n",
    "#drop extra columns\n",
    "df1 = df1.drop(['customer_id_x', 'customer_id_y'], axis=1)\n",
    "\n",
    "\n"
   ]
  },
  {
   "cell_type": "code",
   "execution_count": 16,
   "id": "3e7a909a",
   "metadata": {
    "ExecuteTime": {
     "end_time": "2022-03-28T20:47:44.076561Z",
     "start_time": "2022-03-28T20:47:43.573837Z"
    }
   },
   "outputs": [
    {
     "data": {
      "text/plain": [
       "invoice_no         0\n",
       "stock_code         0\n",
       "description     1454\n",
       "quantity           0\n",
       "invoice_date       0\n",
       "unit_price         0\n",
       "country            0\n",
       "customer_id        0\n",
       "dtype: int64"
      ]
     },
     "execution_count": 16,
     "metadata": {},
     "output_type": "execute_result"
    }
   ],
   "source": [
    "df1.isna().sum()"
   ]
  },
  {
   "cell_type": "markdown",
   "id": "4260f86c",
   "metadata": {},
   "source": [
    "## 1.6. Change dtypes"
   ]
  },
  {
   "cell_type": "code",
   "execution_count": 17,
   "id": "464e637e",
   "metadata": {
    "ExecuteTime": {
     "end_time": "2022-03-28T20:47:44.250567Z",
     "start_time": "2022-03-28T20:47:44.078477Z"
    }
   },
   "outputs": [
    {
     "data": {
      "text/plain": [
       "invoice_no       object\n",
       "stock_code       object\n",
       "description      object\n",
       "quantity          int64\n",
       "invoice_date     object\n",
       "unit_price      float64\n",
       "country          object\n",
       "customer_id     float64\n",
       "dtype: object"
      ]
     },
     "execution_count": 17,
     "metadata": {},
     "output_type": "execute_result"
    }
   ],
   "source": [
    "df1.dtypes"
   ]
  },
  {
   "cell_type": "code",
   "execution_count": 18,
   "id": "03324ef2",
   "metadata": {
    "ExecuteTime": {
     "end_time": "2022-03-28T20:47:44.441358Z",
     "start_time": "2022-03-28T20:47:44.252277Z"
    }
   },
   "outputs": [
    {
     "data": {
      "text/plain": [
       "invoice_no              object\n",
       "stock_code              object\n",
       "description             object\n",
       "quantity                 int64\n",
       "invoice_date    datetime64[ns]\n",
       "unit_price             float64\n",
       "country                 object\n",
       "customer_id              int64\n",
       "dtype: object"
      ]
     },
     "execution_count": 18,
     "metadata": {},
     "output_type": "execute_result"
    }
   ],
   "source": [
    "#invoice_no \n",
    "# df1['invoice_no'] = df1['invoice_no'].astype(int)\n",
    "\n",
    "\n",
    "#stock_code \n",
    "# df1['stock_code'] = df1['stock_code'].astype(int)\n",
    "\n",
    "\n",
    "#invoice_date  --> Month --> b\n",
    "df1['invoice_date'] = pd.to_datetime(df1['invoice_date'], format=('%d-%b-%y'))\n",
    "\n",
    "\n",
    "#customer_id\n",
    "df1['customer_id'] = df1['customer_id'].astype(int)\n",
    "df1.dtypes"
   ]
  },
  {
   "cell_type": "markdown",
   "id": "ec38e084",
   "metadata": {},
   "source": [
    "## 1.7. Descriptive statistics"
   ]
  },
  {
   "cell_type": "code",
   "execution_count": 19,
   "id": "9ced28d5",
   "metadata": {
    "ExecuteTime": {
     "end_time": "2022-03-28T20:47:44.503883Z",
     "start_time": "2022-03-28T20:47:44.443481Z"
    }
   },
   "outputs": [],
   "source": [
    "\n",
    "cat_attributes = df1.select_dtypes(exclude = ['int64', 'float64', 'datetime64[ns]'])"
   ]
  },
  {
   "cell_type": "markdown",
   "id": "849a9083",
   "metadata": {},
   "source": [
    "### 1.7.1. Numerical Attributes"
   ]
  },
  {
   "cell_type": "code",
   "execution_count": 20,
   "id": "7e906985",
   "metadata": {
    "ExecuteTime": {
     "end_time": "2022-03-28T20:47:44.932950Z",
     "start_time": "2022-03-28T20:47:44.506041Z"
    }
   },
   "outputs": [
    {
     "data": {
      "text/html": [
       "<div>\n",
       "<style scoped>\n",
       "    .dataframe tbody tr th:only-of-type {\n",
       "        vertical-align: middle;\n",
       "    }\n",
       "\n",
       "    .dataframe tbody tr th {\n",
       "        vertical-align: top;\n",
       "    }\n",
       "\n",
       "    .dataframe thead th {\n",
       "        text-align: right;\n",
       "    }\n",
       "</style>\n",
       "<table border=\"1\" class=\"dataframe\">\n",
       "  <thead>\n",
       "    <tr style=\"text-align: right;\">\n",
       "      <th></th>\n",
       "      <th>attributes</th>\n",
       "      <th>min</th>\n",
       "      <th>max</th>\n",
       "      <th>range</th>\n",
       "      <th>mean</th>\n",
       "      <th>median</th>\n",
       "      <th>std</th>\n",
       "      <th>skew</th>\n",
       "      <th>kurtosis</th>\n",
       "    </tr>\n",
       "  </thead>\n",
       "  <tbody>\n",
       "    <tr>\n",
       "      <th>0</th>\n",
       "      <td>quantity</td>\n",
       "      <td>-80995.00</td>\n",
       "      <td>80995.0</td>\n",
       "      <td>161990.00</td>\n",
       "      <td>9.552250</td>\n",
       "      <td>3.00</td>\n",
       "      <td>218.080957</td>\n",
       "      <td>-0.264076</td>\n",
       "      <td>119769.160031</td>\n",
       "    </tr>\n",
       "    <tr>\n",
       "      <th>1</th>\n",
       "      <td>unit_price</td>\n",
       "      <td>-11062.06</td>\n",
       "      <td>38970.0</td>\n",
       "      <td>50032.06</td>\n",
       "      <td>4.611121</td>\n",
       "      <td>2.08</td>\n",
       "      <td>96.759763</td>\n",
       "      <td>186.506973</td>\n",
       "      <td>59005.719804</td>\n",
       "    </tr>\n",
       "    <tr>\n",
       "      <th>2</th>\n",
       "      <td>customer_id</td>\n",
       "      <td>12346.00</td>\n",
       "      <td>22709.0</td>\n",
       "      <td>10363.00</td>\n",
       "      <td>16688.840453</td>\n",
       "      <td>16249.00</td>\n",
       "      <td>2911.408666</td>\n",
       "      <td>0.487449</td>\n",
       "      <td>-0.804287</td>\n",
       "    </tr>\n",
       "  </tbody>\n",
       "</table>\n",
       "</div>"
      ],
      "text/plain": [
       "    attributes       min      max      range          mean    median  \\\n",
       "0     quantity -80995.00  80995.0  161990.00      9.552250      3.00   \n",
       "1   unit_price -11062.06  38970.0   50032.06      4.611121      2.08   \n",
       "2  customer_id  12346.00  22709.0   10363.00  16688.840453  16249.00   \n",
       "\n",
       "           std        skew       kurtosis  \n",
       "0   218.080957   -0.264076  119769.160031  \n",
       "1    96.759763  186.506973   59005.719804  \n",
       "2  2911.408666    0.487449      -0.804287  "
      ]
     },
     "execution_count": 20,
     "metadata": {},
     "output_type": "execute_result"
    }
   ],
   "source": [
    "m1 = num_attributes(df1)\n",
    "m1"
   ]
  },
  {
   "cell_type": "markdown",
   "id": "5a07d7de",
   "metadata": {},
   "source": [
    "#### 1.7.1.1 Investigating"
   ]
  },
  {
   "cell_type": "markdown",
   "id": "85ede4cc",
   "metadata": {
    "ExecuteTime": {
     "end_time": "2022-03-24T21:15:49.659102Z",
     "start_time": "2022-03-24T21:15:49.643555Z"
    }
   },
   "source": [
    "1. Negative quantity (devolution?)\n",
    "2. Price = 0 (Promo?)"
   ]
  },
  {
   "cell_type": "markdown",
   "id": "fd46a106",
   "metadata": {},
   "source": [
    "## 1.7.2. Categorical Attributes"
   ]
  },
  {
   "cell_type": "code",
   "execution_count": 21,
   "id": "e69d5e29",
   "metadata": {
    "ExecuteTime": {
     "end_time": "2022-03-28T20:47:44.943174Z",
     "start_time": "2022-03-28T20:47:44.934848Z"
    }
   },
   "outputs": [
    {
     "data": {
      "text/html": [
       "<div>\n",
       "<style scoped>\n",
       "    .dataframe tbody tr th:only-of-type {\n",
       "        vertical-align: middle;\n",
       "    }\n",
       "\n",
       "    .dataframe tbody tr th {\n",
       "        vertical-align: top;\n",
       "    }\n",
       "\n",
       "    .dataframe thead th {\n",
       "        text-align: right;\n",
       "    }\n",
       "</style>\n",
       "<table border=\"1\" class=\"dataframe\">\n",
       "  <thead>\n",
       "    <tr style=\"text-align: right;\">\n",
       "      <th></th>\n",
       "      <th>invoice_no</th>\n",
       "      <th>stock_code</th>\n",
       "      <th>description</th>\n",
       "      <th>country</th>\n",
       "    </tr>\n",
       "  </thead>\n",
       "  <tbody>\n",
       "    <tr>\n",
       "      <th>0</th>\n",
       "      <td>536365</td>\n",
       "      <td>85123A</td>\n",
       "      <td>WHITE HANGING HEART T-LIGHT HOLDER</td>\n",
       "      <td>United Kingdom</td>\n",
       "    </tr>\n",
       "    <tr>\n",
       "      <th>1</th>\n",
       "      <td>536365</td>\n",
       "      <td>71053</td>\n",
       "      <td>WHITE METAL LANTERN</td>\n",
       "      <td>United Kingdom</td>\n",
       "    </tr>\n",
       "    <tr>\n",
       "      <th>2</th>\n",
       "      <td>536365</td>\n",
       "      <td>84406B</td>\n",
       "      <td>CREAM CUPID HEARTS COAT HANGER</td>\n",
       "      <td>United Kingdom</td>\n",
       "    </tr>\n",
       "    <tr>\n",
       "      <th>3</th>\n",
       "      <td>536365</td>\n",
       "      <td>84029G</td>\n",
       "      <td>KNITTED UNION FLAG HOT WATER BOTTLE</td>\n",
       "      <td>United Kingdom</td>\n",
       "    </tr>\n",
       "    <tr>\n",
       "      <th>4</th>\n",
       "      <td>536365</td>\n",
       "      <td>84029E</td>\n",
       "      <td>RED WOOLLY HOTTIE WHITE HEART.</td>\n",
       "      <td>United Kingdom</td>\n",
       "    </tr>\n",
       "  </tbody>\n",
       "</table>\n",
       "</div>"
      ],
      "text/plain": [
       "  invoice_no stock_code                          description         country\n",
       "0     536365     85123A   WHITE HANGING HEART T-LIGHT HOLDER  United Kingdom\n",
       "1     536365      71053                  WHITE METAL LANTERN  United Kingdom\n",
       "2     536365     84406B       CREAM CUPID HEARTS COAT HANGER  United Kingdom\n",
       "3     536365     84029G  KNITTED UNION FLAG HOT WATER BOTTLE  United Kingdom\n",
       "4     536365     84029E       RED WOOLLY HOTTIE WHITE HEART.  United Kingdom"
      ]
     },
     "execution_count": 21,
     "metadata": {},
     "output_type": "execute_result"
    }
   ],
   "source": [
    "cat_attributes.head()"
   ]
  },
  {
   "cell_type": "markdown",
   "id": "6b4dd4ce",
   "metadata": {},
   "source": [
    "#### Invoice no"
   ]
  },
  {
   "cell_type": "code",
   "execution_count": 22,
   "id": "34d857cc",
   "metadata": {
    "ExecuteTime": {
     "end_time": "2022-03-28T20:47:45.584970Z",
     "start_time": "2022-03-28T20:47:44.944963Z"
    }
   },
   "outputs": [
    {
     "name": "stdout",
     "output_type": "stream",
     "text": [
      "Total of invoices with letter: 9291\n",
      "Total of negative quantaty: 10624\n",
      "Letter means negative quantity\n"
     ]
    }
   ],
   "source": [
    "\n",
    "#invoice_no -- some of them has one char\n",
    "df_invoice_char = df1.loc[df1['invoice_no'].apply(lambda x: bool(re.search('[^0-9]+', x))), :]   \n",
    "\n",
    "len(df_invoice_char[df_invoice_char['quantity']<0])\n",
    "\n",
    "\n",
    "print('Total of invoices with letter: {}'.format(len(df_invoice_char)))\n",
    "print('Total of negative quantaty: {}'.format(len(df1[df1['quantity']<0])))\n",
    "print('Letter means negative quantity')"
   ]
  },
  {
   "cell_type": "markdown",
   "id": "efc5c2dc",
   "metadata": {},
   "source": [
    "#### Stock Code"
   ]
  },
  {
   "cell_type": "code",
   "execution_count": 23,
   "id": "7cee7ff1",
   "metadata": {
    "ExecuteTime": {
     "end_time": "2022-03-28T20:47:46.096547Z",
     "start_time": "2022-03-28T20:47:45.586849Z"
    }
   },
   "outputs": [
    {
     "data": {
      "text/plain": [
       "array(['POST', 'D', 'DOT', 'M', 'S', 'AMAZONFEE', 'm', 'DCGSSBOY',\n",
       "       'DCGSSGIRL', 'PADS', 'B', 'CRUK'], dtype=object)"
      ]
     },
     "execution_count": 23,
     "metadata": {},
     "output_type": "execute_result"
    }
   ],
   "source": [
    "#all stock codes with char\n",
    "df1.loc[df1['stock_code'].apply(lambda x: bool(re.search('^[a-zA-Z]+$', x))), 'stock_code'].unique()\n",
    "\n",
    "#remove stock code in ['POST', 'D', 'M', 'PADS', 'DOT', 'CRUK']\n",
    "# df1 = df1[-df1.isin(['POST', 'D', 'M', 'PADS', 'DOT', 'CRUK'])]"
   ]
  },
  {
   "cell_type": "markdown",
   "id": "50d7c023",
   "metadata": {},
   "source": [
    "#### Description"
   ]
  },
  {
   "cell_type": "code",
   "execution_count": 24,
   "id": "9e259e88",
   "metadata": {
    "ExecuteTime": {
     "end_time": "2022-03-28T20:47:46.107274Z",
     "start_time": "2022-03-28T20:47:46.098353Z"
    }
   },
   "outputs": [
    {
     "data": {
      "text/html": [
       "<div>\n",
       "<style scoped>\n",
       "    .dataframe tbody tr th:only-of-type {\n",
       "        vertical-align: middle;\n",
       "    }\n",
       "\n",
       "    .dataframe tbody tr th {\n",
       "        vertical-align: top;\n",
       "    }\n",
       "\n",
       "    .dataframe thead th {\n",
       "        text-align: right;\n",
       "    }\n",
       "</style>\n",
       "<table border=\"1\" class=\"dataframe\">\n",
       "  <thead>\n",
       "    <tr style=\"text-align: right;\">\n",
       "      <th></th>\n",
       "      <th>invoice_no</th>\n",
       "      <th>stock_code</th>\n",
       "      <th>description</th>\n",
       "      <th>quantity</th>\n",
       "      <th>invoice_date</th>\n",
       "      <th>unit_price</th>\n",
       "      <th>country</th>\n",
       "      <th>customer_id</th>\n",
       "    </tr>\n",
       "  </thead>\n",
       "  <tbody>\n",
       "    <tr>\n",
       "      <th>0</th>\n",
       "      <td>536365</td>\n",
       "      <td>85123A</td>\n",
       "      <td>WHITE HANGING HEART T-LIGHT HOLDER</td>\n",
       "      <td>6</td>\n",
       "      <td>2016-11-29</td>\n",
       "      <td>2.55</td>\n",
       "      <td>United Kingdom</td>\n",
       "      <td>17850</td>\n",
       "    </tr>\n",
       "    <tr>\n",
       "      <th>1</th>\n",
       "      <td>536365</td>\n",
       "      <td>71053</td>\n",
       "      <td>WHITE METAL LANTERN</td>\n",
       "      <td>6</td>\n",
       "      <td>2016-11-29</td>\n",
       "      <td>3.39</td>\n",
       "      <td>United Kingdom</td>\n",
       "      <td>17850</td>\n",
       "    </tr>\n",
       "  </tbody>\n",
       "</table>\n",
       "</div>"
      ],
      "text/plain": [
       "  invoice_no stock_code                         description  quantity  \\\n",
       "0     536365     85123A  WHITE HANGING HEART T-LIGHT HOLDER         6   \n",
       "1     536365      71053                 WHITE METAL LANTERN         6   \n",
       "\n",
       "  invoice_date  unit_price         country  customer_id  \n",
       "0   2016-11-29        2.55  United Kingdom        17850  \n",
       "1   2016-11-29        3.39  United Kingdom        17850  "
      ]
     },
     "execution_count": 24,
     "metadata": {},
     "output_type": "execute_result"
    }
   ],
   "source": [
    "df1.head(2) #remove description\n"
   ]
  },
  {
   "cell_type": "markdown",
   "id": "33982a03",
   "metadata": {},
   "source": [
    "#### Country\n"
   ]
  },
  {
   "cell_type": "code",
   "execution_count": 25,
   "id": "74604d0f",
   "metadata": {
    "ExecuteTime": {
     "end_time": "2022-03-28T20:47:46.299882Z",
     "start_time": "2022-03-28T20:47:46.108754Z"
    }
   },
   "outputs": [
    {
     "data": {
      "text/plain": [
       "United Kingdom    0.914320\n",
       "Germany           0.017521\n",
       "France            0.015790\n",
       "EIRE              0.015124\n",
       "Spain             0.004674\n",
       "Name: country, dtype: float64"
      ]
     },
     "execution_count": 25,
     "metadata": {},
     "output_type": "execute_result"
    }
   ],
   "source": [
    "df1['country'].value_counts(normalize='True').head()"
   ]
  },
  {
   "cell_type": "code",
   "execution_count": 26,
   "id": "14daa5b6",
   "metadata": {
    "ExecuteTime": {
     "end_time": "2022-03-28T20:47:46.544704Z",
     "start_time": "2022-03-28T20:47:46.301890Z"
    }
   },
   "outputs": [
    {
     "data": {
      "text/html": [
       "<div>\n",
       "<style scoped>\n",
       "    .dataframe tbody tr th:only-of-type {\n",
       "        vertical-align: middle;\n",
       "    }\n",
       "\n",
       "    .dataframe tbody tr th {\n",
       "        vertical-align: top;\n",
       "    }\n",
       "\n",
       "    .dataframe thead th {\n",
       "        text-align: right;\n",
       "    }\n",
       "</style>\n",
       "<table border=\"1\" class=\"dataframe\">\n",
       "  <thead>\n",
       "    <tr style=\"text-align: right;\">\n",
       "      <th></th>\n",
       "      <th>country</th>\n",
       "      <th>customer_id</th>\n",
       "    </tr>\n",
       "  </thead>\n",
       "  <tbody>\n",
       "    <tr>\n",
       "      <th>36</th>\n",
       "      <td>United Kingdom</td>\n",
       "      <td>7587</td>\n",
       "    </tr>\n",
       "    <tr>\n",
       "      <th>14</th>\n",
       "      <td>Germany</td>\n",
       "      <td>95</td>\n",
       "    </tr>\n",
       "    <tr>\n",
       "      <th>13</th>\n",
       "      <td>France</td>\n",
       "      <td>90</td>\n",
       "    </tr>\n",
       "    <tr>\n",
       "      <th>10</th>\n",
       "      <td>EIRE</td>\n",
       "      <td>44</td>\n",
       "    </tr>\n",
       "    <tr>\n",
       "      <th>31</th>\n",
       "      <td>Spain</td>\n",
       "      <td>31</td>\n",
       "    </tr>\n",
       "  </tbody>\n",
       "</table>\n",
       "</div>"
      ],
      "text/plain": [
       "           country  customer_id\n",
       "36  United Kingdom         7587\n",
       "14         Germany           95\n",
       "13          France           90\n",
       "10            EIRE           44\n",
       "31           Spain           31"
      ]
     },
     "execution_count": 26,
     "metadata": {},
     "output_type": "execute_result"
    }
   ],
   "source": [
    "df1[['country', 'customer_id']].drop_duplicates().groupby('country').count().reset_index().sort_values('customer_id', ascending=False).head()"
   ]
  },
  {
   "cell_type": "markdown",
   "id": "48d79e83",
   "metadata": {},
   "source": [
    "# 2.0. Data Filtering"
   ]
  },
  {
   "cell_type": "code",
   "execution_count": 27,
   "id": "fb92a1c3",
   "metadata": {
    "ExecuteTime": {
     "end_time": "2022-03-28T20:47:46.613575Z",
     "start_time": "2022-03-28T20:47:46.546424Z"
    }
   },
   "outputs": [],
   "source": [
    "df2 = df1.copy()"
   ]
  },
  {
   "cell_type": "code",
   "execution_count": 28,
   "id": "01d40408",
   "metadata": {
    "ExecuteTime": {
     "end_time": "2022-03-28T20:47:46.709080Z",
     "start_time": "2022-03-28T20:47:46.615606Z"
    }
   },
   "outputs": [
    {
     "data": {
      "text/plain": [
       "invoice_no              object\n",
       "stock_code              object\n",
       "description             object\n",
       "quantity                 int64\n",
       "invoice_date    datetime64[ns]\n",
       "unit_price             float64\n",
       "country                 object\n",
       "customer_id              int64\n",
       "dtype: object"
      ]
     },
     "execution_count": 28,
     "metadata": {},
     "output_type": "execute_result"
    }
   ],
   "source": [
    "df2.dtypes"
   ]
  },
  {
   "cell_type": "code",
   "execution_count": 29,
   "id": "776b9792",
   "metadata": {
    "ExecuteTime": {
     "end_time": "2022-03-28T20:47:47.095776Z",
     "start_time": "2022-03-28T20:47:46.719585Z"
    }
   },
   "outputs": [],
   "source": [
    " # === Numerical attributes ====\n",
    "df2 = df2.loc[df2['unit_price'] >= 0.04, :]\n",
    "\n",
    "# === Categorical attributes ====\n",
    "df2 = df2[~df2['stock_code'].isin( ['POST', 'D', 'DOT', 'M', 'S', 'AMAZONFEE', 'm', 'DCGSSBOY', 'DCGSSGIRL', 'PADS', 'B', 'CRUK'] ) ]\n",
    "\n",
    "# description\n",
    "df2 = df2.drop( columns='description', axis=1 )\n",
    "\n",
    "# map -  \n",
    "df2 = df2[~df2['country'].isin( ['European Community', 'Unspecified' ] ) ]\n",
    "\n",
    "# bad users\n",
    "df2 = df2[~df2['customer_id'].isin( [16446] )]\n",
    "\n",
    "# quantity\n",
    "df_returns = df2.loc[df1['quantity'] < 0, :]\n",
    "df_purchase = df2.loc[df1['quantity'] >= 0, :]"
   ]
  },
  {
   "cell_type": "markdown",
   "id": "1faf41d9",
   "metadata": {},
   "source": [
    "# 3.0. Feature Engineering"
   ]
  },
  {
   "cell_type": "code",
   "execution_count": 30,
   "id": "fc8f74d9",
   "metadata": {
    "ExecuteTime": {
     "end_time": "2022-03-28T20:47:47.119875Z",
     "start_time": "2022-03-28T20:47:47.097514Z"
    }
   },
   "outputs": [],
   "source": [
    "df3 = df2.copy()"
   ]
  },
  {
   "cell_type": "markdown",
   "id": "21fc3686",
   "metadata": {},
   "source": [
    "## 3.1. Feature Creation"
   ]
  },
  {
   "cell_type": "code",
   "execution_count": 31,
   "id": "a905b83e",
   "metadata": {
    "ExecuteTime": {
     "end_time": "2022-03-28T20:47:47.259379Z",
     "start_time": "2022-03-28T20:47:47.121920Z"
    }
   },
   "outputs": [],
   "source": [
    "# data reference\n",
    "df_ref = df3.drop( ['invoice_no', 'stock_code', 'quantity', 'invoice_date', 'unit_price', 'country'], axis=1 ).drop_duplicates( ignore_index=True )"
   ]
  },
  {
   "cell_type": "markdown",
   "id": "76215d9c",
   "metadata": {},
   "source": [
    "### 3.1.1. Gross Revenue"
   ]
  },
  {
   "cell_type": "code",
   "execution_count": 32,
   "id": "bf20ab38",
   "metadata": {
    "ExecuteTime": {
     "end_time": "2022-03-28T20:47:47.969438Z",
     "start_time": "2022-03-28T20:47:47.261595Z"
    }
   },
   "outputs": [
    {
     "name": "stderr",
     "output_type": "stream",
     "text": [
      "/tmp/ipykernel_4351/2494157146.py:2: SettingWithCopyWarning: \n",
      "A value is trying to be set on a copy of a slice from a DataFrame.\n",
      "Try using .loc[row_indexer,col_indexer] = value instead\n",
      "\n",
      "See the caveats in the documentation: https://pandas.pydata.org/pandas-docs/stable/user_guide/indexing.html#returning-a-view-versus-a-copy\n",
      "  df_purchase.loc[:,'gross_revenue'] = df_purchase.loc[:, 'quantity'] * df_purchase.loc[:, 'unit_price']\n"
     ]
    },
    {
     "data": {
      "text/plain": [
       "customer_id       0\n",
       "gross_revenue    91\n",
       "dtype: int64"
      ]
     },
     "execution_count": 32,
     "metadata": {},
     "output_type": "execute_result"
    }
   ],
   "source": [
    "#calculate gross revenue\n",
    "df_purchase.loc[:,'gross_revenue'] = df_purchase.loc[:, 'quantity'] * df_purchase.loc[:, 'unit_price'] \n",
    "\n",
    "#gross revenue by customer\n",
    "df_monetary = df_purchase.loc[:,['customer_id', 'gross_revenue']].groupby('customer_id').sum().reset_index()\n",
    "df_ref = pd.merge(df_ref, df_monetary, on='customer_id', how= 'left')\n",
    "df_ref.isna().sum()"
   ]
  },
  {
   "cell_type": "code",
   "execution_count": null,
   "id": "3c003237",
   "metadata": {},
   "outputs": [],
   "source": []
  },
  {
   "cell_type": "markdown",
   "id": "86afe088",
   "metadata": {},
   "source": [
    "### 3.1.2. Recency - Days from last purchase\n"
   ]
  },
  {
   "cell_type": "code",
   "execution_count": 33,
   "id": "2ccf2d70",
   "metadata": {
    "ExecuteTime": {
     "end_time": "2022-03-28T20:47:48.003223Z",
     "start_time": "2022-03-28T20:47:47.971604Z"
    }
   },
   "outputs": [],
   "source": [
    "#recency \n",
    "\n",
    "df_recency = df_purchase.loc[:,['customer_id', 'invoice_date']].groupby('customer_id').max().reset_index()\n",
    "df_recency['recency_days'] = (df3['invoice_date'].max() - df_recency['invoice_date']).dt.days\n",
    "df_recency  = df_recency[['customer_id', 'recency_days']].copy()\n",
    "df_ref = pd.merge(df_ref, df_recency, on='customer_id', how='left')"
   ]
  },
  {
   "cell_type": "markdown",
   "id": "45a7139e",
   "metadata": {},
   "source": [
    "### 3.1.3. Quantity of items purchase"
   ]
  },
  {
   "cell_type": "code",
   "execution_count": 34,
   "id": "213e0590",
   "metadata": {
    "ExecuteTime": {
     "end_time": "2022-03-28T20:47:48.143051Z",
     "start_time": "2022-03-28T20:47:48.005080Z"
    }
   },
   "outputs": [],
   "source": [
    "# Número de compras\n",
    "df_products = df_purchase.loc[:,['customer_id', 'quantity']].groupby('customer_id').sum().reset_index().rename(columns={'quantity':'qt_items'})\n",
    "df_ref = pd.merge(df_ref, df_products, on='customer_id', how='left')"
   ]
  },
  {
   "cell_type": "markdown",
   "id": "0c62730e",
   "metadata": {},
   "source": [
    "### 3.1.4. Quantity of purchase"
   ]
  },
  {
   "cell_type": "code",
   "execution_count": 35,
   "id": "99d7680a",
   "metadata": {
    "ExecuteTime": {
     "end_time": "2022-03-28T20:47:48.283871Z",
     "start_time": "2022-03-28T20:47:48.145562Z"
    }
   },
   "outputs": [],
   "source": [
    "\n",
    "# Número de compras\n",
    "df_invoice = df_purchase.loc[:,['customer_id', 'invoice_no']].drop_duplicates().groupby('customer_id').count().reset_index().rename(columns={'invoice_no':'qt_invoice'})\n",
    "df_ref = pd.merge(df_ref, df_invoice, on='customer_id', how='left')"
   ]
  },
  {
   "cell_type": "markdown",
   "id": "5fd8db27",
   "metadata": {},
   "source": [
    "### 3.1.4. Quantity of products purchase"
   ]
  },
  {
   "cell_type": "code",
   "execution_count": 36,
   "id": "d8a267a6",
   "metadata": {
    "ExecuteTime": {
     "end_time": "2022-03-28T20:47:48.439214Z",
     "start_time": "2022-03-28T20:47:48.285608Z"
    }
   },
   "outputs": [],
   "source": [
    "# Número de compras\n",
    "df_stock_code = df_purchase.loc[:,['customer_id', 'stock_code']].groupby('customer_id').count().reset_index().rename(columns={'stock_code':'qt_products'})\n",
    "df_ref = pd.merge(df_ref, df_stock_code, on='customer_id', how='left')"
   ]
  },
  {
   "cell_type": "markdown",
   "id": "37bb2115",
   "metadata": {},
   "source": [
    "### 3.1.5. Average Ticket Value"
   ]
  },
  {
   "cell_type": "code",
   "execution_count": 37,
   "id": "fde6fe4f",
   "metadata": {
    "ExecuteTime": {
     "end_time": "2022-03-28T20:47:48.488704Z",
     "start_time": "2022-03-28T20:47:48.440660Z"
    }
   },
   "outputs": [],
   "source": [
    "#avg ticket\n",
    "df_avgticket = df_purchase.loc[:,['customer_id', 'gross_revenue']].groupby('customer_id').mean().reset_index().rename(columns={'gross_revenue':'avg_ticket'})\n",
    "df_ref = pd.merge(df_ref, df_avgticket, on='customer_id', how='left')"
   ]
  },
  {
   "cell_type": "markdown",
   "id": "c5e7c39f",
   "metadata": {},
   "source": [
    "### 3.1.6. Average Recency Days"
   ]
  },
  {
   "cell_type": "code",
   "execution_count": 38,
   "id": "2a604727",
   "metadata": {
    "ExecuteTime": {
     "end_time": "2022-03-28T20:47:49.133260Z",
     "start_time": "2022-03-28T20:47:48.490372Z"
    }
   },
   "outputs": [
    {
     "data": {
      "text/plain": [
       "customer_id            0\n",
       "gross_revenue         91\n",
       "recency_days          91\n",
       "qt_items              91\n",
       "qt_invoice            91\n",
       "qt_products           91\n",
       "avg_ticket            91\n",
       "avg_recency_days    2816\n",
       "dtype: int64"
      ]
     },
     "execution_count": 38,
     "metadata": {},
     "output_type": "execute_result"
    }
   ],
   "source": [
    "df_aux = df2[['customer_id','invoice_date']].drop_duplicates().sort_values(['customer_id', 'invoice_date'], ascending=[False, False])\n",
    "df_aux['next_customer_id'] = df_aux['customer_id'].shift()\n",
    "df_aux['previous_invoice_date'] = df_aux['invoice_date'].shift()\n",
    "\n",
    "df_aux['avg_recency_days'] = df_aux.apply(lambda x: (x['invoice_date'] - x['previous_invoice_date']).days +1 if x['customer_id'] == x['next_customer_id'] else np.nan, axis=1)\n",
    "df_aux = df_aux[['customer_id', 'avg_recency_days']].dropna()\n",
    "\n",
    "#calculate avg recency days\n",
    "df_aux =  df_aux.groupby('customer_id').mean().reset_index()\n",
    "\n",
    "#merge\n",
    "df_ref = pd.merge(df_ref, df_aux, on='customer_id', how='left')\n",
    "df_ref.isna().sum()"
   ]
  },
  {
   "cell_type": "markdown",
   "id": "956ad2a7",
   "metadata": {},
   "source": [
    "### 3.1.6. Frequency"
   ]
  },
  {
   "cell_type": "code",
   "execution_count": 39,
   "id": "79423e5d",
   "metadata": {
    "ExecuteTime": {
     "end_time": "2022-03-28T20:47:50.357120Z",
     "start_time": "2022-03-28T20:47:49.134925Z"
    }
   },
   "outputs": [
    {
     "data": {
      "text/plain": [
       "customer_id            0\n",
       "gross_revenue         91\n",
       "recency_days          91\n",
       "qt_items              91\n",
       "qt_invoice            91\n",
       "qt_products           91\n",
       "avg_ticket            91\n",
       "avg_recency_days    2816\n",
       "frequency             91\n",
       "dtype: int64"
      ]
     },
     "execution_count": 39,
     "metadata": {},
     "output_type": "execute_result"
    }
   ],
   "source": [
    "df_aux = (df_purchase[['customer_id', 'invoice_no', 'invoice_date']].drop_duplicates().groupby('customer_id').agg(\n",
    "                                                            max_ = ('invoice_date', 'max'),\n",
    "                                                            min_ = ('invoice_date', 'min'),\n",
    "                                                            days = ('invoice_date', lambda x: (x.max() - x.min()).days ),\n",
    "                                                            buys = ('invoice_no', 'count'))).reset_index()\n",
    "\n",
    "# #calculate frequency\n",
    "df_aux['frequency'] = df_aux[['buys', 'days']].apply(lambda x: x['buys']/x['days'] if x['days']!= 0 else 0, axis=1)\n",
    "\n",
    "\n",
    "#merge\n",
    "df_ref = pd.merge(df_ref, df_aux[['customer_id', 'frequency']], on='customer_id', how='left')\n",
    "df_ref.isna().sum()"
   ]
  },
  {
   "cell_type": "markdown",
   "id": "65890139",
   "metadata": {},
   "source": [
    "### 3.1.7. Returns\n"
   ]
  },
  {
   "cell_type": "code",
   "execution_count": 40,
   "id": "6b510726",
   "metadata": {
    "ExecuteTime": {
     "end_time": "2022-03-28T20:47:50.377329Z",
     "start_time": "2022-03-28T20:47:50.358970Z"
    }
   },
   "outputs": [
    {
     "data": {
      "text/plain": [
       "customer_id            0\n",
       "gross_revenue         91\n",
       "recency_days          91\n",
       "qt_items              91\n",
       "qt_invoice            91\n",
       "qt_products           91\n",
       "avg_ticket            91\n",
       "avg_recency_days    2816\n",
       "frequency             91\n",
       "qt_returns          4191\n",
       "dtype: int64"
      ]
     },
     "execution_count": 40,
     "metadata": {},
     "output_type": "execute_result"
    }
   ],
   "source": [
    "df_aux = df_returns[['customer_id', 'quantity']].groupby('customer_id').sum().reset_index().rename(columns={'quantity':'qt_returns'})\n",
    "df_aux['qt_returns'] = -1*df_aux['qt_returns']\n",
    "\n",
    "#merge\n",
    "df_ref = pd.merge(df_ref, df_aux, on='customer_id', how='left')\n",
    "df_ref.isna().sum()"
   ]
  },
  {
   "cell_type": "code",
   "execution_count": 41,
   "id": "c64cb80c",
   "metadata": {
    "ExecuteTime": {
     "end_time": "2022-03-28T20:47:50.554148Z",
     "start_time": "2022-03-28T20:47:50.379058Z"
    }
   },
   "outputs": [
    {
     "data": {
      "text/plain": [
       "customer_id            0\n",
       "gross_revenue         91\n",
       "recency_days          91\n",
       "qt_items              91\n",
       "qt_invoice            91\n",
       "qt_products           91\n",
       "avg_ticket            91\n",
       "avg_recency_days    2816\n",
       "frequency             91\n",
       "qt_returns             0\n",
       "dtype: int64"
      ]
     },
     "execution_count": 41,
     "metadata": {},
     "output_type": "execute_result"
    }
   ],
   "source": [
    "df_ref.loc[df_ref['qt_returns'].isna(), 'qt_returns'] = 0\n",
    "df_ref.isna().sum()"
   ]
  },
  {
   "cell_type": "markdown",
   "id": "fc864c78",
   "metadata": {},
   "source": [
    "### 3.1.7. Unique Basket Size-  Unidades de produtos distintos por cesto\n"
   ]
  },
  {
   "cell_type": "code",
   "execution_count": 42,
   "id": "5531269c",
   "metadata": {
    "ExecuteTime": {
     "end_time": "2022-03-28T20:47:50.813267Z",
     "start_time": "2022-03-28T20:47:50.556277Z"
    }
   },
   "outputs": [
    {
     "data": {
      "text/plain": [
       "customer_id                  0\n",
       "gross_revenue               91\n",
       "recency_days                91\n",
       "qt_items                    91\n",
       "qt_invoice                  91\n",
       "qt_products                 91\n",
       "avg_ticket                  91\n",
       "avg_recency_days          2816\n",
       "frequency                   91\n",
       "qt_returns                   0\n",
       "avg_unique_basket_size      91\n",
       "dtype: int64"
      ]
     },
     "execution_count": 42,
     "metadata": {},
     "output_type": "execute_result"
    }
   ],
   "source": [
    "df_aux = df_purchase.loc[:, ['customer_id', 'invoice_no', 'stock_code']].groupby('customer_id').agg(\n",
    "                                                                n_purchase = ('invoice_no', 'nunique'),\n",
    "                                                                n_products = ('stock_code', 'count')).reset_index()\n",
    "\n",
    "#calculate avg unique basket size\n",
    "df_aux['avg_unique_basket_size'] = df_aux['n_products']/df_aux['n_purchase']\n",
    "df_aux.head()\n",
    "\n",
    "#merge\n",
    "df_ref = pd.merge(df_ref, df_aux[['customer_id','avg_unique_basket_size']], on='customer_id', how='left')\n",
    "df_ref.isna().sum()"
   ]
  },
  {
   "cell_type": "markdown",
   "id": "b8eb4615",
   "metadata": {},
   "source": [
    "### 3.1.8.  Basket Case -  Unidades de produtos por cesto\n"
   ]
  },
  {
   "cell_type": "code",
   "execution_count": 43,
   "id": "95a13b3b",
   "metadata": {
    "ExecuteTime": {
     "end_time": "2022-03-28T20:47:50.941631Z",
     "start_time": "2022-03-28T20:47:50.814990Z"
    }
   },
   "outputs": [
    {
     "data": {
      "text/plain": [
       "customer_id                  0\n",
       "gross_revenue               91\n",
       "recency_days                91\n",
       "qt_items                    91\n",
       "qt_invoice                  91\n",
       "qt_products                 91\n",
       "avg_ticket                  91\n",
       "avg_recency_days          2816\n",
       "frequency                   91\n",
       "qt_returns                   0\n",
       "avg_unique_basket_size      91\n",
       "avg_basket_size             91\n",
       "dtype: int64"
      ]
     },
     "execution_count": 43,
     "metadata": {},
     "output_type": "execute_result"
    }
   ],
   "source": [
    "df_aux = df_purchase.loc[:, ['customer_id', 'invoice_no', 'quantity']].groupby('customer_id').agg(\n",
    "                                                                n_purchase = ('invoice_no', 'nunique'),\n",
    "                                                                n_products = ('quantity', 'sum')).reset_index()\n",
    "\n",
    "#calculate avg basket size\n",
    "df_aux['avg_basket_size'] = df_aux['n_products']/df_aux['n_purchase']\n",
    "df_aux.head()\n",
    "\n",
    "#merge\n",
    "df_ref = pd.merge(df_ref, df_aux[['customer_id','avg_basket_size']], on='customer_id', how='left')\n",
    "df_ref.isna().sum()"
   ]
  },
  {
   "cell_type": "code",
   "execution_count": 44,
   "id": "23430e42",
   "metadata": {
    "ExecuteTime": {
     "end_time": "2022-03-28T20:47:50.976454Z",
     "start_time": "2022-03-28T20:47:50.943430Z"
    }
   },
   "outputs": [
    {
     "data": {
      "text/html": [
       "<div>\n",
       "<style scoped>\n",
       "    .dataframe tbody tr th:only-of-type {\n",
       "        vertical-align: middle;\n",
       "    }\n",
       "\n",
       "    .dataframe tbody tr th {\n",
       "        vertical-align: top;\n",
       "    }\n",
       "\n",
       "    .dataframe thead th {\n",
       "        text-align: right;\n",
       "    }\n",
       "</style>\n",
       "<table border=\"1\" class=\"dataframe\">\n",
       "  <thead>\n",
       "    <tr style=\"text-align: right;\">\n",
       "      <th></th>\n",
       "      <th>customer_id</th>\n",
       "      <th>gross_revenue</th>\n",
       "      <th>recency_days</th>\n",
       "      <th>qt_items</th>\n",
       "      <th>qt_invoice</th>\n",
       "      <th>qt_products</th>\n",
       "      <th>avg_ticket</th>\n",
       "      <th>avg_recency_days</th>\n",
       "      <th>frequency</th>\n",
       "      <th>qt_returns</th>\n",
       "      <th>avg_unique_basket_size</th>\n",
       "      <th>avg_basket_size</th>\n",
       "    </tr>\n",
       "  </thead>\n",
       "  <tbody>\n",
       "    <tr>\n",
       "      <th>0</th>\n",
       "      <td>17850</td>\n",
       "      <td>5391.21</td>\n",
       "      <td>372.0</td>\n",
       "      <td>1733.0</td>\n",
       "      <td>34.0</td>\n",
       "      <td>297.0</td>\n",
       "      <td>18.152222</td>\n",
       "      <td>-34.500000</td>\n",
       "      <td>34.000000</td>\n",
       "      <td>40.0</td>\n",
       "      <td>8.735294</td>\n",
       "      <td>50.970588</td>\n",
       "    </tr>\n",
       "    <tr>\n",
       "      <th>1</th>\n",
       "      <td>13047</td>\n",
       "      <td>3232.59</td>\n",
       "      <td>56.0</td>\n",
       "      <td>1390.0</td>\n",
       "      <td>9.0</td>\n",
       "      <td>171.0</td>\n",
       "      <td>18.904035</td>\n",
       "      <td>-26.250000</td>\n",
       "      <td>0.028391</td>\n",
       "      <td>35.0</td>\n",
       "      <td>19.000000</td>\n",
       "      <td>154.444444</td>\n",
       "    </tr>\n",
       "    <tr>\n",
       "      <th>2</th>\n",
       "      <td>12583</td>\n",
       "      <td>6705.38</td>\n",
       "      <td>2.0</td>\n",
       "      <td>5028.0</td>\n",
       "      <td>15.0</td>\n",
       "      <td>232.0</td>\n",
       "      <td>28.902500</td>\n",
       "      <td>-22.187500</td>\n",
       "      <td>0.040431</td>\n",
       "      <td>50.0</td>\n",
       "      <td>15.466667</td>\n",
       "      <td>335.200000</td>\n",
       "    </tr>\n",
       "    <tr>\n",
       "      <th>3</th>\n",
       "      <td>13748</td>\n",
       "      <td>948.25</td>\n",
       "      <td>95.0</td>\n",
       "      <td>439.0</td>\n",
       "      <td>5.0</td>\n",
       "      <td>28.0</td>\n",
       "      <td>33.866071</td>\n",
       "      <td>-91.666667</td>\n",
       "      <td>0.017986</td>\n",
       "      <td>0.0</td>\n",
       "      <td>5.600000</td>\n",
       "      <td>87.800000</td>\n",
       "    </tr>\n",
       "    <tr>\n",
       "      <th>4</th>\n",
       "      <td>15100</td>\n",
       "      <td>876.00</td>\n",
       "      <td>333.0</td>\n",
       "      <td>80.0</td>\n",
       "      <td>3.0</td>\n",
       "      <td>3.0</td>\n",
       "      <td>292.000000</td>\n",
       "      <td>-7.600000</td>\n",
       "      <td>0.075000</td>\n",
       "      <td>22.0</td>\n",
       "      <td>1.000000</td>\n",
       "      <td>26.666667</td>\n",
       "    </tr>\n",
       "  </tbody>\n",
       "</table>\n",
       "</div>"
      ],
      "text/plain": [
       "   customer_id  gross_revenue  recency_days  qt_items  qt_invoice  \\\n",
       "0        17850        5391.21         372.0    1733.0        34.0   \n",
       "1        13047        3232.59          56.0    1390.0         9.0   \n",
       "2        12583        6705.38           2.0    5028.0        15.0   \n",
       "3        13748         948.25          95.0     439.0         5.0   \n",
       "4        15100         876.00         333.0      80.0         3.0   \n",
       "\n",
       "   qt_products  avg_ticket  avg_recency_days  frequency  qt_returns  \\\n",
       "0        297.0   18.152222        -34.500000  34.000000        40.0   \n",
       "1        171.0   18.904035        -26.250000   0.028391        35.0   \n",
       "2        232.0   28.902500        -22.187500   0.040431        50.0   \n",
       "3         28.0   33.866071        -91.666667   0.017986         0.0   \n",
       "4          3.0  292.000000         -7.600000   0.075000        22.0   \n",
       "\n",
       "   avg_unique_basket_size  avg_basket_size  \n",
       "0                8.735294        50.970588  \n",
       "1               19.000000       154.444444  \n",
       "2               15.466667       335.200000  \n",
       "3                5.600000        87.800000  \n",
       "4                1.000000        26.666667  "
      ]
     },
     "execution_count": 44,
     "metadata": {},
     "output_type": "execute_result"
    }
   ],
   "source": [
    "df_ref.head()"
   ]
  },
  {
   "cell_type": "markdown",
   "id": "28d41b3f",
   "metadata": {},
   "source": [
    "# 4.0. Exploratory Data Analisys"
   ]
  },
  {
   "cell_type": "code",
   "execution_count": 45,
   "id": "4a95bea8",
   "metadata": {
    "ExecuteTime": {
     "end_time": "2022-03-28T20:47:51.077102Z",
     "start_time": "2022-03-28T20:47:50.978323Z"
    }
   },
   "outputs": [
    {
     "data": {
      "text/plain": [
       "customer_id               0\n",
       "gross_revenue             0\n",
       "recency_days              0\n",
       "qt_items                  0\n",
       "qt_invoice                0\n",
       "qt_products               0\n",
       "avg_ticket                0\n",
       "avg_recency_days          0\n",
       "frequency                 0\n",
       "qt_returns                0\n",
       "avg_unique_basket_size    0\n",
       "avg_basket_size           0\n",
       "dtype: int64"
      ]
     },
     "execution_count": 45,
     "metadata": {},
     "output_type": "execute_result"
    }
   ],
   "source": [
    "df4 = df_ref.dropna()\n",
    "df4.isna().sum()\n",
    "# analisar melhor os nA's no próximo ciclo\n"
   ]
  },
  {
   "cell_type": "markdown",
   "id": "ef4f24ac",
   "metadata": {
    "ExecuteTime": {
     "end_time": "2022-03-26T13:10:51.357445Z",
     "start_time": "2022-03-26T13:10:51.350560Z"
    }
   },
   "source": [
    "## 4.1. Univariate Analysis"
   ]
  },
  {
   "cell_type": "markdown",
   "id": "1d8dc84b",
   "metadata": {},
   "source": [
    "### Notes\n",
    " 1. Clusteres coeses - separados\n",
    " 2. Métricas\n",
    "     * Max, min, range (dispersão)\n",
    "     * média e mediana\n",
    "     * Desvio padrão e variância\n",
    "     * Coeficiente de variação (dp/mean)\n",
    "     * Distribuição\n",
    "     \n",
    "     \n",
    "**EDA** \n",
    "\n",
    "* gross_revenue => high variance\n",
    "* recency days => low variance\n",
    "* qtd items => mean very high (investigate) high variance\n",
    "* qtd invoice => mean similar to median, low variance\n",
    "* qtd products => low variance\n",
    "* avg ticket => high variance\n",
    "* avg recency days => low variance\n",
    "* frequency => high variance\n",
    "\n",
    "\n",
    "\n"
   ]
  },
  {
   "cell_type": "code",
   "execution_count": 46,
   "id": "464c823c",
   "metadata": {
    "ExecuteTime": {
     "end_time": "2022-03-28T20:47:51.216185Z",
     "start_time": "2022-03-28T20:47:51.078850Z"
    }
   },
   "outputs": [],
   "source": [
    "# profile = ProfileReport(df4)\n",
    "# profile.to_file('output.html')"
   ]
  },
  {
   "cell_type": "markdown",
   "id": "875e17af",
   "metadata": {},
   "source": [
    "### 4.1.1. Gross Revenue"
   ]
  },
  {
   "cell_type": "code",
   "execution_count": 47,
   "id": "ab5327a8",
   "metadata": {
    "ExecuteTime": {
     "end_time": "2022-03-28T20:47:51.342203Z",
     "start_time": "2022-03-28T20:47:51.218360Z"
    }
   },
   "outputs": [
    {
     "data": {
      "text/html": [
       "<div>\n",
       "<style scoped>\n",
       "    .dataframe tbody tr th:only-of-type {\n",
       "        vertical-align: middle;\n",
       "    }\n",
       "\n",
       "    .dataframe tbody tr th {\n",
       "        vertical-align: top;\n",
       "    }\n",
       "\n",
       "    .dataframe thead th {\n",
       "        text-align: right;\n",
       "    }\n",
       "</style>\n",
       "<table border=\"1\" class=\"dataframe\">\n",
       "  <thead>\n",
       "    <tr style=\"text-align: right;\">\n",
       "      <th></th>\n",
       "      <th>customer_id</th>\n",
       "      <th>gross_revenue</th>\n",
       "      <th>recency_days</th>\n",
       "      <th>qt_items</th>\n",
       "      <th>qt_invoice</th>\n",
       "      <th>qt_products</th>\n",
       "      <th>avg_ticket</th>\n",
       "      <th>avg_recency_days</th>\n",
       "      <th>frequency</th>\n",
       "      <th>qt_returns</th>\n",
       "      <th>avg_unique_basket_size</th>\n",
       "      <th>avg_basket_size</th>\n",
       "    </tr>\n",
       "  </thead>\n",
       "  <tbody>\n",
       "    <tr>\n",
       "      <th>0</th>\n",
       "      <td>17850</td>\n",
       "      <td>5391.21</td>\n",
       "      <td>372.0</td>\n",
       "      <td>1733.0</td>\n",
       "      <td>34.0</td>\n",
       "      <td>297.0</td>\n",
       "      <td>18.152222</td>\n",
       "      <td>-34.500000</td>\n",
       "      <td>34.000000</td>\n",
       "      <td>40.0</td>\n",
       "      <td>8.735294</td>\n",
       "      <td>50.970588</td>\n",
       "    </tr>\n",
       "    <tr>\n",
       "      <th>1</th>\n",
       "      <td>13047</td>\n",
       "      <td>3232.59</td>\n",
       "      <td>56.0</td>\n",
       "      <td>1390.0</td>\n",
       "      <td>9.0</td>\n",
       "      <td>171.0</td>\n",
       "      <td>18.904035</td>\n",
       "      <td>-26.250000</td>\n",
       "      <td>0.028391</td>\n",
       "      <td>35.0</td>\n",
       "      <td>19.000000</td>\n",
       "      <td>154.444444</td>\n",
       "    </tr>\n",
       "    <tr>\n",
       "      <th>2</th>\n",
       "      <td>12583</td>\n",
       "      <td>6705.38</td>\n",
       "      <td>2.0</td>\n",
       "      <td>5028.0</td>\n",
       "      <td>15.0</td>\n",
       "      <td>232.0</td>\n",
       "      <td>28.902500</td>\n",
       "      <td>-22.187500</td>\n",
       "      <td>0.040431</td>\n",
       "      <td>50.0</td>\n",
       "      <td>15.466667</td>\n",
       "      <td>335.200000</td>\n",
       "    </tr>\n",
       "    <tr>\n",
       "      <th>3</th>\n",
       "      <td>13748</td>\n",
       "      <td>948.25</td>\n",
       "      <td>95.0</td>\n",
       "      <td>439.0</td>\n",
       "      <td>5.0</td>\n",
       "      <td>28.0</td>\n",
       "      <td>33.866071</td>\n",
       "      <td>-91.666667</td>\n",
       "      <td>0.017986</td>\n",
       "      <td>0.0</td>\n",
       "      <td>5.600000</td>\n",
       "      <td>87.800000</td>\n",
       "    </tr>\n",
       "    <tr>\n",
       "      <th>4</th>\n",
       "      <td>15100</td>\n",
       "      <td>876.00</td>\n",
       "      <td>333.0</td>\n",
       "      <td>80.0</td>\n",
       "      <td>3.0</td>\n",
       "      <td>3.0</td>\n",
       "      <td>292.000000</td>\n",
       "      <td>-7.600000</td>\n",
       "      <td>0.075000</td>\n",
       "      <td>22.0</td>\n",
       "      <td>1.000000</td>\n",
       "      <td>26.666667</td>\n",
       "    </tr>\n",
       "  </tbody>\n",
       "</table>\n",
       "</div>"
      ],
      "text/plain": [
       "   customer_id  gross_revenue  recency_days  qt_items  qt_invoice  \\\n",
       "0        17850        5391.21         372.0    1733.0        34.0   \n",
       "1        13047        3232.59          56.0    1390.0         9.0   \n",
       "2        12583        6705.38           2.0    5028.0        15.0   \n",
       "3        13748         948.25          95.0     439.0         5.0   \n",
       "4        15100         876.00         333.0      80.0         3.0   \n",
       "\n",
       "   qt_products  avg_ticket  avg_recency_days  frequency  qt_returns  \\\n",
       "0        297.0   18.152222        -34.500000  34.000000        40.0   \n",
       "1        171.0   18.904035        -26.250000   0.028391        35.0   \n",
       "2        232.0   28.902500        -22.187500   0.040431        50.0   \n",
       "3         28.0   33.866071        -91.666667   0.017986         0.0   \n",
       "4          3.0  292.000000         -7.600000   0.075000        22.0   \n",
       "\n",
       "   avg_unique_basket_size  avg_basket_size  \n",
       "0                8.735294        50.970588  \n",
       "1               19.000000       154.444444  \n",
       "2               15.466667       335.200000  \n",
       "3                5.600000        87.800000  \n",
       "4                1.000000        26.666667  "
      ]
     },
     "execution_count": 47,
     "metadata": {},
     "output_type": "execute_result"
    }
   ],
   "source": [
    "df4.head().sort_values('gross_revenue', ascending=False)\n",
    "# df4[df4['customer_id']==12583]\n",
    "df4.head()\n"
   ]
  },
  {
   "cell_type": "markdown",
   "id": "7398e0a9",
   "metadata": {},
   "source": [
    "### 4.1.2. Recency Days"
   ]
  },
  {
   "cell_type": "code",
   "execution_count": 48,
   "id": "f6d3f652",
   "metadata": {
    "ExecuteTime": {
     "end_time": "2022-03-28T20:47:51.496093Z",
     "start_time": "2022-03-28T20:47:51.344125Z"
    }
   },
   "outputs": [
    {
     "data": {
      "text/html": [
       "<div>\n",
       "<style scoped>\n",
       "    .dataframe tbody tr th:only-of-type {\n",
       "        vertical-align: middle;\n",
       "    }\n",
       "\n",
       "    .dataframe tbody tr th {\n",
       "        vertical-align: top;\n",
       "    }\n",
       "\n",
       "    .dataframe thead th {\n",
       "        text-align: right;\n",
       "    }\n",
       "</style>\n",
       "<table border=\"1\" class=\"dataframe\">\n",
       "  <thead>\n",
       "    <tr style=\"text-align: right;\">\n",
       "      <th></th>\n",
       "      <th>customer_id</th>\n",
       "      <th>gross_revenue</th>\n",
       "      <th>recency_days</th>\n",
       "      <th>qt_items</th>\n",
       "      <th>qt_invoice</th>\n",
       "      <th>qt_products</th>\n",
       "      <th>avg_ticket</th>\n",
       "      <th>avg_recency_days</th>\n",
       "      <th>frequency</th>\n",
       "      <th>qt_returns</th>\n",
       "      <th>avg_unique_basket_size</th>\n",
       "      <th>avg_basket_size</th>\n",
       "    </tr>\n",
       "  </thead>\n",
       "  <tbody>\n",
       "    <tr>\n",
       "      <th>63</th>\n",
       "      <td>15922</td>\n",
       "      <td>369.50</td>\n",
       "      <td>373.0</td>\n",
       "      <td>138.0</td>\n",
       "      <td>1.0</td>\n",
       "      <td>11.0</td>\n",
       "      <td>33.590909</td>\n",
       "      <td>0.0</td>\n",
       "      <td>0.0</td>\n",
       "      <td>2.0</td>\n",
       "      <td>11.000000</td>\n",
       "      <td>138.000000</td>\n",
       "    </tr>\n",
       "    <tr>\n",
       "      <th>82</th>\n",
       "      <td>16048</td>\n",
       "      <td>256.44</td>\n",
       "      <td>373.0</td>\n",
       "      <td>144.0</td>\n",
       "      <td>2.0</td>\n",
       "      <td>8.0</td>\n",
       "      <td>32.055000</td>\n",
       "      <td>-287.0</td>\n",
       "      <td>0.0</td>\n",
       "      <td>1.0</td>\n",
       "      <td>4.000000</td>\n",
       "      <td>72.000000</td>\n",
       "    </tr>\n",
       "    <tr>\n",
       "      <th>0</th>\n",
       "      <td>17850</td>\n",
       "      <td>5391.21</td>\n",
       "      <td>372.0</td>\n",
       "      <td>1733.0</td>\n",
       "      <td>34.0</td>\n",
       "      <td>297.0</td>\n",
       "      <td>18.152222</td>\n",
       "      <td>-34.5</td>\n",
       "      <td>34.0</td>\n",
       "      <td>40.0</td>\n",
       "      <td>8.735294</td>\n",
       "      <td>50.970588</td>\n",
       "    </tr>\n",
       "    <tr>\n",
       "      <th>140</th>\n",
       "      <td>15363</td>\n",
       "      <td>326.00</td>\n",
       "      <td>372.0</td>\n",
       "      <td>144.0</td>\n",
       "      <td>1.0</td>\n",
       "      <td>16.0</td>\n",
       "      <td>20.375000</td>\n",
       "      <td>-130.0</td>\n",
       "      <td>0.0</td>\n",
       "      <td>1.0</td>\n",
       "      <td>16.000000</td>\n",
       "      <td>144.000000</td>\n",
       "    </tr>\n",
       "    <tr>\n",
       "      <th>160</th>\n",
       "      <td>16781</td>\n",
       "      <td>311.25</td>\n",
       "      <td>372.0</td>\n",
       "      <td>113.0</td>\n",
       "      <td>1.0</td>\n",
       "      <td>17.0</td>\n",
       "      <td>18.308824</td>\n",
       "      <td>-6.0</td>\n",
       "      <td>0.0</td>\n",
       "      <td>2.0</td>\n",
       "      <td>17.000000</td>\n",
       "      <td>113.000000</td>\n",
       "    </tr>\n",
       "  </tbody>\n",
       "</table>\n",
       "</div>"
      ],
      "text/plain": [
       "     customer_id  gross_revenue  recency_days  qt_items  qt_invoice  \\\n",
       "63         15922         369.50         373.0     138.0         1.0   \n",
       "82         16048         256.44         373.0     144.0         2.0   \n",
       "0          17850        5391.21         372.0    1733.0        34.0   \n",
       "140        15363         326.00         372.0     144.0         1.0   \n",
       "160        16781         311.25         372.0     113.0         1.0   \n",
       "\n",
       "     qt_products  avg_ticket  avg_recency_days  frequency  qt_returns  \\\n",
       "63          11.0   33.590909               0.0        0.0         2.0   \n",
       "82           8.0   32.055000            -287.0        0.0         1.0   \n",
       "0          297.0   18.152222             -34.5       34.0        40.0   \n",
       "140         16.0   20.375000            -130.0        0.0         1.0   \n",
       "160         17.0   18.308824              -6.0        0.0         2.0   \n",
       "\n",
       "     avg_unique_basket_size  avg_basket_size  \n",
       "63                11.000000       138.000000  \n",
       "82                 4.000000        72.000000  \n",
       "0                  8.735294        50.970588  \n",
       "140               16.000000       144.000000  \n",
       "160               17.000000       113.000000  "
      ]
     },
     "execution_count": 48,
     "metadata": {},
     "output_type": "execute_result"
    }
   ],
   "source": [
    "df4.sort_values('recency_days', ascending=False).head() \n",
    "\n"
   ]
  },
  {
   "cell_type": "markdown",
   "id": "48ed553d",
   "metadata": {},
   "source": [
    "### 4.1.3. Qtd Items"
   ]
  },
  {
   "cell_type": "code",
   "execution_count": 49,
   "id": "42c00ad1",
   "metadata": {
    "ExecuteTime": {
     "end_time": "2022-03-28T20:47:51.628639Z",
     "start_time": "2022-03-28T20:47:51.498250Z"
    }
   },
   "outputs": [
    {
     "data": {
      "text/html": [
       "<div>\n",
       "<style scoped>\n",
       "    .dataframe tbody tr th:only-of-type {\n",
       "        vertical-align: middle;\n",
       "    }\n",
       "\n",
       "    .dataframe tbody tr th {\n",
       "        vertical-align: top;\n",
       "    }\n",
       "\n",
       "    .dataframe thead th {\n",
       "        text-align: right;\n",
       "    }\n",
       "</style>\n",
       "<table border=\"1\" class=\"dataframe\">\n",
       "  <thead>\n",
       "    <tr style=\"text-align: right;\">\n",
       "      <th></th>\n",
       "      <th>customer_id</th>\n",
       "      <th>qt_items</th>\n",
       "      <th>qt_returns</th>\n",
       "    </tr>\n",
       "  </thead>\n",
       "  <tbody>\n",
       "    <tr>\n",
       "      <th>1017</th>\n",
       "      <td>14646</td>\n",
       "      <td>196844.0</td>\n",
       "      <td>288.0</td>\n",
       "    </tr>\n",
       "    <tr>\n",
       "      <th>66</th>\n",
       "      <td>14911</td>\n",
       "      <td>80263.0</td>\n",
       "      <td>3332.0</td>\n",
       "    </tr>\n",
       "    <tr>\n",
       "      <th>1150</th>\n",
       "      <td>12415</td>\n",
       "      <td>77373.0</td>\n",
       "      <td>427.0</td>\n",
       "    </tr>\n",
       "    <tr>\n",
       "      <th>433</th>\n",
       "      <td>17450</td>\n",
       "      <td>69993.0</td>\n",
       "      <td>952.0</td>\n",
       "    </tr>\n",
       "    <tr>\n",
       "      <th>15</th>\n",
       "      <td>17511</td>\n",
       "      <td>64549.0</td>\n",
       "      <td>1535.0</td>\n",
       "    </tr>\n",
       "  </tbody>\n",
       "</table>\n",
       "</div>"
      ],
      "text/plain": [
       "      customer_id  qt_items  qt_returns\n",
       "1017        14646  196844.0       288.0\n",
       "66          14911   80263.0      3332.0\n",
       "1150        12415   77373.0       427.0\n",
       "433         17450   69993.0       952.0\n",
       "15          17511   64549.0      1535.0"
      ]
     },
     "execution_count": 49,
     "metadata": {},
     "output_type": "execute_result"
    }
   ],
   "source": [
    "aux = df4.sort_values('qt_items', ascending=False).head() \n",
    "\n",
    "#investigating top 5  of qt_items\n",
    "aux[['customer_id','qt_items', 'qt_returns']]\n",
    "\n",
    "#top 2 customer is an strange outlier of qtd items"
   ]
  },
  {
   "cell_type": "markdown",
   "id": "2f38b152",
   "metadata": {},
   "source": [
    "### 4.1.4. Qtd Invoice\n"
   ]
  },
  {
   "cell_type": "code",
   "execution_count": 50,
   "id": "2d0a650a",
   "metadata": {
    "ExecuteTime": {
     "end_time": "2022-03-28T20:47:51.739039Z",
     "start_time": "2022-03-28T20:47:51.630558Z"
    }
   },
   "outputs": [
    {
     "data": {
      "text/html": [
       "<div>\n",
       "<style scoped>\n",
       "    .dataframe tbody tr th:only-of-type {\n",
       "        vertical-align: middle;\n",
       "    }\n",
       "\n",
       "    .dataframe tbody tr th {\n",
       "        vertical-align: top;\n",
       "    }\n",
       "\n",
       "    .dataframe thead th {\n",
       "        text-align: right;\n",
       "    }\n",
       "</style>\n",
       "<table border=\"1\" class=\"dataframe\">\n",
       "  <thead>\n",
       "    <tr style=\"text-align: right;\">\n",
       "      <th></th>\n",
       "      <th>qt_invoice</th>\n",
       "      <th>gross_revenue</th>\n",
       "      <th>avg_ticket</th>\n",
       "      <th>avg_basket_size</th>\n",
       "    </tr>\n",
       "  </thead>\n",
       "  <tbody>\n",
       "    <tr>\n",
       "      <th>47</th>\n",
       "      <td>206.0</td>\n",
       "      <td>32317.32</td>\n",
       "      <td>7.056183</td>\n",
       "      <td>123.839806</td>\n",
       "    </tr>\n",
       "    <tr>\n",
       "      <th>66</th>\n",
       "      <td>199.0</td>\n",
       "      <td>140450.72</td>\n",
       "      <td>24.757751</td>\n",
       "      <td>403.331658</td>\n",
       "    </tr>\n",
       "    <tr>\n",
       "      <th>68</th>\n",
       "      <td>124.0</td>\n",
       "      <td>40967.72</td>\n",
       "      <td>5.226808</td>\n",
       "      <td>185.911290</td>\n",
       "    </tr>\n",
       "    <tr>\n",
       "      <th>278</th>\n",
       "      <td>97.0</td>\n",
       "      <td>58825.83</td>\n",
       "      <td>32.357442</td>\n",
       "      <td>320.309278</td>\n",
       "    </tr>\n",
       "    <tr>\n",
       "      <th>96</th>\n",
       "      <td>91.0</td>\n",
       "      <td>12021.65</td>\n",
       "      <td>4.455764</td>\n",
       "      <td>68.296703</td>\n",
       "    </tr>\n",
       "  </tbody>\n",
       "</table>\n",
       "</div>"
      ],
      "text/plain": [
       "     qt_invoice  gross_revenue  avg_ticket  avg_basket_size\n",
       "47        206.0       32317.32    7.056183       123.839806\n",
       "66        199.0      140450.72   24.757751       403.331658\n",
       "68        124.0       40967.72    5.226808       185.911290\n",
       "278        97.0       58825.83   32.357442       320.309278\n",
       "96         91.0       12021.65    4.455764        68.296703"
      ]
     },
     "execution_count": 50,
     "metadata": {},
     "output_type": "execute_result"
    }
   ],
   "source": [
    "aux = df4.sort_values('qt_invoice', ascending=False).head() \n",
    "\n",
    "#understanding top 5 qtd invoice\n",
    "aux[['qt_invoice', 'gross_revenue','avg_ticket','avg_basket_size']]\n"
   ]
  },
  {
   "cell_type": "markdown",
   "id": "898ce8ad",
   "metadata": {},
   "source": [
    "### 4.1.5. Qtd Products"
   ]
  },
  {
   "cell_type": "code",
   "execution_count": 51,
   "id": "72176bba",
   "metadata": {
    "ExecuteTime": {
     "end_time": "2022-03-28T20:47:51.838690Z",
     "start_time": "2022-03-28T20:47:51.740924Z"
    }
   },
   "outputs": [
    {
     "data": {
      "text/html": [
       "<div>\n",
       "<style scoped>\n",
       "    .dataframe tbody tr th:only-of-type {\n",
       "        vertical-align: middle;\n",
       "    }\n",
       "\n",
       "    .dataframe tbody tr th {\n",
       "        vertical-align: top;\n",
       "    }\n",
       "\n",
       "    .dataframe thead th {\n",
       "        text-align: right;\n",
       "    }\n",
       "</style>\n",
       "<table border=\"1\" class=\"dataframe\">\n",
       "  <thead>\n",
       "    <tr style=\"text-align: right;\">\n",
       "      <th></th>\n",
       "      <th>qt_products</th>\n",
       "      <th>qt_invoice</th>\n",
       "      <th>gross_revenue</th>\n",
       "      <th>avg_ticket</th>\n",
       "      <th>avg_basket_size</th>\n",
       "    </tr>\n",
       "  </thead>\n",
       "  <tbody>\n",
       "    <tr>\n",
       "      <th>68</th>\n",
       "      <td>7838.0</td>\n",
       "      <td>124.0</td>\n",
       "      <td>40967.72</td>\n",
       "      <td>5.226808</td>\n",
       "      <td>185.911290</td>\n",
       "    </tr>\n",
       "    <tr>\n",
       "      <th>66</th>\n",
       "      <td>5673.0</td>\n",
       "      <td>199.0</td>\n",
       "      <td>140450.72</td>\n",
       "      <td>24.757751</td>\n",
       "      <td>403.331658</td>\n",
       "    </tr>\n",
       "    <tr>\n",
       "      <th>4405</th>\n",
       "      <td>5095.0</td>\n",
       "      <td>17.0</td>\n",
       "      <td>53258.43</td>\n",
       "      <td>10.453078</td>\n",
       "      <td>960.941176</td>\n",
       "    </tr>\n",
       "    <tr>\n",
       "      <th>47</th>\n",
       "      <td>4580.0</td>\n",
       "      <td>206.0</td>\n",
       "      <td>32317.32</td>\n",
       "      <td>7.056183</td>\n",
       "      <td>123.839806</td>\n",
       "    </tr>\n",
       "    <tr>\n",
       "      <th>96</th>\n",
       "      <td>2698.0</td>\n",
       "      <td>91.0</td>\n",
       "      <td>12021.65</td>\n",
       "      <td>4.455764</td>\n",
       "      <td>68.296703</td>\n",
       "    </tr>\n",
       "  </tbody>\n",
       "</table>\n",
       "</div>"
      ],
      "text/plain": [
       "      qt_products  qt_invoice  gross_revenue  avg_ticket  avg_basket_size\n",
       "68         7838.0       124.0       40967.72    5.226808       185.911290\n",
       "66         5673.0       199.0      140450.72   24.757751       403.331658\n",
       "4405       5095.0        17.0       53258.43   10.453078       960.941176\n",
       "47         4580.0       206.0       32317.32    7.056183       123.839806\n",
       "96         2698.0        91.0       12021.65    4.455764        68.296703"
      ]
     },
     "execution_count": 51,
     "metadata": {},
     "output_type": "execute_result"
    }
   ],
   "source": [
    "aux = df4.sort_values('qt_products', ascending=False).head() \n",
    "aux[['qt_products','qt_invoice', 'gross_revenue','avg_ticket','avg_basket_size']]"
   ]
  },
  {
   "cell_type": "markdown",
   "id": "ba25c146",
   "metadata": {},
   "source": [
    "### 4.1.6. Avg Ticket"
   ]
  },
  {
   "cell_type": "code",
   "execution_count": 52,
   "id": "7809c326",
   "metadata": {
    "ExecuteTime": {
     "end_time": "2022-03-28T20:47:51.937090Z",
     "start_time": "2022-03-28T20:47:51.840771Z"
    }
   },
   "outputs": [
    {
     "data": {
      "text/html": [
       "<div>\n",
       "<style scoped>\n",
       "    .dataframe tbody tr th:only-of-type {\n",
       "        vertical-align: middle;\n",
       "    }\n",
       "\n",
       "    .dataframe tbody tr th {\n",
       "        vertical-align: top;\n",
       "    }\n",
       "\n",
       "    .dataframe thead th {\n",
       "        text-align: right;\n",
       "    }\n",
       "</style>\n",
       "<table border=\"1\" class=\"dataframe\">\n",
       "  <thead>\n",
       "    <tr style=\"text-align: right;\">\n",
       "      <th></th>\n",
       "      <th>customer_id</th>\n",
       "      <th>qt_items</th>\n",
       "      <th>avg_ticket</th>\n",
       "      <th>qt_returns</th>\n",
       "    </tr>\n",
       "  </thead>\n",
       "  <tbody>\n",
       "    <tr>\n",
       "      <th>1262</th>\n",
       "      <td>15749</td>\n",
       "      <td>18028.0</td>\n",
       "      <td>4453.430000</td>\n",
       "      <td>9014.0</td>\n",
       "    </tr>\n",
       "    <tr>\n",
       "      <th>1820</th>\n",
       "      <td>18087</td>\n",
       "      <td>3906.0</td>\n",
       "      <td>3202.920000</td>\n",
       "      <td>336.0</td>\n",
       "    </tr>\n",
       "    <tr>\n",
       "      <th>1136</th>\n",
       "      <td>16532</td>\n",
       "      <td>2016.0</td>\n",
       "      <td>1687.200000</td>\n",
       "      <td>0.0</td>\n",
       "    </tr>\n",
       "    <tr>\n",
       "      <th>601</th>\n",
       "      <td>12755</td>\n",
       "      <td>1491.0</td>\n",
       "      <td>952.987500</td>\n",
       "      <td>624.0</td>\n",
       "    </tr>\n",
       "    <tr>\n",
       "      <th>3779</th>\n",
       "      <td>12798</td>\n",
       "      <td>5256.0</td>\n",
       "      <td>872.130000</td>\n",
       "      <td>0.0</td>\n",
       "    </tr>\n",
       "    <tr>\n",
       "      <th>249</th>\n",
       "      <td>17949</td>\n",
       "      <td>30450.0</td>\n",
       "      <td>841.021449</td>\n",
       "      <td>2878.0</td>\n",
       "    </tr>\n",
       "    <tr>\n",
       "      <th>186</th>\n",
       "      <td>15299</td>\n",
       "      <td>2947.0</td>\n",
       "      <td>651.168333</td>\n",
       "      <td>5.0</td>\n",
       "    </tr>\n",
       "    <tr>\n",
       "      <th>2548</th>\n",
       "      <td>16308</td>\n",
       "      <td>8000.0</td>\n",
       "      <td>640.000000</td>\n",
       "      <td>0.0</td>\n",
       "    </tr>\n",
       "    <tr>\n",
       "      <th>5405</th>\n",
       "      <td>16986</td>\n",
       "      <td>1040.0</td>\n",
       "      <td>624.400000</td>\n",
       "      <td>0.0</td>\n",
       "    </tr>\n",
       "    <tr>\n",
       "      <th>2843</th>\n",
       "      <td>18080</td>\n",
       "      <td>642.0</td>\n",
       "      <td>615.750000</td>\n",
       "      <td>0.0</td>\n",
       "    </tr>\n",
       "  </tbody>\n",
       "</table>\n",
       "</div>"
      ],
      "text/plain": [
       "      customer_id  qt_items   avg_ticket  qt_returns\n",
       "1262        15749   18028.0  4453.430000      9014.0\n",
       "1820        18087    3906.0  3202.920000       336.0\n",
       "1136        16532    2016.0  1687.200000         0.0\n",
       "601         12755    1491.0   952.987500       624.0\n",
       "3779        12798    5256.0   872.130000         0.0\n",
       "249         17949   30450.0   841.021449      2878.0\n",
       "186         15299    2947.0   651.168333         5.0\n",
       "2548        16308    8000.0   640.000000         0.0\n",
       "5405        16986    1040.0   624.400000         0.0\n",
       "2843        18080     642.0   615.750000         0.0"
      ]
     },
     "execution_count": 52,
     "metadata": {},
     "output_type": "execute_result"
    }
   ],
   "source": [
    "aux = df4.sort_values('avg_ticket', ascending=False).head(10) \n",
    "\n",
    "#investigating outliers\n",
    "aux[['customer_id','qt_items','avg_ticket', 'qt_returns']]\n"
   ]
  },
  {
   "cell_type": "markdown",
   "id": "865e0b1b",
   "metadata": {},
   "source": [
    "### 4.1.7. Avg Recency days"
   ]
  },
  {
   "cell_type": "code",
   "execution_count": 53,
   "id": "50501565",
   "metadata": {
    "ExecuteTime": {
     "end_time": "2022-03-28T20:47:52.051978Z",
     "start_time": "2022-03-28T20:47:51.939112Z"
    }
   },
   "outputs": [],
   "source": [
    "aux = df4.sort_values('avg_recency_days', ascending=True).head() \n",
    "\n",
    "# aux"
   ]
  },
  {
   "cell_type": "markdown",
   "id": "17699b2c",
   "metadata": {
    "ExecuteTime": {
     "end_time": "2022-03-26T13:10:51.357445Z",
     "start_time": "2022-03-26T13:10:51.350560Z"
    }
   },
   "source": [
    "## 4.2 Bivariate Analysis"
   ]
  },
  {
   "cell_type": "code",
   "execution_count": 54,
   "id": "ffca2507",
   "metadata": {
    "ExecuteTime": {
     "end_time": "2022-03-28T20:47:52.151169Z",
     "start_time": "2022-03-28T20:47:52.053709Z"
    }
   },
   "outputs": [
    {
     "data": {
      "text/plain": [
       "Index(['customer_id', 'gross_revenue', 'recency_days', 'qt_items',\n",
       "       'qt_invoice', 'qt_products', 'avg_ticket', 'avg_recency_days',\n",
       "       'frequency', 'qt_returns', 'avg_unique_basket_size', 'avg_basket_size'],\n",
       "      dtype='object')"
      ]
     },
     "execution_count": 54,
     "metadata": {},
     "output_type": "execute_result"
    }
   ],
   "source": [
    "df4.columns"
   ]
  },
  {
   "cell_type": "code",
   "execution_count": 55,
   "id": "6199e0a3",
   "metadata": {
    "ExecuteTime": {
     "end_time": "2022-03-28T20:47:52.384652Z",
     "start_time": "2022-03-28T20:47:52.152880Z"
    }
   },
   "outputs": [
    {
     "data": {
      "text/plain": [
       "Index(['customer_id', 'gross_revenue', 'recency_days', 'qt_items',\n",
       "       'qt_invoice', 'qt_products', 'avg_ticket', 'avg_recency_days',\n",
       "       'frequency', 'qt_returns', 'avg_unique_basket_size', 'avg_basket_size'],\n",
       "      dtype='object')"
      ]
     },
     "execution_count": 55,
     "metadata": {},
     "output_type": "execute_result"
    }
   ],
   "source": [
    "df4.columns"
   ]
  },
  {
   "cell_type": "markdown",
   "id": "27ab544a",
   "metadata": {
    "ExecuteTime": {
     "end_time": "2022-03-26T13:10:51.357445Z",
     "start_time": "2022-03-26T13:10:51.350560Z"
    }
   },
   "source": [
    "## 4.3. Estudo do Espaço"
   ]
  },
  {
   "cell_type": "code",
   "execution_count": 56,
   "id": "6c272ebe",
   "metadata": {
    "ExecuteTime": {
     "end_time": "2022-03-28T20:47:52.482944Z",
     "start_time": "2022-03-28T20:47:52.386405Z"
    }
   },
   "outputs": [],
   "source": [
    " df43 = df4.drop( columns=['customer_id'], axis=1 ).copy()"
   ]
  },
  {
   "cell_type": "code",
   "execution_count": 57,
   "id": "dd70b1bb",
   "metadata": {
    "ExecuteTime": {
     "end_time": "2022-03-28T20:47:52.670386Z",
     "start_time": "2022-03-28T20:47:52.484705Z"
    }
   },
   "outputs": [],
   "source": [
    "mm = pp.MinMaxScaler()\n",
    "\n",
    "# \n",
    "df43['gross_revenue'] = mm.fit_transform( df43[['gross_revenue']] )\n",
    "df43['recency_days']           = mm.fit_transform( df43[['recency_days']] )\n",
    "df43['qt_invoice']          = mm.fit_transform( df43[['qt_invoice']])\n",
    "df43['qt_items']             = mm.fit_transform( df43[['qt_items']])\n",
    "df43['qt_products']          = mm.fit_transform( df43[['qt_products']])\n",
    "df43['avg_ticket']             = mm.fit_transform( df43[['avg_ticket']])\n",
    "df43['avg_recency_days']       = mm.fit_transform( df43[['avg_recency_days']])\n",
    "df43['frequency']              = mm.fit_transform( df43[['frequency']])\n",
    "df43['qt_returns']           = mm.fit_transform( df43[['qt_returns']])\n",
    "df43['avg_basket_size']        = mm.fit_transform( df43[['avg_basket_size']])\n",
    "df43['avg_unique_basket_size'] = mm.fit_transform( df43[['avg_unique_basket_size']] )\n",
    "\n",
    "\n",
    "X = df43.copy()"
   ]
  },
  {
   "cell_type": "markdown",
   "id": "8bf50b35",
   "metadata": {},
   "source": [
    "### 4.3.1. PCA"
   ]
  },
  {
   "cell_type": "code",
   "execution_count": 58,
   "id": "26bf13e0",
   "metadata": {
    "ExecuteTime": {
     "end_time": "2022-03-28T20:47:53.354256Z",
     "start_time": "2022-03-28T20:47:52.672320Z"
    }
   },
   "outputs": [
    {
     "data": {
      "image/png": "[encoded data removed]",
      "text/plain": [
       "<Figure size 432x288 with 1 Axes>"
      ]
     },
     "metadata": {
      "needs_background": "light"
     },
     "output_type": "display_data"
    }
   ],
   "source": [
    "pca = dd.PCA( n_components=X.shape[1] )\n",
    "\n",
    "principal_components = pca.fit_transform( X )\n",
    "\n",
    "# plot explained variable\n",
    "features = range( pca.n_components_ )\n",
    "\n",
    "plt.bar( features, pca.explained_variance_ratio_, color='black' )\n",
    "\n",
    "# pca component\n",
    "df_pca = pd.DataFrame( principal_components )\n"
   ]
  },
  {
   "cell_type": "code",
   "execution_count": 59,
   "id": "d61adb5d",
   "metadata": {
    "ExecuteTime": {
     "end_time": "2022-03-28T20:47:53.724906Z",
     "start_time": "2022-03-28T20:47:53.356250Z"
    }
   },
   "outputs": [
    {
     "data": {
      "text/plain": [
       "<AxesSubplot:xlabel='0', ylabel='1'>"
      ]
     },
     "execution_count": 59,
     "metadata": {},
     "output_type": "execute_result"
    },
    {
     "data": {
      "image/png": "[encoded data removed]",
      "text/plain": [
       "<Figure size 1440x864 with 1 Axes>"
      ]
     },
     "metadata": {
      "needs_background": "light"
     },
     "output_type": "display_data"
    }
   ],
   "source": [
    "plt.figure(figsize=(20,12))\n",
    "sns.scatterplot( x=0, y=1, data=df_pca )"
   ]
  },
  {
   "cell_type": "markdown",
   "id": "a10ac731",
   "metadata": {},
   "source": [
    "### 4.3.2. UMAP"
   ]
  },
  {
   "cell_type": "code",
   "execution_count": 60,
   "id": "924549d8",
   "metadata": {
    "ExecuteTime": {
     "end_time": "2022-03-28T20:48:06.367157Z",
     "start_time": "2022-03-28T20:47:53.726690Z"
    }
   },
   "outputs": [
    {
     "data": {
      "image/png": "[encoded data removed]",
      "text/plain": [
       "<Figure size 1440x504 with 1 Axes>"
      ]
     },
     "metadata": {
      "needs_background": "light"
     },
     "output_type": "display_data"
    }
   ],
   "source": [
    "\n",
    "\n",
    "reducer = umap.UMAP( random_state=42)\n",
    "embedding = reducer.fit_transform(X)\n",
    "\n",
    "df_pca['embedding_x'] = embedding[:,0]\n",
    "df_pca['embedding_y'] = embedding[:,1]\n",
    "\n",
    "plt.figure(figsize=(20,7));\n",
    "sns.scatterplot(x='embedding_x', y='embedding_y',data=df_pca);"
   ]
  },
  {
   "cell_type": "markdown",
   "id": "671a8093",
   "metadata": {},
   "source": [
    "### 4.3.3. t-SNE"
   ]
  },
  {
   "cell_type": "code",
   "execution_count": 61,
   "id": "30a6bff8",
   "metadata": {
    "ExecuteTime": {
     "end_time": "2022-03-28T20:48:14.050924Z",
     "start_time": "2022-03-28T20:48:06.368432Z"
    }
   },
   "outputs": [
    {
     "name": "stderr",
     "output_type": "stream",
     "text": [
      "/home/heitor/repos/insiders_clustering/venv/lib/python3.8/site-packages/sklearn/manifold/_t_sne.py:780: FutureWarning: The default initialization in TSNE will change from 'random' to 'pca' in 1.2.\n",
      "  warnings.warn(\n",
      "/home/heitor/repos/insiders_clustering/venv/lib/python3.8/site-packages/sklearn/manifold/_t_sne.py:790: FutureWarning: The default learning rate in TSNE will change from 200.0 to 'auto' in 1.2.\n",
      "  warnings.warn(\n"
     ]
    },
    {
     "data": {
      "image/png": "[encoded data removed]",
      "text/plain": [
       "<Figure size 1440x864 with 1 Axes>"
      ]
     },
     "metadata": {
      "needs_background": "light"
     },
     "output_type": "display_data"
    }
   ],
   "source": [
    "reducer = TSNE( n_components=2,n_jobs=-1, random_state=3)\n",
    "embedding = reducer.fit_transform(X)\n",
    "\n",
    "df_pca['embedding_x'] = embedding[:,0]\n",
    "df_pca['embedding_y'] = embedding[:,1]\n",
    "plt.figure(figsize=(20,12));\n",
    "sns.scatterplot(x='embedding_x', y='embedding_y',data=df_pca);"
   ]
  },
  {
   "cell_type": "markdown",
   "id": "08bbaabc",
   "metadata": {},
   "source": [
    "### 4.3.4. Tree-Based Embedding"
   ]
  },
  {
   "cell_type": "code",
   "execution_count": 62,
   "id": "abecc008",
   "metadata": {
    "ExecuteTime": {
     "end_time": "2022-03-28T20:48:15.794033Z",
     "start_time": "2022-03-28T20:48:14.052233Z"
    }
   },
   "outputs": [],
   "source": [
    "#training dataset\n",
    "X = df4.drop(['gross_revenue','customer_id'], axis=1)\n",
    "y = df4['gross_revenue']\n",
    "\n",
    "#model definition\n",
    "rf_model = en.RandomForestRegressor(random_state=42, n_estimators=100)\n",
    "\n",
    "#model training\n",
    "rf_model.fit(X,y)\n",
    "\n",
    "#leaf\n",
    "\n",
    "\n",
    "#dataframe leaf\n",
    "df_leaf = pd.DataFrame(rf_model.apply(X))"
   ]
  },
  {
   "cell_type": "code",
   "execution_count": 63,
   "id": "dd041891",
   "metadata": {
    "ExecuteTime": {
     "end_time": "2022-03-28T20:48:15.808456Z",
     "start_time": "2022-03-28T20:48:15.795613Z"
    }
   },
   "outputs": [
    {
     "data": {
      "text/html": [
       "<div>\n",
       "<style scoped>\n",
       "    .dataframe tbody tr th:only-of-type {\n",
       "        vertical-align: middle;\n",
       "    }\n",
       "\n",
       "    .dataframe tbody tr th {\n",
       "        vertical-align: top;\n",
       "    }\n",
       "\n",
       "    .dataframe thead th {\n",
       "        text-align: right;\n",
       "    }\n",
       "</style>\n",
       "<table border=\"1\" class=\"dataframe\">\n",
       "  <thead>\n",
       "    <tr style=\"text-align: right;\">\n",
       "      <th></th>\n",
       "      <th>0</th>\n",
       "      <th>1</th>\n",
       "      <th>2</th>\n",
       "      <th>3</th>\n",
       "      <th>4</th>\n",
       "      <th>5</th>\n",
       "      <th>6</th>\n",
       "      <th>7</th>\n",
       "      <th>8</th>\n",
       "      <th>9</th>\n",
       "      <th>...</th>\n",
       "      <th>90</th>\n",
       "      <th>91</th>\n",
       "      <th>92</th>\n",
       "      <th>93</th>\n",
       "      <th>94</th>\n",
       "      <th>95</th>\n",
       "      <th>96</th>\n",
       "      <th>97</th>\n",
       "      <th>98</th>\n",
       "      <th>99</th>\n",
       "    </tr>\n",
       "  </thead>\n",
       "  <tbody>\n",
       "    <tr>\n",
       "      <th>0</th>\n",
       "      <td>2991</td>\n",
       "      <td>2716</td>\n",
       "      <td>3323</td>\n",
       "      <td>3337</td>\n",
       "      <td>2763</td>\n",
       "      <td>3147</td>\n",
       "      <td>3227</td>\n",
       "      <td>3137</td>\n",
       "      <td>3166</td>\n",
       "      <td>3364</td>\n",
       "      <td>...</td>\n",
       "      <td>3185</td>\n",
       "      <td>3177</td>\n",
       "      <td>3200</td>\n",
       "      <td>3059</td>\n",
       "      <td>3043</td>\n",
       "      <td>3127</td>\n",
       "      <td>3186</td>\n",
       "      <td>2832</td>\n",
       "      <td>3356</td>\n",
       "      <td>3319</td>\n",
       "    </tr>\n",
       "    <tr>\n",
       "      <th>1</th>\n",
       "      <td>2961</td>\n",
       "      <td>2929</td>\n",
       "      <td>3039</td>\n",
       "      <td>2967</td>\n",
       "      <td>2752</td>\n",
       "      <td>3131</td>\n",
       "      <td>2924</td>\n",
       "      <td>2830</td>\n",
       "      <td>3119</td>\n",
       "      <td>2905</td>\n",
       "      <td>...</td>\n",
       "      <td>2548</td>\n",
       "      <td>2888</td>\n",
       "      <td>2881</td>\n",
       "      <td>3024</td>\n",
       "      <td>3146</td>\n",
       "      <td>3013</td>\n",
       "      <td>2916</td>\n",
       "      <td>2799</td>\n",
       "      <td>2972</td>\n",
       "      <td>2825</td>\n",
       "    </tr>\n",
       "    <tr>\n",
       "      <th>2</th>\n",
       "      <td>3633</td>\n",
       "      <td>3606</td>\n",
       "      <td>3590</td>\n",
       "      <td>3406</td>\n",
       "      <td>3574</td>\n",
       "      <td>3659</td>\n",
       "      <td>3629</td>\n",
       "      <td>3546</td>\n",
       "      <td>3680</td>\n",
       "      <td>3615</td>\n",
       "      <td>...</td>\n",
       "      <td>3593</td>\n",
       "      <td>3435</td>\n",
       "      <td>3560</td>\n",
       "      <td>3482</td>\n",
       "      <td>3604</td>\n",
       "      <td>3455</td>\n",
       "      <td>3526</td>\n",
       "      <td>3620</td>\n",
       "      <td>3565</td>\n",
       "      <td>3650</td>\n",
       "    </tr>\n",
       "    <tr>\n",
       "      <th>3</th>\n",
       "      <td>1274</td>\n",
       "      <td>1412</td>\n",
       "      <td>1758</td>\n",
       "      <td>1489</td>\n",
       "      <td>2019</td>\n",
       "      <td>1450</td>\n",
       "      <td>2108</td>\n",
       "      <td>1441</td>\n",
       "      <td>1665</td>\n",
       "      <td>1717</td>\n",
       "      <td>...</td>\n",
       "      <td>1871</td>\n",
       "      <td>1744</td>\n",
       "      <td>2026</td>\n",
       "      <td>1881</td>\n",
       "      <td>1921</td>\n",
       "      <td>2260</td>\n",
       "      <td>1453</td>\n",
       "      <td>1195</td>\n",
       "      <td>1987</td>\n",
       "      <td>2100</td>\n",
       "    </tr>\n",
       "    <tr>\n",
       "      <th>4</th>\n",
       "      <td>354</td>\n",
       "      <td>720</td>\n",
       "      <td>572</td>\n",
       "      <td>708</td>\n",
       "      <td>137</td>\n",
       "      <td>705</td>\n",
       "      <td>743</td>\n",
       "      <td>688</td>\n",
       "      <td>191</td>\n",
       "      <td>197</td>\n",
       "      <td>...</td>\n",
       "      <td>331</td>\n",
       "      <td>192</td>\n",
       "      <td>595</td>\n",
       "      <td>544</td>\n",
       "      <td>196</td>\n",
       "      <td>156</td>\n",
       "      <td>188</td>\n",
       "      <td>705</td>\n",
       "      <td>706</td>\n",
       "      <td>175</td>\n",
       "    </tr>\n",
       "  </tbody>\n",
       "</table>\n",
       "<p>5 rows × 100 columns</p>\n",
       "</div>"
      ],
      "text/plain": [
       "     0     1     2     3     4     5     6     7     8     9   ...    90  \\\n",
       "0  2991  2716  3323  3337  2763  3147  3227  3137  3166  3364  ...  3185   \n",
       "1  2961  2929  3039  2967  2752  3131  2924  2830  3119  2905  ...  2548   \n",
       "2  3633  3606  3590  3406  3574  3659  3629  3546  3680  3615  ...  3593   \n",
       "3  1274  1412  1758  1489  2019  1450  2108  1441  1665  1717  ...  1871   \n",
       "4   354   720   572   708   137   705   743   688   191   197  ...   331   \n",
       "\n",
       "     91    92    93    94    95    96    97    98    99  \n",
       "0  3177  3200  3059  3043  3127  3186  2832  3356  3319  \n",
       "1  2888  2881  3024  3146  3013  2916  2799  2972  2825  \n",
       "2  3435  3560  3482  3604  3455  3526  3620  3565  3650  \n",
       "3  1744  2026  1881  1921  2260  1453  1195  1987  2100  \n",
       "4   192   595   544   196   156   188   705   706   175  \n",
       "\n",
       "[5 rows x 100 columns]"
      ]
     },
     "execution_count": 63,
     "metadata": {},
     "output_type": "execute_result"
    }
   ],
   "source": [
    "df_leaf.head()"
   ]
  },
  {
   "cell_type": "code",
   "execution_count": 64,
   "id": "81f9083b",
   "metadata": {
    "ExecuteTime": {
     "end_time": "2022-03-28T20:48:24.414383Z",
     "start_time": "2022-03-28T20:48:15.810529Z"
    }
   },
   "outputs": [
    {
     "data": {
      "image/png": "[encoded data removed]",
      "text/plain": [
       "<Figure size 1440x864 with 1 Axes>"
      ]
     },
     "metadata": {
      "needs_background": "light"
     },
     "output_type": "display_data"
    }
   ],
   "source": [
    "reducer = umap.UMAP( random_state=42)\n",
    "embedding = reducer.fit_transform(df_leaf)\n",
    "\n",
    "df_pca['embedding_x'] = embedding[:,0]\n",
    "df_pca['embedding_y'] = embedding[:,1]\n",
    "\n",
    "plt.figure(figsize=(20,12));\n",
    "sns.scatterplot(x='embedding_x', y='embedding_y',data=df_pca);"
   ]
  },
  {
   "cell_type": "code",
   "execution_count": 65,
   "id": "862a54d5",
   "metadata": {
    "ExecuteTime": {
     "end_time": "2022-03-28T20:48:24.422212Z",
     "start_time": "2022-03-28T20:48:24.417086Z"
    }
   },
   "outputs": [
    {
     "data": {
      "text/plain": [
       "(2968, 10)"
      ]
     },
     "execution_count": 65,
     "metadata": {},
     "output_type": "execute_result"
    }
   ],
   "source": [
    "X.shape"
   ]
  },
  {
   "cell_type": "code",
   "execution_count": 66,
   "id": "28706bc4",
   "metadata": {
    "ExecuteTime": {
     "end_time": "2022-03-28T20:48:24.594006Z",
     "start_time": "2022-03-28T20:48:24.424505Z"
    }
   },
   "outputs": [
    {
     "data": {
      "text/html": [
       "<div>\n",
       "<style scoped>\n",
       "    .dataframe tbody tr th:only-of-type {\n",
       "        vertical-align: middle;\n",
       "    }\n",
       "\n",
       "    .dataframe tbody tr th {\n",
       "        vertical-align: top;\n",
       "    }\n",
       "\n",
       "    .dataframe thead th {\n",
       "        text-align: right;\n",
       "    }\n",
       "</style>\n",
       "<table border=\"1\" class=\"dataframe\">\n",
       "  <thead>\n",
       "    <tr style=\"text-align: right;\">\n",
       "      <th></th>\n",
       "      <th>recency_days</th>\n",
       "      <th>qt_items</th>\n",
       "      <th>qt_invoice</th>\n",
       "      <th>qt_products</th>\n",
       "      <th>avg_ticket</th>\n",
       "      <th>avg_recency_days</th>\n",
       "      <th>frequency</th>\n",
       "      <th>qt_returns</th>\n",
       "      <th>avg_unique_basket_size</th>\n",
       "      <th>avg_basket_size</th>\n",
       "    </tr>\n",
       "  </thead>\n",
       "  <tbody>\n",
       "    <tr>\n",
       "      <th>0</th>\n",
       "      <td>372.0</td>\n",
       "      <td>1733.0</td>\n",
       "      <td>34.0</td>\n",
       "      <td>297.0</td>\n",
       "      <td>18.152222</td>\n",
       "      <td>-34.500000</td>\n",
       "      <td>34.000000</td>\n",
       "      <td>40.0</td>\n",
       "      <td>8.735294</td>\n",
       "      <td>50.970588</td>\n",
       "    </tr>\n",
       "    <tr>\n",
       "      <th>1</th>\n",
       "      <td>56.0</td>\n",
       "      <td>1390.0</td>\n",
       "      <td>9.0</td>\n",
       "      <td>171.0</td>\n",
       "      <td>18.904035</td>\n",
       "      <td>-26.250000</td>\n",
       "      <td>0.028391</td>\n",
       "      <td>35.0</td>\n",
       "      <td>19.000000</td>\n",
       "      <td>154.444444</td>\n",
       "    </tr>\n",
       "    <tr>\n",
       "      <th>2</th>\n",
       "      <td>2.0</td>\n",
       "      <td>5028.0</td>\n",
       "      <td>15.0</td>\n",
       "      <td>232.0</td>\n",
       "      <td>28.902500</td>\n",
       "      <td>-22.187500</td>\n",
       "      <td>0.040431</td>\n",
       "      <td>50.0</td>\n",
       "      <td>15.466667</td>\n",
       "      <td>335.200000</td>\n",
       "    </tr>\n",
       "    <tr>\n",
       "      <th>3</th>\n",
       "      <td>95.0</td>\n",
       "      <td>439.0</td>\n",
       "      <td>5.0</td>\n",
       "      <td>28.0</td>\n",
       "      <td>33.866071</td>\n",
       "      <td>-91.666667</td>\n",
       "      <td>0.017986</td>\n",
       "      <td>0.0</td>\n",
       "      <td>5.600000</td>\n",
       "      <td>87.800000</td>\n",
       "    </tr>\n",
       "    <tr>\n",
       "      <th>4</th>\n",
       "      <td>333.0</td>\n",
       "      <td>80.0</td>\n",
       "      <td>3.0</td>\n",
       "      <td>3.0</td>\n",
       "      <td>292.000000</td>\n",
       "      <td>-7.600000</td>\n",
       "      <td>0.075000</td>\n",
       "      <td>22.0</td>\n",
       "      <td>1.000000</td>\n",
       "      <td>26.666667</td>\n",
       "    </tr>\n",
       "  </tbody>\n",
       "</table>\n",
       "</div>"
      ],
      "text/plain": [
       "   recency_days  qt_items  qt_invoice  qt_products  avg_ticket  \\\n",
       "0         372.0    1733.0        34.0        297.0   18.152222   \n",
       "1          56.0    1390.0         9.0        171.0   18.904035   \n",
       "2           2.0    5028.0        15.0        232.0   28.902500   \n",
       "3          95.0     439.0         5.0         28.0   33.866071   \n",
       "4         333.0      80.0         3.0          3.0  292.000000   \n",
       "\n",
       "   avg_recency_days  frequency  qt_returns  avg_unique_basket_size  \\\n",
       "0        -34.500000  34.000000        40.0                8.735294   \n",
       "1        -26.250000   0.028391        35.0               19.000000   \n",
       "2        -22.187500   0.040431        50.0               15.466667   \n",
       "3        -91.666667   0.017986         0.0                5.600000   \n",
       "4         -7.600000   0.075000        22.0                1.000000   \n",
       "\n",
       "   avg_basket_size  \n",
       "0        50.970588  \n",
       "1       154.444444  \n",
       "2       335.200000  \n",
       "3        87.800000  \n",
       "4        26.666667  "
      ]
     },
     "execution_count": 66,
     "metadata": {},
     "output_type": "execute_result"
    }
   ],
   "source": [
    "X.head()"
   ]
  },
  {
   "cell_type": "code",
   "execution_count": 67,
   "id": "1b505746",
   "metadata": {
    "ExecuteTime": {
     "end_time": "2022-03-28T20:48:24.697905Z",
     "start_time": "2022-03-28T20:48:24.596939Z"
    }
   },
   "outputs": [
    {
     "data": {
      "text/plain": [
       "(2968, 100)"
      ]
     },
     "execution_count": 67,
     "metadata": {},
     "output_type": "execute_result"
    }
   ],
   "source": [
    "df_leaf.shape"
   ]
  },
  {
   "cell_type": "markdown",
   "id": "ce6df06b",
   "metadata": {},
   "source": [
    "# 5.0. Data Preparation"
   ]
  },
  {
   "cell_type": "code",
   "execution_count": 68,
   "id": "dbd364df",
   "metadata": {
    "ExecuteTime": {
     "end_time": "2022-03-28T20:48:25.006327Z",
     "start_time": "2022-03-28T20:48:24.699797Z"
    }
   },
   "outputs": [],
   "source": [
    "df5 = df4.copy()\n",
    "\n"
   ]
  },
  {
   "cell_type": "code",
   "execution_count": 69,
   "id": "e9c3cdc3",
   "metadata": {
    "ExecuteTime": {
     "end_time": "2022-03-28T20:48:25.197183Z",
     "start_time": "2022-03-28T20:48:25.011951Z"
    }
   },
   "outputs": [],
   "source": [
    "mms = pp.MinMaxScaler()\n",
    "df5['gross_revenue'] = mms.fit_transform(df5[['gross_revenue']])\n",
    "df5['recency_days'] = mms.fit_transform(df5[['recency_days']])\n",
    "df5['qt_items'] = mms.fit_transform(df5[['qt_items']])\n",
    "df5['qt_invoice'] = mms.fit_transform(df5[['qt_invoice']])\n",
    "df5['qt_products'] = mms.fit_transform(df5[['qt_products']])\n",
    "df5['avg_ticket'] = mms.fit_transform(df5[['avg_ticket']])\n",
    "df5['avg_recency_days'] = mms.fit_transform(df5[['avg_recency_days']])\n",
    "df5['frequency'] = mms.fit_transform(df5[['frequency']])\n",
    "df5['qt_returns'] = mms.fit_transform(df5[['qt_returns']])\n",
    "df5['avg_unique_basket_size'] = mms.fit_transform(df5[['avg_unique_basket_size']])\n",
    "df5['avg_basket_size'] = mms.fit_transform(df5[['avg_basket_size']])"
   ]
  },
  {
   "cell_type": "markdown",
   "id": "d4128a99",
   "metadata": {},
   "source": [
    "# 6.0. Feature Selection"
   ]
  },
  {
   "cell_type": "code",
   "execution_count": 70,
   "id": "8dae2b97",
   "metadata": {
    "ExecuteTime": {
     "end_time": "2022-03-28T20:48:25.357374Z",
     "start_time": "2022-03-28T20:48:25.198722Z"
    }
   },
   "outputs": [],
   "source": [
    "df6 = df5.copy()"
   ]
  },
  {
   "cell_type": "markdown",
   "id": "3a5efa79",
   "metadata": {},
   "source": [
    "# 7.0. Hyperparameter Fine-Tunning"
   ]
  },
  {
   "cell_type": "code",
   "execution_count": 71,
   "id": "c26397a2",
   "metadata": {
    "ExecuteTime": {
     "end_time": "2022-03-28T20:48:25.671520Z",
     "start_time": "2022-03-28T20:48:25.363438Z"
    }
   },
   "outputs": [
    {
     "data": {
      "text/html": [
       "<div>\n",
       "<style scoped>\n",
       "    .dataframe tbody tr th:only-of-type {\n",
       "        vertical-align: middle;\n",
       "    }\n",
       "\n",
       "    .dataframe tbody tr th {\n",
       "        vertical-align: top;\n",
       "    }\n",
       "\n",
       "    .dataframe thead th {\n",
       "        text-align: right;\n",
       "    }\n",
       "</style>\n",
       "<table border=\"1\" class=\"dataframe\">\n",
       "  <thead>\n",
       "    <tr style=\"text-align: right;\">\n",
       "      <th></th>\n",
       "      <th>gross_revenue</th>\n",
       "      <th>recency_days</th>\n",
       "      <th>qt_items</th>\n",
       "      <th>qt_invoice</th>\n",
       "      <th>qt_products</th>\n",
       "      <th>avg_ticket</th>\n",
       "      <th>avg_recency_days</th>\n",
       "      <th>frequency</th>\n",
       "      <th>qt_returns</th>\n",
       "      <th>avg_unique_basket_size</th>\n",
       "      <th>avg_basket_size</th>\n",
       "    </tr>\n",
       "  </thead>\n",
       "  <tbody>\n",
       "    <tr>\n",
       "      <th>0</th>\n",
       "      <td>0.019292</td>\n",
       "      <td>0.997319</td>\n",
       "      <td>0.008799</td>\n",
       "      <td>0.160976</td>\n",
       "      <td>0.037770</td>\n",
       "      <td>0.003595</td>\n",
       "      <td>0.905479</td>\n",
       "      <td>1.000000</td>\n",
       "      <td>0.004438</td>\n",
       "      <td>0.025896</td>\n",
       "      <td>0.008317</td>\n",
       "    </tr>\n",
       "    <tr>\n",
       "      <th>1</th>\n",
       "      <td>0.011559</td>\n",
       "      <td>0.150134</td>\n",
       "      <td>0.007056</td>\n",
       "      <td>0.039024</td>\n",
       "      <td>0.021692</td>\n",
       "      <td>0.003764</td>\n",
       "      <td>0.928082</td>\n",
       "      <td>0.000835</td>\n",
       "      <td>0.003883</td>\n",
       "      <td>0.060260</td>\n",
       "      <td>0.025539</td>\n",
       "    </tr>\n",
       "    <tr>\n",
       "      <th>2</th>\n",
       "      <td>0.024000</td>\n",
       "      <td>0.005362</td>\n",
       "      <td>0.025538</td>\n",
       "      <td>0.068293</td>\n",
       "      <td>0.029476</td>\n",
       "      <td>0.006010</td>\n",
       "      <td>0.939212</td>\n",
       "      <td>0.001189</td>\n",
       "      <td>0.005547</td>\n",
       "      <td>0.048431</td>\n",
       "      <td>0.055623</td>\n",
       "    </tr>\n",
       "    <tr>\n",
       "      <th>3</th>\n",
       "      <td>0.003375</td>\n",
       "      <td>0.254692</td>\n",
       "      <td>0.002225</td>\n",
       "      <td>0.019512</td>\n",
       "      <td>0.003445</td>\n",
       "      <td>0.007125</td>\n",
       "      <td>0.748858</td>\n",
       "      <td>0.000529</td>\n",
       "      <td>0.000000</td>\n",
       "      <td>0.015400</td>\n",
       "      <td>0.014447</td>\n",
       "    </tr>\n",
       "    <tr>\n",
       "      <th>4</th>\n",
       "      <td>0.003116</td>\n",
       "      <td>0.892761</td>\n",
       "      <td>0.000401</td>\n",
       "      <td>0.009756</td>\n",
       "      <td>0.000255</td>\n",
       "      <td>0.065116</td>\n",
       "      <td>0.979178</td>\n",
       "      <td>0.002206</td>\n",
       "      <td>0.002441</td>\n",
       "      <td>0.000000</td>\n",
       "      <td>0.004272</td>\n",
       "    </tr>\n",
       "  </tbody>\n",
       "</table>\n",
       "</div>"
      ],
      "text/plain": [
       "   gross_revenue  recency_days  qt_items  qt_invoice  qt_products  avg_ticket  \\\n",
       "0       0.019292      0.997319  0.008799    0.160976     0.037770    0.003595   \n",
       "1       0.011559      0.150134  0.007056    0.039024     0.021692    0.003764   \n",
       "2       0.024000      0.005362  0.025538    0.068293     0.029476    0.006010   \n",
       "3       0.003375      0.254692  0.002225    0.019512     0.003445    0.007125   \n",
       "4       0.003116      0.892761  0.000401    0.009756     0.000255    0.065116   \n",
       "\n",
       "   avg_recency_days  frequency  qt_returns  avg_unique_basket_size  \\\n",
       "0          0.905479   1.000000    0.004438                0.025896   \n",
       "1          0.928082   0.000835    0.003883                0.060260   \n",
       "2          0.939212   0.001189    0.005547                0.048431   \n",
       "3          0.748858   0.000529    0.000000                0.015400   \n",
       "4          0.979178   0.002206    0.002441                0.000000   \n",
       "\n",
       "   avg_basket_size  \n",
       "0         0.008317  \n",
       "1         0.025539  \n",
       "2         0.055623  \n",
       "3         0.014447  \n",
       "4         0.004272  "
      ]
     },
     "execution_count": 71,
     "metadata": {},
     "output_type": "execute_result"
    }
   ],
   "source": [
    "X = df6.copy().drop('customer_id', axis=1)\n",
    "clusters = [2,3,4,5,6, 7]\n",
    "\n",
    "X.head()"
   ]
  },
  {
   "cell_type": "markdown",
   "id": "df71ea90",
   "metadata": {},
   "source": [
    "## 7.1. KMeans\n"
   ]
  },
  {
   "cell_type": "code",
   "execution_count": 72,
   "id": "0153de25",
   "metadata": {
    "ExecuteTime": {
     "end_time": "2022-03-28T20:48:37.218545Z",
     "start_time": "2022-03-28T20:48:25.673829Z"
    }
   },
   "outputs": [],
   "source": [
    "kmeans_list = []\n",
    "for k in clusters:\n",
    "\n",
    "    #model definition\n",
    "    kmeans_model = c.KMeans(n_clusters=k, random_state=42)\n",
    "\n",
    "    #model training\n",
    "    kmeans_model.fit(X)\n",
    "\n",
    "    #model predict\n",
    "    labels = kmeans_model.predict(X)\n",
    "\n",
    "    #model performance\n",
    "    sil = m.silhouette_score(X, labels, metric='euclidean')\n",
    "    kmeans_list.append(sil)"
   ]
  },
  {
   "cell_type": "code",
   "execution_count": 73,
   "id": "47d0ac14",
   "metadata": {
    "ExecuteTime": {
     "end_time": "2022-03-28T20:48:37.336412Z",
     "start_time": "2022-03-28T20:48:37.221383Z"
    }
   },
   "outputs": [
    {
     "data": {
      "image/png": "[encoded data removed]",
      "text/plain": [
       "<Figure size 864x216 with 1 Axes>"
      ]
     },
     "metadata": {
      "needs_background": "light"
     },
     "output_type": "display_data"
    }
   ],
   "source": [
    "plt.figure(figsize=(12,3));\n",
    "plt.plot(clusters, kmeans_list, linestyle='--', marker='o', color='b');\n",
    "plt.xlabel('Cluster');\n",
    "plt.xlabel('Silhouette Score');\n",
    "plt.title('Silhouette Score x Cluster');\n",
    "\n"
   ]
  },
  {
   "cell_type": "code",
   "execution_count": 74,
   "id": "9a621c50",
   "metadata": {
    "ExecuteTime": {
     "end_time": "2022-03-28T20:48:37.396742Z",
     "start_time": "2022-03-28T20:48:37.338121Z"
    }
   },
   "outputs": [
    {
     "data": {
      "text/html": [
       "<div>\n",
       "<style scoped>\n",
       "    .dataframe tbody tr th:only-of-type {\n",
       "        vertical-align: middle;\n",
       "    }\n",
       "\n",
       "    .dataframe tbody tr th {\n",
       "        vertical-align: top;\n",
       "    }\n",
       "\n",
       "    .dataframe thead th {\n",
       "        text-align: right;\n",
       "    }\n",
       "</style>\n",
       "<table border=\"1\" class=\"dataframe\">\n",
       "  <thead>\n",
       "    <tr style=\"text-align: right;\">\n",
       "      <th></th>\n",
       "      <th>gross_revenue</th>\n",
       "      <th>recency_days</th>\n",
       "      <th>qt_items</th>\n",
       "      <th>qt_invoice</th>\n",
       "      <th>qt_products</th>\n",
       "      <th>avg_ticket</th>\n",
       "      <th>avg_recency_days</th>\n",
       "      <th>frequency</th>\n",
       "      <th>qt_returns</th>\n",
       "      <th>avg_unique_basket_size</th>\n",
       "      <th>avg_basket_size</th>\n",
       "    </tr>\n",
       "  </thead>\n",
       "  <tbody>\n",
       "    <tr>\n",
       "      <th>0</th>\n",
       "      <td>0.019292</td>\n",
       "      <td>0.997319</td>\n",
       "      <td>0.008799</td>\n",
       "      <td>0.160976</td>\n",
       "      <td>0.037770</td>\n",
       "      <td>0.003595</td>\n",
       "      <td>0.905479</td>\n",
       "      <td>1.000000</td>\n",
       "      <td>0.004438</td>\n",
       "      <td>0.025896</td>\n",
       "      <td>0.008317</td>\n",
       "    </tr>\n",
       "    <tr>\n",
       "      <th>1</th>\n",
       "      <td>0.011559</td>\n",
       "      <td>0.150134</td>\n",
       "      <td>0.007056</td>\n",
       "      <td>0.039024</td>\n",
       "      <td>0.021692</td>\n",
       "      <td>0.003764</td>\n",
       "      <td>0.928082</td>\n",
       "      <td>0.000835</td>\n",
       "      <td>0.003883</td>\n",
       "      <td>0.060260</td>\n",
       "      <td>0.025539</td>\n",
       "    </tr>\n",
       "    <tr>\n",
       "      <th>2</th>\n",
       "      <td>0.024000</td>\n",
       "      <td>0.005362</td>\n",
       "      <td>0.025538</td>\n",
       "      <td>0.068293</td>\n",
       "      <td>0.029476</td>\n",
       "      <td>0.006010</td>\n",
       "      <td>0.939212</td>\n",
       "      <td>0.001189</td>\n",
       "      <td>0.005547</td>\n",
       "      <td>0.048431</td>\n",
       "      <td>0.055623</td>\n",
       "    </tr>\n",
       "    <tr>\n",
       "      <th>3</th>\n",
       "      <td>0.003375</td>\n",
       "      <td>0.254692</td>\n",
       "      <td>0.002225</td>\n",
       "      <td>0.019512</td>\n",
       "      <td>0.003445</td>\n",
       "      <td>0.007125</td>\n",
       "      <td>0.748858</td>\n",
       "      <td>0.000529</td>\n",
       "      <td>0.000000</td>\n",
       "      <td>0.015400</td>\n",
       "      <td>0.014447</td>\n",
       "    </tr>\n",
       "    <tr>\n",
       "      <th>4</th>\n",
       "      <td>0.003116</td>\n",
       "      <td>0.892761</td>\n",
       "      <td>0.000401</td>\n",
       "      <td>0.009756</td>\n",
       "      <td>0.000255</td>\n",
       "      <td>0.065116</td>\n",
       "      <td>0.979178</td>\n",
       "      <td>0.002206</td>\n",
       "      <td>0.002441</td>\n",
       "      <td>0.000000</td>\n",
       "      <td>0.004272</td>\n",
       "    </tr>\n",
       "  </tbody>\n",
       "</table>\n",
       "</div>"
      ],
      "text/plain": [
       "   gross_revenue  recency_days  qt_items  qt_invoice  qt_products  avg_ticket  \\\n",
       "0       0.019292      0.997319  0.008799    0.160976     0.037770    0.003595   \n",
       "1       0.011559      0.150134  0.007056    0.039024     0.021692    0.003764   \n",
       "2       0.024000      0.005362  0.025538    0.068293     0.029476    0.006010   \n",
       "3       0.003375      0.254692  0.002225    0.019512     0.003445    0.007125   \n",
       "4       0.003116      0.892761  0.000401    0.009756     0.000255    0.065116   \n",
       "\n",
       "   avg_recency_days  frequency  qt_returns  avg_unique_basket_size  \\\n",
       "0          0.905479   1.000000    0.004438                0.025896   \n",
       "1          0.928082   0.000835    0.003883                0.060260   \n",
       "2          0.939212   0.001189    0.005547                0.048431   \n",
       "3          0.748858   0.000529    0.000000                0.015400   \n",
       "4          0.979178   0.002206    0.002441                0.000000   \n",
       "\n",
       "   avg_basket_size  \n",
       "0         0.008317  \n",
       "1         0.025539  \n",
       "2         0.055623  \n",
       "3         0.014447  \n",
       "4         0.004272  "
      ]
     },
     "execution_count": 74,
     "metadata": {},
     "output_type": "execute_result"
    }
   ],
   "source": [
    "X.head()"
   ]
  },
  {
   "cell_type": "markdown",
   "id": "ef8faf9f",
   "metadata": {},
   "source": [
    "## 7.2. GMM"
   ]
  },
  {
   "cell_type": "code",
   "execution_count": 75,
   "id": "baa2ff45",
   "metadata": {
    "ExecuteTime": {
     "end_time": "2022-03-28T20:48:42.584804Z",
     "start_time": "2022-03-28T20:48:37.398742Z"
    }
   },
   "outputs": [],
   "source": [
    "gmm_list=[]\n",
    "\n",
    "for k in clusters:\n",
    "    #model definition\n",
    "    gmm_model = mx.GaussianMixture(n_components=k)\n",
    "\n",
    "    #model training\n",
    "    gmm_model.fit(X)\n",
    "\n",
    "    #model predict\n",
    "    labels = gmm_model.predict(X)\n",
    "\n",
    "    #model performance\n",
    "    sil = m.silhouette_score(X, labels, metric='euclidean')\n",
    "    gmm_list.append(sil)"
   ]
  },
  {
   "cell_type": "code",
   "execution_count": 76,
   "id": "5149f5b8",
   "metadata": {
    "ExecuteTime": {
     "end_time": "2022-03-28T20:48:42.711414Z",
     "start_time": "2022-03-28T20:48:42.586552Z"
    }
   },
   "outputs": [
    {
     "data": {
      "image/png": "[encoded data removed]",
      "text/plain": [
       "<Figure size 864x216 with 1 Axes>"
      ]
     },
     "metadata": {
      "needs_background": "light"
     },
     "output_type": "display_data"
    }
   ],
   "source": [
    "plt.figure(figsize=(12,3));\n",
    "plt.plot(clusters, gmm_list, linestyle='--', marker='o', color='b');\n",
    "plt.xlabel('Cluster');\n",
    "plt.xlabel('Silhouette Score');\n",
    "plt.title('Silhouette Score x Cluster');"
   ]
  },
  {
   "cell_type": "markdown",
   "id": "9ebc3277",
   "metadata": {},
   "source": [
    "## 7.3. H-Clustering"
   ]
  },
  {
   "cell_type": "code",
   "execution_count": 77,
   "id": "6357b5c8",
   "metadata": {
    "ExecuteTime": {
     "end_time": "2022-03-28T20:50:22.291097Z",
     "start_time": "2022-03-28T20:50:19.328767Z"
    }
   },
   "outputs": [],
   "source": [
    "hc_list = []\n",
    "\n",
    "for k in clusters:\n",
    "    #model definition & training\n",
    "    hc_model = hc.linkage(X, 'ward')\n",
    "\n",
    "\n",
    "    #model predict\n",
    "    labels = hc.fcluster(hc_model,k, criterion='maxclust')\n",
    "\n",
    "    #model performance\n",
    "    sil = m.silhouette_score(X, labels, metric='euclidean')\n",
    "    hc_list.append(sil)"
   ]
  },
  {
   "cell_type": "code",
   "execution_count": 78,
   "id": "437e3be0",
   "metadata": {
    "ExecuteTime": {
     "end_time": "2022-03-28T20:51:03.334060Z",
     "start_time": "2022-03-28T20:50:22.293771Z"
    }
   },
   "outputs": [
    {
     "data": {
      "image/png": "[encoded data removed]",
      "text/plain": [
       "<Figure size 432x288 with 1 Axes>"
      ]
     },
     "metadata": {
      "needs_background": "light"
     },
     "output_type": "display_data"
    },
    {
     "data": {
      "text/plain": [
       "<Figure size 1440x864 with 0 Axes>"
      ]
     },
     "metadata": {},
     "output_type": "display_data"
    }
   ],
   "source": [
    "hc.dendrogram(hc_model, leaf_rotation=90, leaf_font_size=8)\n",
    "plt.figure(figsize=(20,12))\n",
    "plt.show()"
   ]
  },
  {
   "cell_type": "markdown",
   "id": "1304ef5d",
   "metadata": {},
   "source": [
    "## 7.4. DBSCAN"
   ]
  },
  {
   "cell_type": "code",
   "execution_count": 126,
   "id": "04b73ee8",
   "metadata": {
    "ExecuteTime": {
     "end_time": "2022-03-28T21:01:24.670348Z",
     "start_time": "2022-03-28T21:01:24.244757Z"
    }
   },
   "outputs": [
    {
     "name": "stdout",
     "output_type": "stream",
     "text": [
      "Silhouette Score: 0.422841521598758\n",
      "Number of Clusters: 2\n",
      "[-1  0]\n"
     ]
    }
   ],
   "source": [
    "eps = 0.1\n",
    "min_samples = 20\n",
    "\n",
    "#model definition\n",
    "dbscan_model = c.DBSCAN(min_samples=min_samples, eps = eps)\n",
    "\n",
    "#model training & predict\n",
    "labels = dbscan_model.fit_predict(X)\n",
    "\n",
    "#model performance\n",
    "sil = m.silhouette_score(X, labels, metric='euclidean')\n",
    "print( 'Silhouette Score: {}'.format( sil ) )\n",
    "print( 'Number of Clusters: {}'.format( len( np.unique( labels.tolist() ) ) ) )\n",
    "print( np.unique( labels.tolist() ) )"
   ]
  },
  {
   "cell_type": "code",
   "execution_count": 134,
   "id": "2985a22e",
   "metadata": {
    "ExecuteTime": {
     "end_time": "2022-03-28T21:04:18.486403Z",
     "start_time": "2022-03-28T21:04:18.483702Z"
    }
   },
   "outputs": [],
   "source": [
    "from sklearn.neighbors import NearestNeighbors "
   ]
  },
  {
   "cell_type": "code",
   "execution_count": 142,
   "id": "b4e941ba",
   "metadata": {
    "ExecuteTime": {
     "end_time": "2022-03-28T21:05:07.992100Z",
     "start_time": "2022-03-28T21:05:07.887264Z"
    }
   },
   "outputs": [],
   "source": [
    "neighbors = NearestNeighbors( n_neighbors=min_samples ).fit( X )\n",
    "distances, indices = neighbors.kneighbors( X )"
   ]
  },
  {
   "cell_type": "code",
   "execution_count": 143,
   "id": "612b2161",
   "metadata": {
    "ExecuteTime": {
     "end_time": "2022-03-28T21:05:08.310532Z",
     "start_time": "2022-03-28T21:05:08.041304Z"
    },
    "cell_style": "split"
   },
   "outputs": [
    {
     "data": {
      "image/png": "[encoded data removed]",
      "text/plain": [
       "<Figure size 432x288 with 1 Axes>"
      ]
     },
     "metadata": {
      "needs_background": "light"
     },
     "output_type": "display_data"
    }
   ],
   "source": [
    "distances = np.sort( distances, axis=0 )\n",
    "distances = distances[:,1]\n",
    "plt.plot( distances );"
   ]
  },
  {
   "cell_type": "code",
   "execution_count": 144,
   "id": "9dfceddd",
   "metadata": {
    "ExecuteTime": {
     "end_time": "2022-03-28T21:05:08.493125Z",
     "start_time": "2022-03-28T21:05:08.312475Z"
    },
    "cell_style": "split"
   },
   "outputs": [
    {
     "data": {
      "image/png": "[encoded data removed]",
      "text/plain": [
       "<Figure size 432x288 with 1 Axes>"
      ]
     },
     "metadata": {
      "needs_background": "light"
     },
     "output_type": "display_data"
    }
   ],
   "source": [
    "plt.plot( distances[2000:] );"
   ]
  },
  {
   "cell_type": "code",
   "execution_count": 145,
   "id": "9e60dfa6",
   "metadata": {
    "ExecuteTime": {
     "end_time": "2022-03-28T21:05:08.497592Z",
     "start_time": "2022-03-28T21:05:08.494794Z"
    }
   },
   "outputs": [],
   "source": [
    "dbscan_list = [ 0.622034, 0.000000, 0.000000, 0.000000, 0.000000, 0.000000]"
   ]
  },
  {
   "cell_type": "markdown",
   "id": "28b60e67",
   "metadata": {},
   "source": [
    "## 7.5. Results"
   ]
  },
  {
   "cell_type": "code",
   "execution_count": 148,
   "id": "23ff4459",
   "metadata": {
    "ExecuteTime": {
     "end_time": "2022-03-28T21:05:23.935221Z",
     "start_time": "2022-03-28T21:05:23.929728Z"
    }
   },
   "outputs": [],
   "source": [
    "df_results = pd.DataFrame({'KMeans': kmeans_list, 'GMM': gmm_list, 'HC': hc_list, 'DBSCAN': dbscan_list}).T\n",
    "df_results.columns = clusters\n",
    "df_results = df_results.style.highlight_max(color='lightgreen', axis=1)"
   ]
  },
  {
   "cell_type": "code",
   "execution_count": 149,
   "id": "2c7416c9",
   "metadata": {
    "ExecuteTime": {
     "end_time": "2022-03-28T21:05:29.518498Z",
     "start_time": "2022-03-28T21:05:29.506760Z"
    }
   },
   "outputs": [
    {
     "data": {
      "text/html": [
       "<style type=\"text/css\">\n",
       "#T_0dce1_row0_col1, #T_0dce1_row1_col0, #T_0dce1_row2_col0, #T_0dce1_row3_col0 {\n",
       "  background-color: lightgreen;\n",
       "}\n",
       "</style>\n",
       "<table id=\"T_0dce1\">\n",
       "  <thead>\n",
       "    <tr>\n",
       "      <th class=\"blank level0\" >&nbsp;</th>\n",
       "      <th id=\"T_0dce1_level0_col0\" class=\"col_heading level0 col0\" >2</th>\n",
       "      <th id=\"T_0dce1_level0_col1\" class=\"col_heading level0 col1\" >3</th>\n",
       "      <th id=\"T_0dce1_level0_col2\" class=\"col_heading level0 col2\" >4</th>\n",
       "      <th id=\"T_0dce1_level0_col3\" class=\"col_heading level0 col3\" >5</th>\n",
       "      <th id=\"T_0dce1_level0_col4\" class=\"col_heading level0 col4\" >6</th>\n",
       "      <th id=\"T_0dce1_level0_col5\" class=\"col_heading level0 col5\" >7</th>\n",
       "    </tr>\n",
       "  </thead>\n",
       "  <tbody>\n",
       "    <tr>\n",
       "      <th id=\"T_0dce1_level0_row0\" class=\"row_heading level0 row0\" >KMeans</th>\n",
       "      <td id=\"T_0dce1_row0_col0\" class=\"data row0 col0\" >0.505173</td>\n",
       "      <td id=\"T_0dce1_row0_col1\" class=\"data row0 col1\" >0.516303</td>\n",
       "      <td id=\"T_0dce1_row0_col2\" class=\"data row0 col2\" >0.386491</td>\n",
       "      <td id=\"T_0dce1_row0_col3\" class=\"data row0 col3\" >0.352170</td>\n",
       "      <td id=\"T_0dce1_row0_col4\" class=\"data row0 col4\" >0.368404</td>\n",
       "      <td id=\"T_0dce1_row0_col5\" class=\"data row0 col5\" >0.333852</td>\n",
       "    </tr>\n",
       "    <tr>\n",
       "      <th id=\"T_0dce1_level0_row1\" class=\"row_heading level0 row1\" >GMM</th>\n",
       "      <td id=\"T_0dce1_row1_col0\" class=\"data row1 col0\" >0.026776</td>\n",
       "      <td id=\"T_0dce1_row1_col1\" class=\"data row1 col1\" >-0.000457</td>\n",
       "      <td id=\"T_0dce1_row1_col2\" class=\"data row1 col2\" >-0.025428</td>\n",
       "      <td id=\"T_0dce1_row1_col3\" class=\"data row1 col3\" >-0.093088</td>\n",
       "      <td id=\"T_0dce1_row1_col4\" class=\"data row1 col4\" >-0.128514</td>\n",
       "      <td id=\"T_0dce1_row1_col5\" class=\"data row1 col5\" >-0.126117</td>\n",
       "    </tr>\n",
       "    <tr>\n",
       "      <th id=\"T_0dce1_level0_row2\" class=\"row_heading level0 row2\" >HC</th>\n",
       "      <td id=\"T_0dce1_row2_col0\" class=\"data row2 col0\" >0.472242</td>\n",
       "      <td id=\"T_0dce1_row2_col1\" class=\"data row2 col1\" >0.419695</td>\n",
       "      <td id=\"T_0dce1_row2_col2\" class=\"data row2 col2\" >0.372649</td>\n",
       "      <td id=\"T_0dce1_row2_col3\" class=\"data row2 col3\" >0.368814</td>\n",
       "      <td id=\"T_0dce1_row2_col4\" class=\"data row2 col4\" >0.379912</td>\n",
       "      <td id=\"T_0dce1_row2_col5\" class=\"data row2 col5\" >0.246719</td>\n",
       "    </tr>\n",
       "    <tr>\n",
       "      <th id=\"T_0dce1_level0_row3\" class=\"row_heading level0 row3\" >DBSCAN</th>\n",
       "      <td id=\"T_0dce1_row3_col0\" class=\"data row3 col0\" >0.622034</td>\n",
       "      <td id=\"T_0dce1_row3_col1\" class=\"data row3 col1\" >0.000000</td>\n",
       "      <td id=\"T_0dce1_row3_col2\" class=\"data row3 col2\" >0.000000</td>\n",
       "      <td id=\"T_0dce1_row3_col3\" class=\"data row3 col3\" >0.000000</td>\n",
       "      <td id=\"T_0dce1_row3_col4\" class=\"data row3 col4\" >0.000000</td>\n",
       "      <td id=\"T_0dce1_row3_col5\" class=\"data row3 col5\" >0.000000</td>\n",
       "    </tr>\n",
       "  </tbody>\n",
       "</table>\n"
      ],
      "text/plain": [
       "<pandas.io.formats.style.Styler at 0x7fbe93597280>"
      ]
     },
     "execution_count": 149,
     "metadata": {},
     "output_type": "execute_result"
    }
   ],
   "source": [
    "df_results"
   ]
  },
  {
   "cell_type": "markdown",
   "id": "159550f0",
   "metadata": {},
   "source": [
    "## 7.6. Silhouette Analysis"
   ]
  },
  {
   "cell_type": "code",
   "execution_count": 157,
   "id": "3a6354a8",
   "metadata": {
    "ExecuteTime": {
     "end_time": "2022-03-28T21:50:23.862522Z",
     "start_time": "2022-03-28T21:50:19.054323Z"
    }
   },
   "outputs": [
    {
     "name": "stdout",
     "output_type": "stream",
     "text": [
      " For K = 2. Silhouette Score: 0.4722422478061538\n",
      " For K = 3. Silhouette Score: 0.4196949681064324\n",
      " For K = 4. Silhouette Score: 0.37264877496280635\n",
      " For K = 5. Silhouette Score: 0.36881367752902916\n",
      " For K = 6. Silhouette Score: 0.37991246461137984\n",
      " For K = 7. Silhouette Score: 0.24671945409992072\n"
     ]
    },
    {
     "data": {
      "image/png": "[encoded data removed]",
      "text/plain": [
       "<Figure size 1800x1440 with 6 Axes>"
      ]
     },
     "metadata": {
      "needs_background": "light"
     },
     "output_type": "display_data"
    }
   ],
   "source": [
    "fig, ax = plt.subplots( 3, 2 )\n",
    "fig.set_size_inches( 25, 20 )\n",
    "\n",
    "for k in clusters:\n",
    "    q, mod = divmod( k, 2 )\n",
    "    \n",
    "    ax[q-1, mod].set_xlim( [ -0.1, 1] )\n",
    "    ax[q-1, mod].set_ylim( [ 0, len( X ) + ( k+1 )*10] )\n",
    "    \n",
    "    # model definition & training\n",
    "    hc_model = hc.linkage( X, 'ward' )\n",
    "\n",
    "    # model predict\n",
    "    labels = hc.fcluster( hc_model, k, criterion='maxclust' )\n",
    "\n",
    "    # performance\n",
    "    ss = m.silhouette_score( X, labels, metric='euclidean' )\n",
    "    print( ' For K = {}. Silhouette Score: {}'.format( k, ss ) )\n",
    "\n",
    "    samples_silhouette_values = m.silhouette_samples( X, labels )\n",
    "\n",
    "    y_lower = 10\n",
    "    for i in range( k ):\n",
    "\n",
    "        # select clusters\n",
    "        ith_samples_silhouette_values = samples_silhouette_values[ labels == i]\n",
    "        \n",
    "        # sort values\n",
    "        ith_samples_silhouette_values.sort()\n",
    "\n",
    "        # size clusters\n",
    "        size_cluster_i = ith_samples_silhouette_values.shape[0]\n",
    "        y_upper = y_lower + size_cluster_i\n",
    "        \n",
    "#         cmap = cm.get_cmap( 'Spectral' )\n",
    "#         color = cmap( i / k )\n",
    "\n",
    "        ax[q-1, mod].fill_betweenx( np.arange( y_lower, y_upper ), 0, ith_samples_silhouette_values  )\n",
    "        \n",
    "        y_lower = y_upper + 10\n",
    "        \n",
    "    ax[q-1, mod].set_yticks([])\n",
    "    ax[q-1, mod].set_xticks( [-0.1, 0, 0.2, 0.4, 0.6, 0.8, 1])"
   ]
  },
  {
   "cell_type": "code",
   "execution_count": 156,
   "id": "e4e4c538",
   "metadata": {
    "ExecuteTime": {
     "end_time": "2022-03-28T21:50:07.242320Z",
     "start_time": "2022-03-28T21:50:07.237354Z"
    }
   },
   "outputs": [],
   "source": [
    "matplotlib.cm?"
   ]
  },
  {
   "cell_type": "code",
   "execution_count": null,
   "id": "e6b8a3cd",
   "metadata": {},
   "outputs": [],
   "source": []
  },
  {
   "cell_type": "markdown",
   "id": "36822b3f",
   "metadata": {},
   "source": [
    "# 8.0. Model Training"
   ]
  },
  {
   "cell_type": "markdown",
   "id": "9ab33cc5",
   "metadata": {},
   "source": [
    "## 8.1. KMeans"
   ]
  },
  {
   "cell_type": "code",
   "execution_count": null,
   "id": "bc448174",
   "metadata": {
    "ExecuteTime": {
     "end_time": "2022-03-27T19:15:27.544570Z",
     "start_time": "2022-03-27T19:15:27.544540Z"
    }
   },
   "outputs": [],
   "source": [
    "#model definition\n",
    "k = 3\n",
    "kmeans = c.KMeans(init='random', n_clusters=k, n_init=10, max_iter=300, random_state=3)\n",
    "\n",
    "#model training\n",
    "kmeans.fit(X)\n",
    "\n",
    "#clustering\n",
    "labels = kmeans.labels_"
   ]
  },
  {
   "cell_type": "markdown",
   "id": "499c010e",
   "metadata": {},
   "source": [
    "# 9.0. Cluster Analisys"
   ]
  },
  {
   "cell_type": "code",
   "execution_count": null,
   "id": "d1bad2df",
   "metadata": {
    "ExecuteTime": {
     "end_time": "2022-03-27T19:15:27.546775Z",
     "start_time": "2022-03-27T19:15:27.546746Z"
    }
   },
   "outputs": [],
   "source": [
    "df9 = df6.copy()\n",
    "df9['cluster'] = labels\n"
   ]
  },
  {
   "cell_type": "markdown",
   "id": "76d9bb0a",
   "metadata": {},
   "source": [
    "## 9.1. Visualization Inspection"
   ]
  },
  {
   "cell_type": "code",
   "execution_count": null,
   "id": "20b4bc71",
   "metadata": {
    "ExecuteTime": {
     "end_time": "2022-03-27T19:15:27.548784Z",
     "start_time": "2022-03-27T19:15:27.548757Z"
    }
   },
   "outputs": [],
   "source": [
    "\n",
    "\n",
    "visualizer = SilhouetteVisualizer(kmeans, colors='yellowbrick')\n",
    "visualizer.fit(X)\n",
    "visualizer.finalize()"
   ]
  },
  {
   "cell_type": "markdown",
   "id": "77b74bed",
   "metadata": {},
   "source": [
    "## 9.2. 2d Plot"
   ]
  },
  {
   "cell_type": "code",
   "execution_count": null,
   "id": "7d04f123",
   "metadata": {
    "ExecuteTime": {
     "end_time": "2022-03-27T19:15:27.551105Z",
     "start_time": "2022-03-27T19:15:27.551076Z"
    }
   },
   "outputs": [],
   "source": [
    "# df_vis = df9.drop('customer_id', axis=1)\n",
    "# sns.pairplot(df_vis, hue='cluster')\n",
    "\n"
   ]
  },
  {
   "cell_type": "markdown",
   "id": "e19b1e0b",
   "metadata": {},
   "source": [
    "## 9.3. UMAP t-SNE"
   ]
  },
  {
   "cell_type": "code",
   "execution_count": null,
   "id": "c049fe92",
   "metadata": {
    "ExecuteTime": {
     "end_time": "2022-03-27T19:15:27.553431Z",
     "start_time": "2022-03-27T19:15:27.553403Z"
    }
   },
   "outputs": [],
   "source": [
    "reducer = umap.UMAP(n_neighbors=30, random_state=3)\n",
    "embedding = reducer.fit_transform(X)\n",
    "\n",
    "df_vis['embedding_x'] = embedding[:,0]\n",
    "df_vis['embedding_y'] = embedding[:,1]\n",
    "sns.scatterplot(x='embedding_x', y='embedding_y', hue='cluster',\n",
    "              palette = sns.color_palette('hls', n_colors = len(df_vis['cluster'].unique())),\n",
    "               data = df_vis)"
   ]
  },
  {
   "cell_type": "markdown",
   "id": "907c7acd",
   "metadata": {},
   "source": [
    "## 9.1. Visualization Inspection"
   ]
  },
  {
   "cell_type": "code",
   "execution_count": null,
   "id": "1d3714f7",
   "metadata": {
    "ExecuteTime": {
     "end_time": "2022-03-27T19:15:27.555453Z",
     "start_time": "2022-03-27T19:15:27.555425Z"
    }
   },
   "outputs": [],
   "source": [
    "#WSS\n",
    "print('WSS: {}'.format(kmeans.inertia_))\n",
    "\n",
    "#SS\n",
    "print('SS: {}'.format(m.silhouette_score(X,labels, metric='euclidean')))"
   ]
  },
  {
   "cell_type": "code",
   "execution_count": null,
   "id": "4be05559",
   "metadata": {
    "ExecuteTime": {
     "end_time": "2022-03-27T19:15:27.557924Z",
     "start_time": "2022-03-27T19:15:27.557895Z"
    }
   },
   "outputs": [],
   "source": [
    "px.scatter_3d(df9, x='recency_days', y='invoice_no', z='gross_revenue', color='cluster')"
   ]
  },
  {
   "cell_type": "markdown",
   "id": "7cbbc97e",
   "metadata": {},
   "source": [
    "## 9.2. Cluster Profile"
   ]
  },
  {
   "cell_type": "code",
   "execution_count": null,
   "id": "9a08de16",
   "metadata": {
    "ExecuteTime": {
     "end_time": "2022-03-27T19:15:27.560176Z",
     "start_time": "2022-03-27T19:15:27.560150Z"
    }
   },
   "outputs": [],
   "source": [
    "aux1 = df9.groupby('cluster').mean().reset_index()\n",
    "\n",
    "aux1 = aux1.drop('customer_id', axis=1)\n",
    "aux2 = df9[['customer_id', 'cluster']].groupby('cluster').count().reset_index()\n",
    "\n",
    "df_cluster = pd.merge(aux1, aux2, on='cluster', how='left')\n"
   ]
  },
  {
   "cell_type": "code",
   "execution_count": null,
   "id": "a5708e52",
   "metadata": {
    "ExecuteTime": {
     "end_time": "2022-03-27T19:15:27.562259Z",
     "start_time": "2022-03-27T19:15:27.562234Z"
    }
   },
   "outputs": [],
   "source": [
    "df_cluster['perc'] = 100*df_cluster['customer_id']/df_cluster['customer_id'].sum()\n",
    "\n",
    "df_cluster"
   ]
  },
  {
   "cell_type": "markdown",
   "id": "6adcddbc",
   "metadata": {
    "ExecuteTime": {
     "end_time": "2022-03-23T17:54:06.985193Z",
     "start_time": "2022-03-23T17:54:06.939649Z"
    }
   },
   "source": [
    "## Cluster 0 (insiders)\n",
    "\n",
    "* Número de clientes: 6\n",
    "* Percentual de clientes: 0,01%\n",
    "* Faturamento médio: $182182\n",
    "* Recência: 7 dias\n",
    "* Frequência: 89 compras\n",
    "\n",
    "## Cluster 1 (Hibernating)\n",
    "\n",
    "* Número de clientes: 4335\n",
    "* Percentual de clientes: 99%\n",
    "* Faturamento: $1372\n",
    "* Recência: 92 dias\n",
    "* Frequência: 4 compras\n",
    "\n",
    "## Cluster 2 (potenciais clientes fieis)\n",
    "\n",
    "* Número de clientes: 31\n",
    "* Percentual de clientes: 0,07%\n",
    "* Faturamento: $40543\n",
    "* Recência: 13 dias\n",
    "* Frequência: 53 compras\n",
    "\n",
    "\n"
   ]
  },
  {
   "cell_type": "markdown",
   "id": "4ddafac4",
   "metadata": {},
   "source": [
    "# 10.0. Deploy to Production"
   ]
  },
  {
   "cell_type": "code",
   "execution_count": null,
   "id": "21a3d62c",
   "metadata": {},
   "outputs": [],
   "source": []
  }
 ],
 "metadata": {
  "kernelspec": {
   "display_name": "Python 3 (ipykernel)",
   "language": "python",
   "name": "python3"
  },
  "language_info": {
   "codemirror_mode": {
    "name": "ipython",
    "version": 3
   },
   "file_extension": ".py",
   "mimetype": "text/x-python",
   "name": "python",
   "nbconvert_exporter": "python",
   "pygments_lexer": "ipython3",
   "version": "3.8.10"
  }
 },
 "nbformat": 4,
 "nbformat_minor": 5
}
