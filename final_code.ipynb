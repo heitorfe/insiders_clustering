{
 "cells": [
  {
   "cell_type": "markdown",
   "id": "debfd19c",
   "metadata": {},
   "source": [
    "# PA005: High Value Customer Identification (Insiders)"
   ]
  },
  {
   "cell_type": "markdown",
   "id": "9489f164",
   "metadata": {},
   "source": [
    "# 0.0. Imports"
   ]
  },
  {
   "cell_type": "code",
   "execution_count": 1,
   "id": "bfab7447",
   "metadata": {
    "ExecuteTime": {
     "end_time": "2022-04-04T08:32:36.944283Z",
     "start_time": "2022-04-04T08:32:26.127095Z"
    }
   },
   "outputs": [],
   "source": [
    "from matplotlib          import pyplot        as plt\n",
    "from sklearn             import cluster       as c\n",
    "from sklearn             import metrics       as m\n",
    "from sklearn             import preprocessing as pp\n",
    "from sklearn             import decomposition as dd\n",
    "from sqlalchemy          import create_engine\n",
    "import sqlite3\n",
    "\n",
    "import pandas as pd\n",
    "import numpy as np\n",
    "\n",
    "import re\n",
    "\n"
   ]
  },
  {
   "cell_type": "markdown",
   "id": "944d041a",
   "metadata": {},
   "source": [
    "## 0.2. Helper Functions"
   ]
  },
  {
   "cell_type": "code",
   "execution_count": 142,
   "id": "3fd76676",
   "metadata": {
    "ExecuteTime": {
     "end_time": "2022-04-04T09:11:21.188990Z",
     "start_time": "2022-04-04T09:11:21.160771Z"
    }
   },
   "outputs": [
    {
     "name": "stdout",
     "output_type": "stream",
     "text": [
      "%pylab is deprecated, use %matplotlib inline and import the required libraries.\n",
      "Populating the interactive namespace from numpy and matplotlib\n"
     ]
    }
   ],
   "source": [
    "def num_attributes(df1):\n",
    "    \n",
    "    num_attributes = df1.select_dtypes(['int64', 'float64'])\n",
    "\n",
    "    #central tendency\n",
    "    ct1 = pd.DataFrame(num_attributes.apply(np.mean)).T\n",
    "    ct2 = pd.DataFrame(num_attributes.apply(np.median)).T\n",
    "\n",
    "    #dispersion\n",
    "    d1 = pd.DataFrame(num_attributes.apply(np.min)).T\n",
    "    d2 = pd.DataFrame(num_attributes.apply(np.max)).T\n",
    "    d3 = pd.DataFrame(num_attributes.apply(lambda x: x.max() - x.min())).T\n",
    "    d4 = pd.DataFrame(num_attributes.apply(np.std)).T\n",
    "    d5 = pd.DataFrame(num_attributes.apply(lambda x: x.skew())).T\n",
    "    d6 = pd.DataFrame(num_attributes.apply(lambda x: x.kurtosis())).T\n",
    "\n",
    "    m = pd.concat( [d1, d2, d3, ct1, ct2, d4, d5, d6] ).T.reset_index()\n",
    "    m.columns = ['attributes', 'min', 'max', 'range', 'mean', 'median', 'std','skew', 'kurtosis']\n",
    "    return m\n",
    "\n",
    "def jupyter_settings():\n",
    "    %matplotlib inline\n",
    "    %pylab inline\n",
    "    \n",
    "    plt.style.use( 'ggplot')\n",
    "    plt.rcParams['figure.figsize'] = [24, 9]\n",
    "    plt.rcParams['font.size'] = 24\n",
    "    \n",
    "    pd.options.display.max_columns = None\n",
    "    pd.options.display.max_rows = None\n",
    "    pd.set_option( 'display.expand_frame_repr', False )\n",
    "    sns.set(font_scale = 2)\n",
    "    sns.set()\n",
    "    \n",
    "jupyter_settings()"
   ]
  },
  {
   "cell_type": "markdown",
   "id": "3a4d4f04",
   "metadata": {},
   "source": [
    "## 0.3. Load Data"
   ]
  },
  {
   "cell_type": "code",
   "execution_count": 3,
   "id": "1f060a95",
   "metadata": {
    "ExecuteTime": {
     "end_time": "2022-04-04T08:32:38.402588Z",
     "start_time": "2022-04-04T08:32:36.954869Z"
    }
   },
   "outputs": [],
   "source": [
    "df_raw = pd.read_csv(r'../data/Ecommerce.csv')\n"
   ]
  },
  {
   "cell_type": "markdown",
   "id": "8182c343",
   "metadata": {},
   "source": [
    "# 1.0. Data Description"
   ]
  },
  {
   "cell_type": "code",
   "execution_count": 4,
   "id": "b3131385",
   "metadata": {
    "ExecuteTime": {
     "end_time": "2022-04-04T08:32:38.436817Z",
     "start_time": "2022-04-04T08:32:38.404712Z"
    }
   },
   "outputs": [],
   "source": [
    "df1 = df_raw.copy()"
   ]
  },
  {
   "cell_type": "markdown",
   "id": "39437f33",
   "metadata": {},
   "source": [
    "## 1.1. Rename Columns"
   ]
  },
  {
   "cell_type": "code",
   "execution_count": 5,
   "id": "00fc26d3",
   "metadata": {
    "ExecuteTime": {
     "end_time": "2022-04-04T08:32:38.520502Z",
     "start_time": "2022-04-04T08:32:38.439004Z"
    }
   },
   "outputs": [
    {
     "data": {
      "text/plain": [
       "Index(['InvoiceNo', 'StockCode', 'Description', 'Quantity', 'InvoiceDate',\n",
       "       'UnitPrice', 'CustomerID', 'Country'],\n",
       "      dtype='object')"
      ]
     },
     "execution_count": 5,
     "metadata": {},
     "output_type": "execute_result"
    }
   ],
   "source": [
    "df1.columns"
   ]
  },
  {
   "cell_type": "code",
   "execution_count": 6,
   "id": "2a05f0ff",
   "metadata": {
    "ExecuteTime": {
     "end_time": "2022-04-04T08:32:38.648412Z",
     "start_time": "2022-04-04T08:32:38.522252Z"
    }
   },
   "outputs": [],
   "source": [
    "df1.columns = ['invoice_no', 'stock_code', 'description', 'quantity', 'invoice_date',\n",
    "       'unit_price', 'customer_id', 'country']"
   ]
  },
  {
   "cell_type": "markdown",
   "id": "775005e2",
   "metadata": {},
   "source": [
    "## 1.2. Data Shape"
   ]
  },
  {
   "cell_type": "code",
   "execution_count": 7,
   "id": "a76ce76d",
   "metadata": {
    "ExecuteTime": {
     "end_time": "2022-04-04T08:32:38.809525Z",
     "start_time": "2022-04-04T08:32:38.650032Z"
    }
   },
   "outputs": [
    {
     "name": "stdout",
     "output_type": "stream",
     "text": [
      "Number of rows: 541909\n",
      "Number of columns: 8\n"
     ]
    }
   ],
   "source": [
    "print(f'Number of rows: {df1.shape[0]}')\n",
    "print(f'Number of columns: {df1.shape[1]}')"
   ]
  },
  {
   "cell_type": "markdown",
   "id": "cee652c4",
   "metadata": {},
   "source": [
    "## 1.3. Data Types"
   ]
  },
  {
   "cell_type": "code",
   "execution_count": 8,
   "id": "a7e20e2d",
   "metadata": {
    "ExecuteTime": {
     "end_time": "2022-04-04T08:32:38.939304Z",
     "start_time": "2022-04-04T08:32:38.811866Z"
    }
   },
   "outputs": [
    {
     "data": {
      "text/plain": [
       "invoice_no       object\n",
       "stock_code       object\n",
       "description      object\n",
       "quantity          int64\n",
       "invoice_date     object\n",
       "unit_price      float64\n",
       "customer_id     float64\n",
       "country          object\n",
       "dtype: object"
      ]
     },
     "execution_count": 8,
     "metadata": {},
     "output_type": "execute_result"
    }
   ],
   "source": [
    "df1.dtypes"
   ]
  },
  {
   "cell_type": "markdown",
   "id": "04839175",
   "metadata": {},
   "source": [
    "## 1.4. Check NAs\n"
   ]
  },
  {
   "cell_type": "code",
   "execution_count": 9,
   "id": "b48f1f36",
   "metadata": {
    "ExecuteTime": {
     "end_time": "2022-04-04T08:32:39.429533Z",
     "start_time": "2022-04-04T08:32:38.945326Z"
    }
   },
   "outputs": [
    {
     "data": {
      "text/plain": [
       "invoice_no           0\n",
       "stock_code           0\n",
       "description       1454\n",
       "quantity             0\n",
       "invoice_date         0\n",
       "unit_price           0\n",
       "customer_id     135080\n",
       "country              0\n",
       "dtype: int64"
      ]
     },
     "execution_count": 9,
     "metadata": {},
     "output_type": "execute_result"
    }
   ],
   "source": [
    "df1.isna().sum()"
   ]
  },
  {
   "cell_type": "markdown",
   "id": "d7b465fd",
   "metadata": {},
   "source": [
    "## 1.5. Fill NAs"
   ]
  },
  {
   "cell_type": "code",
   "execution_count": 10,
   "id": "e554c65f",
   "metadata": {
    "ExecuteTime": {
     "end_time": "2022-04-04T08:32:39.565276Z",
     "start_time": "2022-04-04T08:32:39.432246Z"
    }
   },
   "outputs": [],
   "source": [
    "#remove na\n",
    "df_missing = df1[df1['customer_id'].isna()]\n",
    "df_not_missing = df1[-df1['customer_id'].isna()]\n",
    "\n"
   ]
  },
  {
   "cell_type": "code",
   "execution_count": 11,
   "id": "1a48598d",
   "metadata": {
    "ExecuteTime": {
     "end_time": "2022-04-04T08:32:39.590298Z",
     "start_time": "2022-04-04T08:32:39.566952Z"
    }
   },
   "outputs": [
    {
     "data": {
      "text/plain": [
       "135080"
      ]
     },
     "execution_count": 11,
     "metadata": {},
     "output_type": "execute_result"
    }
   ],
   "source": [
    "len(df_missing)"
   ]
  },
  {
   "cell_type": "code",
   "execution_count": 12,
   "id": "2a139401",
   "metadata": {
    "ExecuteTime": {
     "end_time": "2022-04-04T08:32:39.689420Z",
     "start_time": "2022-04-04T08:32:39.594588Z"
    }
   },
   "outputs": [
    {
     "data": {
      "text/plain": [
       "406829"
      ]
     },
     "execution_count": 12,
     "metadata": {},
     "output_type": "execute_result"
    }
   ],
   "source": [
    "len(df_not_missing)"
   ]
  },
  {
   "cell_type": "code",
   "execution_count": 13,
   "id": "b336b03c",
   "metadata": {
    "ExecuteTime": {
     "end_time": "2022-04-04T08:32:40.139148Z",
     "start_time": "2022-04-04T08:32:39.691588Z"
    }
   },
   "outputs": [],
   "source": [
    "#create reference\n",
    "df_backup = pd.DataFrame(df_missing['invoice_no'].drop_duplicates())\n",
    "df_backup['customer_id'] = np.arange(19000, 19000+len(df_backup),1)\n",
    "\n",
    "#merge\n",
    "df1 = pd.merge(df1, df_backup, on='invoice_no', how='left')\n",
    "\n",
    "#coalesce\n",
    "df1['customer_id'] = df1['customer_id_x'].combine_first(df1['customer_id_y'])\n",
    "\n",
    "#drop extra columns\n",
    "df1 = df1.drop(['customer_id_x', 'customer_id_y'], axis=1)\n",
    "\n",
    "\n"
   ]
  },
  {
   "cell_type": "code",
   "execution_count": 14,
   "id": "3e7a909a",
   "metadata": {
    "ExecuteTime": {
     "end_time": "2022-04-04T08:32:40.472247Z",
     "start_time": "2022-04-04T08:32:40.140986Z"
    }
   },
   "outputs": [
    {
     "data": {
      "text/plain": [
       "invoice_no         0\n",
       "stock_code         0\n",
       "description     1454\n",
       "quantity           0\n",
       "invoice_date       0\n",
       "unit_price         0\n",
       "country            0\n",
       "customer_id        0\n",
       "dtype: int64"
      ]
     },
     "execution_count": 14,
     "metadata": {},
     "output_type": "execute_result"
    }
   ],
   "source": [
    "df1.isna().sum()"
   ]
  },
  {
   "cell_type": "markdown",
   "id": "4260f86c",
   "metadata": {},
   "source": [
    "## 1.6. Change dtypes"
   ]
  },
  {
   "cell_type": "code",
   "execution_count": 15,
   "id": "464e637e",
   "metadata": {
    "ExecuteTime": {
     "end_time": "2022-04-04T08:32:40.738739Z",
     "start_time": "2022-04-04T08:32:40.473654Z"
    }
   },
   "outputs": [
    {
     "data": {
      "text/plain": [
       "invoice_no       object\n",
       "stock_code       object\n",
       "description      object\n",
       "quantity          int64\n",
       "invoice_date     object\n",
       "unit_price      float64\n",
       "country          object\n",
       "customer_id     float64\n",
       "dtype: object"
      ]
     },
     "execution_count": 15,
     "metadata": {},
     "output_type": "execute_result"
    }
   ],
   "source": [
    "df1.dtypes"
   ]
  },
  {
   "cell_type": "code",
   "execution_count": 16,
   "id": "03324ef2",
   "metadata": {
    "ExecuteTime": {
     "end_time": "2022-04-04T08:32:40.966555Z",
     "start_time": "2022-04-04T08:32:40.742426Z"
    }
   },
   "outputs": [
    {
     "data": {
      "text/plain": [
       "invoice_no              object\n",
       "stock_code              object\n",
       "description             object\n",
       "quantity                 int64\n",
       "invoice_date    datetime64[ns]\n",
       "unit_price             float64\n",
       "country                 object\n",
       "customer_id              int64\n",
       "dtype: object"
      ]
     },
     "execution_count": 16,
     "metadata": {},
     "output_type": "execute_result"
    }
   ],
   "source": [
    "#invoice_no \n",
    "# df1['invoice_no'] = df1['invoice_no'].astype(int)\n",
    "\n",
    "\n",
    "#stock_code \n",
    "# df1['stock_code'] = df1['stock_code'].astype(int)\n",
    "\n",
    "\n",
    "#invoice_date  --> Month --> b\n",
    "df1['invoice_date'] = pd.to_datetime(df1['invoice_date'], format=('%d-%b-%y'))\n",
    "\n",
    "\n",
    "#customer_id\n",
    "df1['customer_id'] = df1['customer_id'].astype(int)\n",
    "df1.dtypes"
   ]
  },
  {
   "cell_type": "markdown",
   "id": "ec38e084",
   "metadata": {},
   "source": [
    "## 1.7. Descriptive statistics"
   ]
  },
  {
   "cell_type": "code",
   "execution_count": 17,
   "id": "9ced28d5",
   "metadata": {
    "ExecuteTime": {
     "end_time": "2022-04-04T08:32:41.012654Z",
     "start_time": "2022-04-04T08:32:40.968417Z"
    }
   },
   "outputs": [],
   "source": [
    "\n",
    "cat_attributes = df1.select_dtypes(exclude = ['int64', 'float64', 'datetime64[ns]'])"
   ]
  },
  {
   "cell_type": "markdown",
   "id": "849a9083",
   "metadata": {},
   "source": [
    "### 1.7.1. Numerical Attributes"
   ]
  },
  {
   "cell_type": "code",
   "execution_count": 18,
   "id": "7e906985",
   "metadata": {
    "ExecuteTime": {
     "end_time": "2022-04-04T08:32:41.243194Z",
     "start_time": "2022-04-04T08:32:41.014264Z"
    }
   },
   "outputs": [
    {
     "data": {
      "text/html": [
       "<div>\n",
       "<style scoped>\n",
       "    .dataframe tbody tr th:only-of-type {\n",
       "        vertical-align: middle;\n",
       "    }\n",
       "\n",
       "    .dataframe tbody tr th {\n",
       "        vertical-align: top;\n",
       "    }\n",
       "\n",
       "    .dataframe thead th {\n",
       "        text-align: right;\n",
       "    }\n",
       "</style>\n",
       "<table border=\"1\" class=\"dataframe\">\n",
       "  <thead>\n",
       "    <tr style=\"text-align: right;\">\n",
       "      <th></th>\n",
       "      <th>attributes</th>\n",
       "      <th>min</th>\n",
       "      <th>max</th>\n",
       "      <th>range</th>\n",
       "      <th>mean</th>\n",
       "      <th>median</th>\n",
       "      <th>std</th>\n",
       "      <th>skew</th>\n",
       "      <th>kurtosis</th>\n",
       "    </tr>\n",
       "  </thead>\n",
       "  <tbody>\n",
       "    <tr>\n",
       "      <th>0</th>\n",
       "      <td>quantity</td>\n",
       "      <td>-80995.00</td>\n",
       "      <td>80995.0</td>\n",
       "      <td>161990.00</td>\n",
       "      <td>9.552250</td>\n",
       "      <td>3.00</td>\n",
       "      <td>218.080957</td>\n",
       "      <td>-0.264076</td>\n",
       "      <td>119769.160031</td>\n",
       "    </tr>\n",
       "    <tr>\n",
       "      <th>1</th>\n",
       "      <td>unit_price</td>\n",
       "      <td>-11062.06</td>\n",
       "      <td>38970.0</td>\n",
       "      <td>50032.06</td>\n",
       "      <td>4.611121</td>\n",
       "      <td>2.08</td>\n",
       "      <td>96.759763</td>\n",
       "      <td>186.506973</td>\n",
       "      <td>59005.719804</td>\n",
       "    </tr>\n",
       "    <tr>\n",
       "      <th>2</th>\n",
       "      <td>customer_id</td>\n",
       "      <td>12346.00</td>\n",
       "      <td>22709.0</td>\n",
       "      <td>10363.00</td>\n",
       "      <td>16688.840453</td>\n",
       "      <td>16249.00</td>\n",
       "      <td>2911.408666</td>\n",
       "      <td>0.487449</td>\n",
       "      <td>-0.804287</td>\n",
       "    </tr>\n",
       "  </tbody>\n",
       "</table>\n",
       "</div>"
      ],
      "text/plain": [
       "    attributes       min      max      range          mean    median  \\\n",
       "0     quantity -80995.00  80995.0  161990.00      9.552250      3.00   \n",
       "1   unit_price -11062.06  38970.0   50032.06      4.611121      2.08   \n",
       "2  customer_id  12346.00  22709.0   10363.00  16688.840453  16249.00   \n",
       "\n",
       "           std        skew       kurtosis  \n",
       "0   218.080957   -0.264076  119769.160031  \n",
       "1    96.759763  186.506973   59005.719804  \n",
       "2  2911.408666    0.487449      -0.804287  "
      ]
     },
     "execution_count": 18,
     "metadata": {},
     "output_type": "execute_result"
    }
   ],
   "source": [
    "m1 = num_attributes(df1)\n",
    "m1"
   ]
  },
  {
   "cell_type": "markdown",
   "id": "5a07d7de",
   "metadata": {},
   "source": [
    "#### 1.7.1.1 Investigating"
   ]
  },
  {
   "cell_type": "markdown",
   "id": "85ede4cc",
   "metadata": {
    "ExecuteTime": {
     "end_time": "2022-03-24T21:15:49.659102Z",
     "start_time": "2022-03-24T21:15:49.643555Z"
    }
   },
   "source": [
    "1. Negative quantity (devolution?)\n",
    "2. Price = 0 (Promo?)"
   ]
  },
  {
   "cell_type": "markdown",
   "id": "fd46a106",
   "metadata": {},
   "source": [
    "## 1.7.2. Categorical Attributes"
   ]
  },
  {
   "cell_type": "code",
   "execution_count": 19,
   "id": "e69d5e29",
   "metadata": {
    "ExecuteTime": {
     "end_time": "2022-04-04T08:32:41.253139Z",
     "start_time": "2022-04-04T08:32:41.244972Z"
    }
   },
   "outputs": [
    {
     "data": {
      "text/html": [
       "<div>\n",
       "<style scoped>\n",
       "    .dataframe tbody tr th:only-of-type {\n",
       "        vertical-align: middle;\n",
       "    }\n",
       "\n",
       "    .dataframe tbody tr th {\n",
       "        vertical-align: top;\n",
       "    }\n",
       "\n",
       "    .dataframe thead th {\n",
       "        text-align: right;\n",
       "    }\n",
       "</style>\n",
       "<table border=\"1\" class=\"dataframe\">\n",
       "  <thead>\n",
       "    <tr style=\"text-align: right;\">\n",
       "      <th></th>\n",
       "      <th>invoice_no</th>\n",
       "      <th>stock_code</th>\n",
       "      <th>description</th>\n",
       "      <th>country</th>\n",
       "    </tr>\n",
       "  </thead>\n",
       "  <tbody>\n",
       "    <tr>\n",
       "      <th>0</th>\n",
       "      <td>536365</td>\n",
       "      <td>85123A</td>\n",
       "      <td>WHITE HANGING HEART T-LIGHT HOLDER</td>\n",
       "      <td>United Kingdom</td>\n",
       "    </tr>\n",
       "    <tr>\n",
       "      <th>1</th>\n",
       "      <td>536365</td>\n",
       "      <td>71053</td>\n",
       "      <td>WHITE METAL LANTERN</td>\n",
       "      <td>United Kingdom</td>\n",
       "    </tr>\n",
       "    <tr>\n",
       "      <th>2</th>\n",
       "      <td>536365</td>\n",
       "      <td>84406B</td>\n",
       "      <td>CREAM CUPID HEARTS COAT HANGER</td>\n",
       "      <td>United Kingdom</td>\n",
       "    </tr>\n",
       "    <tr>\n",
       "      <th>3</th>\n",
       "      <td>536365</td>\n",
       "      <td>84029G</td>\n",
       "      <td>KNITTED UNION FLAG HOT WATER BOTTLE</td>\n",
       "      <td>United Kingdom</td>\n",
       "    </tr>\n",
       "    <tr>\n",
       "      <th>4</th>\n",
       "      <td>536365</td>\n",
       "      <td>84029E</td>\n",
       "      <td>RED WOOLLY HOTTIE WHITE HEART.</td>\n",
       "      <td>United Kingdom</td>\n",
       "    </tr>\n",
       "  </tbody>\n",
       "</table>\n",
       "</div>"
      ],
      "text/plain": [
       "  invoice_no stock_code                          description         country\n",
       "0     536365     85123A   WHITE HANGING HEART T-LIGHT HOLDER  United Kingdom\n",
       "1     536365      71053                  WHITE METAL LANTERN  United Kingdom\n",
       "2     536365     84406B       CREAM CUPID HEARTS COAT HANGER  United Kingdom\n",
       "3     536365     84029G  KNITTED UNION FLAG HOT WATER BOTTLE  United Kingdom\n",
       "4     536365     84029E       RED WOOLLY HOTTIE WHITE HEART.  United Kingdom"
      ]
     },
     "execution_count": 19,
     "metadata": {},
     "output_type": "execute_result"
    }
   ],
   "source": [
    "cat_attributes.head()"
   ]
  },
  {
   "cell_type": "markdown",
   "id": "6b4dd4ce",
   "metadata": {},
   "source": [
    "#### Invoice no"
   ]
  },
  {
   "cell_type": "code",
   "execution_count": 20,
   "id": "34d857cc",
   "metadata": {
    "ExecuteTime": {
     "end_time": "2022-04-04T08:32:41.940860Z",
     "start_time": "2022-04-04T08:32:41.254750Z"
    }
   },
   "outputs": [
    {
     "name": "stdout",
     "output_type": "stream",
     "text": [
      "Total of invoices with letter: 9291\n",
      "Total of negative quantaty: 10624\n",
      "Letter means negative quantity\n"
     ]
    }
   ],
   "source": [
    "\n",
    "#invoice_no -- some of them has one char\n",
    "df_invoice_char = df1.loc[df1['invoice_no'].apply(lambda x: bool(re.search('[^0-9]+', x))), :]   \n",
    "\n",
    "len(df_invoice_char[df_invoice_char['quantity']<0])\n",
    "\n",
    "\n",
    "print('Total of invoices with letter: {}'.format(len(df_invoice_char)))\n",
    "print('Total of negative quantaty: {}'.format(len(df1[df1['quantity']<0])))\n",
    "print('Letter means negative quantity')"
   ]
  },
  {
   "cell_type": "markdown",
   "id": "efc5c2dc",
   "metadata": {},
   "source": [
    "#### Stock Code"
   ]
  },
  {
   "cell_type": "code",
   "execution_count": 21,
   "id": "7cee7ff1",
   "metadata": {
    "ExecuteTime": {
     "end_time": "2022-04-04T08:32:42.795863Z",
     "start_time": "2022-04-04T08:32:41.943634Z"
    }
   },
   "outputs": [
    {
     "data": {
      "text/plain": [
       "array(['POST', 'D', 'DOT', 'M', 'S', 'AMAZONFEE', 'm', 'DCGSSBOY',\n",
       "       'DCGSSGIRL', 'PADS', 'B', 'CRUK'], dtype=object)"
      ]
     },
     "execution_count": 21,
     "metadata": {},
     "output_type": "execute_result"
    }
   ],
   "source": [
    "#all stock codes with char\n",
    "df1.loc[df1['stock_code'].apply(lambda x: bool(re.search('^[a-zA-Z]+$', x))), 'stock_code'].unique()\n",
    "\n",
    "#remove stock code in ['POST', 'D', 'M', 'PADS', 'DOT', 'CRUK']\n",
    "# df1 = df1[-df1.isin(['POST', 'D', 'M', 'PADS', 'DOT', 'CRUK'])]"
   ]
  },
  {
   "cell_type": "markdown",
   "id": "50d7c023",
   "metadata": {},
   "source": [
    "#### Description"
   ]
  },
  {
   "cell_type": "code",
   "execution_count": 22,
   "id": "9e259e88",
   "metadata": {
    "ExecuteTime": {
     "end_time": "2022-04-04T08:32:42.814108Z",
     "start_time": "2022-04-04T08:32:42.798201Z"
    }
   },
   "outputs": [
    {
     "data": {
      "text/html": [
       "<div>\n",
       "<style scoped>\n",
       "    .dataframe tbody tr th:only-of-type {\n",
       "        vertical-align: middle;\n",
       "    }\n",
       "\n",
       "    .dataframe tbody tr th {\n",
       "        vertical-align: top;\n",
       "    }\n",
       "\n",
       "    .dataframe thead th {\n",
       "        text-align: right;\n",
       "    }\n",
       "</style>\n",
       "<table border=\"1\" class=\"dataframe\">\n",
       "  <thead>\n",
       "    <tr style=\"text-align: right;\">\n",
       "      <th></th>\n",
       "      <th>invoice_no</th>\n",
       "      <th>stock_code</th>\n",
       "      <th>description</th>\n",
       "      <th>quantity</th>\n",
       "      <th>invoice_date</th>\n",
       "      <th>unit_price</th>\n",
       "      <th>country</th>\n",
       "      <th>customer_id</th>\n",
       "    </tr>\n",
       "  </thead>\n",
       "  <tbody>\n",
       "    <tr>\n",
       "      <th>0</th>\n",
       "      <td>536365</td>\n",
       "      <td>85123A</td>\n",
       "      <td>WHITE HANGING HEART T-LIGHT HOLDER</td>\n",
       "      <td>6</td>\n",
       "      <td>2016-11-29</td>\n",
       "      <td>2.55</td>\n",
       "      <td>United Kingdom</td>\n",
       "      <td>17850</td>\n",
       "    </tr>\n",
       "    <tr>\n",
       "      <th>1</th>\n",
       "      <td>536365</td>\n",
       "      <td>71053</td>\n",
       "      <td>WHITE METAL LANTERN</td>\n",
       "      <td>6</td>\n",
       "      <td>2016-11-29</td>\n",
       "      <td>3.39</td>\n",
       "      <td>United Kingdom</td>\n",
       "      <td>17850</td>\n",
       "    </tr>\n",
       "  </tbody>\n",
       "</table>\n",
       "</div>"
      ],
      "text/plain": [
       "  invoice_no stock_code                         description  quantity  \\\n",
       "0     536365     85123A  WHITE HANGING HEART T-LIGHT HOLDER         6   \n",
       "1     536365      71053                 WHITE METAL LANTERN         6   \n",
       "\n",
       "  invoice_date  unit_price         country  customer_id  \n",
       "0   2016-11-29        2.55  United Kingdom        17850  \n",
       "1   2016-11-29        3.39  United Kingdom        17850  "
      ]
     },
     "execution_count": 22,
     "metadata": {},
     "output_type": "execute_result"
    }
   ],
   "source": [
    "df1.head(2) #remove description\n"
   ]
  },
  {
   "cell_type": "markdown",
   "id": "33982a03",
   "metadata": {},
   "source": [
    "#### Country\n"
   ]
  },
  {
   "cell_type": "code",
   "execution_count": 23,
   "id": "74604d0f",
   "metadata": {
    "ExecuteTime": {
     "end_time": "2022-04-04T08:32:42.986629Z",
     "start_time": "2022-04-04T08:32:42.816505Z"
    }
   },
   "outputs": [
    {
     "data": {
      "text/plain": [
       "United Kingdom    0.914320\n",
       "Germany           0.017521\n",
       "France            0.015790\n",
       "EIRE              0.015124\n",
       "Spain             0.004674\n",
       "Name: country, dtype: float64"
      ]
     },
     "execution_count": 23,
     "metadata": {},
     "output_type": "execute_result"
    }
   ],
   "source": [
    "df1['country'].value_counts(normalize='True').head()"
   ]
  },
  {
   "cell_type": "code",
   "execution_count": 24,
   "id": "14daa5b6",
   "metadata": {
    "ExecuteTime": {
     "end_time": "2022-04-04T08:32:43.204122Z",
     "start_time": "2022-04-04T08:32:42.989228Z"
    }
   },
   "outputs": [
    {
     "data": {
      "text/html": [
       "<div>\n",
       "<style scoped>\n",
       "    .dataframe tbody tr th:only-of-type {\n",
       "        vertical-align: middle;\n",
       "    }\n",
       "\n",
       "    .dataframe tbody tr th {\n",
       "        vertical-align: top;\n",
       "    }\n",
       "\n",
       "    .dataframe thead th {\n",
       "        text-align: right;\n",
       "    }\n",
       "</style>\n",
       "<table border=\"1\" class=\"dataframe\">\n",
       "  <thead>\n",
       "    <tr style=\"text-align: right;\">\n",
       "      <th></th>\n",
       "      <th>country</th>\n",
       "      <th>customer_id</th>\n",
       "    </tr>\n",
       "  </thead>\n",
       "  <tbody>\n",
       "    <tr>\n",
       "      <th>36</th>\n",
       "      <td>United Kingdom</td>\n",
       "      <td>7587</td>\n",
       "    </tr>\n",
       "    <tr>\n",
       "      <th>14</th>\n",
       "      <td>Germany</td>\n",
       "      <td>95</td>\n",
       "    </tr>\n",
       "    <tr>\n",
       "      <th>13</th>\n",
       "      <td>France</td>\n",
       "      <td>90</td>\n",
       "    </tr>\n",
       "    <tr>\n",
       "      <th>10</th>\n",
       "      <td>EIRE</td>\n",
       "      <td>44</td>\n",
       "    </tr>\n",
       "    <tr>\n",
       "      <th>31</th>\n",
       "      <td>Spain</td>\n",
       "      <td>31</td>\n",
       "    </tr>\n",
       "  </tbody>\n",
       "</table>\n",
       "</div>"
      ],
      "text/plain": [
       "           country  customer_id\n",
       "36  United Kingdom         7587\n",
       "14         Germany           95\n",
       "13          France           90\n",
       "10            EIRE           44\n",
       "31           Spain           31"
      ]
     },
     "execution_count": 24,
     "metadata": {},
     "output_type": "execute_result"
    }
   ],
   "source": [
    "df1[['country', 'customer_id']].drop_duplicates().groupby('country').count().reset_index().sort_values('customer_id', ascending=False).head()"
   ]
  },
  {
   "cell_type": "markdown",
   "id": "48d79e83",
   "metadata": {},
   "source": [
    "# 2.0. Data Filtering"
   ]
  },
  {
   "cell_type": "code",
   "execution_count": 25,
   "id": "fb92a1c3",
   "metadata": {
    "ExecuteTime": {
     "end_time": "2022-04-04T08:32:43.230750Z",
     "start_time": "2022-04-04T08:32:43.207587Z"
    }
   },
   "outputs": [],
   "source": [
    "df2 = df1.copy()"
   ]
  },
  {
   "cell_type": "code",
   "execution_count": 26,
   "id": "776b9792",
   "metadata": {
    "ExecuteTime": {
     "end_time": "2022-04-04T08:32:43.787321Z",
     "start_time": "2022-04-04T08:32:43.233920Z"
    }
   },
   "outputs": [],
   "source": [
    " # === Numerical attributes ====\n",
    "df2 = df2.loc[df2['unit_price'] >= 0.04, :]\n",
    "\n",
    "# === Categorical attributes ====\n",
    "df2 = df2[~df2['stock_code'].isin( ['POST', 'D', 'DOT', 'M', 'S', 'AMAZONFEE', 'm', 'DCGSSBOY', 'DCGSSGIRL', 'PADS', 'B', 'CRUK'] ) ]\n",
    "\n",
    "# description\n",
    "df2 = df2.drop( columns='description', axis=1 )\n",
    "\n",
    "# map -  \n",
    "df2 = df2[~df2['country'].isin( ['European Community', 'Unspecified' ] ) ]\n",
    "\n",
    "# bad users\n",
    "df2 = df2[~df2['customer_id'].isin( [16446] )]\n",
    "\n",
    "# quantity\n",
    "df_returns = df2.loc[df1['quantity'] < 0, :]\n",
    "df_purchase = df2.loc[df1['quantity'] >= 0, :]"
   ]
  },
  {
   "cell_type": "markdown",
   "id": "1faf41d9",
   "metadata": {},
   "source": [
    "# 3.0. Feature Engineering"
   ]
  },
  {
   "cell_type": "code",
   "execution_count": 27,
   "id": "fc8f74d9",
   "metadata": {
    "ExecuteTime": {
     "end_time": "2022-04-04T08:32:43.826470Z",
     "start_time": "2022-04-04T08:32:43.790149Z"
    }
   },
   "outputs": [],
   "source": [
    "df3 = df2.copy()"
   ]
  },
  {
   "cell_type": "markdown",
   "id": "21fc3686",
   "metadata": {},
   "source": [
    "## 3.1. Feature Creation"
   ]
  },
  {
   "cell_type": "code",
   "execution_count": 28,
   "id": "a905b83e",
   "metadata": {
    "ExecuteTime": {
     "end_time": "2022-04-04T08:32:43.959433Z",
     "start_time": "2022-04-04T08:32:43.834413Z"
    }
   },
   "outputs": [],
   "source": [
    "# data reference\n",
    "df_ref = df3.drop( ['invoice_no', 'stock_code', 'quantity', 'invoice_date', 'unit_price', 'country'], axis=1 ).drop_duplicates( ignore_index=True )\n",
    "\n"
   ]
  },
  {
   "cell_type": "markdown",
   "id": "76215d9c",
   "metadata": {},
   "source": [
    "### 3.1.1. Gross Revenue"
   ]
  },
  {
   "cell_type": "code",
   "execution_count": 29,
   "id": "bf20ab38",
   "metadata": {
    "ExecuteTime": {
     "end_time": "2022-04-04T08:32:44.646372Z",
     "start_time": "2022-04-04T08:32:43.962197Z"
    }
   },
   "outputs": [
    {
     "name": "stderr",
     "output_type": "stream",
     "text": [
      "/tmp/ipykernel_6250/2480933991.py:2: SettingWithCopyWarning: \n",
      "A value is trying to be set on a copy of a slice from a DataFrame.\n",
      "Try using .loc[row_indexer,col_indexer] = value instead\n",
      "\n",
      "See the caveats in the documentation: https://pandas.pydata.org/pandas-docs/stable/user_guide/indexing.html#returning-a-view-versus-a-copy\n",
      "  df_purchase.loc[:,'gross_revenue'] = df_purchase.loc[:, 'quantity'] * df_purchase.loc[:, 'unit_price']\n"
     ]
    },
    {
     "data": {
      "text/plain": [
       "5786"
      ]
     },
     "execution_count": 29,
     "metadata": {},
     "output_type": "execute_result"
    }
   ],
   "source": [
    "#calculate gross revenue\n",
    "df_purchase.loc[:,'gross_revenue'] = df_purchase.loc[:, 'quantity'] * df_purchase.loc[:, 'unit_price'] \n",
    "\n",
    "#gross revenue by customer\n",
    "df_monetary = df_purchase.loc[:,['customer_id', 'gross_revenue']].groupby('customer_id').sum().reset_index()\n",
    "df_ref = pd.merge(df_ref, df_monetary, on='customer_id', how= 'left')\n",
    "df_ref.isna().sum()\n",
    "\n",
    "len(df_ref)"
   ]
  },
  {
   "cell_type": "markdown",
   "id": "86afe088",
   "metadata": {},
   "source": [
    "### 3.1.2. Recency - Days from last purchase\n"
   ]
  },
  {
   "cell_type": "code",
   "execution_count": 30,
   "id": "2ccf2d70",
   "metadata": {
    "ExecuteTime": {
     "end_time": "2022-04-04T08:32:44.699501Z",
     "start_time": "2022-04-04T08:32:44.651733Z"
    }
   },
   "outputs": [
    {
     "data": {
      "text/plain": [
       "5786"
      ]
     },
     "execution_count": 30,
     "metadata": {},
     "output_type": "execute_result"
    }
   ],
   "source": [
    "#recency \n",
    "\n",
    "df_recency = df_purchase.loc[:,['customer_id', 'invoice_date']].groupby('customer_id').max().reset_index()\n",
    "df_recency['recency_days'] = (df3['invoice_date'].max() - df_recency['invoice_date']).dt.days\n",
    "df_recency  = df_recency[['customer_id', 'recency_days']].copy()\n",
    "df_ref = pd.merge(df_ref, df_recency, on='customer_id', how='left')\n",
    "len(df_ref)"
   ]
  },
  {
   "cell_type": "markdown",
   "id": "0c62730e",
   "metadata": {},
   "source": [
    "### 3.1.4. Quantity of purchase"
   ]
  },
  {
   "cell_type": "code",
   "execution_count": 31,
   "id": "99d7680a",
   "metadata": {
    "ExecuteTime": {
     "end_time": "2022-04-04T08:32:44.886026Z",
     "start_time": "2022-04-04T08:32:44.702703Z"
    }
   },
   "outputs": [
    {
     "data": {
      "text/plain": [
       "5786"
      ]
     },
     "execution_count": 31,
     "metadata": {},
     "output_type": "execute_result"
    }
   ],
   "source": [
    "\n",
    "# Número de compras\n",
    "df_invoice = df_purchase.loc[:,['customer_id', 'invoice_no']].drop_duplicates().groupby('customer_id').count().reset_index().rename(columns={'invoice_no':'qt_invoice'})\n",
    "df_ref = pd.merge(df_ref, df_invoice, on='customer_id', how='left')\n",
    "len(df_ref)"
   ]
  },
  {
   "cell_type": "markdown",
   "id": "5fd8db27",
   "metadata": {},
   "source": [
    "### 3.1.4. Quantity of products purchase"
   ]
  },
  {
   "cell_type": "code",
   "execution_count": 32,
   "id": "d8a267a6",
   "metadata": {
    "ExecuteTime": {
     "end_time": "2022-04-04T08:32:45.038068Z",
     "start_time": "2022-04-04T08:32:44.888846Z"
    }
   },
   "outputs": [
    {
     "data": {
      "text/plain": [
       "5786"
      ]
     },
     "execution_count": 32,
     "metadata": {},
     "output_type": "execute_result"
    }
   ],
   "source": [
    "# Número de compras\n",
    "df_stock_code = df_purchase.loc[:,['customer_id', 'stock_code']].groupby('customer_id').count().reset_index().rename(columns={'stock_code':'qt_products'})\n",
    "df_ref = pd.merge(df_ref, df_stock_code, on='customer_id', how='left')\n",
    "len(df_ref)\n"
   ]
  },
  {
   "cell_type": "markdown",
   "id": "956ad2a7",
   "metadata": {},
   "source": [
    "### 3.1.6. Frequency"
   ]
  },
  {
   "cell_type": "code",
   "execution_count": 33,
   "id": "79423e5d",
   "metadata": {
    "ExecuteTime": {
     "end_time": "2022-04-04T08:32:46.799244Z",
     "start_time": "2022-04-04T08:32:45.040308Z"
    }
   },
   "outputs": [
    {
     "data": {
      "text/plain": [
       "customer_id       0\n",
       "gross_revenue    91\n",
       "recency_days     91\n",
       "qt_invoice       91\n",
       "qt_products      91\n",
       "frequency        91\n",
       "dtype: int64"
      ]
     },
     "execution_count": 33,
     "metadata": {},
     "output_type": "execute_result"
    }
   ],
   "source": [
    "df_aux = (df_purchase[['customer_id', 'invoice_no', 'invoice_date']].drop_duplicates().groupby('customer_id').agg(\n",
    "                                                            max_ = ('invoice_date', 'max'),\n",
    "                                                            min_ = ('invoice_date', 'min'),\n",
    "                                                            days = ('invoice_date', lambda x: (x.max() - x.min()).days ),\n",
    "                                                            buys = ('invoice_no', 'count'))).reset_index()\n",
    "\n",
    "# #calculate frequency\n",
    "df_aux['frequency'] = df_aux[['buys', 'days']].apply(lambda x: x['buys']/x['days'] if x['days']!= 0 else 0, axis=1)\n",
    "\n",
    "\n",
    "#merge\n",
    "df_ref = pd.merge(df_ref, df_aux[['customer_id', 'frequency']], on='customer_id', how='left')\n",
    "df_ref.isna().sum()\n"
   ]
  },
  {
   "cell_type": "markdown",
   "id": "65890139",
   "metadata": {},
   "source": [
    "### 3.1.7. Returns\n"
   ]
  },
  {
   "cell_type": "code",
   "execution_count": 34,
   "id": "6b510726",
   "metadata": {
    "ExecuteTime": {
     "end_time": "2022-04-04T08:32:46.812558Z",
     "start_time": "2022-04-04T08:32:46.800588Z"
    }
   },
   "outputs": [],
   "source": [
    "df_aux = df_returns[['customer_id', 'quantity']].groupby('customer_id').sum().reset_index().rename(columns={'quantity':'qt_returns'})\n",
    "df_aux['qt_returns'] = -1*df_aux['qt_returns']\n",
    "df_aux['qt_returns'] = df_aux['qt_returns'].fillna(0)\n",
    "#merge\n",
    "df_ref = pd.merge(df_ref, df_aux, on='customer_id', how='left')\n",
    "\n"
   ]
  },
  {
   "cell_type": "code",
   "execution_count": 35,
   "id": "c64cb80c",
   "metadata": {
    "ExecuteTime": {
     "end_time": "2022-04-04T08:32:46.931619Z",
     "start_time": "2022-04-04T08:32:46.814159Z"
    }
   },
   "outputs": [
    {
     "data": {
      "text/plain": [
       "customer_id       0\n",
       "gross_revenue    91\n",
       "recency_days     91\n",
       "qt_invoice       91\n",
       "qt_products      91\n",
       "frequency        91\n",
       "qt_returns        0\n",
       "dtype: int64"
      ]
     },
     "execution_count": 35,
     "metadata": {},
     "output_type": "execute_result"
    }
   ],
   "source": [
    "df_ref.loc[df_ref['qt_returns'].isna(), 'qt_returns'] = 0\n",
    "df_ref.isna().sum()"
   ]
  },
  {
   "cell_type": "markdown",
   "id": "28d41b3f",
   "metadata": {},
   "source": [
    "# 4.0. Exploratory Data Analisys"
   ]
  },
  {
   "cell_type": "code",
   "execution_count": 36,
   "id": "4a95bea8",
   "metadata": {
    "ExecuteTime": {
     "end_time": "2022-04-04T08:32:47.088329Z",
     "start_time": "2022-04-04T08:32:46.933520Z"
    }
   },
   "outputs": [],
   "source": [
    "df4 = df_ref.dropna()\n"
   ]
  },
  {
   "cell_type": "markdown",
   "id": "27ab544a",
   "metadata": {
    "ExecuteTime": {
     "end_time": "2022-03-26T13:10:51.357445Z",
     "start_time": "2022-03-26T13:10:51.350560Z"
    }
   },
   "source": [
    "## 4.3. Estudo do Espaço"
   ]
  },
  {
   "cell_type": "code",
   "execution_count": 37,
   "id": "6c272ebe",
   "metadata": {
    "ExecuteTime": {
     "end_time": "2022-04-04T08:32:47.236809Z",
     "start_time": "2022-04-04T08:32:47.090920Z"
    }
   },
   "outputs": [],
   "source": [
    "# selected dataset\n",
    "cols_selected = ['customer_id', 'gross_revenue', 'recency_days', 'qt_products', 'frequency', 'qt_returns']\n",
    "df43 = df4[ cols_selected ].drop( columns='customer_id', axis=1 ).copy() "
   ]
  },
  {
   "cell_type": "code",
   "execution_count": 38,
   "id": "43c8e07e",
   "metadata": {
    "ExecuteTime": {
     "end_time": "2022-04-04T08:32:47.378382Z",
     "start_time": "2022-04-04T08:32:47.239294Z"
    }
   },
   "outputs": [],
   "source": [
    "mm = pp.MinMaxScaler()\n",
    "\n",
    "df43['gross_revenue'] = mm.fit_transform( df43[['gross_revenue']] )\n",
    "df43['recency_days']  = mm.fit_transform( df43[['recency_days']] )\n",
    "df43['qt_products'] = mm.fit_transform( df43[['qt_products']])\n",
    "df43['frequency']     = mm.fit_transform( df43[['frequency']])\n",
    "df43['qt_returns']  = mm.fit_transform( df43[['qt_returns']])"
   ]
  },
  {
   "cell_type": "markdown",
   "id": "966bf6f2",
   "metadata": {},
   "source": [
    "## 8.2. GMM"
   ]
  },
  {
   "cell_type": "code",
   "execution_count": 39,
   "id": "f1dbad5f",
   "metadata": {
    "ExecuteTime": {
     "end_time": "2022-04-04T08:32:50.430202Z",
     "start_time": "2022-04-04T08:32:47.380294Z"
    }
   },
   "outputs": [],
   "source": [
    "# model definition\n",
    "k = 8\n",
    "X=df43.copy()\n",
    "\n",
    "#model definition\n",
    "kmeans_model = c.KMeans(n_clusters=k, random_state=42)\n",
    "\n",
    "#model training\n",
    "kmeans_model.fit(X)\n",
    "\n",
    "#model predict\n",
    "labels = kmeans_model.predict(X)\n",
    "\n",
    "#model performance\n",
    "sil = m.silhouette_score(X, labels, metric='euclidean')\n",
    "\n",
    "\n"
   ]
  },
  {
   "cell_type": "code",
   "execution_count": 40,
   "id": "822256ff",
   "metadata": {
    "ExecuteTime": {
     "end_time": "2022-04-04T08:32:51.180404Z",
     "start_time": "2022-04-04T08:32:50.433522Z"
    }
   },
   "outputs": [
    {
     "data": {
      "text/plain": [
       "0.5377337303161348"
      ]
     },
     "execution_count": 40,
     "metadata": {},
     "output_type": "execute_result"
    }
   ],
   "source": [
    "m.silhouette_score(X, labels, metric='euclidean')"
   ]
  },
  {
   "cell_type": "markdown",
   "id": "499c010e",
   "metadata": {},
   "source": [
    "# 9.0. Cluster Analisys"
   ]
  },
  {
   "cell_type": "code",
   "execution_count": 41,
   "id": "d1bad2df",
   "metadata": {
    "ExecuteTime": {
     "end_time": "2022-04-04T08:32:51.188446Z",
     "start_time": "2022-04-04T08:32:51.182877Z"
    }
   },
   "outputs": [],
   "source": [
    "cols_selected = ['customer_id', 'gross_revenue', 'recency_days', 'qt_products', 'frequency', 'qt_returns']\n",
    "df9 = X.copy()\n",
    "df9['cluster'] = labels\n"
   ]
  },
  {
   "cell_type": "markdown",
   "id": "7cbbc97e",
   "metadata": {},
   "source": [
    "## 9.2. Cluster Profile"
   ]
  },
  {
   "cell_type": "code",
   "execution_count": 42,
   "id": "9a08de16",
   "metadata": {
    "ExecuteTime": {
     "end_time": "2022-04-04T08:32:51.426827Z",
     "start_time": "2022-04-04T08:32:51.191171Z"
    }
   },
   "outputs": [
    {
     "data": {
      "text/html": [
       "<div>\n",
       "<style scoped>\n",
       "    .dataframe tbody tr th:only-of-type {\n",
       "        vertical-align: middle;\n",
       "    }\n",
       "\n",
       "    .dataframe tbody tr th {\n",
       "        vertical-align: top;\n",
       "    }\n",
       "\n",
       "    .dataframe thead th {\n",
       "        text-align: right;\n",
       "    }\n",
       "</style>\n",
       "<table border=\"1\" class=\"dataframe\">\n",
       "  <thead>\n",
       "    <tr style=\"text-align: right;\">\n",
       "      <th></th>\n",
       "      <th>cluster</th>\n",
       "      <th>customer_id</th>\n",
       "      <th>perc_customer</th>\n",
       "      <th>avg_gmv</th>\n",
       "      <th>total_gmv</th>\n",
       "      <th>recency_days</th>\n",
       "      <th>avg_products</th>\n",
       "      <th>total_products</th>\n",
       "      <th>frequency</th>\n",
       "      <th>qt_returns</th>\n",
       "    </tr>\n",
       "  </thead>\n",
       "  <tbody>\n",
       "    <tr>\n",
       "      <th>7</th>\n",
       "      <td>7</td>\n",
       "      <td>12</td>\n",
       "      <td>0.210711</td>\n",
       "      <td>121078.380833</td>\n",
       "      <td>1452940.57</td>\n",
       "      <td>4.333333</td>\n",
       "      <td>2773.916667</td>\n",
       "      <td>33287.0</td>\n",
       "      <td>0.241589</td>\n",
       "      <td>824.000000</td>\n",
       "    </tr>\n",
       "    <tr>\n",
       "      <th>2</th>\n",
       "      <td>2</td>\n",
       "      <td>2043</td>\n",
       "      <td>35.873573</td>\n",
       "      <td>2674.933000</td>\n",
       "      <td>5464888.12</td>\n",
       "      <td>16.053353</td>\n",
       "      <td>138.710720</td>\n",
       "      <td>283386.0</td>\n",
       "      <td>0.037982</td>\n",
       "      <td>32.131669</td>\n",
       "    </tr>\n",
       "    <tr>\n",
       "      <th>0</th>\n",
       "      <td>0</td>\n",
       "      <td>1115</td>\n",
       "      <td>19.578578</td>\n",
       "      <td>1091.372691</td>\n",
       "      <td>1216880.55</td>\n",
       "      <td>61.211659</td>\n",
       "      <td>65.326457</td>\n",
       "      <td>72839.0</td>\n",
       "      <td>0.018796</td>\n",
       "      <td>8.379372</td>\n",
       "    </tr>\n",
       "    <tr>\n",
       "      <th>5</th>\n",
       "      <td>5</td>\n",
       "      <td>401</td>\n",
       "      <td>7.041264</td>\n",
       "      <td>1086.688304</td>\n",
       "      <td>435762.01</td>\n",
       "      <td>352.501247</td>\n",
       "      <td>74.957606</td>\n",
       "      <td>30058.0</td>\n",
       "      <td>0.093306</td>\n",
       "      <td>187.448878</td>\n",
       "    </tr>\n",
       "    <tr>\n",
       "      <th>4</th>\n",
       "      <td>4</td>\n",
       "      <td>539</td>\n",
       "      <td>9.464442</td>\n",
       "      <td>937.796030</td>\n",
       "      <td>505472.06</td>\n",
       "      <td>115.391466</td>\n",
       "      <td>60.517625</td>\n",
       "      <td>32619.0</td>\n",
       "      <td>0.015304</td>\n",
       "      <td>4.294991</td>\n",
       "    </tr>\n",
       "    <tr>\n",
       "      <th>6</th>\n",
       "      <td>6</td>\n",
       "      <td>492</td>\n",
       "      <td>8.639157</td>\n",
       "      <td>711.013984</td>\n",
       "      <td>349818.88</td>\n",
       "      <td>229.662602</td>\n",
       "      <td>43.579268</td>\n",
       "      <td>21441.0</td>\n",
       "      <td>0.014024</td>\n",
       "      <td>22.392276</td>\n",
       "    </tr>\n",
       "    <tr>\n",
       "      <th>3</th>\n",
       "      <td>3</td>\n",
       "      <td>577</td>\n",
       "      <td>10.131694</td>\n",
       "      <td>695.872149</td>\n",
       "      <td>401518.23</td>\n",
       "      <td>172.798960</td>\n",
       "      <td>53.883882</td>\n",
       "      <td>31091.0</td>\n",
       "      <td>0.022967</td>\n",
       "      <td>3.665511</td>\n",
       "    </tr>\n",
       "    <tr>\n",
       "      <th>1</th>\n",
       "      <td>1</td>\n",
       "      <td>516</td>\n",
       "      <td>9.060579</td>\n",
       "      <td>537.556066</td>\n",
       "      <td>277378.93</td>\n",
       "      <td>287.897287</td>\n",
       "      <td>43.974806</td>\n",
       "      <td>22691.0</td>\n",
       "      <td>0.008170</td>\n",
       "      <td>5.005814</td>\n",
       "    </tr>\n",
       "  </tbody>\n",
       "</table>\n",
       "</div>"
      ],
      "text/plain": [
       "   cluster  customer_id  perc_customer        avg_gmv   total_gmv  \\\n",
       "7        7           12       0.210711  121078.380833  1452940.57   \n",
       "2        2         2043      35.873573    2674.933000  5464888.12   \n",
       "0        0         1115      19.578578    1091.372691  1216880.55   \n",
       "5        5          401       7.041264    1086.688304   435762.01   \n",
       "4        4          539       9.464442     937.796030   505472.06   \n",
       "6        6          492       8.639157     711.013984   349818.88   \n",
       "3        3          577      10.131694     695.872149   401518.23   \n",
       "1        1          516       9.060579     537.556066   277378.93   \n",
       "\n",
       "   recency_days  avg_products  total_products  frequency  qt_returns  \n",
       "7      4.333333   2773.916667         33287.0   0.241589  824.000000  \n",
       "2     16.053353    138.710720        283386.0   0.037982   32.131669  \n",
       "0     61.211659     65.326457         72839.0   0.018796    8.379372  \n",
       "5    352.501247     74.957606         30058.0   0.093306  187.448878  \n",
       "4    115.391466     60.517625         32619.0   0.015304    4.294991  \n",
       "6    229.662602     43.579268         21441.0   0.014024   22.392276  \n",
       "3    172.798960     53.883882         31091.0   0.022967    3.665511  \n",
       "1    287.897287     43.974806         22691.0   0.008170    5.005814  "
      ]
     },
     "execution_count": 42,
     "metadata": {},
     "output_type": "execute_result"
    }
   ],
   "source": [
    "\n",
    "df92 = df4[cols_selected].copy()\n",
    "\n",
    "\n",
    "df92['cluster']= labels\n",
    "\n",
    " # Number of customer\n",
    "df_cluster = df92[['customer_id', 'cluster']].groupby( 'cluster' ).count().reset_index()\n",
    "df_cluster['perc_customer'] = 100*( df_cluster['customer_id'] / df_cluster['customer_id'].sum() )\n",
    "\n",
    "# Avg Gross revenue\n",
    "df_avg_gross_revenue = df92[['gross_revenue', 'cluster']].groupby( 'cluster' ).mean().reset_index().rename(columns={'gross_revenue': 'avg_gmv'})\n",
    "df_cluster = pd.merge( df_cluster, df_avg_gross_revenue, how='inner', on='cluster' )\n",
    "\n",
    "\n",
    "# Sum Gross revenue\n",
    "df_avg_gross_revenue = df92[['gross_revenue', 'cluster']].groupby( 'cluster' ).sum().reset_index().rename(columns={'gross_revenue': 'total_gmv'})\n",
    "df_cluster = pd.merge( df_cluster, df_avg_gross_revenue, how='inner', on='cluster' )\n",
    "\n",
    "# Avg recency days\n",
    "df_avg_recency_days = df92[['recency_days', 'cluster']].groupby( 'cluster' ).mean().reset_index()\n",
    "df_cluster = pd.merge( df_cluster, df_avg_recency_days, how='inner', on='cluster' )\n",
    "\n",
    "# Avg products\n",
    "df_qtde_products = df92[['qt_products', 'cluster']].groupby( 'cluster' ).mean().reset_index().rename(columns={'qt_products': 'avg_products'})\n",
    "df_cluster = pd.merge( df_cluster, df_qtde_products, how='inner', on='cluster' )\n",
    "\n",
    "# total products\n",
    "df_qtde_products = df92[['qt_products', 'cluster']].groupby( 'cluster' ).sum().reset_index().rename(columns={'qt_products': 'total_products'})\n",
    "df_cluster = pd.merge( df_cluster, df_qtde_products, how='inner', on='cluster' )\n",
    "\n",
    "# Frequency\n",
    "df_frequency = df92[['frequency', 'cluster']].groupby( 'cluster' ).mean().reset_index()\n",
    "df_cluster = pd.merge( df_cluster, df_frequency, how='inner', on='cluster' )\n",
    "\n",
    "# Returns avg\n",
    "df_qtde_returns = df92[['qt_returns', 'cluster']].groupby( 'cluster' ).mean().reset_index().rename(columns={'gross_revenue': 'avg_returns'})\n",
    "df_cluster = pd.merge( df_cluster, df_qtde_returns, how='inner', on='cluster' )\n",
    "\n",
    "# # Returns total\n",
    "# df_qtde_returns = df92[['qt_returns', 'cluster']].groupby( 'cluster' ).sum().reset_index().rename(columns={'gross_revenue': 'avg_returns'})\n",
    "# df_cluster = pd.merge( df_cluster, df_qtde_returns, how='inner', on='cluster' )\n",
    "\n",
    "# # Returns total\n",
    "# df_qtde_returns = df92[['qt_returns', 'cluster']].groupby( 'cluster' ).sum().reset_index().rename(columns={'gross_revenue': 'total_returns'})\n",
    "# df_cluster = pd.merge( df_cluster, df_qtde_returns, how='inner', on='cluster' )\n",
    "\n",
    "df_cluster.sort_values( 'avg_gmv', ascending=False )\n",
    "\n",
    "\n",
    "# df92.columns\n",
    "\n",
    "# aux0 = df92[['customer_id', 'cluster']].groupby('cluster').count().reset_index()\n",
    "\n",
    "\n",
    "# # aux1 = aux1.drop('customer_id', axis=1)\n",
    "# df92 = df92[['gross_revenue', 'recency_days', 'qt_products', 'frequency', 'qt_returns', 'cluster']].groupby('cluster').mean().reset_index()\n",
    "# df92 = pd.merge(df92, aux0, on='cluster', how='left')\n",
    "\n",
    "\n",
    "\n",
    "\n"
   ]
  },
  {
   "cell_type": "code",
   "execution_count": 43,
   "id": "c8cb727d",
   "metadata": {
    "ExecuteTime": {
     "end_time": "2022-04-04T08:32:51.472407Z",
     "start_time": "2022-04-04T08:32:51.429356Z"
    }
   },
   "outputs": [],
   "source": [
    "#Cluster 7 : Insider\n",
    "#Cluster 2 : More frequency\n",
    "#Cluster 0 : Lazy\n",
    "#Cluster 5 : Hibernating (High recency)\n",
    "#Cluster 4 : More products\n",
    "#Cluster 6 : Forgotten\n",
    "#Cluster 3 : Lost\n",
    "#Cluster 1 : One-time customer"
   ]
  },
  {
   "cell_type": "markdown",
   "id": "b25f9cf6",
   "metadata": {},
   "source": [
    "## 10.2. Hipóteses do Negócio"
   ]
  },
  {
   "cell_type": "markdown",
   "id": "9bd6782c",
   "metadata": {},
   "source": [
    "#### H1: Os clientes do cluster insiders possuem um volume (produtos) de compras acima de 10% do total de compras\n",
    "\n",
    "**Falso** O cluster insider possuem um volume de compra de produtos de 6% do total."
   ]
  },
  {
   "cell_type": "code",
   "execution_count": 108,
   "id": "911bd19d",
   "metadata": {
    "ExecuteTime": {
     "end_time": "2022-04-04T08:57:32.013114Z",
     "start_time": "2022-04-04T08:57:31.996201Z"
    }
   },
   "outputs": [
    {
     "name": "stdout",
     "output_type": "stream",
     "text": [
      "% Sales Insiders (Products): 6.31%\n"
     ]
    }
   ],
   "source": [
    "import seaborn as sns\n",
    "df_aux = df10[['qt_products', 'cluster']].groupby('cluster').sum().reset_index()\n",
    "\n",
    "#total products\n",
    "total = df_aux['qt_products'].sum()\n",
    "\n",
    "#insiders products\n",
    "df_aux_insider = df_aux.loc[df_aux['cluster']==7, 'qt_products']\n",
    "print('% Sales Insiders (Products): {:.2f}%'.format(100*(df_aux_insider.sum())/total))\n"
   ]
  },
  {
   "cell_type": "code",
   "execution_count": 145,
   "id": "0c8392c3",
   "metadata": {
    "ExecuteTime": {
     "end_time": "2022-04-04T09:11:45.494500Z",
     "start_time": "2022-04-04T09:11:45.079359Z"
    }
   },
   "outputs": [
    {
     "data": {
      "image/png": "[encoded data removed]",
      "text/plain": [
       "<Figure size 1728x648 with 2 Axes>"
      ]
     },
     "metadata": {},
     "output_type": "display_data"
    }
   ],
   "source": [
    "sns.set(font_scale = 2)\n",
    "\n",
    "df_aux = df10[['qt_products', 'cluster']].groupby('cluster').sum().reset_index()\n",
    "plt.subplot(1,2,1)\n",
    "sns.barplot(x='cluster', y='qt_products', data = df_aux);\n",
    "plt.title('Total Products by Cluster', fontsize=25);\n",
    "plt.xlabel(\"Cluster\",fontsize=20);\n",
    "plt.ylabel(\"Total Products\",fontsize=20);\n",
    "\n",
    "\n",
    "df_aux = df10[['qt_products', 'cluster']].groupby('cluster').mean().reset_index()\n",
    "plt.subplot(1,2,2)\n",
    "sns.barplot(x='cluster', y='qt_products', data = df_aux);\n",
    "plt.title('Average Products by Cluster', fontsize=25);\n",
    "plt.xlabel(\"Cluster\",fontsize=20);\n",
    "plt.ylabel(\"Avg Products\",fontsize=20);\n",
    "\n",
    "\n"
   ]
  },
  {
   "cell_type": "markdown",
   "id": "c66ffdd9",
   "metadata": {},
   "source": [
    "#### H2: Os clientes do cluster insiders possuem um volume (faturamento) de compras acima de 10% do total de compras\n",
    "\n",
    "**Verdade** O cluster insider possuem um volume de GMV de 14% do total."
   ]
  },
  {
   "cell_type": "code",
   "execution_count": 158,
   "id": "447eab78",
   "metadata": {
    "ExecuteTime": {
     "end_time": "2022-04-04T10:02:08.283988Z",
     "start_time": "2022-04-04T10:02:08.269899Z"
    }
   },
   "outputs": [
    {
     "name": "stdout",
     "output_type": "stream",
     "text": [
      "% GMV Insiders: 14.38%\n"
     ]
    }
   ],
   "source": [
    "df_aux = df10[['gross_revenue', 'cluster']].groupby('cluster').sum().reset_index()\n",
    "\n",
    "#total products\n",
    "total = df10['gross_revenue'].sum()\n",
    "\n",
    "#insiders products\n",
    "df_aux_insider = df_aux.loc[df_aux['cluster']==7, 'gross_revenue']\n",
    "\n",
    "print('% GMV Insiders: {:.2f}%'.format((df_aux_insider.sum())/total*100))"
   ]
  },
  {
   "cell_type": "code",
   "execution_count": 141,
   "id": "7d1c27a4",
   "metadata": {
    "ExecuteTime": {
     "end_time": "2022-04-04T09:11:08.903178Z",
     "start_time": "2022-04-04T09:11:08.304778Z"
    }
   },
   "outputs": [
    {
     "data": {
      "image/png": "[encoded data removed]",
      "text/plain": [
       "<Figure size 1728x648 with 2 Axes>"
      ]
     },
     "metadata": {},
     "output_type": "display_data"
    }
   ],
   "source": [
    "\n",
    "\n",
    "df_aux = df10[['gross_revenue','cluster']].groupby('cluster').sum().reset_index()\n",
    "plt.subplot(1,2,1)\n",
    "sns.barplot(x='cluster', y='gross_revenue', data = df_aux);\n",
    "plt.title('Total GMV by Cluster', fontsize=25);\n",
    "plt.xlabel(\"Cluster\",fontsize=20);\n",
    "plt.ylabel(\"Total GMV\",fontsize=20);\n",
    "\n",
    "\n",
    "df_aux = df10[['gross_revenue', 'cluster']].groupby('cluster').mean().reset_index()\n",
    "plt.subplot(1,2,2)\n",
    "\n",
    "sns.barplot(x='cluster', y='gross_revenue', data = df_aux);\n",
    "plt.title('Average GMV by Cluster', fontsize=25);\n",
    "plt.xlabel(\"Cluster\",fontsize=20);\n",
    "plt.ylabel(\"Avg GMV\",fontsize=20);\n",
    "\n",
    "\n"
   ]
  },
  {
   "cell_type": "markdown",
   "id": "a3a50be4",
   "metadata": {
    "ExecuteTime": {
     "end_time": "2022-04-04T08:42:10.362736Z",
     "start_time": "2022-04-04T08:42:10.354142Z"
    }
   },
   "source": [
    "#### H3: Os clientes do cluster insiders tem um número de devolução abaixo da média da base total de clientes\n",
    "**Falso** O número de devoluções dos insiders é 6x maior que a médiatotal"
   ]
  },
  {
   "cell_type": "code",
   "execution_count": 83,
   "id": "0f25fa10",
   "metadata": {
    "ExecuteTime": {
     "end_time": "2022-04-04T08:49:18.495832Z",
     "start_time": "2022-04-04T08:49:18.486646Z"
    }
   },
   "outputs": [
    {
     "name": "stdout",
     "output_type": "stream",
     "text": [
      "% média de retornos de insiders em relação ao total 606%\n"
     ]
    }
   ],
   "source": [
    "df_aux= df10[['cluster','qt_returns']].groupby('cluster').mean().reset_index()\n",
    "\n",
    "insider = df_aux.loc[df_aux['cluster']==7, 'qt_returns'].mean()\n",
    "\n",
    "total = df_aux['qt_returns'].mean()\n",
    "\n",
    "print('% média de retornos de insiders em relação ao total {:.0f}%'.format((insider)/total*100))\n"
   ]
  },
  {
   "cell_type": "code",
   "execution_count": 148,
   "id": "21e952ab",
   "metadata": {
    "ExecuteTime": {
     "end_time": "2022-04-04T09:14:21.380255Z",
     "start_time": "2022-04-04T09:14:21.023122Z"
    }
   },
   "outputs": [
    {
     "data": {
      "image/png": "[encoded data removed]",
      "text/plain": [
       "<Figure size 1728x648 with 2 Axes>"
      ]
     },
     "metadata": {},
     "output_type": "display_data"
    }
   ],
   "source": [
    "\n",
    "\n",
    "df_aux = df10[['qt_returns','cluster']].groupby('cluster').sum().reset_index()\n",
    "plt.subplot(1,2,1)\n",
    "sns.barplot(x='cluster', y='qt_returns', data = df_aux);\n",
    "plt.title('Total Returns by Cluster', fontsize=25);\n",
    "plt.xlabel(\"Cluster\",fontsize=20);\n",
    "plt.ylabel(\"Total Returns\",fontsize=20);\n",
    "\n",
    "\n",
    "df_aux = df10[['qt_returns', 'cluster']].groupby('cluster').mean().reset_index()\n",
    "plt.subplot(1,2,2)\n",
    "\n",
    "sns.barplot(x='cluster', y='qt_returns', data = df_aux);\n",
    "plt.title('Average Returns by Cluster', fontsize=25);\n",
    "plt.xlabel(\"Cluster\",fontsize=20);\n",
    "plt.ylabel(\"Avg Returns\",fontsize=20);\n",
    "\n",
    "\n"
   ]
  },
  {
   "cell_type": "markdown",
   "id": "5575ebec",
   "metadata": {},
   "source": [
    "#### H4: A mediana do faturamento pelos clientes do cluster insider é 10% maior do que a mediana do faturamento geral.\n",
    "\n",
    "**Verdadeira** A mediana do GMV é 16896% maior nos Insiders do que a mediana do total "
   ]
  },
  {
   "cell_type": "code",
   "execution_count": 82,
   "id": "4db33cc4",
   "metadata": {
    "ExecuteTime": {
     "end_time": "2022-04-04T08:49:15.157796Z",
     "start_time": "2022-04-04T08:49:15.144947Z"
    }
   },
   "outputs": [
    {
     "name": "stdout",
     "output_type": "stream",
     "text": [
      "Mediana GMV total: 613.20\n",
      "Mediana GMV Insiders: 104221.01\n",
      "Diferença: 16896% maior nos Insiders\n"
     ]
    }
   ],
   "source": [
    "df_aux = df10[['gross_revenue', 'cluster']].groupby('cluster').median().reset_index()\n",
    "\n",
    "#total products\n",
    "total = df10['gross_revenue'].median()\n",
    "\n",
    "#insiders products\n",
    "df_aux_insider = df_aux.loc[df_aux['cluster']==7, 'gross_revenue']\n",
    "median = df_aux_insider.median()\n",
    "\n",
    "print('Mediana GMV total: {:.2f}'.format(total))\n",
    "\n",
    "print('Mediana GMV Insiders: {:.2f}'.format(df_aux_insider.median()))\n",
    "\n",
    "print('Diferença: {:.0f}% maior nos Insiders'.format((median-total)/total*100))"
   ]
  },
  {
   "cell_type": "code",
   "execution_count": 157,
   "id": "887152a8",
   "metadata": {
    "ExecuteTime": {
     "end_time": "2022-04-04T09:19:04.412417Z",
     "start_time": "2022-04-04T09:19:03.986774Z"
    }
   },
   "outputs": [
    {
     "name": "stderr",
     "output_type": "stream",
     "text": [
      "/home/heitor/repos/insiders_clustering/venv/lib/python3.8/site-packages/seaborn/distributions.py:2619: FutureWarning: `distplot` is a deprecated function and will be removed in a future version. Please adapt your code to use either `displot` (a figure-level function with similar flexibility) or `histplot` (an axes-level function for histograms).\n",
      "  warnings.warn(msg, FutureWarning)\n",
      "/home/heitor/repos/insiders_clustering/venv/lib/python3.8/site-packages/seaborn/distributions.py:2619: FutureWarning: `distplot` is a deprecated function and will be removed in a future version. Please adapt your code to use either `displot` (a figure-level function with similar flexibility) or `histplot` (an axes-level function for histograms).\n",
      "  warnings.warn(msg, FutureWarning)\n",
      "/home/heitor/repos/insiders_clustering/venv/lib/python3.8/site-packages/seaborn/distributions.py:316: UserWarning: Dataset has 0 variance; skipping density estimate. Pass `warn_singular=False` to disable this warning.\n",
      "  warnings.warn(msg, UserWarning)\n"
     ]
    },
    {
     "data": {
      "image/png": "[encoded data removed]",
      "text/plain": [
       "<Figure size 1728x648 with 2 Axes>"
      ]
     },
     "metadata": {},
     "output_type": "display_data"
    }
   ],
   "source": [
    "\n",
    "\n",
    "df_aux = df10[['gross_revenue','cluster']].groupby('cluster').sum().reset_index()\n",
    "plt.subplot(2,1,1)\n",
    "sns.distplot(df_aux['gross_revenue'], bins=10);\n",
    "plt.title('Total GMV distribution', fontsize=25);\n",
    "plt.xlabel(\"Total GMV\",fontsize=20);\n",
    "plt.ylabel(\"Count\",fontsize=20);\n",
    "\n",
    "\n",
    "df_aux = df_aux[df_aux['cluster']==7]\n",
    "plt.subplot(2,1,2)\n",
    "sns.distplot(df_aux['gross_revenue'],bins=10);\n",
    "plt.title('Insider GMV distribution', fontsize=25);\n",
    "plt.xlabel(\"Insider GMV\",fontsize=20);\n",
    "plt.ylabel(\"Count\",fontsize=20);\n",
    "\n"
   ]
  },
  {
   "cell_type": "code",
   "execution_count": 154,
   "id": "4c90bae2",
   "metadata": {
    "ExecuteTime": {
     "end_time": "2022-04-04T09:17:54.026808Z",
     "start_time": "2022-04-04T09:17:54.021530Z"
    }
   },
   "outputs": [
    {
     "data": {
      "text/plain": [
       "<function seaborn.distributions.distplot(a=None, bins=None, hist=True, kde=True, rug=False, fit=None, hist_kws=None, kde_kws=None, rug_kws=None, fit_kws=None, color=None, vertical=False, norm_hist=False, axlabel=None, label=None, ax=None, x=None)>"
      ]
     },
     "execution_count": 154,
     "metadata": {},
     "output_type": "execute_result"
    }
   ],
   "source": [
    "sns.distplot"
   ]
  },
  {
   "cell_type": "markdown",
   "id": "66eb99d5",
   "metadata": {
    "ExecuteTime": {
     "end_time": "2022-04-04T08:50:52.611210Z",
     "start_time": "2022-04-04T08:50:52.607559Z"
    }
   },
   "source": [
    "#### H5. **A GMV dos clientes insiders esta concentrados no 3 quartil**\n",
    "\n",
    "**Falso**. O faturamento do cluster insiders está concentrada no quartil 2\n"
   ]
  },
  {
   "cell_type": "code",
   "execution_count": 144,
   "id": "db9808f8",
   "metadata": {
    "ExecuteTime": {
     "end_time": "2022-04-04T09:11:32.524812Z",
     "start_time": "2022-04-04T09:11:32.252560Z"
    }
   },
   "outputs": [
    {
     "data": {
      "image/png": "[encoded data removed]",
      "text/plain": [
       "<Figure size 1728x720 with 1 Axes>"
      ]
     },
     "metadata": {},
     "output_type": "display_data"
    }
   ],
   "source": [
    "sns.set(font_scale = 2)\n",
    "plt.figure(figsize=(24,10))\n",
    "sns.violinplot(x=df10.loc[df10['gross_revenue']<10000,'gross_revenue']);\n"
   ]
  },
  {
   "cell_type": "code",
   "execution_count": 164,
   "id": "fb3514a7",
   "metadata": {
    "ExecuteTime": {
     "end_time": "2022-04-04T10:08:40.181127Z",
     "start_time": "2022-04-04T10:08:39.845310Z"
    }
   },
   "outputs": [],
   "source": [
    "df_merge = pd.merge(df2, df10[['cluster','customer_id']], on='customer_id', how='left')\n",
    "df_merge = df_merge.dropna().drop_duplicates('customer_id')"
   ]
  },
  {
   "cell_type": "code",
   "execution_count": 182,
   "id": "139ba95e",
   "metadata": {
    "ExecuteTime": {
     "end_time": "2022-04-04T10:15:18.271921Z",
     "start_time": "2022-04-04T10:15:18.256907Z"
    }
   },
   "outputs": [
    {
     "name": "stdout",
     "output_type": "stream",
     "text": [
      "Faturamento retornado em devolução: 0.1%\n"
     ]
    }
   ],
   "source": [
    "df_merge['gross_revenue'] = df_merge['unit_price']*df_merge['quantity']\n",
    "\n",
    "returned = df_merge.loc[(df_merge['cluster']==5)&(df_merge['quantity']<0), 'gross_revenue'].sum()\n",
    "\n",
    "purchase = df_merge.loc[(df_merge['cluster']==5)&(df_merge['quantity']>=0), 'gross_revenue'].sum()\n",
    "\n",
    "\n",
    "print('Faturamento retornado em devolução: {:.1f}%'.format(abs(100*returned/(purchase-returned))))"
   ]
  },
  {
   "cell_type": "code",
   "execution_count": 181,
   "id": "573b868f",
   "metadata": {
    "ExecuteTime": {
     "end_time": "2022-04-04T10:15:00.797767Z",
     "start_time": "2022-04-04T10:15:00.527629Z"
    }
   },
   "outputs": [
    {
     "name": "stdout",
     "output_type": "stream",
     "text": [
      "4048.85\n",
      "252685.98000000004\n"
     ]
    },
    {
     "data": {
      "image/png": "[encoded data removed]",
      "text/plain": [
       "<Figure size 1728x648 with 1 Axes>"
      ]
     },
     "metadata": {},
     "output_type": "display_data"
    }
   ],
   "source": [
    "df_aux = df_merge[['customer_id', 'quantity', 'gross_revenue']].groupby('customer_id').sum().reset_index()\n",
    "df_aux['is_returned'] = df_aux['quantity'].apply(lambda x: 1 if x<0 else 0)\n",
    "df_aux['gross_revenue'] = abs(df_aux['gross_revenue'])\n",
    "sns.barplot(x='is_returned', y='gross_revenue', data=df_aux);\n",
    "\n",
    "print(df_aux.loc[df_aux['is_returned']==1, 'gross_revenue'].sum())\n",
    "print(df_aux.loc[df_aux['is_returned']==0, 'gross_revenue'].sum())"
   ]
  },
  {
   "cell_type": "markdown",
   "id": "2a497396",
   "metadata": {},
   "source": [
    "# 10.0. To Sqlite\n"
   ]
  },
  {
   "cell_type": "code",
   "execution_count": 46,
   "id": "7f7d21bf",
   "metadata": {
    "ExecuteTime": {
     "end_time": "2022-04-04T08:32:51.805286Z",
     "start_time": "2022-04-04T08:32:51.698140Z"
    }
   },
   "outputs": [
    {
     "data": {
      "text/plain": [
       "customer_id        int64\n",
       "gross_revenue    float64\n",
       "recency_days       int64\n",
       "qt_products        int64\n",
       "frequency        float64\n",
       "qt_returns         int64\n",
       "cluster            int64\n",
       "dtype: object"
      ]
     },
     "execution_count": 46,
     "metadata": {},
     "output_type": "execute_result"
    }
   ],
   "source": [
    "df10 = df4[cols_selected].copy()\n",
    "df10['cluster'] = labels\n",
    "\n",
    "df10['recency_days'] = df10['recency_days'].astype(int)\n",
    "df10['qt_products'] = df10['qt_products'].astype(int)\n",
    "df10['qt_returns'] = df10['qt_returns'].astype(int)\n",
    "df10['cluster'] = df10['cluster'].astype(int)\n",
    "df10.dtypes"
   ]
  },
  {
   "cell_type": "code",
   "execution_count": 103,
   "id": "39086b27",
   "metadata": {
    "ExecuteTime": {
     "end_time": "2022-04-04T08:56:53.418081Z",
     "start_time": "2022-04-04T08:56:53.411842Z"
    }
   },
   "outputs": [],
   "source": [
    "#create table\n",
    "# query_create_table_insiders = \"\"\"\n",
    "# CREATE TABLE insiders (\n",
    "\n",
    "# customer_id        INTEGER,\n",
    "# gross_revenue      REAL,\n",
    "# recency_days       INTEGER,\n",
    "# qt_products        INTEGER,\n",
    "# frequency          REAL,\n",
    "# qt_returns         INTEGER,\n",
    "# cluster            INTEGER\n",
    "\n",
    "# )\"\"\"\n",
    "\n",
    "\n",
    "conn = sqlite3.connect('insiders_db.sqlite')\n",
    "# conn.execute(query_create_table_insiders)\n",
    "# conn.commit()\n",
    "\n",
    "\n",
    "#insert data\n",
    "\n",
    "# conn = create_engine('sqlite:///insiders_db.sqlite', )\n",
    "# df10.to_sql('insiders', con=conn, if_exists='append', index=False)\n",
    "\n",
    "\n",
    "#select table"
   ]
  },
  {
   "cell_type": "code",
   "execution_count": 104,
   "id": "9fefb2fd",
   "metadata": {
    "ExecuteTime": {
     "end_time": "2022-04-04T08:56:53.717090Z",
     "start_time": "2022-04-04T08:56:53.684599Z"
    }
   },
   "outputs": [],
   "source": [
    "query = \"\"\"\n",
    "SELECT * FROM insiders\n",
    "\n",
    "\n",
    "\"\"\"\n",
    "df = pd.read_sql(query, conn)"
   ]
  },
  {
   "cell_type": "code",
   "execution_count": 106,
   "id": "d555b483",
   "metadata": {
    "ExecuteTime": {
     "end_time": "2022-04-04T08:56:58.608018Z",
     "start_time": "2022-04-04T08:56:58.599747Z"
    }
   },
   "outputs": [],
   "source": [
    "df.head()\n",
    "# conn.close()"
   ]
  },
  {
   "cell_type": "markdown",
   "id": "e017d9a0",
   "metadata": {},
   "source": [
    "# 11.0 Respostas das perguntas de Negócio"
   ]
  },
  {
   "cell_type": "markdown",
   "id": "40f6d8a0",
   "metadata": {},
   "source": [
    "#### 11.1 Quem são as pessoas elegíveis para participar do programa de Insiders ?\n",
    "\n",
    "A resposta para essa pergunta é dada pelo modelo utilizando uma base de dados nova.\n",
    "\n",
    "#### 2. Quantos clientes farão parte do grupo?\n",
    "\n",
    "Atualmente existem 12 clientes no grupo. No futuro podem ter mais ou menos, ao atualizar a base de dados.\n",
    "\n",
    "#### 3. Quais as principais características desses clientes ?\n",
    "\n",
    "* Gastam bastante (correspondem a 15% da receita total)\n",
    "* Recência média baixa (5 dias desde a última compra)\n",
    "* Frequência alta (0.25 compras por dia)\n",
    "* Média de devoluções alta (824 devoluções)\n",
    "\n",
    "#### 4. Qual a porcentagem de contribuição do faturamento, vinda do Insiders ?\n",
    "\n",
    "Os insiders correspondem a 15% da receita total.\n",
    "\n",
    "#### 5. Qual a expectativa de faturamento desse grupo para os próximos meses ?\n",
    "\n",
    "Para responder essa pergunta, um projeto de regressão temporal seria o ideal.\n",
    "\n",
    "#### 6. Quais as condições para uma pessoa ser elegível ao Insiders ?\n",
    "\n",
    "O que determina isso é o modelo rodado, isso pode ser avaliado com a entrada de novos dados na base.\n",
    "\n",
    "#### 7. Quais as condições para uma pessoa ser removida do Insiders ?\n",
    "\n",
    "O que determina isso é o modelo rodado, isso pode ser avaliado com a entrada de novos dados na base.\n",
    "\n",
    "#### 8. Qual a garantia que o programa Insiders é melhor que o restante da base ?\n",
    "\n",
    "Os indicadores dele convergem para bons resultados para empresa. Portanto, fica evidente a importância deles para empresa. Apenas 12 pessoas são responsáveis por 14% da entrada de receita, é muito bom manter esses clientes perto.\n",
    "\n",
    "#### 9. Quais ações o time de marketing pode realizar para aumentar o faturamento?\n",
    "\n",
    "Ações direcionadas baseadas nos indicadores de cada cluster, automatizar email marketing, criar campanhas de anúncios direcionadas. Tudo direcionado para cada cluster de acordo com seus indicadores.\n"
   ]
  }
 ],
 "metadata": {
  "kernelspec": {
   "display_name": "Python 3 (ipykernel)",
   "language": "python",
   "name": "python3"
  },
  "language_info": {
   "codemirror_mode": {
    "name": "ipython",
    "version": 3
   },
   "file_extension": ".py",
   "mimetype": "text/x-python",
   "name": "python",
   "nbconvert_exporter": "python",
   "pygments_lexer": "ipython3",
   "version": "3.8.10"
  }
 },
 "nbformat": 4,
 "nbformat_minor": 5
}
